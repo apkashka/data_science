{
 "cells": [
  {
   "cell_type": "markdown",
   "id": "4180cfca",
   "metadata": {},
   "source": [
    "# HR Analytics"
   ]
  },
  {
   "cell_type": "markdown",
   "id": "c8607889",
   "metadata": {},
   "source": [
    "# Introduction"
   ]
  },
  {
   "cell_type": "markdown",
   "id": "35b7a13a",
   "metadata": {},
   "source": [
    "**Project Description**  \n",
    "\n",
    "The project aims to develop machine learning models to help HR analysts at the company *\"Careful Work\"* predict employee job satisfaction levels and the likelihood of resignation. This will enable the business to minimize financial losses and reduce employee turnover.  \n",
    "\n",
    "**Research Goal**  \n",
    "\n",
    "To create and implement forecasting models capable of predicting employee satisfaction levels and resignation probability using company data.  \n",
    "\n",
    "**Research Objectives**  \n",
    "\n",
    "1. Develop a model to predict employee job satisfaction based on employee characteristics.  \n",
    "2. Develop a model to predict employee resignation.  \n",
    "3. Analyze the relationship between job satisfaction and resignations.  \n",
    "4. Evaluate model performance using SMAPE (for satisfaction prediction) and ROC-AUC (for resignation prediction).  \n",
    "5. Formulate business recommendations based on the findings.  \n",
    "\n",
    "**Data Sources**  \n",
    "\n",
    "**The company provided the following datasets:**  \n",
    "- **train_job_satisfaction_rate.csv** – training data for predicting satisfaction.  \n",
    "- **test_features.csv** – test feature set.  \n",
    "- **test_target_job_satisfaction_rate.csv** – target variable for the satisfaction test set.  \n",
    "- **train_quit.csv** – training data for predicting resignations.  \n",
    "- **test_target_quit.csv** – target variable for the resignation test set.  \n",
    "\n",
    "**Research Structure**  \n",
    "\n",
    "**First Task: Predicting Employee Satisfaction Levels**  \n",
    "\n",
    "1. Data Loading\n",
    "2. Data Preprocessing  \n",
    "3. Exploratory Data Analysis  \n",
    "4. Data Preparation\n",
    "5. Model Training \n",
    "6. Selecting the Best Model  \n",
    "\n",
    "**Second Task: Predicting Employee Resignation**  \n",
    "\n",
    "The same steps apply, but the focus shifts to predicting employee resignations, incorporating satisfaction data and parameter tuning."
   ]
  },
  {
   "cell_type": "markdown",
   "id": "b90ad967",
   "metadata": {},
   "source": [
    "# Part one"
   ]
  },
  {
   "cell_type": "markdown",
   "id": "3542128b",
   "metadata": {},
   "source": [
    "## File Loading"
   ]
  },
  {
   "cell_type": "markdown",
   "id": "52a47578",
   "metadata": {},
   "source": [
    "### Setup/Imports/Constants"
   ]
  },
  {
   "cell_type": "code",
   "execution_count": 1,
   "id": "5f0c9b1c",
   "metadata": {
    "scrolled": true
   },
   "outputs": [
    {
     "name": "stdout",
     "output_type": "stream",
     "text": [
      "Note: you may need to restart the kernel to use updated packages.\n",
      "Note: you may need to restart the kernel to use updated packages.\n",
      "Note: you may need to restart the kernel to use updated packages.\n",
      "Note: you may need to restart the kernel to use updated packages.\n"
     ]
    }
   ],
   "source": [
    "%pip install phik -q\n",
    "%pip install -U scikit-learn -q\n",
    "%pip install shap -q\n",
    "%pip install --upgrade scipy -q"
   ]
  },
  {
   "cell_type": "code",
   "execution_count": 2,
   "id": "94b4cf39",
   "metadata": {},
   "outputs": [],
   "source": [
    "import pandas as pd\n",
    "import matplotlib.pyplot as plt\n",
    "import seaborn as sns\n",
    "import shap\n",
    "import phik\n",
    "import numpy as np\n",
    "\n",
    "from sklearn.pipeline import Pipeline\n",
    "from sklearn.compose import ColumnTransformer\n",
    "from sklearn.preprocessing import OneHotEncoder, OrdinalEncoder, StandardScaler\n",
    "from sklearn.impute import SimpleImputer\n",
    "from sklearn.linear_model import LinearRegression\n",
    "\n",
    "from sklearn.model_selection import GridSearchCV\n",
    "from sklearn.metrics import make_scorer\n",
    "from sklearn.tree import DecisionTreeRegressor\n",
    "from sklearn.ensemble import RandomForestRegressor, RandomForestClassifier\n",
    "from sklearn.neighbors import KNeighborsClassifier\n",
    "from sklearn.linear_model import LogisticRegression  \n",
    "from sklearn.svm import SVC  \n",
    "from sklearn.preprocessing import LabelEncoder\n",
    "\n",
    "from sklearn.metrics import roc_auc_score"
   ]
  },
  {
   "cell_type": "code",
   "execution_count": 3,
   "id": "61508e97",
   "metadata": {},
   "outputs": [],
   "source": [
    "RANDOM_STATE = 42"
   ]
  },
  {
   "cell_type": "markdown",
   "id": "77352b19",
   "metadata": {},
   "source": [
    "### Load"
   ]
  },
  {
   "cell_type": "code",
   "execution_count": 4,
   "id": "061873a3",
   "metadata": {},
   "outputs": [
    {
     "name": "stdout",
     "output_type": "stream",
     "text": [
      "<class 'pandas.core.frame.DataFrame'>\n",
      "RangeIndex: 4000 entries, 0 to 3999\n",
      "Data columns (total 10 columns):\n",
      " #   Column                 Non-Null Count  Dtype  \n",
      "---  ------                 --------------  -----  \n",
      " 0   id                     4000 non-null   int64  \n",
      " 1   dept                   3994 non-null   object \n",
      " 2   level                  3996 non-null   object \n",
      " 3   workload               4000 non-null   object \n",
      " 4   employment_years       4000 non-null   int64  \n",
      " 5   last_year_promo        4000 non-null   object \n",
      " 6   last_year_violations   4000 non-null   object \n",
      " 7   supervisor_evaluation  4000 non-null   int64  \n",
      " 8   salary                 4000 non-null   int64  \n",
      " 9   job_satisfaction_rate  4000 non-null   float64\n",
      "dtypes: float64(1), int64(4), object(5)\n",
      "memory usage: 312.6+ KB\n"
     ]
    },
    {
     "data": {
      "text/html": [
       "<div>\n",
       "<style scoped>\n",
       "    .dataframe tbody tr th:only-of-type {\n",
       "        vertical-align: middle;\n",
       "    }\n",
       "\n",
       "    .dataframe tbody tr th {\n",
       "        vertical-align: top;\n",
       "    }\n",
       "\n",
       "    .dataframe thead th {\n",
       "        text-align: right;\n",
       "    }\n",
       "</style>\n",
       "<table border=\"1\" class=\"dataframe\">\n",
       "  <thead>\n",
       "    <tr style=\"text-align: right;\">\n",
       "      <th></th>\n",
       "      <th>id</th>\n",
       "      <th>dept</th>\n",
       "      <th>level</th>\n",
       "      <th>workload</th>\n",
       "      <th>employment_years</th>\n",
       "      <th>last_year_promo</th>\n",
       "      <th>last_year_violations</th>\n",
       "      <th>supervisor_evaluation</th>\n",
       "      <th>salary</th>\n",
       "      <th>job_satisfaction_rate</th>\n",
       "    </tr>\n",
       "  </thead>\n",
       "  <tbody>\n",
       "    <tr>\n",
       "      <th>0</th>\n",
       "      <td>155278</td>\n",
       "      <td>sales</td>\n",
       "      <td>junior</td>\n",
       "      <td>medium</td>\n",
       "      <td>2</td>\n",
       "      <td>no</td>\n",
       "      <td>no</td>\n",
       "      <td>1</td>\n",
       "      <td>24000</td>\n",
       "      <td>0.58</td>\n",
       "    </tr>\n",
       "    <tr>\n",
       "      <th>1</th>\n",
       "      <td>653870</td>\n",
       "      <td>hr</td>\n",
       "      <td>junior</td>\n",
       "      <td>high</td>\n",
       "      <td>2</td>\n",
       "      <td>no</td>\n",
       "      <td>no</td>\n",
       "      <td>5</td>\n",
       "      <td>38400</td>\n",
       "      <td>0.76</td>\n",
       "    </tr>\n",
       "    <tr>\n",
       "      <th>2</th>\n",
       "      <td>184592</td>\n",
       "      <td>sales</td>\n",
       "      <td>junior</td>\n",
       "      <td>low</td>\n",
       "      <td>1</td>\n",
       "      <td>no</td>\n",
       "      <td>no</td>\n",
       "      <td>2</td>\n",
       "      <td>12000</td>\n",
       "      <td>0.11</td>\n",
       "    </tr>\n",
       "    <tr>\n",
       "      <th>3</th>\n",
       "      <td>171431</td>\n",
       "      <td>technology</td>\n",
       "      <td>junior</td>\n",
       "      <td>low</td>\n",
       "      <td>4</td>\n",
       "      <td>no</td>\n",
       "      <td>no</td>\n",
       "      <td>2</td>\n",
       "      <td>18000</td>\n",
       "      <td>0.37</td>\n",
       "    </tr>\n",
       "    <tr>\n",
       "      <th>4</th>\n",
       "      <td>693419</td>\n",
       "      <td>hr</td>\n",
       "      <td>junior</td>\n",
       "      <td>medium</td>\n",
       "      <td>1</td>\n",
       "      <td>no</td>\n",
       "      <td>no</td>\n",
       "      <td>3</td>\n",
       "      <td>22800</td>\n",
       "      <td>0.20</td>\n",
       "    </tr>\n",
       "  </tbody>\n",
       "</table>\n",
       "</div>"
      ],
      "text/plain": [
       "       id        dept   level workload  employment_years last_year_promo  \\\n",
       "0  155278       sales  junior   medium                 2              no   \n",
       "1  653870          hr  junior     high                 2              no   \n",
       "2  184592       sales  junior      low                 1              no   \n",
       "3  171431  technology  junior      low                 4              no   \n",
       "4  693419          hr  junior   medium                 1              no   \n",
       "\n",
       "  last_year_violations  supervisor_evaluation  salary  job_satisfaction_rate  \n",
       "0                   no                      1   24000                   0.58  \n",
       "1                   no                      5   38400                   0.76  \n",
       "2                   no                      2   12000                   0.11  \n",
       "3                   no                      2   18000                   0.37  \n",
       "4                   no                      3   22800                   0.20  "
      ]
     },
     "metadata": {},
     "output_type": "display_data"
    }
   ],
   "source": [
    "satisfaction = pd.read_csv('/datasets/train_job_satisfaction_rate.csv')\n",
    "satisfaction.info()\n",
    "display(satisfaction.head())"
   ]
  },
  {
   "cell_type": "code",
   "execution_count": 5,
   "id": "53f9f00b",
   "metadata": {},
   "outputs": [
    {
     "name": "stdout",
     "output_type": "stream",
     "text": [
      "<class 'pandas.core.frame.DataFrame'>\n",
      "RangeIndex: 2000 entries, 0 to 1999\n",
      "Data columns (total 9 columns):\n",
      " #   Column                 Non-Null Count  Dtype \n",
      "---  ------                 --------------  ----- \n",
      " 0   id                     2000 non-null   int64 \n",
      " 1   dept                   1998 non-null   object\n",
      " 2   level                  1999 non-null   object\n",
      " 3   workload               2000 non-null   object\n",
      " 4   employment_years       2000 non-null   int64 \n",
      " 5   last_year_promo        2000 non-null   object\n",
      " 6   last_year_violations   2000 non-null   object\n",
      " 7   supervisor_evaluation  2000 non-null   int64 \n",
      " 8   salary                 2000 non-null   int64 \n",
      "dtypes: int64(4), object(5)\n",
      "memory usage: 140.8+ KB\n"
     ]
    },
    {
     "data": {
      "text/html": [
       "<div>\n",
       "<style scoped>\n",
       "    .dataframe tbody tr th:only-of-type {\n",
       "        vertical-align: middle;\n",
       "    }\n",
       "\n",
       "    .dataframe tbody tr th {\n",
       "        vertical-align: top;\n",
       "    }\n",
       "\n",
       "    .dataframe thead th {\n",
       "        text-align: right;\n",
       "    }\n",
       "</style>\n",
       "<table border=\"1\" class=\"dataframe\">\n",
       "  <thead>\n",
       "    <tr style=\"text-align: right;\">\n",
       "      <th></th>\n",
       "      <th>id</th>\n",
       "      <th>dept</th>\n",
       "      <th>level</th>\n",
       "      <th>workload</th>\n",
       "      <th>employment_years</th>\n",
       "      <th>last_year_promo</th>\n",
       "      <th>last_year_violations</th>\n",
       "      <th>supervisor_evaluation</th>\n",
       "      <th>salary</th>\n",
       "    </tr>\n",
       "  </thead>\n",
       "  <tbody>\n",
       "    <tr>\n",
       "      <th>0</th>\n",
       "      <td>485046</td>\n",
       "      <td>marketing</td>\n",
       "      <td>junior</td>\n",
       "      <td>medium</td>\n",
       "      <td>2</td>\n",
       "      <td>no</td>\n",
       "      <td>no</td>\n",
       "      <td>5</td>\n",
       "      <td>28800</td>\n",
       "    </tr>\n",
       "    <tr>\n",
       "      <th>1</th>\n",
       "      <td>686555</td>\n",
       "      <td>hr</td>\n",
       "      <td>junior</td>\n",
       "      <td>medium</td>\n",
       "      <td>1</td>\n",
       "      <td>no</td>\n",
       "      <td>no</td>\n",
       "      <td>4</td>\n",
       "      <td>30000</td>\n",
       "    </tr>\n",
       "    <tr>\n",
       "      <th>2</th>\n",
       "      <td>467458</td>\n",
       "      <td>sales</td>\n",
       "      <td>middle</td>\n",
       "      <td>low</td>\n",
       "      <td>5</td>\n",
       "      <td>no</td>\n",
       "      <td>no</td>\n",
       "      <td>4</td>\n",
       "      <td>19200</td>\n",
       "    </tr>\n",
       "    <tr>\n",
       "      <th>3</th>\n",
       "      <td>418655</td>\n",
       "      <td>sales</td>\n",
       "      <td>middle</td>\n",
       "      <td>low</td>\n",
       "      <td>6</td>\n",
       "      <td>no</td>\n",
       "      <td>no</td>\n",
       "      <td>4</td>\n",
       "      <td>19200</td>\n",
       "    </tr>\n",
       "    <tr>\n",
       "      <th>4</th>\n",
       "      <td>789145</td>\n",
       "      <td>hr</td>\n",
       "      <td>middle</td>\n",
       "      <td>medium</td>\n",
       "      <td>5</td>\n",
       "      <td>no</td>\n",
       "      <td>no</td>\n",
       "      <td>5</td>\n",
       "      <td>40800</td>\n",
       "    </tr>\n",
       "  </tbody>\n",
       "</table>\n",
       "</div>"
      ],
      "text/plain": [
       "       id       dept   level workload  employment_years last_year_promo  \\\n",
       "0  485046  marketing  junior   medium                 2              no   \n",
       "1  686555         hr  junior   medium                 1              no   \n",
       "2  467458      sales  middle      low                 5              no   \n",
       "3  418655      sales  middle      low                 6              no   \n",
       "4  789145         hr  middle   medium                 5              no   \n",
       "\n",
       "  last_year_violations  supervisor_evaluation  salary  \n",
       "0                   no                      5   28800  \n",
       "1                   no                      4   30000  \n",
       "2                   no                      4   19200  \n",
       "3                   no                      4   19200  \n",
       "4                   no                      5   40800  "
      ]
     },
     "metadata": {},
     "output_type": "display_data"
    }
   ],
   "source": [
    "test_features = pd.read_csv('/datasets/test_features.csv')\n",
    "test_features.info()\n",
    "display(test_features.head())"
   ]
  },
  {
   "cell_type": "code",
   "execution_count": 6,
   "id": "f116bf00",
   "metadata": {
    "scrolled": false
   },
   "outputs": [
    {
     "name": "stdout",
     "output_type": "stream",
     "text": [
      "<class 'pandas.core.frame.DataFrame'>\n",
      "RangeIndex: 2000 entries, 0 to 1999\n",
      "Data columns (total 2 columns):\n",
      " #   Column                 Non-Null Count  Dtype  \n",
      "---  ------                 --------------  -----  \n",
      " 0   id                     2000 non-null   int64  \n",
      " 1   job_satisfaction_rate  2000 non-null   float64\n",
      "dtypes: float64(1), int64(1)\n",
      "memory usage: 31.4 KB\n"
     ]
    },
    {
     "data": {
      "text/html": [
       "<div>\n",
       "<style scoped>\n",
       "    .dataframe tbody tr th:only-of-type {\n",
       "        vertical-align: middle;\n",
       "    }\n",
       "\n",
       "    .dataframe tbody tr th {\n",
       "        vertical-align: top;\n",
       "    }\n",
       "\n",
       "    .dataframe thead th {\n",
       "        text-align: right;\n",
       "    }\n",
       "</style>\n",
       "<table border=\"1\" class=\"dataframe\">\n",
       "  <thead>\n",
       "    <tr style=\"text-align: right;\">\n",
       "      <th></th>\n",
       "      <th>id</th>\n",
       "      <th>job_satisfaction_rate</th>\n",
       "    </tr>\n",
       "  </thead>\n",
       "  <tbody>\n",
       "    <tr>\n",
       "      <th>0</th>\n",
       "      <td>130604</td>\n",
       "      <td>0.74</td>\n",
       "    </tr>\n",
       "    <tr>\n",
       "      <th>1</th>\n",
       "      <td>825977</td>\n",
       "      <td>0.75</td>\n",
       "    </tr>\n",
       "    <tr>\n",
       "      <th>2</th>\n",
       "      <td>418490</td>\n",
       "      <td>0.60</td>\n",
       "    </tr>\n",
       "    <tr>\n",
       "      <th>3</th>\n",
       "      <td>555320</td>\n",
       "      <td>0.72</td>\n",
       "    </tr>\n",
       "    <tr>\n",
       "      <th>4</th>\n",
       "      <td>826430</td>\n",
       "      <td>0.08</td>\n",
       "    </tr>\n",
       "  </tbody>\n",
       "</table>\n",
       "</div>"
      ],
      "text/plain": [
       "       id  job_satisfaction_rate\n",
       "0  130604                   0.74\n",
       "1  825977                   0.75\n",
       "2  418490                   0.60\n",
       "3  555320                   0.72\n",
       "4  826430                   0.08"
      ]
     },
     "metadata": {},
     "output_type": "display_data"
    }
   ],
   "source": [
    "satisfaction_targets = pd.read_csv('/datasets/test_target_job_satisfaction_rate.csv')\n",
    "satisfaction_targets.info()\n",
    "display(satisfaction_targets.head())"
   ]
  },
  {
   "cell_type": "markdown",
   "id": "586a27e1",
   "metadata": {},
   "source": [
    "### Conclusion"
   ]
  },
  {
   "cell_type": "markdown",
   "id": "2e51efd7",
   "metadata": {},
   "source": [
    "<div class=\"alert alert-info\">\n",
    "    \n",
    "There are three tables with data:  \n",
    "1. **train_job_satisfaction_rate:** Training data containing employee information, including the target variable (job satisfaction).  \n",
    "2. **test_features:** Test features.  \n",
    "3. **test_target_job_satisfaction_rate:** Target variables for the test dataset.  \n",
    "\n",
    "The training dataset contains 4,000 rows, while each test dataset contains 2,000 rows. The test tables are linked to each other through the `id` column."
   ]
  },
  {
   "cell_type": "markdown",
   "id": "1c7f2559",
   "metadata": {},
   "source": [
    "## Data Preprocessing"
   ]
  },
  {
   "cell_type": "markdown",
   "id": "c4c19989",
   "metadata": {},
   "source": [
    "### Checking for duplicates"
   ]
  },
  {
   "cell_type": "code",
   "execution_count": 7,
   "id": "8caa42e6",
   "metadata": {
    "scrolled": true
   },
   "outputs": [
    {
     "name": "stdout",
     "output_type": "stream",
     "text": [
      "4000\n",
      "2000\n",
      "2000\n"
     ]
    }
   ],
   "source": [
    "print(satisfaction['id'].nunique())\n",
    "print(test_features['id'].nunique())\n",
    "print(satisfaction_targets['id'].nunique())"
   ]
  },
  {
   "cell_type": "markdown",
   "id": "ef0240e6",
   "metadata": {},
   "source": [
    "### Checking categorical features"
   ]
  },
  {
   "cell_type": "code",
   "execution_count": 8,
   "id": "1ecbbc82",
   "metadata": {
    "scrolled": true
   },
   "outputs": [
    {
     "data": {
      "text/plain": [
       "array(['sales', 'hr', 'technology', 'purchasing', 'marketing', nan],\n",
       "      dtype=object)"
      ]
     },
     "metadata": {},
     "output_type": "display_data"
    },
    {
     "data": {
      "text/plain": [
       "array(['junior', 'middle', 'sinior', nan], dtype=object)"
      ]
     },
     "metadata": {},
     "output_type": "display_data"
    },
    {
     "data": {
      "text/plain": [
       "array(['medium', 'high', 'low'], dtype=object)"
      ]
     },
     "metadata": {},
     "output_type": "display_data"
    },
    {
     "data": {
      "text/plain": [
       "array(['no', 'yes'], dtype=object)"
      ]
     },
     "metadata": {},
     "output_type": "display_data"
    },
    {
     "data": {
      "text/plain": [
       "array(['no', 'yes'], dtype=object)"
      ]
     },
     "metadata": {},
     "output_type": "display_data"
    }
   ],
   "source": [
    "cat_columns = satisfaction.select_dtypes(include=['object']).columns\n",
    "for column in cat_columns:\n",
    "    display(satisfaction[column].unique())"
   ]
  },
  {
   "cell_type": "code",
   "execution_count": 9,
   "id": "fb73dff7",
   "metadata": {},
   "outputs": [
    {
     "data": {
      "text/plain": [
       "array(['sales', 'hr', 'technology', 'purchasing', 'marketing', nan],\n",
       "      dtype=object)"
      ]
     },
     "metadata": {},
     "output_type": "display_data"
    },
    {
     "data": {
      "text/plain": [
       "array(['junior', 'middle', 'sinior', nan], dtype=object)"
      ]
     },
     "metadata": {},
     "output_type": "display_data"
    },
    {
     "data": {
      "text/plain": [
       "array(['medium', 'high', 'low'], dtype=object)"
      ]
     },
     "metadata": {},
     "output_type": "display_data"
    },
    {
     "data": {
      "text/plain": [
       "array(['no', 'yes'], dtype=object)"
      ]
     },
     "metadata": {},
     "output_type": "display_data"
    },
    {
     "data": {
      "text/plain": [
       "array(['no', 'yes'], dtype=object)"
      ]
     },
     "metadata": {},
     "output_type": "display_data"
    }
   ],
   "source": [
    "cat_columns = test_features.select_dtypes(include=['object']).columns\n",
    "for column in cat_columns:\n",
    "    display(satisfaction[column].unique())"
   ]
  },
  {
   "cell_type": "code",
   "execution_count": 10,
   "id": "551f94d5",
   "metadata": {},
   "outputs": [
    {
     "name": "stdout",
     "output_type": "stream",
     "text": [
      "['junior' 'middle' 'senior' nan]\n"
     ]
    }
   ],
   "source": [
    "satisfaction['level'] = satisfaction['level'].replace({'sinior':'senior'})\n",
    "print(satisfaction['level'].unique())"
   ]
  },
  {
   "cell_type": "markdown",
   "id": "e1331eec",
   "metadata": {},
   "source": [
    "### Data type conversion"
   ]
  },
  {
   "cell_type": "code",
   "execution_count": 11,
   "id": "02a80921",
   "metadata": {},
   "outputs": [],
   "source": [
    "satisfaction = satisfaction.astype({'id':'int32', 'employment_years':'int32', 'supervisor_evaluation':'int32',\n",
    "                                  'salary':'int32', 'job_satisfaction_rate':'float32'})\n",
    "test_features = test_features.astype({'id':'int32', 'employment_years':'int32','supervisor_evaluation':'int32',\n",
    "                                  'salary':'int32'})\n",
    "satisfaction_targets = satisfaction_targets.astype({'id':'int32', 'job_satisfaction_rate':'float32'})"
   ]
  },
  {
   "cell_type": "code",
   "execution_count": 12,
   "id": "4b22ea4d",
   "metadata": {},
   "outputs": [
    {
     "name": "stdout",
     "output_type": "stream",
     "text": [
      "<class 'pandas.core.frame.DataFrame'>\n",
      "RangeIndex: 4000 entries, 0 to 3999\n",
      "Data columns (total 10 columns):\n",
      " #   Column                 Non-Null Count  Dtype  \n",
      "---  ------                 --------------  -----  \n",
      " 0   id                     4000 non-null   int32  \n",
      " 1   dept                   3994 non-null   object \n",
      " 2   level                  3996 non-null   object \n",
      " 3   workload               4000 non-null   object \n",
      " 4   employment_years       4000 non-null   int32  \n",
      " 5   last_year_promo        4000 non-null   object \n",
      " 6   last_year_violations   4000 non-null   object \n",
      " 7   supervisor_evaluation  4000 non-null   int32  \n",
      " 8   salary                 4000 non-null   int32  \n",
      " 9   job_satisfaction_rate  4000 non-null   float32\n",
      "dtypes: float32(1), int32(4), object(5)\n",
      "memory usage: 234.5+ KB\n",
      "<class 'pandas.core.frame.DataFrame'>\n",
      "RangeIndex: 2000 entries, 0 to 1999\n",
      "Data columns (total 9 columns):\n",
      " #   Column                 Non-Null Count  Dtype \n",
      "---  ------                 --------------  ----- \n",
      " 0   id                     2000 non-null   int32 \n",
      " 1   dept                   1998 non-null   object\n",
      " 2   level                  1999 non-null   object\n",
      " 3   workload               2000 non-null   object\n",
      " 4   employment_years       2000 non-null   int32 \n",
      " 5   last_year_promo        2000 non-null   object\n",
      " 6   last_year_violations   2000 non-null   object\n",
      " 7   supervisor_evaluation  2000 non-null   int32 \n",
      " 8   salary                 2000 non-null   int32 \n",
      "dtypes: int32(4), object(5)\n",
      "memory usage: 109.5+ KB\n",
      "<class 'pandas.core.frame.DataFrame'>\n",
      "RangeIndex: 2000 entries, 0 to 1999\n",
      "Data columns (total 2 columns):\n",
      " #   Column                 Non-Null Count  Dtype  \n",
      "---  ------                 --------------  -----  \n",
      " 0   id                     2000 non-null   int32  \n",
      " 1   job_satisfaction_rate  2000 non-null   float32\n",
      "dtypes: float32(1), int32(1)\n",
      "memory usage: 15.8 KB\n"
     ]
    }
   ],
   "source": [
    "satisfaction.info()\n",
    "test_features.info()\n",
    "satisfaction_targets.info()"
   ]
  },
  {
   "cell_type": "markdown",
   "id": "03dcf8eb",
   "metadata": {},
   "source": [
    "### Conclusion"
   ]
  },
  {
   "cell_type": "markdown",
   "id": "21172574",
   "metadata": {},
   "source": [
    "<div class=\"alert alert-info\">\n",
    "    \n",
    "The data is good. I would remove the missing values, but according to the task, they need to be handled in the pipeline (which makes sense, as new data might be added later).\n",
    "    \n",
    "Additionally, I optimized data types for efficiency and corrected \"sinior\" to \"senior\" in employee levels.\n",
    "</div>"
   ]
  },
  {
   "cell_type": "markdown",
   "id": "9bd0eb05",
   "metadata": {},
   "source": [
    "## Exploratory Data Analysis"
   ]
  },
  {
   "cell_type": "markdown",
   "id": "f3690cde",
   "metadata": {},
   "source": [
    "### Functions and Column Types"
   ]
  },
  {
   "cell_type": "code",
   "execution_count": 13,
   "id": "905cc5ef",
   "metadata": {},
   "outputs": [],
   "source": [
    "def show_plots(df, columns):\n",
    "    num_plots = len(columns)\n",
    "    discrete_cols = []\n",
    "    continious_cols = []\n",
    "    \n",
    "    for col in columns:\n",
    "        if(df[col].nunique() < 20):\n",
    "            discrete_cols.append(col)\n",
    "        else:\n",
    "            continious_cols.append(col)\n",
    "    \n",
    "    plt.figure(figsize=(12, 10))\n",
    "    \n",
    "    for i, column in enumerate(continious_cols, 1):\n",
    "        plt.subplot((num_plots // 3) + 1, 3, i)\n",
    "        sns.histplot(df[column], bins=50)\n",
    "        plt.title(column)\n",
    "        \n",
    "    for i, column in enumerate(discrete_cols, len(continious_cols) + 1):\n",
    "        plt.subplot((num_plots // 3) + 1, 3, i)\n",
    "        sns.countplot(x=df[column])\n",
    "        plt.title(column)\n",
    "        \n",
    "    plt.tight_layout()\n",
    "    plt.show()"
   ]
  },
  {
   "cell_type": "code",
   "execution_count": 14,
   "id": "02aed109",
   "metadata": {},
   "outputs": [],
   "source": [
    "def show_boxplots(df, num_columns):\n",
    "    plt.figure(figsize=(10, 8))\n",
    "    for i, column in enumerate(num_columns, 1):\n",
    "        plt.subplot(3, 3, i)\n",
    "        sns.boxplot(data=df[column])\n",
    "        plt.title(column)\n",
    "    plt.tight_layout()\n",
    "    plt.show()"
   ]
  },
  {
   "cell_type": "code",
   "execution_count": 15,
   "id": "269efc4e",
   "metadata": {},
   "outputs": [
    {
     "name": "stdout",
     "output_type": "stream",
     "text": [
      "Index(['employment_years', 'supervisor_evaluation', 'salary',\n",
      "       'job_satisfaction_rate'],\n",
      "      dtype='object')\n",
      "Index(['dept', 'level', 'workload', 'last_year_promo', 'last_year_violations'], dtype='object')\n"
     ]
    }
   ],
   "source": [
    "num_columns = satisfaction.drop(columns='id').select_dtypes(include=['int32', 'float32']).columns\n",
    "print(num_columns)\n",
    "cat_columns =  satisfaction.select_dtypes(include=['object']).columns\n",
    "print(cat_columns)"
   ]
  },
  {
   "cell_type": "markdown",
   "id": "63f08247",
   "metadata": {},
   "source": [
    "### Describe for numerical and count for categorical"
   ]
  },
  {
   "cell_type": "code",
   "execution_count": 16,
   "id": "2501d5bb",
   "metadata": {
    "scrolled": false
   },
   "outputs": [
    {
     "data": {
      "text/html": [
       "<div>\n",
       "<style scoped>\n",
       "    .dataframe tbody tr th:only-of-type {\n",
       "        vertical-align: middle;\n",
       "    }\n",
       "\n",
       "    .dataframe tbody tr th {\n",
       "        vertical-align: top;\n",
       "    }\n",
       "\n",
       "    .dataframe thead th {\n",
       "        text-align: right;\n",
       "    }\n",
       "</style>\n",
       "<table border=\"1\" class=\"dataframe\">\n",
       "  <thead>\n",
       "    <tr style=\"text-align: right;\">\n",
       "      <th></th>\n",
       "      <th>employment_years</th>\n",
       "      <th>supervisor_evaluation</th>\n",
       "      <th>salary</th>\n",
       "      <th>job_satisfaction_rate</th>\n",
       "    </tr>\n",
       "  </thead>\n",
       "  <tbody>\n",
       "    <tr>\n",
       "      <th>count</th>\n",
       "      <td>4000.000000</td>\n",
       "      <td>4000.000000</td>\n",
       "      <td>4000.000000</td>\n",
       "      <td>4000.000000</td>\n",
       "    </tr>\n",
       "    <tr>\n",
       "      <th>mean</th>\n",
       "      <td>3.718500</td>\n",
       "      <td>3.476500</td>\n",
       "      <td>33926.700000</td>\n",
       "      <td>0.533995</td>\n",
       "    </tr>\n",
       "    <tr>\n",
       "      <th>std</th>\n",
       "      <td>2.542513</td>\n",
       "      <td>1.008812</td>\n",
       "      <td>14900.703838</td>\n",
       "      <td>0.225327</td>\n",
       "    </tr>\n",
       "    <tr>\n",
       "      <th>min</th>\n",
       "      <td>1.000000</td>\n",
       "      <td>1.000000</td>\n",
       "      <td>12000.000000</td>\n",
       "      <td>0.030000</td>\n",
       "    </tr>\n",
       "    <tr>\n",
       "      <th>25%</th>\n",
       "      <td>2.000000</td>\n",
       "      <td>3.000000</td>\n",
       "      <td>22800.000000</td>\n",
       "      <td>0.360000</td>\n",
       "    </tr>\n",
       "    <tr>\n",
       "      <th>50%</th>\n",
       "      <td>3.000000</td>\n",
       "      <td>4.000000</td>\n",
       "      <td>30000.000000</td>\n",
       "      <td>0.560000</td>\n",
       "    </tr>\n",
       "    <tr>\n",
       "      <th>75%</th>\n",
       "      <td>6.000000</td>\n",
       "      <td>4.000000</td>\n",
       "      <td>43200.000000</td>\n",
       "      <td>0.710000</td>\n",
       "    </tr>\n",
       "    <tr>\n",
       "      <th>max</th>\n",
       "      <td>10.000000</td>\n",
       "      <td>5.000000</td>\n",
       "      <td>98400.000000</td>\n",
       "      <td>1.000000</td>\n",
       "    </tr>\n",
       "  </tbody>\n",
       "</table>\n",
       "</div>"
      ],
      "text/plain": [
       "       employment_years  supervisor_evaluation        salary  \\\n",
       "count       4000.000000            4000.000000   4000.000000   \n",
       "mean           3.718500               3.476500  33926.700000   \n",
       "std            2.542513               1.008812  14900.703838   \n",
       "min            1.000000               1.000000  12000.000000   \n",
       "25%            2.000000               3.000000  22800.000000   \n",
       "50%            3.000000               4.000000  30000.000000   \n",
       "75%            6.000000               4.000000  43200.000000   \n",
       "max           10.000000               5.000000  98400.000000   \n",
       "\n",
       "       job_satisfaction_rate  \n",
       "count            4000.000000  \n",
       "mean                0.533995  \n",
       "std                 0.225327  \n",
       "min                 0.030000  \n",
       "25%                 0.360000  \n",
       "50%                 0.560000  \n",
       "75%                 0.710000  \n",
       "max                 1.000000  "
      ]
     },
     "metadata": {},
     "output_type": "display_data"
    }
   ],
   "source": [
    "display(satisfaction[num_columns].describe())"
   ]
  },
  {
   "cell_type": "markdown",
   "id": "24f63743",
   "metadata": {},
   "source": [
    "<div class=\"alert alert-info\">  \n",
    "\n",
    "No anomalies were observed in the Describe analysis. The average employee rating is 3.45, and the average job satisfaction is 0.53%, which seems quite low, but who are we to judge?"
   ]
  },
  {
   "cell_type": "code",
   "execution_count": 17,
   "id": "98ba60fc",
   "metadata": {
    "scrolled": true
   },
   "outputs": [
    {
     "name": "stdout",
     "output_type": "stream",
     "text": [
      "       hr  marketing  purchasing  technology  sales\n",
      "dept  456        550         610         866   1512\n",
      "-------------------------------------------------------\n",
      "       senior  middle  junior\n",
      "level     358    1744    1894\n",
      "-------------------------------------------------------\n",
      "          high   low  medium\n",
      "workload   734  1200    2066\n",
      "-------------------------------------------------------\n",
      "                 yes    no\n",
      "last_year_promo  120  3880\n",
      "-------------------------------------------------------\n",
      "                      yes    no\n",
      "last_year_violations  559  3441\n",
      "-------------------------------------------------------\n"
     ]
    }
   ],
   "source": [
    "for col in cat_columns:\n",
    "    counts = satisfaction[col].value_counts().iloc[::-1].to_frame().T\n",
    "    counts.index = [col]  # Adding the category name as an index.\n",
    "    print(counts.to_string(index=True, header=True, na_rep=\"\"))\n",
    "    print(\"-\" * 55)"
   ]
  },
  {
   "cell_type": "markdown",
   "id": "39a3fe69",
   "metadata": {},
   "source": [
    "### Graphics"
   ]
  },
  {
   "cell_type": "code",
   "execution_count": 18,
   "id": "736c83da",
   "metadata": {
    "scrolled": false
   },
   "outputs": [
    {
     "data": {
      "image/png": "[encoded data removed]",
      "text/plain": [
       "<Figure size 864x720 with 4 Axes>"
      ]
     },
     "metadata": {
      "needs_background": "light"
     },
     "output_type": "display_data"
    }
   ],
   "source": [
    "show_plots(satisfaction, num_columns)"
   ]
  },
  {
   "cell_type": "code",
   "execution_count": 19,
   "id": "cde5d082",
   "metadata": {
    "scrolled": false
   },
   "outputs": [
    {
     "data": {
      "image/png": "[encoded data removed]",
      "text/plain": [
       "<Figure size 864x720 with 5 Axes>"
      ]
     },
     "metadata": {
      "needs_background": "light"
     },
     "output_type": "display_data"
    }
   ],
   "source": [
    "show_plots(satisfaction, cat_columns)"
   ]
  },
  {
   "cell_type": "code",
   "execution_count": 20,
   "id": "56a11293",
   "metadata": {
    "scrolled": false
   },
   "outputs": [
    {
     "data": {
      "image/png": "[encoded data removed]",
      "text/plain": [
       "<Figure size 720x576 with 4 Axes>"
      ]
     },
     "metadata": {
      "needs_background": "light"
     },
     "output_type": "display_data"
    }
   ],
   "source": [
    "show_boxplots(satisfaction, num_columns)"
   ]
  },
  {
   "cell_type": "markdown",
   "id": "dd0fdc5f",
   "metadata": {},
   "source": [
    "<div class=\"alert alert-info\">\n",
    "    \n",
    "The data looks fine, with no extreme outliers. Let's move on to analyzing the target variable."
   ]
  },
  {
   "cell_type": "markdown",
   "id": "50af821c",
   "metadata": {},
   "source": [
    "### Graphs for the target variable"
   ]
  },
  {
   "cell_type": "code",
   "execution_count": 21,
   "id": "ae3d0a9f",
   "metadata": {
    "scrolled": true
   },
   "outputs": [
    {
     "data": {
      "image/png": "[encoded data removed]",
      "text/plain": [
       "<Figure size 1080x864 with 8 Axes>"
      ]
     },
     "metadata": {
      "needs_background": "light"
     },
     "output_type": "display_data"
    }
   ],
   "source": [
    "features = satisfaction.columns.drop(['id', 'job_satisfaction_rate'])\n",
    "\n",
    "num_cols = 3\n",
    "num_rows = -(-len(features) // num_cols)\n",
    "\n",
    "fig, axes = plt.subplots(num_rows, num_cols, figsize=(5 * num_cols, 4 * num_rows))\n",
    "\n",
    "axes = axes.flatten()\n",
    "\n",
    "for i, col in enumerate(features):\n",
    "    ax = axes[i]\n",
    "    if satisfaction[col].dtype == 'object':  # For categorical features.\n",
    "        sns.boxplot(x=satisfaction[col], y=satisfaction['job_satisfaction_rate'], ax=ax)\n",
    "    else:  # For numerical features.\n",
    "        sns.scatterplot(x=satisfaction[col], y=satisfaction['job_satisfaction_rate'], ax=ax, alpha=0.5)\n",
    "\n",
    "    ax.set_title(col)\n",
    "    ax.tick_params(axis='x', rotation=45) \n",
    "\n",
    "for j in range(i + 1, len(axes)):\n",
    "    fig.delaxes(axes[j])\n",
    "\n",
    "plt.tight_layout()\n",
    "plt.show()"
   ]
  },
  {
   "cell_type": "markdown",
   "id": "9367d96d",
   "metadata": {},
   "source": [
    "<div class=\"alert alert-info\">  \n",
    "\n",
    "Key findings:  \n",
    "1. **Department, employee level, and workload** have almost no impact on job satisfaction.  \n",
    "2. **Salary and work experience** have a weak but noticeable influence.  \n",
    "3. **Promotion history, violations, and employee rating** have a strong impact."
   ]
  },
  {
   "cell_type": "markdown",
   "id": "a20c13ab",
   "metadata": {},
   "source": [
    "### Correlation Analysis"
   ]
  },
  {
   "cell_type": "code",
   "execution_count": 22,
   "id": "57b9e814",
   "metadata": {},
   "outputs": [
    {
     "data": {
      "image/png": "[encoded data removed]",
      "text/plain": [
       "<Figure size 720x576 with 2 Axes>"
      ]
     },
     "metadata": {
      "needs_background": "light"
     },
     "output_type": "display_data"
    }
   ],
   "source": [
    "corr_matrix = satisfaction.drop(columns=['id']).phik_matrix(interval_cols=['salary'])\n",
    "plt.figure(figsize=(10, 8))\n",
    "sns.heatmap(corr_matrix, annot=True, cmap='coolwarm')\n",
    "plt.title('Phi_K Correlation Matrix')\n",
    "plt.show()"
   ]
  },
  {
   "cell_type": "markdown",
   "id": "4d200f7d",
   "metadata": {},
   "source": [
    "### Conclusion"
   ]
  },
  {
   "cell_type": "markdown",
   "id": "ccca0b17",
   "metadata": {},
   "source": [
    "<div class=\"alert alert-info\">  \n",
    "\n",
    "The weakest influences are **department, level, and workload**.  \n",
    "\n",
    "The strongest influences are **evaluation, violation, and promotion**.  "
   ]
  },
  {
   "cell_type": "markdown",
   "id": "b1ed9e2b",
   "metadata": {},
   "source": [
    "## Data Preparation"
   ]
  },
  {
   "cell_type": "markdown",
   "id": "fbc88723",
   "metadata": {},
   "source": [
    "### Preparing Encoders"
   ]
  },
  {
   "cell_type": "code",
   "execution_count": 23,
   "id": "77351954",
   "metadata": {},
   "outputs": [],
   "source": [
    "ohe_columns = ['dept'] ## Many values, encoding using OneHotEncoder.\n",
    "ord_columns = ['level', 'workload'] ## There is a gradation, using OrdinalEncoder.\n",
    "bi_columns = ['last_year_promo', 'last_year_violations'] ## Two values, no gradation - using OrdinalEncoder.\n",
    "num_columns = ['employment_years', 'supervisor_evaluation', 'salary'] ## Different ranges - using StandardScaler.\n",
    "\n",
    "categories_order = [['junior', 'middle', 'senior'],  \n",
    "                    ['low', 'medium', 'high']]\n",
    "\n",
    "ohe_encoder = OneHotEncoder(drop='first', sparse_output=False, handle_unknown='ignore')\n",
    "ord_encoder = OrdinalEncoder(categories=categories_order, handle_unknown='use_encoded_value',\n",
    "                             unknown_value=np.nan)\n",
    "bi_encoder = OrdinalEncoder()\n",
    "scaler = StandardScaler()"
   ]
  },
  {
   "cell_type": "markdown",
   "id": "1cf58e78",
   "metadata": {},
   "source": [
    "### Filling in missing values"
   ]
  },
  {
   "cell_type": "code",
   "execution_count": 24,
   "id": "1c7bfd06",
   "metadata": {
    "scrolled": true
   },
   "outputs": [],
   "source": [
    "imputer_cat = SimpleImputer(strategy='most_frequent')\n",
    "imputer_num = SimpleImputer(strategy='median')"
   ]
  },
  {
   "cell_type": "markdown",
   "id": "133bada1",
   "metadata": {},
   "source": [
    "### Pipelines"
   ]
  },
  {
   "cell_type": "code",
   "execution_count": 25,
   "id": "958b1286",
   "metadata": {},
   "outputs": [],
   "source": [
    "cat_onehot_pipeline = Pipeline([\n",
    "    ('imputer', imputer_cat),\n",
    "    ('encoder', ohe_encoder)\n",
    "])\n",
    "\n",
    "cat_ordinal_pipeline = Pipeline([\n",
    "    ('imputer', imputer_cat),\n",
    "    ('encoder', ord_encoder)\n",
    "])\n",
    "\n",
    "binary_pipeline = Pipeline([\n",
    "    ('imputer', imputer_cat),\n",
    "    ('encoder', bi_encoder)\n",
    "])\n",
    "\n",
    "num_pipeline = Pipeline([\n",
    "    ('imputer', imputer_num),\n",
    "    ('scaler', scaler)\n",
    "])"
   ]
  },
  {
   "cell_type": "markdown",
   "id": "3f8cc935",
   "metadata": {},
   "source": [
    "### Transformer and pipeline"
   ]
  },
  {
   "cell_type": "code",
   "execution_count": 26,
   "id": "3680cfa2",
   "metadata": {},
   "outputs": [],
   "source": [
    "preprocessor = ColumnTransformer(\n",
    "    [\n",
    "        ('ohe', cat_onehot_pipeline, ohe_columns),\n",
    "        ('ord', cat_ordinal_pipeline, ord_columns),\n",
    "        ('bi', binary_pipeline, bi_columns),\n",
    "        ('num', num_pipeline, num_columns)\n",
    "    ],\n",
    "    remainder='passthrough'\n",
    ")\n",
    "\n",
    "pipe_final = Pipeline([\n",
    "    ('preprocessor', preprocessor),\n",
    "    ('model', LinearRegression())\n",
    "])"
   ]
  },
  {
   "cell_type": "markdown",
   "id": "cf8931c1",
   "metadata": {},
   "source": [
    "## Model training"
   ]
  },
  {
   "cell_type": "markdown",
   "id": "0df16de5",
   "metadata": {},
   "source": [
    "### SMAPE metric"
   ]
  },
  {
   "cell_type": "code",
   "execution_count": 27,
   "id": "3f39ab11",
   "metadata": {},
   "outputs": [],
   "source": [
    "def smape(y_true, y_pred):\n",
    "    return 100 * np.mean(np.abs(y_true - y_pred) / ((np.abs(y_true) + np.abs(y_pred)) / 2))\n",
    "\n",
    "smape_scorer = make_scorer(smape, greater_is_better=False)"
   ]
  },
  {
   "cell_type": "markdown",
   "id": "90761b69",
   "metadata": {},
   "source": [
    "### Datasets"
   ]
  },
  {
   "cell_type": "code",
   "execution_count": 28,
   "id": "2effdaa9",
   "metadata": {
    "scrolled": true
   },
   "outputs": [
    {
     "name": "stdout",
     "output_type": "stream",
     "text": [
      "<class 'pandas.core.frame.DataFrame'>\n",
      "Int64Index: 2000 entries, 0 to 1999\n",
      "Data columns (total 10 columns):\n",
      " #   Column                 Non-Null Count  Dtype  \n",
      "---  ------                 --------------  -----  \n",
      " 0   id                     2000 non-null   int32  \n",
      " 1   dept                   1998 non-null   object \n",
      " 2   level                  1999 non-null   object \n",
      " 3   workload               2000 non-null   object \n",
      " 4   employment_years       2000 non-null   int32  \n",
      " 5   last_year_promo        2000 non-null   object \n",
      " 6   last_year_violations   2000 non-null   object \n",
      " 7   supervisor_evaluation  2000 non-null   int32  \n",
      " 8   salary                 2000 non-null   int32  \n",
      " 9   job_satisfaction_rate  2000 non-null   float32\n",
      "dtypes: float32(1), int32(4), object(5)\n",
      "memory usage: 132.8+ KB\n",
      "(4000, 8) (2000, 9)\n"
     ]
    }
   ],
   "source": [
    "X_train = satisfaction.drop(columns=['id', 'job_satisfaction_rate'])\n",
    "y_train = satisfaction['job_satisfaction_rate']\n",
    "\n",
    "test_data = test_features.merge(satisfaction_targets, on=\"id\")\n",
    "test_data.info()\n",
    "\n",
    "X_test = test_data.drop(columns=['id'])\n",
    "y_test = test_data['job_satisfaction_rate']\n",
    "\n",
    "print(X_train.shape, X_test.shape)"
   ]
  },
  {
   "cell_type": "markdown",
   "id": "03eec270",
   "metadata": {},
   "source": [
    "### Hyperparameter Tuning"
   ]
  },
  {
   "cell_type": "code",
   "execution_count": 31,
   "id": "37368c3b",
   "metadata": {
    "scrolled": false
   },
   "outputs": [
    {
     "name": "stdout",
     "output_type": "stream",
     "text": [
      "0     0\n",
      "1     0\n",
      "2     0\n",
      "3     0\n",
      "4     0\n",
      "5     0\n",
      "6     0\n",
      "7     0\n",
      "8     0\n",
      "9     0\n",
      "10    0\n",
      "dtype: int64\n"
     ]
    }
   ],
   "source": [
    "# Checking for Remaining NANs After Processing\n",
    "X_train_transformed = preprocessor.fit_transform(X_train)\n",
    "print(pd.DataFrame(X_train_transformed).isnull().sum())"
   ]
  },
  {
   "cell_type": "code",
   "execution_count": 32,
   "id": "b9eb4c63",
   "metadata": {
    "scrolled": true
   },
   "outputs": [
    {
     "name": "stdout",
     "output_type": "stream",
     "text": [
      "The Best Model and Its Parameters:\n",
      "\n",
      " Pipeline(steps=[('preprocessor',\n",
      "                 ColumnTransformer(remainder='passthrough',\n",
      "                                   transformers=[('ohe',\n",
      "                                                  Pipeline(steps=[('imputer',\n",
      "                                                                   SimpleImputer(strategy='most_frequent')),\n",
      "                                                                  ('encoder',\n",
      "                                                                   OneHotEncoder(drop='first',\n",
      "                                                                                 handle_unknown='ignore',\n",
      "                                                                                 sparse_output=False))]),\n",
      "                                                  ['dept']),\n",
      "                                                 ('ord',\n",
      "                                                  Pipeline(steps=[('imputer',\n",
      "                                                                   SimpleImputer(strategy='most_frequent')),\n",
      "                                                                  ('encoder',\n",
      "                                                                   Ordin...\n",
      "                                                  Pipeline(steps=[('imputer',\n",
      "                                                                   SimpleImputer(strategy='most_frequent')),\n",
      "                                                                  ('encoder',\n",
      "                                                                   OrdinalEncoder())]),\n",
      "                                                  ['last_year_promo',\n",
      "                                                   'last_year_violations']),\n",
      "                                                 ('num',\n",
      "                                                  Pipeline(steps=[('imputer',\n",
      "                                                                   SimpleImputer(strategy='median')),\n",
      "                                                                  ('scaler',\n",
      "                                                                   StandardScaler())]),\n",
      "                                                  ['employment_years',\n",
      "                                                   'supervisor_evaluation',\n",
      "                                                   'salary'])])),\n",
      "                ('model', RandomForestRegressor(n_estimators=200))])\n",
      "The Best Model's Metric Based on Cross-Validation Results: 13.251660159523846\n"
     ]
    }
   ],
   "source": [
    "# Hyperparameter Tuning for Models\n",
    "param_grid = [\n",
    "    {\n",
    "        'model': [DecisionTreeRegressor()],\n",
    "        'model__max_depth': [3, 5, 10, None],\n",
    "        'model__min_samples_split': [2, 5, 10]\n",
    "    },\n",
    "    {\n",
    "        'model': [LinearRegression()]\n",
    "    },\n",
    "    {\n",
    "        'model': [RandomForestRegressor()],\n",
    "        'model__n_estimators': [50, 100, 200],\n",
    "        'model__max_depth': [3, 5, 10, None]\n",
    "    }\n",
    "]\n",
    "\n",
    "gs = GridSearchCV(pipe_final, param_grid, cv=5, scoring=smape_scorer, n_jobs=-1)\n",
    "gs.fit(X_train, y_train)\n",
    "\n",
    "# Best model\n",
    "print('The Best Model and Its Parameters:\\n\\n', gs.best_estimator_)\n",
    "print(\"The Best Model's Metric Based on Cross-Validation Results:\", -gs.best_score_)"
   ]
  },
  {
   "cell_type": "markdown",
   "id": "a5eedc3b",
   "metadata": {},
   "source": [
    "<div class=\"alert alert-info\"> \n",
    "\n",
    "RandomForestRegressor showed a score of 13.2, while DecisionTreeRegressor had 15.18. Let's test it on the test set."
   ]
  },
  {
   "cell_type": "code",
   "execution_count": 33,
   "id": "5016ec7b",
   "metadata": {
    "scrolled": false
   },
   "outputs": [
    {
     "name": "stdout",
     "output_type": "stream",
     "text": [
      "SMAPE metric is: 13.002425663593522\n"
     ]
    },
    {
     "name": "stderr",
     "output_type": "stream",
     "text": [
      "/opt/conda/lib/python3.9/site-packages/sklearn/preprocessing/_encoders.py:246: UserWarning: Found unknown categories in columns [0] during transform. These unknown categories will be encoded as all zeros\n",
      "  warnings.warn(\n"
     ]
    }
   ],
   "source": [
    "y_pred_test = gs.best_estimator_.predict(X_test)\n",
    "smape_test = smape(y_test, y_pred_test)\n",
    "print (\"SMAPE metric is:\", smape_test)"
   ]
  },
  {
   "cell_type": "markdown",
   "id": "12c3b954",
   "metadata": {},
   "source": [
    "## Intermediate Conclusions"
   ]
  },
  {
   "cell_type": "markdown",
   "id": "faa38634",
   "metadata": {},
   "source": [
    "<div class=\"alert alert-info\"> \n",
    "\n",
    "**After loading, preprocessing data, conducting exploratory analysis, and selecting models, we achieved strong results on the test dataset with a SMAPE score of 13.**  \n",
    "\n",
    "The requirement was **≤ 15**.  \n",
    "\n",
    "**RandomForestRegressor** proved to be the most suitable model since it effectively handles nonlinear dependencies and categorical features while also reducing overfitting compared to other models.  \n",
    "\n",
    "We successfully predicted employee satisfaction with high accuracy, so now we can move on to predicting resignation intent."
   ]
  },
  {
   "cell_type": "markdown",
   "id": "b7092933",
   "metadata": {},
   "source": [
    "# PART TWO"
   ]
  },
  {
   "cell_type": "markdown",
   "id": "e3ed54f7",
   "metadata": {},
   "source": [
    "##  Loading new data"
   ]
  },
  {
   "cell_type": "code",
   "execution_count": 34,
   "id": "3d9ea5c6",
   "metadata": {},
   "outputs": [
    {
     "name": "stdout",
     "output_type": "stream",
     "text": [
      "<class 'pandas.core.frame.DataFrame'>\n",
      "RangeIndex: 4000 entries, 0 to 3999\n",
      "Data columns (total 10 columns):\n",
      " #   Column                 Non-Null Count  Dtype \n",
      "---  ------                 --------------  ----- \n",
      " 0   id                     4000 non-null   int64 \n",
      " 1   dept                   4000 non-null   object\n",
      " 2   level                  4000 non-null   object\n",
      " 3   workload               4000 non-null   object\n",
      " 4   employment_years       4000 non-null   int64 \n",
      " 5   last_year_promo        4000 non-null   object\n",
      " 6   last_year_violations   4000 non-null   object\n",
      " 7   supervisor_evaluation  4000 non-null   int64 \n",
      " 8   salary                 4000 non-null   int64 \n",
      " 9   quit                   4000 non-null   object\n",
      "dtypes: int64(4), object(6)\n",
      "memory usage: 312.6+ KB\n"
     ]
    },
    {
     "data": {
      "text/html": [
       "<div>\n",
       "<style scoped>\n",
       "    .dataframe tbody tr th:only-of-type {\n",
       "        vertical-align: middle;\n",
       "    }\n",
       "\n",
       "    .dataframe tbody tr th {\n",
       "        vertical-align: top;\n",
       "    }\n",
       "\n",
       "    .dataframe thead th {\n",
       "        text-align: right;\n",
       "    }\n",
       "</style>\n",
       "<table border=\"1\" class=\"dataframe\">\n",
       "  <thead>\n",
       "    <tr style=\"text-align: right;\">\n",
       "      <th></th>\n",
       "      <th>id</th>\n",
       "      <th>dept</th>\n",
       "      <th>level</th>\n",
       "      <th>workload</th>\n",
       "      <th>employment_years</th>\n",
       "      <th>last_year_promo</th>\n",
       "      <th>last_year_violations</th>\n",
       "      <th>supervisor_evaluation</th>\n",
       "      <th>salary</th>\n",
       "      <th>quit</th>\n",
       "    </tr>\n",
       "  </thead>\n",
       "  <tbody>\n",
       "    <tr>\n",
       "      <th>0</th>\n",
       "      <td>723290</td>\n",
       "      <td>sales</td>\n",
       "      <td>middle</td>\n",
       "      <td>high</td>\n",
       "      <td>2</td>\n",
       "      <td>no</td>\n",
       "      <td>no</td>\n",
       "      <td>4</td>\n",
       "      <td>54000</td>\n",
       "      <td>no</td>\n",
       "    </tr>\n",
       "    <tr>\n",
       "      <th>1</th>\n",
       "      <td>814010</td>\n",
       "      <td>sales</td>\n",
       "      <td>junior</td>\n",
       "      <td>medium</td>\n",
       "      <td>2</td>\n",
       "      <td>no</td>\n",
       "      <td>no</td>\n",
       "      <td>4</td>\n",
       "      <td>27600</td>\n",
       "      <td>no</td>\n",
       "    </tr>\n",
       "    <tr>\n",
       "      <th>2</th>\n",
       "      <td>155091</td>\n",
       "      <td>purchasing</td>\n",
       "      <td>middle</td>\n",
       "      <td>medium</td>\n",
       "      <td>5</td>\n",
       "      <td>no</td>\n",
       "      <td>no</td>\n",
       "      <td>1</td>\n",
       "      <td>37200</td>\n",
       "      <td>no</td>\n",
       "    </tr>\n",
       "    <tr>\n",
       "      <th>3</th>\n",
       "      <td>257132</td>\n",
       "      <td>sales</td>\n",
       "      <td>junior</td>\n",
       "      <td>medium</td>\n",
       "      <td>2</td>\n",
       "      <td>no</td>\n",
       "      <td>yes</td>\n",
       "      <td>3</td>\n",
       "      <td>24000</td>\n",
       "      <td>yes</td>\n",
       "    </tr>\n",
       "    <tr>\n",
       "      <th>4</th>\n",
       "      <td>910140</td>\n",
       "      <td>marketing</td>\n",
       "      <td>junior</td>\n",
       "      <td>medium</td>\n",
       "      <td>2</td>\n",
       "      <td>no</td>\n",
       "      <td>no</td>\n",
       "      <td>5</td>\n",
       "      <td>25200</td>\n",
       "      <td>no</td>\n",
       "    </tr>\n",
       "  </tbody>\n",
       "</table>\n",
       "</div>"
      ],
      "text/plain": [
       "       id        dept   level workload  employment_years last_year_promo  \\\n",
       "0  723290       sales  middle     high                 2              no   \n",
       "1  814010       sales  junior   medium                 2              no   \n",
       "2  155091  purchasing  middle   medium                 5              no   \n",
       "3  257132       sales  junior   medium                 2              no   \n",
       "4  910140   marketing  junior   medium                 2              no   \n",
       "\n",
       "  last_year_violations  supervisor_evaluation  salary quit  \n",
       "0                   no                      4   54000   no  \n",
       "1                   no                      4   27600   no  \n",
       "2                   no                      1   37200   no  \n",
       "3                  yes                      3   24000  yes  \n",
       "4                   no                      5   25200   no  "
      ]
     },
     "metadata": {},
     "output_type": "display_data"
    }
   ],
   "source": [
    "quit = pd.read_csv('/datasets/train_quit.csv')\n",
    "quit.info()\n",
    "display(quit.head())"
   ]
  },
  {
   "cell_type": "code",
   "execution_count": 35,
   "id": "bb0bb5ea",
   "metadata": {
    "scrolled": true
   },
   "outputs": [
    {
     "name": "stdout",
     "output_type": "stream",
     "text": [
      "<class 'pandas.core.frame.DataFrame'>\n",
      "RangeIndex: 2000 entries, 0 to 1999\n",
      "Data columns (total 2 columns):\n",
      " #   Column  Non-Null Count  Dtype \n",
      "---  ------  --------------  ----- \n",
      " 0   id      2000 non-null   int64 \n",
      " 1   quit    2000 non-null   object\n",
      "dtypes: int64(1), object(1)\n",
      "memory usage: 31.4+ KB\n"
     ]
    },
    {
     "data": {
      "text/html": [
       "<div>\n",
       "<style scoped>\n",
       "    .dataframe tbody tr th:only-of-type {\n",
       "        vertical-align: middle;\n",
       "    }\n",
       "\n",
       "    .dataframe tbody tr th {\n",
       "        vertical-align: top;\n",
       "    }\n",
       "\n",
       "    .dataframe thead th {\n",
       "        text-align: right;\n",
       "    }\n",
       "</style>\n",
       "<table border=\"1\" class=\"dataframe\">\n",
       "  <thead>\n",
       "    <tr style=\"text-align: right;\">\n",
       "      <th></th>\n",
       "      <th>id</th>\n",
       "      <th>quit</th>\n",
       "    </tr>\n",
       "  </thead>\n",
       "  <tbody>\n",
       "    <tr>\n",
       "      <th>0</th>\n",
       "      <td>999029</td>\n",
       "      <td>yes</td>\n",
       "    </tr>\n",
       "    <tr>\n",
       "      <th>1</th>\n",
       "      <td>372846</td>\n",
       "      <td>no</td>\n",
       "    </tr>\n",
       "    <tr>\n",
       "      <th>2</th>\n",
       "      <td>726767</td>\n",
       "      <td>no</td>\n",
       "    </tr>\n",
       "    <tr>\n",
       "      <th>3</th>\n",
       "      <td>490105</td>\n",
       "      <td>no</td>\n",
       "    </tr>\n",
       "    <tr>\n",
       "      <th>4</th>\n",
       "      <td>416898</td>\n",
       "      <td>yes</td>\n",
       "    </tr>\n",
       "  </tbody>\n",
       "</table>\n",
       "</div>"
      ],
      "text/plain": [
       "       id quit\n",
       "0  999029  yes\n",
       "1  372846   no\n",
       "2  726767   no\n",
       "3  490105   no\n",
       "4  416898  yes"
      ]
     },
     "metadata": {},
     "output_type": "display_data"
    }
   ],
   "source": [
    "quit_targets = pd.read_csv('/datasets/test_target_quit.csv')\n",
    "quit_targets.info()\n",
    "display(quit_targets.head())"
   ]
  },
  {
   "cell_type": "markdown",
   "id": "2e8648a6",
   "metadata": {},
   "source": [
    "<div class=\"alert alert-info\">  \n",
    "\n",
    "Two more tables:  \n",
    "1. **train_quit:** Training data on resignations, with the target feature.  \n",
    "2. **test_target_quit:** Test dataset.  \n",
    "\n",
    "They contain 4000 and 2000 rows, respectively.  "
   ]
  },
  {
   "cell_type": "markdown",
   "id": "da841c19",
   "metadata": {},
   "source": [
    "## Preprocessing again"
   ]
  },
  {
   "cell_type": "markdown",
   "id": "2a3c67c1",
   "metadata": {},
   "source": [
    "### Duplicates again"
   ]
  },
  {
   "cell_type": "code",
   "execution_count": 36,
   "id": "020f79f3",
   "metadata": {},
   "outputs": [
    {
     "name": "stdout",
     "output_type": "stream",
     "text": [
      "4000\n",
      "2000\n"
     ]
    }
   ],
   "source": [
    "print(quit['id'].nunique())\n",
    "print(quit_targets['id'].nunique())"
   ]
  },
  {
   "cell_type": "markdown",
   "id": "9779de2a",
   "metadata": {},
   "source": [
    "### Categorical features again"
   ]
  },
  {
   "cell_type": "code",
   "execution_count": 37,
   "id": "8aeae24c",
   "metadata": {},
   "outputs": [
    {
     "name": "stdout",
     "output_type": "stream",
     "text": [
      "-------dept-------\n"
     ]
    },
    {
     "data": {
      "text/plain": [
       "array(['sales', 'purchasing', 'marketing', 'technology', 'hr'],\n",
       "      dtype=object)"
      ]
     },
     "metadata": {},
     "output_type": "display_data"
    },
    {
     "name": "stdout",
     "output_type": "stream",
     "text": [
      "-------level-------\n"
     ]
    },
    {
     "data": {
      "text/plain": [
       "array(['middle', 'junior', 'sinior'], dtype=object)"
      ]
     },
     "metadata": {},
     "output_type": "display_data"
    },
    {
     "name": "stdout",
     "output_type": "stream",
     "text": [
      "-------workload-------\n"
     ]
    },
    {
     "data": {
      "text/plain": [
       "array(['high', 'medium', 'low'], dtype=object)"
      ]
     },
     "metadata": {},
     "output_type": "display_data"
    },
    {
     "name": "stdout",
     "output_type": "stream",
     "text": [
      "-------last_year_promo-------\n"
     ]
    },
    {
     "data": {
      "text/plain": [
       "array(['no', 'yes'], dtype=object)"
      ]
     },
     "metadata": {},
     "output_type": "display_data"
    },
    {
     "name": "stdout",
     "output_type": "stream",
     "text": [
      "-------last_year_violations-------\n"
     ]
    },
    {
     "data": {
      "text/plain": [
       "array(['no', 'yes'], dtype=object)"
      ]
     },
     "metadata": {},
     "output_type": "display_data"
    },
    {
     "name": "stdout",
     "output_type": "stream",
     "text": [
      "-------quit-------\n"
     ]
    },
    {
     "data": {
      "text/plain": [
       "array(['no', 'yes'], dtype=object)"
      ]
     },
     "metadata": {},
     "output_type": "display_data"
    }
   ],
   "source": [
    "cat_columns = quit.select_dtypes(include=['object']).columns\n",
    "for column in cat_columns:\n",
    "    print(f'-------{column}-------')\n",
    "    display(quit[column].unique())"
   ]
  },
  {
   "cell_type": "code",
   "execution_count": 38,
   "id": "d5aac1ad",
   "metadata": {},
   "outputs": [
    {
     "name": "stdout",
     "output_type": "stream",
     "text": [
      "['middle' 'junior' 'senior']\n"
     ]
    }
   ],
   "source": [
    "quit['level'] = quit['level'].replace({'sinior':'senior'})\n",
    "print(quit['level'].unique())"
   ]
  },
  {
   "cell_type": "markdown",
   "id": "b2bf8535",
   "metadata": {},
   "source": [
    "### Type conversion again"
   ]
  },
  {
   "cell_type": "code",
   "execution_count": 39,
   "id": "5dc31590",
   "metadata": {},
   "outputs": [],
   "source": [
    "quit = quit.astype({'id':'int32', 'employment_years':'int32', 'supervisor_evaluation':'int32',\n",
    "                                  'salary':'int32'})\n",
    "quit_targets = quit_targets.astype({'id':'int32'})"
   ]
  },
  {
   "cell_type": "code",
   "execution_count": 40,
   "id": "567f8d87",
   "metadata": {
    "scrolled": false
   },
   "outputs": [
    {
     "name": "stdout",
     "output_type": "stream",
     "text": [
      "<class 'pandas.core.frame.DataFrame'>\n",
      "RangeIndex: 4000 entries, 0 to 3999\n",
      "Data columns (total 10 columns):\n",
      " #   Column                 Non-Null Count  Dtype \n",
      "---  ------                 --------------  ----- \n",
      " 0   id                     4000 non-null   int32 \n",
      " 1   dept                   4000 non-null   object\n",
      " 2   level                  4000 non-null   object\n",
      " 3   workload               4000 non-null   object\n",
      " 4   employment_years       4000 non-null   int32 \n",
      " 5   last_year_promo        4000 non-null   object\n",
      " 6   last_year_violations   4000 non-null   object\n",
      " 7   supervisor_evaluation  4000 non-null   int32 \n",
      " 8   salary                 4000 non-null   int32 \n",
      " 9   quit                   4000 non-null   object\n",
      "dtypes: int32(4), object(6)\n",
      "memory usage: 250.1+ KB\n",
      "<class 'pandas.core.frame.DataFrame'>\n",
      "RangeIndex: 2000 entries, 0 to 1999\n",
      "Data columns (total 2 columns):\n",
      " #   Column  Non-Null Count  Dtype \n",
      "---  ------  --------------  ----- \n",
      " 0   id      2000 non-null   int32 \n",
      " 1   quit    2000 non-null   object\n",
      "dtypes: int32(1), object(1)\n",
      "memory usage: 23.6+ KB\n"
     ]
    }
   ],
   "source": [
    "quit.info()\n",
    "quit_targets.info()"
   ]
  },
  {
   "cell_type": "markdown",
   "id": "e3263df6",
   "metadata": {},
   "source": [
    "<div class=\"alert alert-info\"> \n",
    "\n",
    "As before, the data is fine + type conversion and replacing \"sinior\" with \"senior\"."
   ]
  },
  {
   "cell_type": "markdown",
   "id": "e4c3b922",
   "metadata": {},
   "source": [
    "## Again, EDA (Exploratory Data Analysis)."
   ]
  },
  {
   "cell_type": "markdown",
   "id": "6fb3cc5b",
   "metadata": {},
   "source": [
    "### Salary and years"
   ]
  },
  {
   "cell_type": "code",
   "execution_count": 41,
   "id": "37622249",
   "metadata": {},
   "outputs": [
    {
     "data": {
      "image/png": "[encoded data removed]",
      "text/plain": [
       "<Figure size 576x432 with 1 Axes>"
      ]
     },
     "metadata": {
      "needs_background": "light"
     },
     "output_type": "display_data"
    }
   ],
   "source": [
    "plt.figure(figsize=(8,6))\n",
    "\n",
    "sns.histplot(data=quit, x='salary', hue='quit', bins=30, kde=True, alpha=0.5, palette={'no': 'lightblue', 'yes': 'salmon'})\n",
    "\n",
    "plt.title('Salary distribution among those who left and those who stayed.')\n",
    "plt.xlabel('Salary')\n",
    "plt.ylabel('Frequency')\n",
    "plt.legend(title='Quit', labels=['No', 'Yes'])\n",
    "plt.show()"
   ]
  },
  {
   "cell_type": "code",
   "execution_count": 42,
   "id": "378353c5",
   "metadata": {},
   "outputs": [
    {
     "data": {
      "image/png": "[encoded data removed]",
      "text/plain": [
       "<Figure size 576x432 with 1 Axes>"
      ]
     },
     "metadata": {
      "needs_background": "light"
     },
     "output_type": "display_data"
    }
   ],
   "source": [
    "plt.figure(figsize=(8, 6))\n",
    "\n",
    "sns.countplot(data=quit, x='employment_years', hue='quit', palette={'no': 'lightblue', 'yes': 'salmon'})\n",
    "\n",
    "plt.title('Distribution of employees by tenure and quitting')\n",
    "plt.xlabel('Worked before quitting')\n",
    "plt.ylabel('Number of workers')\n",
    "plt.legend(title='Quit', labels=['No', 'Yes'])\n",
    "plt.show()"
   ]
  },
  {
   "cell_type": "code",
   "execution_count": 43,
   "id": "d65788b7",
   "metadata": {},
   "outputs": [
    {
     "data": {
      "text/html": [
       "<div>\n",
       "<style scoped>\n",
       "    .dataframe tbody tr th:only-of-type {\n",
       "        vertical-align: middle;\n",
       "    }\n",
       "\n",
       "    .dataframe tbody tr th {\n",
       "        vertical-align: top;\n",
       "    }\n",
       "\n",
       "    .dataframe thead th {\n",
       "        text-align: right;\n",
       "    }\n",
       "</style>\n",
       "<table border=\"1\" class=\"dataframe\">\n",
       "  <thead>\n",
       "    <tr style=\"text-align: right;\">\n",
       "      <th></th>\n",
       "      <th>mean</th>\n",
       "      <th>median</th>\n",
       "    </tr>\n",
       "    <tr>\n",
       "      <th>quit</th>\n",
       "      <th></th>\n",
       "      <th></th>\n",
       "    </tr>\n",
       "  </thead>\n",
       "  <tbody>\n",
       "    <tr>\n",
       "      <th>no</th>\n",
       "      <td>37702.228412</td>\n",
       "      <td>34800</td>\n",
       "    </tr>\n",
       "    <tr>\n",
       "      <th>yes</th>\n",
       "      <td>23885.106383</td>\n",
       "      <td>22800</td>\n",
       "    </tr>\n",
       "  </tbody>\n",
       "</table>\n",
       "</div>"
      ],
      "text/plain": [
       "              mean  median\n",
       "quit                      \n",
       "no    37702.228412   34800\n",
       "yes   23885.106383   22800"
      ]
     },
     "metadata": {},
     "output_type": "display_data"
    }
   ],
   "source": [
    "salary_stats = quit.groupby('quit')['salary'].agg(['mean', 'median'])\n",
    "display(salary_stats)"
   ]
  },
  {
   "cell_type": "code",
   "execution_count": 44,
   "id": "2b7ba64a",
   "metadata": {},
   "outputs": [],
   "source": [
    "def quit_pies(df, column):\n",
    "    categories = df[column].unique()  \n",
    "    fig, axes = plt.subplots(1, len(categories), figsize=(6 * len(categories), 6))\n",
    "\n",
    "    if len(categories) == 1:\n",
    "        axes = [axes]  # If there is only one category, we make a list.\n",
    "\n",
    "    for i, category in enumerate(categories):\n",
    "        data = df[df[column] == category]['quit'].value_counts()\n",
    "        labels = ['Stayed', 'Quit']\n",
    "\n",
    "        axes[i].pie(data, labels=labels, autopct='%.1f%%', startangle=90, colors=['lightblue', 'salmon'])\n",
    "        axes[i].set_title(f'{column}: {category}')\n",
    "\n",
    "    plt.show()"
   ]
  },
  {
   "cell_type": "markdown",
   "id": "253093c0",
   "metadata": {},
   "source": [
    "### Circles for those who quit"
   ]
  },
  {
   "cell_type": "code",
   "execution_count": 45,
   "id": "b8245c8e",
   "metadata": {},
   "outputs": [
    {
     "data": {
      "image/png": "[encoded data removed]",
      "text/plain": [
       "<Figure size 2160x432 with 5 Axes>"
      ]
     },
     "metadata": {},
     "output_type": "display_data"
    },
    {
     "data": {
      "image/png": "[encoded data removed]",
      "text/plain": [
       "<Figure size 1296x432 with 3 Axes>"
      ]
     },
     "metadata": {},
     "output_type": "display_data"
    },
    {
     "data": {
      "image/png": "[encoded data removed]",
      "text/plain": [
       "<Figure size 1296x432 with 3 Axes>"
      ]
     },
     "metadata": {},
     "output_type": "display_data"
    },
    {
     "data": {
      "image/png": "[encoded data removed]",
      "text/plain": [
       "<Figure size 864x432 with 2 Axes>"
      ]
     },
     "metadata": {},
     "output_type": "display_data"
    },
    {
     "data": {
      "image/png": "[encoded data removed]",
      "text/plain": [
       "<Figure size 864x432 with 2 Axes>"
      ]
     },
     "metadata": {},
     "output_type": "display_data"
    },
    {
     "data": {
      "image/png": "[encoded data removed]",
      "text/plain": [
       "<Figure size 2160x432 with 5 Axes>"
      ]
     },
     "metadata": {},
     "output_type": "display_data"
    }
   ],
   "source": [
    "pie_columns = quit.drop(columns=['id', 'quit', 'salary', 'employment_years'])\n",
    "# Building pie charts for all categorical columns\n",
    "for col in pie_columns:\n",
    "    quit_pies(quit, col)"
   ]
  },
  {
   "cell_type": "markdown",
   "id": "5a11b142",
   "metadata": {},
   "source": [
    "### Satisfaction and quit"
   ]
  },
  {
   "cell_type": "code",
   "execution_count": 46,
   "id": "042de320",
   "metadata": {},
   "outputs": [
    {
     "name": "stdout",
     "output_type": "stream",
     "text": [
      "<class 'pandas.core.frame.DataFrame'>\n",
      "Int64Index: 2000 entries, 0 to 1999\n",
      "Data columns (total 3 columns):\n",
      " #   Column                 Non-Null Count  Dtype  \n",
      "---  ------                 --------------  -----  \n",
      " 0   id                     2000 non-null   int32  \n",
      " 1   job_satisfaction_rate  2000 non-null   float32\n",
      " 2   quit                   2000 non-null   object \n",
      "dtypes: float32(1), int32(1), object(1)\n",
      "memory usage: 46.9+ KB\n"
     ]
    },
    {
     "data": {
      "text/html": [
       "<div>\n",
       "<style scoped>\n",
       "    .dataframe tbody tr th:only-of-type {\n",
       "        vertical-align: middle;\n",
       "    }\n",
       "\n",
       "    .dataframe tbody tr th {\n",
       "        vertical-align: top;\n",
       "    }\n",
       "\n",
       "    .dataframe thead th {\n",
       "        text-align: right;\n",
       "    }\n",
       "</style>\n",
       "<table border=\"1\" class=\"dataframe\">\n",
       "  <thead>\n",
       "    <tr style=\"text-align: right;\">\n",
       "      <th></th>\n",
       "      <th>id</th>\n",
       "      <th>job_satisfaction_rate</th>\n",
       "      <th>quit</th>\n",
       "    </tr>\n",
       "  </thead>\n",
       "  <tbody>\n",
       "    <tr>\n",
       "      <th>0</th>\n",
       "      <td>130604</td>\n",
       "      <td>0.74</td>\n",
       "      <td>no</td>\n",
       "    </tr>\n",
       "    <tr>\n",
       "      <th>1</th>\n",
       "      <td>825977</td>\n",
       "      <td>0.75</td>\n",
       "      <td>no</td>\n",
       "    </tr>\n",
       "    <tr>\n",
       "      <th>2</th>\n",
       "      <td>418490</td>\n",
       "      <td>0.60</td>\n",
       "      <td>yes</td>\n",
       "    </tr>\n",
       "    <tr>\n",
       "      <th>3</th>\n",
       "      <td>555320</td>\n",
       "      <td>0.72</td>\n",
       "      <td>no</td>\n",
       "    </tr>\n",
       "    <tr>\n",
       "      <th>4</th>\n",
       "      <td>826430</td>\n",
       "      <td>0.08</td>\n",
       "      <td>yes</td>\n",
       "    </tr>\n",
       "  </tbody>\n",
       "</table>\n",
       "</div>"
      ],
      "text/plain": [
       "       id  job_satisfaction_rate quit\n",
       "0  130604                   0.74   no\n",
       "1  825977                   0.75   no\n",
       "2  418490                   0.60  yes\n",
       "3  555320                   0.72   no\n",
       "4  826430                   0.08  yes"
      ]
     },
     "metadata": {},
     "output_type": "display_data"
    }
   ],
   "source": [
    "mix = satisfaction_targets.merge(quit_targets, on='id')\n",
    "mix.info()\n",
    "display(mix.head())"
   ]
  },
  {
   "cell_type": "code",
   "execution_count": 47,
   "id": "8f1ddd2a",
   "metadata": {},
   "outputs": [
    {
     "name": "stdout",
     "output_type": "stream",
     "text": [
      "interval columns not set, guessing: ['job_satisfaction_rate']\n"
     ]
    },
    {
     "data": {
      "image/png": "[encoded data removed]",
      "text/plain": [
       "<Figure size 720x576 with 2 Axes>"
      ]
     },
     "metadata": {
      "needs_background": "light"
     },
     "output_type": "display_data"
    }
   ],
   "source": [
    "corr_matrix = mix.drop(columns=['id']).phik_matrix()\n",
    "plt.figure(figsize=(10, 8))\n",
    "sns.heatmap(corr_matrix, annot=True, cmap='coolwarm')\n",
    "plt.title('Phi_K Correlation Matrix')\n",
    "plt.show()"
   ]
  },
  {
   "cell_type": "code",
   "execution_count": 48,
   "id": "06b13024",
   "metadata": {
    "scrolled": false
   },
   "outputs": [
    {
     "data": {
      "image/png": "[encoded data removed]",
      "text/plain": [
       "<Figure size 720x432 with 1 Axes>"
      ]
     },
     "metadata": {
      "needs_background": "light"
     },
     "output_type": "display_data"
    }
   ],
   "source": [
    "plt.figure(figsize=(10, 6))\n",
    "sns.kdeplot(mix[mix['quit'] == 'yes']['job_satisfaction_rate'], label='Departed', shade=True)\n",
    "sns.kdeplot(mix[mix['quit'] == 'no']['job_satisfaction_rate'], label='Remaining', shade=True)\n",
    "plt.xlabel('Job Satisfaction Rate')\n",
    "plt.ylabel('Density')\n",
    "plt.title('Distribution of Job Satisfaction')\n",
    "plt.legend()\n",
    "plt.show()"
   ]
  },
  {
   "cell_type": "markdown",
   "id": "9b327d65",
   "metadata": {},
   "source": [
    "### Conclusion"
   ]
  },
  {
   "cell_type": "markdown",
   "id": "75c6f59d",
   "metadata": {},
   "source": [
    "<div class=\"alert alert-info\">\n",
    "\n",
    "1. There are sharp disparities in salary and tenure. Many employees work for only one year and receive the minimum salary.  \n",
    "2. Departments have almost no impact again.  \n",
    "3. Nearly half of junior employees leave (which aligns with the one-year tenure).  \n",
    "4. Interestingly, employees with a \"low\" workload tend to quit, though they are mostly juniors.  \n",
    "5. Job performance ratings strongly influence resignations—the worse the rating, the higher the chance of leaving.  \n",
    "6. There is a strong correlation between job satisfaction and resignation."
   ]
  },
  {
   "cell_type": "markdown",
   "id": "9e94ad7f",
   "metadata": {},
   "source": [
    "## Adding a new feature"
   ]
  },
  {
   "cell_type": "code",
   "execution_count": 49,
   "id": "1d28cc22",
   "metadata": {},
   "outputs": [
    {
     "data": {
      "text/html": [
       "<div>\n",
       "<style scoped>\n",
       "    .dataframe tbody tr th:only-of-type {\n",
       "        vertical-align: middle;\n",
       "    }\n",
       "\n",
       "    .dataframe tbody tr th {\n",
       "        vertical-align: top;\n",
       "    }\n",
       "\n",
       "    .dataframe thead th {\n",
       "        text-align: right;\n",
       "    }\n",
       "</style>\n",
       "<table border=\"1\" class=\"dataframe\">\n",
       "  <thead>\n",
       "    <tr style=\"text-align: right;\">\n",
       "      <th></th>\n",
       "      <th>id</th>\n",
       "      <th>dept</th>\n",
       "      <th>level</th>\n",
       "      <th>workload</th>\n",
       "      <th>employment_years</th>\n",
       "      <th>last_year_promo</th>\n",
       "      <th>last_year_violations</th>\n",
       "      <th>supervisor_evaluation</th>\n",
       "      <th>salary</th>\n",
       "      <th>quit</th>\n",
       "      <th>job_satisfaction_rate</th>\n",
       "    </tr>\n",
       "  </thead>\n",
       "  <tbody>\n",
       "    <tr>\n",
       "      <th>0</th>\n",
       "      <td>723290</td>\n",
       "      <td>sales</td>\n",
       "      <td>middle</td>\n",
       "      <td>high</td>\n",
       "      <td>2</td>\n",
       "      <td>no</td>\n",
       "      <td>no</td>\n",
       "      <td>4</td>\n",
       "      <td>54000</td>\n",
       "      <td>no</td>\n",
       "      <td>0.633050</td>\n",
       "    </tr>\n",
       "    <tr>\n",
       "      <th>1</th>\n",
       "      <td>814010</td>\n",
       "      <td>sales</td>\n",
       "      <td>junior</td>\n",
       "      <td>medium</td>\n",
       "      <td>2</td>\n",
       "      <td>no</td>\n",
       "      <td>no</td>\n",
       "      <td>4</td>\n",
       "      <td>27600</td>\n",
       "      <td>no</td>\n",
       "      <td>0.825658</td>\n",
       "    </tr>\n",
       "    <tr>\n",
       "      <th>2</th>\n",
       "      <td>155091</td>\n",
       "      <td>purchasing</td>\n",
       "      <td>middle</td>\n",
       "      <td>medium</td>\n",
       "      <td>5</td>\n",
       "      <td>no</td>\n",
       "      <td>no</td>\n",
       "      <td>1</td>\n",
       "      <td>37200</td>\n",
       "      <td>no</td>\n",
       "      <td>0.389835</td>\n",
       "    </tr>\n",
       "    <tr>\n",
       "      <th>3</th>\n",
       "      <td>257132</td>\n",
       "      <td>sales</td>\n",
       "      <td>junior</td>\n",
       "      <td>medium</td>\n",
       "      <td>2</td>\n",
       "      <td>no</td>\n",
       "      <td>yes</td>\n",
       "      <td>3</td>\n",
       "      <td>24000</td>\n",
       "      <td>yes</td>\n",
       "      <td>0.350277</td>\n",
       "    </tr>\n",
       "    <tr>\n",
       "      <th>4</th>\n",
       "      <td>910140</td>\n",
       "      <td>marketing</td>\n",
       "      <td>junior</td>\n",
       "      <td>medium</td>\n",
       "      <td>2</td>\n",
       "      <td>no</td>\n",
       "      <td>no</td>\n",
       "      <td>5</td>\n",
       "      <td>25200</td>\n",
       "      <td>no</td>\n",
       "      <td>0.758436</td>\n",
       "    </tr>\n",
       "  </tbody>\n",
       "</table>\n",
       "</div>"
      ],
      "text/plain": [
       "       id        dept   level workload  employment_years last_year_promo  \\\n",
       "0  723290       sales  middle     high                 2              no   \n",
       "1  814010       sales  junior   medium                 2              no   \n",
       "2  155091  purchasing  middle   medium                 5              no   \n",
       "3  257132       sales  junior   medium                 2              no   \n",
       "4  910140   marketing  junior   medium                 2              no   \n",
       "\n",
       "  last_year_violations  supervisor_evaluation  salary quit  \\\n",
       "0                   no                      4   54000   no   \n",
       "1                   no                      4   27600   no   \n",
       "2                   no                      1   37200   no   \n",
       "3                  yes                      3   24000  yes   \n",
       "4                   no                      5   25200   no   \n",
       "\n",
       "   job_satisfaction_rate  \n",
       "0               0.633050  \n",
       "1               0.825658  \n",
       "2               0.389835  \n",
       "3               0.350277  \n",
       "4               0.758436  "
      ]
     },
     "metadata": {},
     "output_type": "display_data"
    }
   ],
   "source": [
    "quit['job_satisfaction_rate'] = gs.best_estimator_.predict(quit)\n",
    "display(quit.head())"
   ]
  },
  {
   "cell_type": "markdown",
   "id": "9d19f3af",
   "metadata": {},
   "source": [
    "## Preparing the data again"
   ]
  },
  {
   "cell_type": "code",
   "execution_count": 50,
   "id": "395719fd",
   "metadata": {},
   "outputs": [],
   "source": [
    "## Columns and encoders\n",
    "ohe_columns = ['dept']\n",
    "ord_columns = ['level', 'workload']\n",
    "bi_columns = ['last_year_promo', 'last_year_violations']\n",
    "num_columns = ['employment_years', 'supervisor_evaluation', 'salary', 'job_satisfaction_rate']\n",
    "\n",
    "categories_order = [['junior', 'middle', 'senior'],  \n",
    "                    ['low', 'medium', 'high']]\n",
    "\n",
    "ohe_encoder = OneHotEncoder(drop='first', sparse_output=False, handle_unknown='ignore')\n",
    "ord_encoder = OrdinalEncoder(categories=categories_order, handle_unknown='use_encoded_value',\n",
    "                             unknown_value=np.nan)\n",
    "bi_encoder = OrdinalEncoder()\n",
    "scaler = StandardScaler()\n",
    "\n",
    "### Filling in missing values\n",
    "\n",
    "imputer_cat = SimpleImputer(strategy='most_frequent')\n",
    "imputer_num = SimpleImputer(strategy='median')\n",
    "\n",
    "### Pipelines\n",
    "cat_onehot_pipeline = Pipeline([\n",
    "    ('imputer', imputer_cat),\n",
    "    ('encoder', ohe_encoder)\n",
    "])\n",
    "\n",
    "cat_ordinal_pipeline = Pipeline([\n",
    "    ('imputer', imputer_cat),\n",
    "    ('encoder', ord_encoder)\n",
    "])\n",
    "\n",
    "binary_pipeline = Pipeline([\n",
    "    ('imputer', imputer_cat),\n",
    "    ('encoder', bi_encoder)\n",
    "])\n",
    "\n",
    "num_pipeline = Pipeline([\n",
    "    ('imputer', imputer_num),\n",
    "    ('scaler', scaler)\n",
    "])\n",
    "\n",
    "## Final transformer and pipeline\n",
    "preprocessor = ColumnTransformer(\n",
    "    [\n",
    "        ('ohe', cat_onehot_pipeline, ohe_columns),\n",
    "        ('ord', cat_ordinal_pipeline, ord_columns),\n",
    "        ('bi', binary_pipeline, bi_columns),\n",
    "        ('num', num_pipeline, num_columns)\n",
    "    ],\n",
    "    remainder='passthrough'\n",
    ")\n",
    "\n",
    "pipe_final = Pipeline([\n",
    "    ('preprocessor', preprocessor),\n",
    "    ('model', LinearRegression())\n",
    "])"
   ]
  },
  {
   "cell_type": "markdown",
   "id": "50e9ccb6",
   "metadata": {},
   "source": [
    "## Models again"
   ]
  },
  {
   "cell_type": "markdown",
   "id": "ecb13595",
   "metadata": {},
   "source": [
    "### Datasets again"
   ]
  },
  {
   "cell_type": "code",
   "execution_count": 51,
   "id": "15a2ec6b",
   "metadata": {},
   "outputs": [
    {
     "name": "stdout",
     "output_type": "stream",
     "text": [
      "<class 'pandas.core.frame.DataFrame'>\n",
      "Int64Index: 2000 entries, 0 to 1999\n",
      "Data columns (total 11 columns):\n",
      " #   Column                 Non-Null Count  Dtype  \n",
      "---  ------                 --------------  -----  \n",
      " 0   id                     2000 non-null   int32  \n",
      " 1   dept                   1998 non-null   object \n",
      " 2   level                  1999 non-null   object \n",
      " 3   workload               2000 non-null   object \n",
      " 4   employment_years       2000 non-null   int32  \n",
      " 5   last_year_promo        2000 non-null   object \n",
      " 6   last_year_violations   2000 non-null   object \n",
      " 7   supervisor_evaluation  2000 non-null   int32  \n",
      " 8   salary                 2000 non-null   int32  \n",
      " 9   quit                   2000 non-null   object \n",
      " 10  job_satisfaction_rate  2000 non-null   float32\n",
      "dtypes: float32(1), int32(4), object(6)\n",
      "memory usage: 148.4+ KB\n",
      "(4000, 9) (2000, 10)\n",
      "[0 0 0 1 0]\n",
      "[0 0 0 0 0]\n"
     ]
    }
   ],
   "source": [
    "X_train = quit.drop(columns=['id', 'quit'])\n",
    "y_train = quit['quit']\n",
    "\n",
    "test_data = test_features.merge(quit_targets, on='id').merge(satisfaction_targets, on='id')\n",
    "test_data.info()\n",
    "\n",
    "X_test = test_data.drop(columns=['id'])\n",
    "y_test = test_data['quit']\n",
    "\n",
    "le = LabelEncoder()\n",
    "y_train = le.fit_transform(y_train)\n",
    "y_test = le.transform(y_test)\n",
    "\n",
    "print(X_train.shape, X_test.shape)\n",
    "print(y_train[:5])\n",
    "print(y_test[:5])"
   ]
  },
  {
   "cell_type": "markdown",
   "id": "b609e234",
   "metadata": {},
   "source": [
    "### Best model"
   ]
  },
  {
   "cell_type": "code",
   "execution_count": 52,
   "id": "a75ae7a6",
   "metadata": {},
   "outputs": [],
   "source": [
    "param_grid = [\n",
    "    {\n",
    "        'model': [RandomForestClassifier(random_state=RANDOM_STATE)],\n",
    "        'model__n_estimators': [50, 100, 200],  # Количество деревьев\n",
    "        'model__max_depth': range(4, 7),\n",
    "        'model__max_features': range(6, 9),\n",
    "        'preprocessor__num': [StandardScaler()],\n",
    "    },\n",
    "    {\n",
    "        'model': [KNeighborsClassifier()],\n",
    "        'model__n_neighbors': range(2, 5),\n",
    "        'preprocessor__num': [StandardScaler()],\n",
    "    },\n",
    "    {\n",
    "        'model': [LogisticRegression(\n",
    "            random_state=RANDOM_STATE, \n",
    "            solver='liblinear', \n",
    "            penalty='l1'\n",
    "        )],\n",
    "        'model__C': range(1, 3),\n",
    "        'preprocessor__num': [StandardScaler()],\n",
    "    },\n",
    "    {\n",
    "        'model': [SVC(\n",
    "            random_state=RANDOM_STATE,\n",
    "            kernel='rbf'\n",
    "        )],\n",
    "        'preprocessor__num': [StandardScaler()],\n",
    "    }\n",
    "]"
   ]
  },
  {
   "cell_type": "code",
   "execution_count": 53,
   "id": "c68f5a74",
   "metadata": {
    "scrolled": true
   },
   "outputs": [
    {
     "name": "stdout",
     "output_type": "stream",
     "text": [
      "Best model and its parameters:\n",
      "\n",
      " Pipeline(steps=[('preprocessor',\n",
      "                 ColumnTransformer(remainder='passthrough',\n",
      "                                   transformers=[('ohe',\n",
      "                                                  Pipeline(steps=[('imputer',\n",
      "                                                                   SimpleImputer(strategy='most_frequent')),\n",
      "                                                                  ('encoder',\n",
      "                                                                   OneHotEncoder(drop='first',\n",
      "                                                                                 handle_unknown='ignore',\n",
      "                                                                                 sparse_output=False))]),\n",
      "                                                  ['dept']),\n",
      "                                                 ('ord',\n",
      "                                                  Pipeline(steps=[('imputer',\n",
      "                                                                   SimpleImputer(strategy='most_frequent')),\n",
      "                                                                  ('encoder',\n",
      "                                                                   Ordin...\n",
      "                                                  ['level', 'workload']),\n",
      "                                                 ('bi',\n",
      "                                                  Pipeline(steps=[('imputer',\n",
      "                                                                   SimpleImputer(strategy='most_frequent')),\n",
      "                                                                  ('encoder',\n",
      "                                                                   OrdinalEncoder())]),\n",
      "                                                  ['last_year_promo',\n",
      "                                                   'last_year_violations']),\n",
      "                                                 ('num', StandardScaler(),\n",
      "                                                  ['employment_years',\n",
      "                                                   'supervisor_evaluation',\n",
      "                                                   'salary',\n",
      "                                                   'job_satisfaction_rate'])])),\n",
      "                ('model',\n",
      "                 RandomForestClassifier(max_depth=6, max_features=6,\n",
      "                                        random_state=42))])\n",
      "Metric of the best model based on cross-validation results: 0.9399996420998763\n"
     ]
    }
   ],
   "source": [
    "gs = GridSearchCV(pipe_final, param_grid, cv=5, scoring='roc_auc', n_jobs=-1)\n",
    "gs.fit(X_train, y_train)\n",
    "\n",
    "# Best model\n",
    "print('Best model and its parameters:\\n\\n', gs.best_estimator_)\n",
    "print('Metric of the best model based on cross-validation results:', gs.best_score_)"
   ]
  },
  {
   "cell_type": "code",
   "execution_count": 54,
   "id": "87bd503b",
   "metadata": {
    "scrolled": false
   },
   "outputs": [
    {
     "name": "stdout",
     "output_type": "stream",
     "text": [
      "ROC-AUC: 0.933029717102274\n"
     ]
    },
    {
     "name": "stderr",
     "output_type": "stream",
     "text": [
      "/opt/conda/lib/python3.9/site-packages/sklearn/preprocessing/_encoders.py:246: UserWarning: Found unknown categories in columns [0] during transform. These unknown categories will be encoded as all zeros\n",
      "  warnings.warn(\n"
     ]
    }
   ],
   "source": [
    "y_pred_proba_test = gs.best_estimator_.predict_proba(X_test)[:, 1]\n",
    "roc_auc = roc_auc_score(y_test, y_pred_proba_test)\n",
    "print (\"ROC-AUC:\", roc_auc)"
   ]
  },
  {
   "cell_type": "markdown",
   "id": "dc8f7be6",
   "metadata": {},
   "source": [
    "<div class=\"alert alert-info\">  \n",
    "    0.93 is good, I will try to improve it further."
   ]
  },
  {
   "cell_type": "markdown",
   "id": "c03aad32",
   "metadata": {},
   "source": [
    "### Feature selection"
   ]
  },
  {
   "cell_type": "code",
   "execution_count": 55,
   "id": "75a68438",
   "metadata": {
    "scrolled": false
   },
   "outputs": [
    {
     "name": "stdout",
     "output_type": "stream",
     "text": [
      "RandomForestClassifier(max_depth=6, max_features=6, random_state=42)\n"
     ]
    },
    {
     "data": {
      "image/png": "[encoded data removed]",
      "text/plain": [
       "<Figure size 576x432 with 1 Axes>"
      ]
     },
     "metadata": {
      "needs_background": "light"
     },
     "output_type": "display_data"
    }
   ],
   "source": [
    "best_model = gs.best_estimator_.named_steps['model']\n",
    "print(best_model)\n",
    "\n",
    "feature_names = gs.best_estimator_.named_steps['preprocessor'].get_feature_names_out()\n",
    "\n",
    "importances = best_model.feature_importances_\n",
    "indices = np.argsort(importances)\n",
    "\n",
    "plt.figure(figsize=(8, 6))\n",
    "plt.barh(range(len(importances)), importances[indices], align=\"center\", color=\"royalblue\")\n",
    "plt.yticks(range(len(importances)), np.array(feature_names)[indices])\n",
    "plt.xlabel(\"Importance\")\n",
    "plt.ylabel(\"Feature\")\n",
    "plt.title(\"Feature Importances\")\n",
    "plt.gca().invert_yaxis()\n",
    "plt.show()"
   ]
  },
  {
   "cell_type": "markdown",
   "id": "d0a4b58f",
   "metadata": {},
   "source": [
    "<div class=\"alert alert-info\">  \n",
    "The least significant features are the department, whether there were violations, and whether there were promotions. I'll try removing them."
   ]
  },
  {
   "cell_type": "markdown",
   "id": "38387b1e",
   "metadata": {},
   "source": [
    "### With removed features"
   ]
  },
  {
   "cell_type": "code",
   "execution_count": 56,
   "id": "def58a4c",
   "metadata": {},
   "outputs": [
    {
     "name": "stdout",
     "output_type": "stream",
     "text": [
      "<class 'pandas.core.frame.DataFrame'>\n",
      "Int64Index: 2000 entries, 0 to 1999\n",
      "Data columns (total 11 columns):\n",
      " #   Column                 Non-Null Count  Dtype  \n",
      "---  ------                 --------------  -----  \n",
      " 0   id                     2000 non-null   int32  \n",
      " 1   dept                   1998 non-null   object \n",
      " 2   level                  1999 non-null   object \n",
      " 3   workload               2000 non-null   object \n",
      " 4   employment_years       2000 non-null   int32  \n",
      " 5   last_year_promo        2000 non-null   object \n",
      " 6   last_year_violations   2000 non-null   object \n",
      " 7   supervisor_evaluation  2000 non-null   int32  \n",
      " 8   salary                 2000 non-null   int32  \n",
      " 9   quit                   2000 non-null   object \n",
      " 10  job_satisfaction_rate  2000 non-null   float32\n",
      "dtypes: float32(1), int32(4), object(6)\n",
      "memory usage: 148.4+ KB\n",
      "(4000, 6) (2000, 7)\n",
      "[0 0 0 1 0]\n",
      "[0 0 0 0 0]\n"
     ]
    }
   ],
   "source": [
    "## Columns and encoders\n",
    "ord_columns = ['level', 'workload']\n",
    "num_columns = ['employment_years', 'supervisor_evaluation', 'salary', 'job_satisfaction_rate']\n",
    "\n",
    "categories_order = [['junior', 'middle', 'senior'],  \n",
    "                    ['low', 'medium', 'high']]\n",
    "\n",
    "ord_encoder = OrdinalEncoder(categories=categories_order, handle_unknown='use_encoded_value',\n",
    "                             unknown_value=np.nan)\n",
    "scaler = StandardScaler()\n",
    "\n",
    "### Filling in missing values\n",
    "\n",
    "imputer_cat = SimpleImputer(strategy='most_frequent')\n",
    "imputer_num = SimpleImputer(strategy='median')\n",
    "\n",
    "### Pipelines\n",
    "\n",
    "cat_ordinal_pipeline = Pipeline([\n",
    "    ('imputer', imputer_cat),\n",
    "    ('encoder', ord_encoder)\n",
    "])\n",
    "\n",
    "num_pipeline = Pipeline([\n",
    "    ('imputer', imputer_num),\n",
    "    ('scaler', scaler)\n",
    "])\n",
    "\n",
    "## Final Transformer and pipeline\n",
    "preprocessor = ColumnTransformer(\n",
    "    [\n",
    "        ('ord', cat_ordinal_pipeline, ord_columns),\n",
    "        ('num', num_pipeline, num_columns)\n",
    "    ],\n",
    "    remainder='passthrough'\n",
    ")\n",
    "\n",
    "pipe_final = Pipeline([\n",
    "    ('preprocessor', preprocessor),\n",
    "    ('model', LinearRegression())\n",
    "])\n",
    "\n",
    "X_train = quit.drop(columns=['id','dept', 'quit','last_year_promo', 'last_year_violations'])\n",
    "y_train = quit['quit']\n",
    "\n",
    "test_data = test_features.merge(quit_targets, on='id').merge(satisfaction_targets, on='id')\n",
    "test_data.info()\n",
    "\n",
    "X_test = test_data.drop(columns=['id', 'dept', 'last_year_promo', 'last_year_violations'])\n",
    "y_test = test_data['quit']\n",
    "\n",
    "le = LabelEncoder()\n",
    "y_train = le.fit_transform(y_train)\n",
    "y_test = le.transform(y_test)\n",
    "\n",
    "print(X_train.shape, X_test.shape)\n",
    "print(y_train[:5])\n",
    "print(y_test[:5])"
   ]
  },
  {
   "cell_type": "code",
   "execution_count": 57,
   "id": "65f47243",
   "metadata": {
    "scrolled": false
   },
   "outputs": [
    {
     "name": "stdout",
     "output_type": "stream",
     "text": [
      "Best model and its parameters:\n",
      "\n",
      " Pipeline(steps=[('preprocessor',\n",
      "                 ColumnTransformer(remainder='passthrough',\n",
      "                                   transformers=[('ord',\n",
      "                                                  Pipeline(steps=[('imputer',\n",
      "                                                                   SimpleImputer(strategy='most_frequent')),\n",
      "                                                                  ('encoder',\n",
      "                                                                   OrdinalEncoder(categories=[['junior',\n",
      "                                                                                               'middle',\n",
      "                                                                                               'senior'],\n",
      "                                                                                              ['low',\n",
      "                                                                                               'medium',\n",
      "                                                                                               'high']],\n",
      "                                                                                  handle_unknown='use_encoded_value',\n",
      "                                                                                  unknown_value=nan))]),\n",
      "                                                  ['level', 'workload']),\n",
      "                                                 ('num', StandardScaler(),\n",
      "                                                  ['employment_years',\n",
      "                                                   'supervisor_evaluation',\n",
      "                                                   'salary',\n",
      "                                                   'job_satisfaction_rate'])])),\n",
      "                ('model',\n",
      "                 RandomForestClassifier(max_depth=6, max_features=6,\n",
      "                                        random_state=42))])\n",
      "Metric of the best model based on cross-validation results: 0.9363640855956877\n",
      "ROC-AUC: 0.9308473596870741\n"
     ]
    }
   ],
   "source": [
    "param_grid = [\n",
    "    {\n",
    "        'model': [RandomForestClassifier(random_state=RANDOM_STATE)],\n",
    "        'model__n_estimators': [50, 100, 200],  # Количество деревьев\n",
    "        'model__max_depth': range(4, 7),\n",
    "        'model__max_features': range(6, 9),\n",
    "        'preprocessor__num': [StandardScaler()],\n",
    "    },\n",
    "    {\n",
    "        'model': [KNeighborsClassifier()],\n",
    "        'model__n_neighbors': range(2, 5),\n",
    "        'preprocessor__num': [StandardScaler()],\n",
    "    },\n",
    "    {\n",
    "        'model': [LogisticRegression(\n",
    "            random_state=RANDOM_STATE, \n",
    "            solver='liblinear', \n",
    "            penalty='l1'\n",
    "        )],\n",
    "        'model__C': range(1, 3),\n",
    "        'preprocessor__num': [StandardScaler()],\n",
    "    },\n",
    "    {\n",
    "        'model': [SVC(\n",
    "            random_state=RANDOM_STATE,\n",
    "            kernel='rbf'\n",
    "        )],\n",
    "        'preprocessor__num': [StandardScaler()],\n",
    "    }\n",
    "]\n",
    "\n",
    "gs = GridSearchCV(pipe_final, param_grid, cv=5, scoring='roc_auc', n_jobs=-1)\n",
    "gs.fit(X_train, y_train)\n",
    "\n",
    "# Best model\n",
    "print('Best model and its parameters:\\n\\n', gs.best_estimator_)\n",
    "print('Metric of the best model based on cross-validation results:', gs.best_score_)\n",
    "\n",
    "y_pred_proba_test = gs.best_estimator_.predict_proba(X_test)[:, 1]\n",
    "roc_auc = roc_auc_score(y_test, y_pred_proba_test)\n",
    "print (\"ROC-AUC:\", roc_auc)"
   ]
  },
  {
   "cell_type": "markdown",
   "id": "3a3d3c89",
   "metadata": {},
   "source": [
    "## Final conclusions"
   ]
  },
  {
   "cell_type": "markdown",
   "id": "e0c50db7",
   "metadata": {},
   "source": [
    "### Task description"
   ]
  },
  {
   "cell_type": "markdown",
   "id": "d6aa6ed3",
   "metadata": {},
   "source": [
    "<div class=\"alert alert-info\">  \n",
    "The goal of this project was to predict employee job satisfaction and forecast whether an employee will resign based on a specific set of parameters."
   ]
  },
  {
   "cell_type": "markdown",
   "id": "aaa7283f",
   "metadata": {},
   "source": [
    "### Stages of Work"
   ]
  },
  {
   "cell_type": "markdown",
   "id": "d3361435",
   "metadata": {},
   "source": [
    "<div class=\"alert alert-info\">  \n",
    "\n",
    "The task was divided into two similar parts. The first focused on predicting job satisfaction, while the second aimed at predicting resignations.  \n",
    "\n",
    "**Key stages:**  \n",
    "\n",
    "1. **Data Loading.** This involved loading multiple datasets: two training sets with all features, including target variables (satisfaction and resignation), and one set of non-target features, linked to both target datasets via **id**.  \n",
    "2. **Data Preprocessing.** Consisted of minor data adjustments and type conversions.  \n",
    "3. **Exploratory Data Analysis.** Included checking data adequacy and studying relationships between non-target and target variables. The first part analyzed employee satisfaction profiles, while the second focused on resignation profiles.  \n",
    "4. **Pipeline Preparation.** Included standard pipeline setup, feature encoders, transformers, and processing pipelines.  \n",
    "5. **Model Training.** At this stage, the best model was selected using pipelines and GridSearch. The success metric was **SMAPE** for job satisfaction and **ROC-AUC** for resignation predictions, as the target variables differed."
   ]
  },
  {
   "cell_type": "markdown",
   "id": "647a1b9b",
   "metadata": {},
   "source": [
    "### Сonclusions and additional recommendations for the business."
   ]
  },
  {
   "cell_type": "markdown",
   "id": "38ae8c1d",
   "metadata": {},
   "source": [
    "<div class=\"alert alert-info\">  \n",
    "\n",
    "Work was done to predict employee satisfaction (SMAPE=0.13) and their plans to leave (ROC_AUC=0.93). As a result, suitable models were selected—RandomForestRegressor/RandomForestClassifier which effectively handle the given task."
   ]
  },
  {
   "cell_type": "markdown",
   "id": "07d6bc4f",
   "metadata": {},
   "source": [
    "<div class=\"alert alert-info\">  \n",
    "\n",
    "The most important factor in the decision to leave is **job satisfaction**.  \n",
    "\n",
    "Next are **employee level and work experience**, which are difficult to change directly.  \n",
    "\n",
    "Following them are **salary, performance evaluation, and workload**. Performance evaluation appears to be quite objective and could only be improved by refining the hiring process.  \n",
    "\n",
    "It is possible that the company’s policy involves hiring a significant number of junior employees at low wages, leading to high turnover. They have likely already calculated the profit/cost balance and have an established recruitment pipeline, meaning **raising the minimum salary is not an option**.  \n",
    "\n",
    "However, **workload** is an area that can be adjusted. Highly self-motivated and organized employees likely find tasks and work hard (earning high evaluations), while some employees leave because they feel unproductive. These employees could be **engaged in optional training**, which might help retain them longer and improve other factors influencing turnover.  \n",
    "\n",
    "### Recommendations:  \n",
    "1. Provide more opportunities for new employees to grow and realize their potential.  \n",
    "2. Analyze processes to understand why new employees may be underutilized.  \n",
    "3. Collect and analyze employee data before hiring to predict key factors in advance: previous job history, desired salary/position in six months, or even zodiac sign."
   ]
  }
 ],
 "metadata": {
  "ExecuteTimeLog": [
   {
    "duration": 463,
    "start_time": "2025-02-11T22:42:06.305Z"
   },
   {
    "duration": 108,
    "start_time": "2025-02-11T22:42:53.022Z"
   },
   {
    "duration": 48,
    "start_time": "2025-02-11T22:43:09.962Z"
   },
   {
    "duration": 42,
    "start_time": "2025-02-11T22:43:30.951Z"
   },
   {
    "duration": 14,
    "start_time": "2025-02-11T22:45:49.855Z"
   },
   {
    "duration": 69,
    "start_time": "2025-02-11T22:46:06.310Z"
   },
   {
    "duration": 34,
    "start_time": "2025-02-11T22:51:16.749Z"
   },
   {
    "duration": 58,
    "start_time": "2025-02-11T22:53:56.505Z"
   },
   {
    "duration": 42,
    "start_time": "2025-02-11T22:54:04.212Z"
   },
   {
    "duration": 50,
    "start_time": "2025-02-11T22:54:21.110Z"
   },
   {
    "duration": 6,
    "start_time": "2025-02-11T23:03:49.469Z"
   },
   {
    "duration": 8,
    "start_time": "2025-02-11T23:10:44.864Z"
   },
   {
    "duration": 19,
    "start_time": "2025-02-11T23:11:32.754Z"
   },
   {
    "duration": 21,
    "start_time": "2025-02-11T23:11:40.783Z"
   },
   {
    "duration": 14,
    "start_time": "2025-02-11T23:11:50.077Z"
   },
   {
    "duration": 2,
    "start_time": "2025-02-11T23:22:21.168Z"
   },
   {
    "duration": 45,
    "start_time": "2025-02-11T23:22:21.173Z"
   },
   {
    "duration": 44,
    "start_time": "2025-02-11T23:22:21.220Z"
   },
   {
    "duration": 41,
    "start_time": "2025-02-11T23:22:21.266Z"
   },
   {
    "duration": 77,
    "start_time": "2025-02-11T23:22:21.310Z"
   },
   {
    "duration": 23,
    "start_time": "2025-02-11T23:22:21.389Z"
   },
   {
    "duration": 27,
    "start_time": "2025-02-11T23:22:21.414Z"
   },
   {
    "duration": 46,
    "start_time": "2025-02-11T23:22:21.443Z"
   },
   {
    "duration": 8,
    "start_time": "2025-02-11T23:23:01.397Z"
   },
   {
    "duration": 41,
    "start_time": "2025-02-11T23:23:03.905Z"
   },
   {
    "duration": 9,
    "start_time": "2025-02-11T23:24:01.609Z"
   },
   {
    "duration": 26,
    "start_time": "2025-02-11T23:24:04.857Z"
   },
   {
    "duration": 8,
    "start_time": "2025-02-11T23:24:15.121Z"
   },
   {
    "duration": 25,
    "start_time": "2025-02-11T23:24:16.545Z"
   },
   {
    "duration": 388,
    "start_time": "2025-02-19T22:21:39.620Z"
   },
   {
    "duration": 43,
    "start_time": "2025-02-19T22:21:40.010Z"
   },
   {
    "duration": 31,
    "start_time": "2025-02-19T22:21:40.055Z"
   },
   {
    "duration": 56,
    "start_time": "2025-02-19T22:21:40.088Z"
   },
   {
    "duration": 5,
    "start_time": "2025-02-19T22:21:40.147Z"
   },
   {
    "duration": 67,
    "start_time": "2025-02-19T22:21:40.154Z"
   },
   {
    "duration": 43,
    "start_time": "2025-02-19T22:21:40.223Z"
   },
   {
    "duration": 39,
    "start_time": "2025-02-19T22:21:40.267Z"
   },
   {
    "duration": 61,
    "start_time": "2025-02-19T22:36:30.234Z"
   },
   {
    "duration": 48,
    "start_time": "2025-02-20T07:48:23.614Z"
   },
   {
    "duration": 368,
    "start_time": "2025-02-20T07:48:28.109Z"
   },
   {
    "duration": 93,
    "start_time": "2025-02-20T07:48:28.480Z"
   },
   {
    "duration": 69,
    "start_time": "2025-02-20T07:48:28.575Z"
   },
   {
    "duration": 83,
    "start_time": "2025-02-20T07:48:28.646Z"
   },
   {
    "duration": 5,
    "start_time": "2025-02-20T07:48:28.732Z"
   },
   {
    "duration": 20,
    "start_time": "2025-02-20T07:48:28.738Z"
   },
   {
    "duration": 11,
    "start_time": "2025-02-20T07:48:28.760Z"
   },
   {
    "duration": 33,
    "start_time": "2025-02-20T07:48:28.772Z"
   },
   {
    "duration": 47,
    "start_time": "2025-02-20T07:48:28.807Z"
   },
   {
    "duration": 9,
    "start_time": "2025-02-20T07:48:46.609Z"
   },
   {
    "duration": 6,
    "start_time": "2025-02-20T07:49:07.083Z"
   },
   {
    "duration": 6,
    "start_time": "2025-02-20T07:50:29.024Z"
   },
   {
    "duration": 6,
    "start_time": "2025-02-20T07:52:57.152Z"
   },
   {
    "duration": 8,
    "start_time": "2025-02-20T08:05:39.754Z"
   },
   {
    "duration": 3,
    "start_time": "2025-02-20T08:15:05.316Z"
   },
   {
    "duration": 5,
    "start_time": "2025-02-20T08:18:23.068Z"
   },
   {
    "duration": 5,
    "start_time": "2025-02-20T08:32:49.743Z"
   },
   {
    "duration": 12,
    "start_time": "2025-02-20T08:32:53.253Z"
   },
   {
    "duration": 7,
    "start_time": "2025-02-20T08:33:16.090Z"
   },
   {
    "duration": 412,
    "start_time": "2025-02-20T08:33:39.086Z"
   },
   {
    "duration": 23,
    "start_time": "2025-02-20T08:33:44.453Z"
   },
   {
    "duration": 5,
    "start_time": "2025-02-20T08:33:59.491Z"
   },
   {
    "duration": 113,
    "start_time": "2025-02-20T08:34:02.109Z"
   },
   {
    "duration": 566,
    "start_time": "2025-02-20T08:35:00.639Z"
   },
   {
    "duration": 5,
    "start_time": "2025-02-20T08:35:06.375Z"
   },
   {
    "duration": 393,
    "start_time": "2025-02-20T08:35:09.307Z"
   },
   {
    "duration": 83,
    "start_time": "2025-02-20T08:50:10.473Z"
   },
   {
    "duration": 5,
    "start_time": "2025-02-20T08:55:13.234Z"
   },
   {
    "duration": 94,
    "start_time": "2025-02-20T08:55:29.750Z"
   },
   {
    "duration": 5,
    "start_time": "2025-02-20T08:55:37.291Z"
   },
   {
    "duration": 536,
    "start_time": "2025-02-20T08:55:40.361Z"
   },
   {
    "duration": 5,
    "start_time": "2025-02-20T08:56:02.458Z"
   },
   {
    "duration": 1073,
    "start_time": "2025-02-20T08:56:05.975Z"
   },
   {
    "duration": 13,
    "start_time": "2025-02-20T09:01:04.459Z"
   },
   {
    "duration": 22,
    "start_time": "2025-02-20T09:01:21.707Z"
   },
   {
    "duration": 22,
    "start_time": "2025-02-20T09:09:44.778Z"
   },
   {
    "duration": 20,
    "start_time": "2025-02-20T09:10:13.845Z"
   },
   {
    "duration": 16,
    "start_time": "2025-02-20T09:31:43.859Z"
   },
   {
    "duration": 10,
    "start_time": "2025-02-20T09:34:59.294Z"
   },
   {
    "duration": 16,
    "start_time": "2025-02-20T09:35:07.468Z"
   },
   {
    "duration": 1408,
    "start_time": "2025-02-20T20:12:52.513Z"
   },
   {
    "duration": 63,
    "start_time": "2025-02-20T20:12:53.924Z"
   },
   {
    "duration": 33,
    "start_time": "2025-02-20T20:12:53.989Z"
   },
   {
    "duration": 38,
    "start_time": "2025-02-20T20:12:54.024Z"
   },
   {
    "duration": 5,
    "start_time": "2025-02-20T20:12:54.064Z"
   },
   {
    "duration": 11,
    "start_time": "2025-02-20T20:12:54.070Z"
   },
   {
    "duration": 9,
    "start_time": "2025-02-20T20:12:54.083Z"
   },
   {
    "duration": 22,
    "start_time": "2025-02-20T20:12:54.093Z"
   },
   {
    "duration": 5,
    "start_time": "2025-02-20T20:12:54.117Z"
   },
   {
    "duration": 9,
    "start_time": "2025-02-20T20:12:54.123Z"
   },
   {
    "duration": 58,
    "start_time": "2025-02-20T20:12:54.133Z"
   },
   {
    "duration": 15,
    "start_time": "2025-02-20T20:12:54.193Z"
   },
   {
    "duration": 1071,
    "start_time": "2025-02-20T20:12:54.209Z"
   },
   {
    "duration": 20,
    "start_time": "2025-02-20T20:15:48.715Z"
   },
   {
    "duration": 21,
    "start_time": "2025-02-20T20:16:43.526Z"
   },
   {
    "duration": 11,
    "start_time": "2025-02-20T20:17:26.872Z"
   },
   {
    "duration": 11,
    "start_time": "2025-02-20T20:17:43.015Z"
   },
   {
    "duration": 17,
    "start_time": "2025-02-20T20:19:16.546Z"
   },
   {
    "duration": 12,
    "start_time": "2025-02-20T20:19:59.744Z"
   },
   {
    "duration": 24,
    "start_time": "2025-02-20T20:20:49.087Z"
   },
   {
    "duration": 29,
    "start_time": "2025-02-20T20:24:09.478Z"
   },
   {
    "duration": 18,
    "start_time": "2025-02-20T20:24:30.618Z"
   },
   {
    "duration": 29,
    "start_time": "2025-02-20T20:25:02.736Z"
   },
   {
    "duration": 19,
    "start_time": "2025-02-20T20:25:39.253Z"
   },
   {
    "duration": 17,
    "start_time": "2025-02-20T20:26:18.909Z"
   },
   {
    "duration": 19,
    "start_time": "2025-02-20T20:26:25.366Z"
   },
   {
    "duration": 112,
    "start_time": "2025-02-20T20:31:03.763Z"
   },
   {
    "duration": 4,
    "start_time": "2025-02-20T20:32:38.965Z"
   },
   {
    "duration": 3369,
    "start_time": "2025-02-20T20:33:01.526Z"
   },
   {
    "duration": 517,
    "start_time": "2025-02-20T20:33:22.005Z"
   },
   {
    "duration": 4,
    "start_time": "2025-02-20T20:33:50.086Z"
   },
   {
    "duration": 504,
    "start_time": "2025-02-20T20:33:53.270Z"
   },
   {
    "duration": 4,
    "start_time": "2025-02-20T20:34:05.188Z"
   },
   {
    "duration": 625,
    "start_time": "2025-02-20T20:34:08.463Z"
   },
   {
    "duration": 5,
    "start_time": "2025-02-20T20:38:38.145Z"
   },
   {
    "duration": 4,
    "start_time": "2025-02-20T20:38:43.398Z"
   },
   {
    "duration": 471,
    "start_time": "2025-02-20T20:38:50.092Z"
   },
   {
    "duration": 12,
    "start_time": "2025-02-21T10:25:44.651Z"
   },
   {
    "duration": 4,
    "start_time": "2025-02-21T10:26:25.960Z"
   },
   {
    "duration": 54,
    "start_time": "2025-02-21T10:26:46.110Z"
   },
   {
    "duration": 1444,
    "start_time": "2025-02-21T10:26:58.730Z"
   },
   {
    "duration": 87,
    "start_time": "2025-02-21T10:27:00.176Z"
   },
   {
    "duration": 206,
    "start_time": "2025-02-21T10:27:00.264Z"
   },
   {
    "duration": 149,
    "start_time": "2025-02-21T10:27:00.471Z"
   },
   {
    "duration": 7,
    "start_time": "2025-02-21T10:27:00.622Z"
   },
   {
    "duration": 153,
    "start_time": "2025-02-21T10:27:00.630Z"
   },
   {
    "duration": 59,
    "start_time": "2025-02-21T10:27:00.784Z"
   },
   {
    "duration": 64,
    "start_time": "2025-02-21T10:27:00.845Z"
   },
   {
    "duration": 37,
    "start_time": "2025-02-21T10:27:00.911Z"
   },
   {
    "duration": 55,
    "start_time": "2025-02-21T10:27:00.950Z"
   },
   {
    "duration": 38,
    "start_time": "2025-02-21T10:27:01.008Z"
   },
   {
    "duration": 46,
    "start_time": "2025-02-21T10:27:01.048Z"
   },
   {
    "duration": 123,
    "start_time": "2025-02-21T10:27:01.096Z"
   },
   {
    "duration": 1141,
    "start_time": "2025-02-21T10:27:01.222Z"
   },
   {
    "duration": 695,
    "start_time": "2025-02-21T10:27:02.365Z"
   },
   {
    "duration": 4,
    "start_time": "2025-02-21T10:27:45.691Z"
   },
   {
    "duration": 761,
    "start_time": "2025-02-21T10:27:51.204Z"
   },
   {
    "duration": 4,
    "start_time": "2025-02-21T10:28:47.324Z"
   },
   {
    "duration": 434,
    "start_time": "2025-02-21T10:28:50.548Z"
   },
   {
    "duration": 78,
    "start_time": "2025-02-21T14:32:07.102Z"
   },
   {
    "duration": 78,
    "start_time": "2025-02-21T14:32:14.374Z"
   },
   {
    "duration": 142,
    "start_time": "2025-02-21T14:32:30.070Z"
   },
   {
    "duration": 1417,
    "start_time": "2025-02-21T14:32:32.497Z"
   },
   {
    "duration": 47,
    "start_time": "2025-02-21T14:32:33.916Z"
   },
   {
    "duration": 34,
    "start_time": "2025-02-21T14:32:33.964Z"
   },
   {
    "duration": 37,
    "start_time": "2025-02-21T14:32:33.999Z"
   },
   {
    "duration": 6,
    "start_time": "2025-02-21T14:32:34.038Z"
   },
   {
    "duration": 52,
    "start_time": "2025-02-21T14:32:34.045Z"
   },
   {
    "duration": 28,
    "start_time": "2025-02-21T14:32:34.099Z"
   },
   {
    "duration": 53,
    "start_time": "2025-02-21T14:32:34.129Z"
   },
   {
    "duration": 6,
    "start_time": "2025-02-21T14:32:34.184Z"
   },
   {
    "duration": 33,
    "start_time": "2025-02-21T14:32:34.192Z"
   },
   {
    "duration": 22,
    "start_time": "2025-02-21T14:32:34.227Z"
   },
   {
    "duration": 25,
    "start_time": "2025-02-21T14:32:34.251Z"
   },
   {
    "duration": 63,
    "start_time": "2025-02-21T14:32:34.278Z"
   },
   {
    "duration": 1062,
    "start_time": "2025-02-21T14:32:34.343Z"
   },
   {
    "duration": 78,
    "start_time": "2025-02-21T14:32:35.407Z"
   },
   {
    "duration": 0,
    "start_time": "2025-02-21T14:32:35.488Z"
   },
   {
    "duration": 696,
    "start_time": "2025-02-21T14:32:40.350Z"
   },
   {
    "duration": 5,
    "start_time": "2025-02-21T14:33:00.627Z"
   },
   {
    "duration": 458,
    "start_time": "2025-02-21T14:34:00.409Z"
   },
   {
    "duration": 3,
    "start_time": "2025-02-21T14:34:09.121Z"
   },
   {
    "duration": 97,
    "start_time": "2025-02-21T14:34:09.126Z"
   },
   {
    "duration": 74,
    "start_time": "2025-02-21T14:34:09.225Z"
   },
   {
    "duration": 37,
    "start_time": "2025-02-21T14:34:09.300Z"
   },
   {
    "duration": 6,
    "start_time": "2025-02-21T14:34:09.339Z"
   },
   {
    "duration": 31,
    "start_time": "2025-02-21T14:34:09.346Z"
   },
   {
    "duration": 20,
    "start_time": "2025-02-21T14:34:09.378Z"
   },
   {
    "duration": 54,
    "start_time": "2025-02-21T14:34:09.400Z"
   },
   {
    "duration": 28,
    "start_time": "2025-02-21T14:34:09.456Z"
   },
   {
    "duration": 17,
    "start_time": "2025-02-21T14:34:09.486Z"
   },
   {
    "duration": 15,
    "start_time": "2025-02-21T14:34:09.505Z"
   },
   {
    "duration": 29,
    "start_time": "2025-02-21T14:34:09.523Z"
   },
   {
    "duration": 47,
    "start_time": "2025-02-21T14:34:09.554Z"
   },
   {
    "duration": 1058,
    "start_time": "2025-02-21T14:34:09.603Z"
   },
   {
    "duration": 965,
    "start_time": "2025-02-21T14:34:10.662Z"
   },
   {
    "duration": 451,
    "start_time": "2025-02-21T14:34:11.629Z"
   },
   {
    "duration": 6,
    "start_time": "2025-02-21T14:34:50.484Z"
   },
   {
    "duration": 718,
    "start_time": "2025-02-21T14:34:54.751Z"
   },
   {
    "duration": 4807,
    "start_time": "2025-02-21T14:40:51.004Z"
   },
   {
    "duration": 55,
    "start_time": "2025-02-21T14:40:59.944Z"
   },
   {
    "duration": 115,
    "start_time": "2025-02-21T14:41:25.041Z"
   },
   {
    "duration": 1329,
    "start_time": "2025-02-21T14:41:36.280Z"
   },
   {
    "duration": 722,
    "start_time": "2025-02-21T14:52:38.429Z"
   },
   {
    "duration": 1335,
    "start_time": "2025-02-21T14:52:52.548Z"
   },
   {
    "duration": 1715,
    "start_time": "2025-02-21T15:14:41.671Z"
   },
   {
    "duration": 1463,
    "start_time": "2025-02-21T15:14:51.075Z"
   },
   {
    "duration": 8,
    "start_time": "2025-02-21T20:38:29.162Z"
   },
   {
    "duration": 44,
    "start_time": "2025-02-21T20:48:35.150Z"
   },
   {
    "duration": 1589,
    "start_time": "2025-02-21T20:52:00.899Z"
   },
   {
    "duration": 11,
    "start_time": "2025-02-21T21:07:00.217Z"
   },
   {
    "duration": 10,
    "start_time": "2025-02-21T21:18:35.691Z"
   },
   {
    "duration": 10,
    "start_time": "2025-02-21T21:21:17.054Z"
   },
   {
    "duration": 3343,
    "start_time": "2025-02-21T21:21:20.844Z"
   },
   {
    "duration": 2307,
    "start_time": "2025-02-21T21:21:27.458Z"
   },
   {
    "duration": 303,
    "start_time": "2025-02-21T21:21:29.767Z"
   },
   {
    "duration": 46,
    "start_time": "2025-02-21T21:21:30.071Z"
   },
   {
    "duration": 32,
    "start_time": "2025-02-21T21:21:30.119Z"
   },
   {
    "duration": 36,
    "start_time": "2025-02-21T21:21:30.153Z"
   },
   {
    "duration": 5,
    "start_time": "2025-02-21T21:21:30.191Z"
   },
   {
    "duration": 18,
    "start_time": "2025-02-21T21:21:30.198Z"
   },
   {
    "duration": 35,
    "start_time": "2025-02-21T21:21:30.218Z"
   },
   {
    "duration": 46,
    "start_time": "2025-02-21T21:21:30.255Z"
   },
   {
    "duration": 5,
    "start_time": "2025-02-21T21:21:30.303Z"
   },
   {
    "duration": 21,
    "start_time": "2025-02-21T21:21:30.309Z"
   },
   {
    "duration": 9,
    "start_time": "2025-02-21T21:21:30.332Z"
   },
   {
    "duration": 38,
    "start_time": "2025-02-21T21:21:30.342Z"
   },
   {
    "duration": 18,
    "start_time": "2025-02-21T21:21:30.382Z"
   },
   {
    "duration": 1021,
    "start_time": "2025-02-21T21:21:30.402Z"
   },
   {
    "duration": 733,
    "start_time": "2025-02-21T21:21:31.425Z"
   },
   {
    "duration": 422,
    "start_time": "2025-02-21T21:21:32.159Z"
   },
   {
    "duration": 1268,
    "start_time": "2025-02-21T21:21:32.583Z"
   },
   {
    "duration": 1003,
    "start_time": "2025-02-21T21:21:33.853Z"
   },
   {
    "duration": 34,
    "start_time": "2025-02-21T21:21:34.858Z"
   },
   {
    "duration": 0,
    "start_time": "2025-02-21T21:21:34.894Z"
   },
   {
    "duration": 0,
    "start_time": "2025-02-21T21:21:34.895Z"
   },
   {
    "duration": 0,
    "start_time": "2025-02-21T21:21:34.897Z"
   },
   {
    "duration": 0,
    "start_time": "2025-02-21T21:21:34.898Z"
   },
   {
    "duration": 4,
    "start_time": "2025-02-21T21:25:55.914Z"
   },
   {
    "duration": 3,
    "start_time": "2025-02-21T21:26:00.766Z"
   },
   {
    "duration": 15,
    "start_time": "2025-02-21T21:26:00.770Z"
   },
   {
    "duration": 0,
    "start_time": "2025-02-21T21:26:00.786Z"
   },
   {
    "duration": 0,
    "start_time": "2025-02-21T21:26:00.788Z"
   },
   {
    "duration": 5,
    "start_time": "2025-02-21T21:27:31.383Z"
   },
   {
    "duration": 4,
    "start_time": "2025-02-21T21:29:35.653Z"
   },
   {
    "duration": 23,
    "start_time": "2025-02-21T21:29:35.658Z"
   },
   {
    "duration": 9,
    "start_time": "2025-02-21T21:29:35.683Z"
   },
   {
    "duration": 23,
    "start_time": "2025-02-21T21:29:35.694Z"
   },
   {
    "duration": 0,
    "start_time": "2025-02-21T21:29:35.718Z"
   },
   {
    "duration": 4,
    "start_time": "2025-02-21T21:29:45.633Z"
   },
   {
    "duration": 5,
    "start_time": "2025-02-21T21:29:45.639Z"
   },
   {
    "duration": 5,
    "start_time": "2025-02-21T21:29:45.646Z"
   },
   {
    "duration": 30,
    "start_time": "2025-02-21T21:29:45.652Z"
   },
   {
    "duration": 0,
    "start_time": "2025-02-21T21:29:45.684Z"
   },
   {
    "duration": 4,
    "start_time": "2025-02-21T21:29:59.082Z"
   },
   {
    "duration": 17,
    "start_time": "2025-02-21T21:29:59.088Z"
   },
   {
    "duration": 4,
    "start_time": "2025-02-21T21:29:59.107Z"
   },
   {
    "duration": 10,
    "start_time": "2025-02-21T21:29:59.112Z"
   },
   {
    "duration": 0,
    "start_time": "2025-02-21T21:29:59.124Z"
   },
   {
    "duration": 4,
    "start_time": "2025-02-21T21:30:08.132Z"
   },
   {
    "duration": 11,
    "start_time": "2025-02-21T21:35:40.519Z"
   },
   {
    "duration": 3,
    "start_time": "2025-02-21T21:36:17.374Z"
   },
   {
    "duration": 7,
    "start_time": "2025-02-21T21:37:08.549Z"
   },
   {
    "duration": 10,
    "start_time": "2025-02-21T21:38:31.587Z"
   },
   {
    "duration": 4,
    "start_time": "2025-02-21T21:38:39.279Z"
   },
   {
    "duration": 7,
    "start_time": "2025-02-21T21:38:42.377Z"
   },
   {
    "duration": 121,
    "start_time": "2025-02-21T21:38:46.891Z"
   },
   {
    "duration": 4,
    "start_time": "2025-02-21T21:40:45.017Z"
   },
   {
    "duration": 64,
    "start_time": "2025-02-21T21:40:50.691Z"
   },
   {
    "duration": 4051,
    "start_time": "2025-02-21T21:41:06.087Z"
   },
   {
    "duration": 5,
    "start_time": "2025-02-21T21:41:10.140Z"
   },
   {
    "duration": 9,
    "start_time": "2025-02-21T21:41:10.146Z"
   },
   {
    "duration": 48,
    "start_time": "2025-02-21T21:41:10.156Z"
   },
   {
    "duration": 33,
    "start_time": "2025-02-21T21:41:10.206Z"
   },
   {
    "duration": 37,
    "start_time": "2025-02-21T21:41:10.240Z"
   },
   {
    "duration": 5,
    "start_time": "2025-02-21T21:41:10.279Z"
   },
   {
    "duration": 12,
    "start_time": "2025-02-21T21:41:10.285Z"
   },
   {
    "duration": 9,
    "start_time": "2025-02-21T21:41:10.299Z"
   },
   {
    "duration": 25,
    "start_time": "2025-02-21T21:41:10.309Z"
   },
   {
    "duration": 39,
    "start_time": "2025-02-21T21:41:10.336Z"
   },
   {
    "duration": 11,
    "start_time": "2025-02-21T21:41:10.377Z"
   },
   {
    "duration": 9,
    "start_time": "2025-02-21T21:41:10.389Z"
   },
   {
    "duration": 18,
    "start_time": "2025-02-21T21:41:10.400Z"
   },
   {
    "duration": 16,
    "start_time": "2025-02-21T21:41:10.420Z"
   },
   {
    "duration": 1046,
    "start_time": "2025-02-21T21:41:10.437Z"
   },
   {
    "duration": 643,
    "start_time": "2025-02-21T21:41:11.485Z"
   },
   {
    "duration": 418,
    "start_time": "2025-02-21T21:41:12.129Z"
   },
   {
    "duration": 1435,
    "start_time": "2025-02-21T21:41:12.548Z"
   },
   {
    "duration": 972,
    "start_time": "2025-02-21T21:41:13.984Z"
   },
   {
    "duration": 4,
    "start_time": "2025-02-21T21:41:14.958Z"
   },
   {
    "duration": 16,
    "start_time": "2025-02-21T21:41:14.963Z"
   },
   {
    "duration": 5,
    "start_time": "2025-02-21T21:41:14.980Z"
   },
   {
    "duration": 4,
    "start_time": "2025-02-21T21:41:14.986Z"
   },
   {
    "duration": 4,
    "start_time": "2025-02-21T21:41:14.991Z"
   },
   {
    "duration": 7,
    "start_time": "2025-02-21T21:41:14.996Z"
   },
   {
    "duration": 89,
    "start_time": "2025-02-21T21:41:15.005Z"
   },
   {
    "duration": 4,
    "start_time": "2025-02-21T21:42:55.671Z"
   },
   {
    "duration": 1490,
    "start_time": "2025-02-21T21:43:01.747Z"
   },
   {
    "duration": 546,
    "start_time": "2025-02-21T21:44:44.978Z"
   },
   {
    "duration": 65,
    "start_time": "2025-02-21T21:45:23.306Z"
   },
   {
    "duration": 3,
    "start_time": "2025-02-21T21:47:04.923Z"
   },
   {
    "duration": 3,
    "start_time": "2025-02-21T21:47:08.505Z"
   },
   {
    "duration": 4,
    "start_time": "2025-02-21T21:47:08.510Z"
   },
   {
    "duration": 12,
    "start_time": "2025-02-21T21:47:08.515Z"
   },
   {
    "duration": 483,
    "start_time": "2025-02-21T21:47:08.529Z"
   },
   {
    "duration": 15,
    "start_time": "2025-02-21T21:48:37.144Z"
   },
   {
    "duration": 489,
    "start_time": "2025-02-21T21:51:36.157Z"
   },
   {
    "duration": 26,
    "start_time": "2025-02-21T21:54:20.981Z"
   },
   {
    "duration": 9016,
    "start_time": "2025-02-21T21:56:19.792Z"
   },
   {
    "duration": 5265,
    "start_time": "2025-02-21T21:56:34.557Z"
   },
   {
    "duration": 1322,
    "start_time": "2025-02-21T21:56:39.825Z"
   },
   {
    "duration": 2,
    "start_time": "2025-02-21T21:56:41.149Z"
   },
   {
    "duration": 58,
    "start_time": "2025-02-21T21:56:41.153Z"
   },
   {
    "duration": 32,
    "start_time": "2025-02-21T21:56:41.213Z"
   },
   {
    "duration": 38,
    "start_time": "2025-02-21T21:56:41.247Z"
   },
   {
    "duration": 8,
    "start_time": "2025-02-21T21:56:41.287Z"
   },
   {
    "duration": 19,
    "start_time": "2025-02-21T21:56:41.297Z"
   },
   {
    "duration": 12,
    "start_time": "2025-02-21T21:56:41.319Z"
   },
   {
    "duration": 61,
    "start_time": "2025-02-21T21:56:41.335Z"
   },
   {
    "duration": 5,
    "start_time": "2025-02-21T21:56:41.398Z"
   },
   {
    "duration": 7,
    "start_time": "2025-02-21T21:56:41.404Z"
   },
   {
    "duration": 8,
    "start_time": "2025-02-21T21:56:41.413Z"
   },
   {
    "duration": 32,
    "start_time": "2025-02-21T21:56:41.423Z"
   },
   {
    "duration": 27,
    "start_time": "2025-02-21T21:56:41.457Z"
   },
   {
    "duration": 934,
    "start_time": "2025-02-21T21:56:41.486Z"
   },
   {
    "duration": 741,
    "start_time": "2025-02-21T21:56:42.421Z"
   },
   {
    "duration": 458,
    "start_time": "2025-02-21T21:56:43.164Z"
   },
   {
    "duration": 1337,
    "start_time": "2025-02-21T21:56:43.623Z"
   },
   {
    "duration": 1022,
    "start_time": "2025-02-21T21:56:44.962Z"
   },
   {
    "duration": 127,
    "start_time": "2025-02-21T21:56:45.986Z"
   },
   {
    "duration": 0,
    "start_time": "2025-02-21T21:56:46.115Z"
   },
   {
    "duration": 0,
    "start_time": "2025-02-21T21:56:46.116Z"
   },
   {
    "duration": 0,
    "start_time": "2025-02-21T21:56:46.117Z"
   },
   {
    "duration": 0,
    "start_time": "2025-02-21T21:56:46.118Z"
   },
   {
    "duration": 0,
    "start_time": "2025-02-21T21:56:46.119Z"
   },
   {
    "duration": 0,
    "start_time": "2025-02-21T21:56:46.120Z"
   },
   {
    "duration": 0,
    "start_time": "2025-02-21T21:56:46.121Z"
   },
   {
    "duration": 4,
    "start_time": "2025-02-21T21:57:14.729Z"
   },
   {
    "duration": 19,
    "start_time": "2025-02-21T21:57:14.735Z"
   },
   {
    "duration": 4,
    "start_time": "2025-02-21T21:57:14.755Z"
   },
   {
    "duration": 4,
    "start_time": "2025-02-21T21:57:14.760Z"
   },
   {
    "duration": 3,
    "start_time": "2025-02-21T21:57:14.766Z"
   },
   {
    "duration": 7,
    "start_time": "2025-02-21T21:57:14.771Z"
   },
   {
    "duration": 124,
    "start_time": "2025-02-21T21:57:14.780Z"
   },
   {
    "duration": 2984,
    "start_time": "2025-02-21T21:57:14.905Z"
   },
   {
    "duration": 38,
    "start_time": "2025-02-21T21:59:13.048Z"
   },
   {
    "duration": 31,
    "start_time": "2025-02-21T22:00:35.510Z"
   },
   {
    "duration": 32,
    "start_time": "2025-02-21T22:00:53.438Z"
   },
   {
    "duration": 4,
    "start_time": "2025-02-21T22:03:17.454Z"
   },
   {
    "duration": 6,
    "start_time": "2025-02-21T22:06:59.375Z"
   },
   {
    "duration": 5369,
    "start_time": "2025-02-21T22:07:50.829Z"
   },
   {
    "duration": 5,
    "start_time": "2025-02-21T22:07:56.200Z"
   },
   {
    "duration": 25,
    "start_time": "2025-02-21T22:07:56.207Z"
   },
   {
    "duration": 54,
    "start_time": "2025-02-21T22:07:56.234Z"
   },
   {
    "duration": 33,
    "start_time": "2025-02-21T22:07:56.290Z"
   },
   {
    "duration": 38,
    "start_time": "2025-02-21T22:07:56.324Z"
   },
   {
    "duration": 5,
    "start_time": "2025-02-21T22:07:56.364Z"
   },
   {
    "duration": 25,
    "start_time": "2025-02-21T22:07:56.370Z"
   },
   {
    "duration": 5,
    "start_time": "2025-02-21T22:07:56.396Z"
   },
   {
    "duration": 21,
    "start_time": "2025-02-21T22:07:56.404Z"
   },
   {
    "duration": 21,
    "start_time": "2025-02-21T22:07:56.427Z"
   },
   {
    "duration": 5,
    "start_time": "2025-02-21T22:07:56.450Z"
   },
   {
    "duration": 18,
    "start_time": "2025-02-21T22:07:56.456Z"
   },
   {
    "duration": 11,
    "start_time": "2025-02-21T22:07:56.475Z"
   },
   {
    "duration": 24,
    "start_time": "2025-02-21T22:07:56.487Z"
   },
   {
    "duration": 16,
    "start_time": "2025-02-21T22:07:56.513Z"
   },
   {
    "duration": 919,
    "start_time": "2025-02-21T22:07:56.530Z"
   },
   {
    "duration": 676,
    "start_time": "2025-02-21T22:07:57.451Z"
   },
   {
    "duration": 416,
    "start_time": "2025-02-21T22:07:58.128Z"
   },
   {
    "duration": 1324,
    "start_time": "2025-02-21T22:07:58.545Z"
   },
   {
    "duration": 965,
    "start_time": "2025-02-21T22:07:59.870Z"
   },
   {
    "duration": 3,
    "start_time": "2025-02-21T22:08:00.837Z"
   },
   {
    "duration": 30,
    "start_time": "2025-02-21T22:08:00.842Z"
   },
   {
    "duration": 4,
    "start_time": "2025-02-21T22:08:00.874Z"
   },
   {
    "duration": 10,
    "start_time": "2025-02-21T22:08:00.880Z"
   },
   {
    "duration": 7,
    "start_time": "2025-02-21T22:08:00.892Z"
   },
   {
    "duration": 22,
    "start_time": "2025-02-21T22:08:00.900Z"
   },
   {
    "duration": 37,
    "start_time": "2025-02-21T22:08:00.925Z"
   },
   {
    "duration": 3322,
    "start_time": "2025-02-21T22:08:00.964Z"
   },
   {
    "duration": 31,
    "start_time": "2025-02-21T22:09:05.342Z"
   },
   {
    "duration": 3344,
    "start_time": "2025-02-21T22:09:27.367Z"
   },
   {
    "duration": 40,
    "start_time": "2025-02-21T22:12:26.527Z"
   },
   {
    "duration": 16,
    "start_time": "2025-02-21T22:13:19.875Z"
   },
   {
    "duration": 4,
    "start_time": "2025-02-21T22:14:21.662Z"
   },
   {
    "duration": 24,
    "start_time": "2025-02-21T22:14:21.667Z"
   },
   {
    "duration": 33,
    "start_time": "2025-02-21T22:14:21.693Z"
   },
   {
    "duration": 3283,
    "start_time": "2025-02-21T22:14:21.727Z"
   },
   {
    "duration": 23,
    "start_time": "2025-02-21T22:16:27.611Z"
   },
   {
    "duration": 30222,
    "start_time": "2025-02-21T22:16:58.717Z"
   },
   {
    "duration": 11,
    "start_time": "2025-02-21T22:20:20.453Z"
   },
   {
    "duration": 9,
    "start_time": "2025-02-21T22:20:37.858Z"
   },
   {
    "duration": 71,
    "start_time": "2025-02-21T22:20:47.757Z"
   },
   {
    "duration": 37,
    "start_time": "2025-02-21T22:42:12.771Z"
   },
   {
    "duration": 43,
    "start_time": "2025-02-21T22:43:09.021Z"
   },
   {
    "duration": 43,
    "start_time": "2025-02-21T22:43:16.204Z"
   },
   {
    "duration": 5599,
    "start_time": "2025-02-21T23:02:30.766Z"
   },
   {
    "duration": 4,
    "start_time": "2025-02-21T23:02:36.368Z"
   },
   {
    "duration": 6,
    "start_time": "2025-02-21T23:02:36.374Z"
   },
   {
    "duration": 40,
    "start_time": "2025-02-21T23:02:36.382Z"
   },
   {
    "duration": 33,
    "start_time": "2025-02-21T23:02:36.424Z"
   },
   {
    "duration": 37,
    "start_time": "2025-02-21T23:02:36.459Z"
   },
   {
    "duration": 5,
    "start_time": "2025-02-21T23:02:36.497Z"
   },
   {
    "duration": 14,
    "start_time": "2025-02-21T23:02:36.504Z"
   },
   {
    "duration": 19,
    "start_time": "2025-02-21T23:02:36.519Z"
   },
   {
    "duration": 20,
    "start_time": "2025-02-21T23:02:36.539Z"
   },
   {
    "duration": 39,
    "start_time": "2025-02-21T23:02:36.560Z"
   },
   {
    "duration": 13,
    "start_time": "2025-02-21T23:02:36.600Z"
   },
   {
    "duration": 10,
    "start_time": "2025-02-21T23:02:36.615Z"
   },
   {
    "duration": 10,
    "start_time": "2025-02-21T23:02:36.628Z"
   },
   {
    "duration": 22,
    "start_time": "2025-02-21T23:02:36.639Z"
   },
   {
    "duration": 24,
    "start_time": "2025-02-21T23:02:36.662Z"
   },
   {
    "duration": 1096,
    "start_time": "2025-02-21T23:02:36.688Z"
   },
   {
    "duration": 668,
    "start_time": "2025-02-21T23:02:37.786Z"
   },
   {
    "duration": 439,
    "start_time": "2025-02-21T23:02:38.456Z"
   },
   {
    "duration": 1327,
    "start_time": "2025-02-21T23:02:38.897Z"
   },
   {
    "duration": 1181,
    "start_time": "2025-02-21T23:02:40.226Z"
   },
   {
    "duration": 5,
    "start_time": "2025-02-21T23:02:41.408Z"
   },
   {
    "duration": 5,
    "start_time": "2025-02-21T23:02:41.414Z"
   },
   {
    "duration": 4,
    "start_time": "2025-02-21T23:02:41.420Z"
   },
   {
    "duration": 6,
    "start_time": "2025-02-21T23:02:41.426Z"
   },
   {
    "duration": 4,
    "start_time": "2025-02-21T23:02:41.434Z"
   },
   {
    "duration": 45,
    "start_time": "2025-02-21T23:02:41.439Z"
   },
   {
    "duration": 0,
    "start_time": "2025-02-21T23:02:41.485Z"
   },
   {
    "duration": 0,
    "start_time": "2025-02-21T23:02:41.486Z"
   },
   {
    "duration": 0,
    "start_time": "2025-02-21T23:02:41.487Z"
   },
   {
    "duration": 0,
    "start_time": "2025-02-21T23:02:41.488Z"
   },
   {
    "duration": 46,
    "start_time": "2025-02-21T23:04:03.015Z"
   },
   {
    "duration": 38,
    "start_time": "2025-02-21T23:04:11.691Z"
   },
   {
    "duration": 56,
    "start_time": "2025-02-21T23:05:10.933Z"
   },
   {
    "duration": 67,
    "start_time": "2025-02-21T23:05:21.066Z"
   },
   {
    "duration": 8,
    "start_time": "2025-02-21T23:05:31.809Z"
   },
   {
    "duration": 15,
    "start_time": "2025-02-21T23:06:08.021Z"
   },
   {
    "duration": 5632,
    "start_time": "2025-02-21T23:06:27.965Z"
   },
   {
    "duration": 5,
    "start_time": "2025-02-21T23:06:33.600Z"
   },
   {
    "duration": 8,
    "start_time": "2025-02-21T23:06:33.607Z"
   },
   {
    "duration": 45,
    "start_time": "2025-02-21T23:06:33.617Z"
   },
   {
    "duration": 34,
    "start_time": "2025-02-21T23:06:33.665Z"
   },
   {
    "duration": 40,
    "start_time": "2025-02-21T23:06:33.701Z"
   },
   {
    "duration": 5,
    "start_time": "2025-02-21T23:06:33.743Z"
   },
   {
    "duration": 19,
    "start_time": "2025-02-21T23:06:33.750Z"
   },
   {
    "duration": 6,
    "start_time": "2025-02-21T23:06:33.771Z"
   },
   {
    "duration": 20,
    "start_time": "2025-02-21T23:06:33.778Z"
   },
   {
    "duration": 40,
    "start_time": "2025-02-21T23:06:33.800Z"
   },
   {
    "duration": 6,
    "start_time": "2025-02-21T23:06:33.841Z"
   },
   {
    "duration": 4,
    "start_time": "2025-02-21T23:06:33.848Z"
   },
   {
    "duration": 12,
    "start_time": "2025-02-21T23:06:33.855Z"
   },
   {
    "duration": 23,
    "start_time": "2025-02-21T23:06:33.875Z"
   },
   {
    "duration": 21,
    "start_time": "2025-02-21T23:06:33.900Z"
   },
   {
    "duration": 1078,
    "start_time": "2025-02-21T23:06:33.923Z"
   },
   {
    "duration": 692,
    "start_time": "2025-02-21T23:06:35.003Z"
   },
   {
    "duration": 465,
    "start_time": "2025-02-21T23:06:35.697Z"
   },
   {
    "duration": 1484,
    "start_time": "2025-02-21T23:06:36.164Z"
   },
   {
    "duration": 1046,
    "start_time": "2025-02-21T23:06:37.650Z"
   },
   {
    "duration": 4,
    "start_time": "2025-02-21T23:06:38.698Z"
   },
   {
    "duration": 8,
    "start_time": "2025-02-21T23:06:38.704Z"
   },
   {
    "duration": 4,
    "start_time": "2025-02-21T23:06:38.713Z"
   },
   {
    "duration": 9,
    "start_time": "2025-02-21T23:06:38.718Z"
   },
   {
    "duration": 8,
    "start_time": "2025-02-21T23:06:38.729Z"
   },
   {
    "duration": 37,
    "start_time": "2025-02-21T23:06:38.739Z"
   },
   {
    "duration": 35,
    "start_time": "2025-02-21T23:06:38.778Z"
   },
   {
    "duration": 34446,
    "start_time": "2025-02-21T23:06:38.815Z"
   },
   {
    "duration": 138,
    "start_time": "2025-02-21T23:07:13.263Z"
   },
   {
    "duration": 45,
    "start_time": "2025-02-21T23:07:13.403Z"
   },
   {
    "duration": 12,
    "start_time": "2025-02-21T23:08:16.255Z"
   },
   {
    "duration": 15,
    "start_time": "2025-02-21T23:12:30.433Z"
   },
   {
    "duration": 26,
    "start_time": "2025-02-21T23:16:16.516Z"
   },
   {
    "duration": 26,
    "start_time": "2025-02-21T23:16:43.428Z"
   },
   {
    "duration": 19,
    "start_time": "2025-02-21T23:16:55.172Z"
   },
   {
    "duration": 4,
    "start_time": "2025-02-21T23:17:04.381Z"
   },
   {
    "duration": 21,
    "start_time": "2025-02-21T23:17:04.386Z"
   },
   {
    "duration": 35,
    "start_time": "2025-02-21T23:17:04.408Z"
   },
   {
    "duration": 35319,
    "start_time": "2025-02-21T23:17:04.444Z"
   },
   {
    "duration": 131,
    "start_time": "2025-02-21T23:17:39.764Z"
   },
   {
    "duration": 43,
    "start_time": "2025-02-21T23:17:39.897Z"
   },
   {
    "duration": 1153,
    "start_time": "2025-02-21T23:19:12.294Z"
   },
   {
    "duration": 943,
    "start_time": "2025-02-21T23:19:46.642Z"
   },
   {
    "duration": 13,
    "start_time": "2025-02-21T23:21:00.400Z"
   },
   {
    "duration": 11,
    "start_time": "2025-02-21T23:21:55.067Z"
   },
   {
    "duration": 12,
    "start_time": "2025-02-21T23:22:06.030Z"
   },
   {
    "duration": 74,
    "start_time": "2025-02-21T23:22:46.303Z"
   },
   {
    "duration": 37,
    "start_time": "2025-02-21T23:23:15.757Z"
   },
   {
    "duration": 5551,
    "start_time": "2025-02-21T23:24:23.656Z"
   },
   {
    "duration": 5,
    "start_time": "2025-02-21T23:24:29.209Z"
   },
   {
    "duration": 4,
    "start_time": "2025-02-21T23:24:29.215Z"
   },
   {
    "duration": 48,
    "start_time": "2025-02-21T23:24:29.220Z"
   },
   {
    "duration": 34,
    "start_time": "2025-02-21T23:24:29.271Z"
   },
   {
    "duration": 38,
    "start_time": "2025-02-21T23:24:29.307Z"
   },
   {
    "duration": 5,
    "start_time": "2025-02-21T23:24:29.347Z"
   },
   {
    "duration": 12,
    "start_time": "2025-02-21T23:24:29.354Z"
   },
   {
    "duration": 14,
    "start_time": "2025-02-21T23:24:29.367Z"
   },
   {
    "duration": 6,
    "start_time": "2025-02-21T23:24:29.382Z"
   },
   {
    "duration": 10,
    "start_time": "2025-02-21T23:24:29.389Z"
   },
   {
    "duration": 24,
    "start_time": "2025-02-21T23:24:29.400Z"
   },
   {
    "duration": 5,
    "start_time": "2025-02-21T23:24:29.425Z"
   },
   {
    "duration": 3,
    "start_time": "2025-02-21T23:24:29.433Z"
   },
   {
    "duration": 9,
    "start_time": "2025-02-21T23:24:29.475Z"
   },
   {
    "duration": 21,
    "start_time": "2025-02-21T23:24:29.485Z"
   },
   {
    "duration": 17,
    "start_time": "2025-02-21T23:24:29.507Z"
   },
   {
    "duration": 1149,
    "start_time": "2025-02-21T23:24:29.526Z"
   },
   {
    "duration": 679,
    "start_time": "2025-02-21T23:24:30.677Z"
   },
   {
    "duration": 428,
    "start_time": "2025-02-21T23:24:31.358Z"
   },
   {
    "duration": 1281,
    "start_time": "2025-02-21T23:24:31.788Z"
   },
   {
    "duration": 1200,
    "start_time": "2025-02-21T23:24:33.075Z"
   },
   {
    "duration": 4,
    "start_time": "2025-02-21T23:24:34.277Z"
   },
   {
    "duration": 11,
    "start_time": "2025-02-21T23:24:34.283Z"
   },
   {
    "duration": 30,
    "start_time": "2025-02-21T23:24:34.296Z"
   },
   {
    "duration": 13,
    "start_time": "2025-02-21T23:24:34.328Z"
   },
   {
    "duration": 5,
    "start_time": "2025-02-21T23:24:34.342Z"
   },
   {
    "duration": 24,
    "start_time": "2025-02-21T23:24:34.348Z"
   },
   {
    "duration": 34,
    "start_time": "2025-02-21T23:24:34.374Z"
   },
   {
    "duration": 33587,
    "start_time": "2025-02-21T23:24:34.410Z"
   },
   {
    "duration": 85,
    "start_time": "2025-02-21T23:25:08.000Z"
   },
   {
    "duration": 36,
    "start_time": "2025-02-21T23:25:08.087Z"
   },
   {
    "duration": 54,
    "start_time": "2025-02-21T23:26:28.684Z"
   },
   {
    "duration": 37,
    "start_time": "2025-02-21T23:26:54.414Z"
   },
   {
    "duration": 5,
    "start_time": "2025-02-21T23:28:43.227Z"
   },
   {
    "duration": 880,
    "start_time": "2025-02-21T23:30:04.633Z"
   },
   {
    "duration": 13,
    "start_time": "2025-02-21T23:30:24.567Z"
   },
   {
    "duration": 963,
    "start_time": "2025-02-21T23:30:35.598Z"
   },
   {
    "duration": 16,
    "start_time": "2025-02-21T23:30:56.251Z"
   },
   {
    "duration": 15,
    "start_time": "2025-02-21T23:31:27.108Z"
   },
   {
    "duration": 16,
    "start_time": "2025-02-21T23:31:54.063Z"
   },
   {
    "duration": 5,
    "start_time": "2025-02-21T23:32:36.664Z"
   },
   {
    "duration": 8,
    "start_time": "2025-02-21T23:34:46.474Z"
   },
   {
    "duration": 17,
    "start_time": "2025-02-21T23:34:47.083Z"
   },
   {
    "duration": 7,
    "start_time": "2025-02-21T23:35:07.032Z"
   },
   {
    "duration": 20,
    "start_time": "2025-02-21T23:35:07.773Z"
   },
   {
    "duration": 12,
    "start_time": "2025-02-21T23:47:42.181Z"
   },
   {
    "duration": 428,
    "start_time": "2025-02-21T23:48:07.213Z"
   },
   {
    "duration": 11,
    "start_time": "2025-02-21T23:51:46.398Z"
   },
   {
    "duration": 68358,
    "start_time": "2025-02-21T23:52:16.322Z"
   },
   {
    "duration": 2309,
    "start_time": "2025-02-21T23:54:26.835Z"
   },
   {
    "duration": 1362,
    "start_time": "2025-02-21T23:57:49.180Z"
   },
   {
    "duration": 1279,
    "start_time": "2025-02-22T00:00:08.856Z"
   },
   {
    "duration": 1059,
    "start_time": "2025-02-22T00:05:51.064Z"
   },
   {
    "duration": 5,
    "start_time": "2025-02-22T00:06:39.698Z"
   },
   {
    "duration": 1039,
    "start_time": "2025-02-22T00:07:09.610Z"
   },
   {
    "duration": 3391,
    "start_time": "2025-02-22T00:07:43.343Z"
   },
   {
    "duration": 1743,
    "start_time": "2025-02-22T00:08:51.685Z"
   },
   {
    "duration": 1043,
    "start_time": "2025-02-22T00:10:56.965Z"
   },
   {
    "duration": 31,
    "start_time": "2025-02-22T00:14:14.566Z"
   },
   {
    "duration": 32,
    "start_time": "2025-02-22T00:14:53.708Z"
   },
   {
    "duration": 457,
    "start_time": "2025-02-22T00:15:50.934Z"
   },
   {
    "duration": 153,
    "start_time": "2025-02-22T00:17:13.652Z"
   },
   {
    "duration": 289,
    "start_time": "2025-02-22T00:18:50.197Z"
   },
   {
    "duration": 3,
    "start_time": "2025-02-22T00:27:13.389Z"
   },
   {
    "duration": 15,
    "start_time": "2025-02-22T00:30:27.327Z"
   },
   {
    "duration": 234,
    "start_time": "2025-02-22T00:31:07.025Z"
   },
   {
    "duration": 5,
    "start_time": "2025-02-22T00:31:16.334Z"
   },
   {
    "duration": 6,
    "start_time": "2025-02-22T00:31:59.905Z"
   },
   {
    "duration": 9,
    "start_time": "2025-02-22T00:33:12.738Z"
   },
   {
    "duration": 6225,
    "start_time": "2025-02-22T00:33:50.065Z"
   },
   {
    "duration": 5,
    "start_time": "2025-02-22T00:33:56.293Z"
   },
   {
    "duration": 7,
    "start_time": "2025-02-22T00:33:56.300Z"
   },
   {
    "duration": 63,
    "start_time": "2025-02-22T00:33:56.308Z"
   },
   {
    "duration": 40,
    "start_time": "2025-02-22T00:33:56.373Z"
   },
   {
    "duration": 39,
    "start_time": "2025-02-22T00:33:56.414Z"
   },
   {
    "duration": 6,
    "start_time": "2025-02-22T00:33:56.455Z"
   },
   {
    "duration": 25,
    "start_time": "2025-02-22T00:33:56.462Z"
   },
   {
    "duration": 13,
    "start_time": "2025-02-22T00:33:56.489Z"
   },
   {
    "duration": 6,
    "start_time": "2025-02-22T00:33:56.504Z"
   },
   {
    "duration": 15,
    "start_time": "2025-02-22T00:33:56.511Z"
   },
   {
    "duration": 55,
    "start_time": "2025-02-22T00:33:56.527Z"
   },
   {
    "duration": 6,
    "start_time": "2025-02-22T00:33:56.584Z"
   },
   {
    "duration": 7,
    "start_time": "2025-02-22T00:33:56.593Z"
   },
   {
    "duration": 14,
    "start_time": "2025-02-22T00:33:56.602Z"
   },
   {
    "duration": 24,
    "start_time": "2025-02-22T00:33:56.618Z"
   },
   {
    "duration": 54,
    "start_time": "2025-02-22T00:33:56.644Z"
   },
   {
    "duration": 1158,
    "start_time": "2025-02-22T00:33:56.700Z"
   },
   {
    "duration": 777,
    "start_time": "2025-02-22T00:33:57.860Z"
   },
   {
    "duration": 665,
    "start_time": "2025-02-22T00:33:58.639Z"
   },
   {
    "duration": 1508,
    "start_time": "2025-02-22T00:33:59.305Z"
   },
   {
    "duration": 1164,
    "start_time": "2025-02-22T00:34:00.814Z"
   },
   {
    "duration": 5,
    "start_time": "2025-02-22T00:34:01.980Z"
   },
   {
    "duration": 9,
    "start_time": "2025-02-22T00:34:01.987Z"
   },
   {
    "duration": 42,
    "start_time": "2025-02-22T00:34:01.999Z"
   },
   {
    "duration": 4,
    "start_time": "2025-02-22T00:34:02.043Z"
   },
   {
    "duration": 15,
    "start_time": "2025-02-22T00:34:02.049Z"
   },
   {
    "duration": 35,
    "start_time": "2025-02-22T00:34:02.066Z"
   },
   {
    "duration": 38,
    "start_time": "2025-02-22T00:34:02.103Z"
   },
   {
    "duration": 38824,
    "start_time": "2025-02-22T00:34:02.142Z"
   },
   {
    "duration": 139,
    "start_time": "2025-02-22T00:34:40.976Z"
   },
   {
    "duration": 36,
    "start_time": "2025-02-22T00:34:41.117Z"
   },
   {
    "duration": 46,
    "start_time": "2025-02-22T00:34:41.154Z"
   },
   {
    "duration": 4,
    "start_time": "2025-02-22T00:34:41.202Z"
   },
   {
    "duration": 15,
    "start_time": "2025-02-22T00:34:41.208Z"
   },
   {
    "duration": 5,
    "start_time": "2025-02-22T00:34:41.225Z"
   },
   {
    "duration": 8,
    "start_time": "2025-02-22T00:34:41.232Z"
   },
   {
    "duration": 50,
    "start_time": "2025-02-22T00:34:41.241Z"
   },
   {
    "duration": 375,
    "start_time": "2025-02-22T00:34:41.293Z"
   },
   {
    "duration": 369,
    "start_time": "2025-02-22T00:34:41.670Z"
   },
   {
    "duration": 9,
    "start_time": "2025-02-22T00:34:42.044Z"
   },
   {
    "duration": 31,
    "start_time": "2025-02-22T00:34:42.055Z"
   },
   {
    "duration": 1572,
    "start_time": "2025-02-22T00:34:42.089Z"
   },
   {
    "duration": 12,
    "start_time": "2025-02-22T01:30:01.884Z"
   },
   {
    "duration": 10333,
    "start_time": "2025-02-22T21:50:56.529Z"
   },
   {
    "duration": 1473,
    "start_time": "2025-02-22T21:51:06.865Z"
   },
   {
    "duration": 3,
    "start_time": "2025-02-22T21:51:08.340Z"
   },
   {
    "duration": 43,
    "start_time": "2025-02-22T21:51:08.347Z"
   },
   {
    "duration": 30,
    "start_time": "2025-02-22T21:51:08.392Z"
   },
   {
    "duration": 36,
    "start_time": "2025-02-22T21:51:08.424Z"
   },
   {
    "duration": 5,
    "start_time": "2025-02-22T21:51:08.462Z"
   },
   {
    "duration": 12,
    "start_time": "2025-02-22T21:51:08.468Z"
   },
   {
    "duration": 11,
    "start_time": "2025-02-22T21:51:08.481Z"
   },
   {
    "duration": 5,
    "start_time": "2025-02-22T21:51:08.494Z"
   },
   {
    "duration": 47,
    "start_time": "2025-02-22T21:51:08.501Z"
   },
   {
    "duration": 24,
    "start_time": "2025-02-22T21:51:08.550Z"
   },
   {
    "duration": 6,
    "start_time": "2025-02-22T21:51:08.575Z"
   },
   {
    "duration": 8,
    "start_time": "2025-02-22T21:51:08.583Z"
   },
   {
    "duration": 63,
    "start_time": "2025-02-22T21:51:08.593Z"
   },
   {
    "duration": 19,
    "start_time": "2025-02-22T21:51:08.658Z"
   },
   {
    "duration": 16,
    "start_time": "2025-02-22T21:51:08.678Z"
   },
   {
    "duration": 973,
    "start_time": "2025-02-22T21:51:08.695Z"
   },
   {
    "duration": 739,
    "start_time": "2025-02-22T21:51:09.669Z"
   },
   {
    "duration": 434,
    "start_time": "2025-02-22T21:51:10.410Z"
   },
   {
    "duration": 1274,
    "start_time": "2025-02-22T21:51:10.846Z"
   },
   {
    "duration": 1082,
    "start_time": "2025-02-22T21:51:12.122Z"
   },
   {
    "duration": 4,
    "start_time": "2025-02-22T21:51:13.206Z"
   },
   {
    "duration": 137,
    "start_time": "2025-02-22T21:51:13.211Z"
   },
   {
    "duration": 6,
    "start_time": "2025-02-22T21:51:13.350Z"
   },
   {
    "duration": 13,
    "start_time": "2025-02-22T21:51:13.357Z"
   },
   {
    "duration": 24,
    "start_time": "2025-02-22T21:51:13.371Z"
   },
   {
    "duration": 135,
    "start_time": "2025-02-22T21:51:13.397Z"
   },
   {
    "duration": 34,
    "start_time": "2025-02-22T21:51:13.533Z"
   },
   {
    "duration": 33683,
    "start_time": "2025-02-22T21:51:13.569Z"
   },
   {
    "duration": 125,
    "start_time": "2025-02-22T21:51:47.254Z"
   },
   {
    "duration": 46,
    "start_time": "2025-02-22T21:51:47.380Z"
   },
   {
    "duration": 37,
    "start_time": "2025-02-22T21:51:47.427Z"
   },
   {
    "duration": 5,
    "start_time": "2025-02-22T21:51:47.465Z"
   },
   {
    "duration": 16,
    "start_time": "2025-02-22T21:51:47.471Z"
   },
   {
    "duration": 5,
    "start_time": "2025-02-22T21:51:47.489Z"
   },
   {
    "duration": 23,
    "start_time": "2025-02-22T21:51:47.495Z"
   },
   {
    "duration": 40,
    "start_time": "2025-02-22T21:51:47.520Z"
   },
   {
    "duration": 297,
    "start_time": "2025-02-22T21:51:47.562Z"
   },
   {
    "duration": 210,
    "start_time": "2025-02-22T21:51:47.861Z"
   },
   {
    "duration": 10,
    "start_time": "2025-02-22T21:51:48.074Z"
   },
   {
    "duration": 48,
    "start_time": "2025-02-22T21:51:48.085Z"
   },
   {
    "duration": 137,
    "start_time": "2025-02-22T21:51:48.135Z"
   },
   {
    "duration": 0,
    "start_time": "2025-02-22T21:51:48.274Z"
   },
   {
    "duration": 1422,
    "start_time": "2025-02-22T21:52:18.644Z"
   },
   {
    "duration": 77,
    "start_time": "2025-02-22T21:52:25.014Z"
   },
   {
    "duration": 18,
    "start_time": "2025-02-22T21:52:39.899Z"
   },
   {
    "duration": 315,
    "start_time": "2025-02-22T21:54:17.805Z"
   },
   {
    "duration": 129,
    "start_time": "2025-02-22T21:56:23.145Z"
   },
   {
    "duration": 209,
    "start_time": "2025-02-22T21:58:04.360Z"
   },
   {
    "duration": 266,
    "start_time": "2025-02-22T21:58:56.025Z"
   },
   {
    "duration": 167,
    "start_time": "2025-02-22T22:06:51.109Z"
   },
   {
    "duration": 25,
    "start_time": "2025-02-22T22:28:25.545Z"
   },
   {
    "duration": 4,
    "start_time": "2025-02-22T22:29:11.599Z"
   },
   {
    "duration": 38,
    "start_time": "2025-02-22T22:30:26.078Z"
   },
   {
    "duration": 4,
    "start_time": "2025-02-22T22:31:13.897Z"
   },
   {
    "duration": 5,
    "start_time": "2025-02-22T22:31:27.096Z"
   },
   {
    "duration": 26,
    "start_time": "2025-02-22T22:31:38.303Z"
   },
   {
    "duration": 105,
    "start_time": "2025-02-22T22:31:57.486Z"
   },
   {
    "duration": 76,
    "start_time": "2025-02-22T22:32:09.839Z"
   },
   {
    "duration": 21,
    "start_time": "2025-02-22T22:32:14.339Z"
   },
   {
    "duration": 22,
    "start_time": "2025-02-22T22:32:46.056Z"
   },
   {
    "duration": 30,
    "start_time": "2025-02-22T22:33:28.323Z"
   },
   {
    "duration": 12,
    "start_time": "2025-02-22T22:38:31.965Z"
   },
   {
    "duration": 4,
    "start_time": "2025-02-22T22:39:14.554Z"
   },
   {
    "duration": 13,
    "start_time": "2025-02-22T22:39:24.676Z"
   },
   {
    "duration": 12,
    "start_time": "2025-02-22T22:41:04.774Z"
   },
   {
    "duration": 4,
    "start_time": "2025-02-22T22:41:37.139Z"
   },
   {
    "duration": 12,
    "start_time": "2025-02-22T22:41:46.939Z"
   },
   {
    "duration": 5,
    "start_time": "2025-02-22T22:42:30.025Z"
   },
   {
    "duration": 5,
    "start_time": "2025-02-22T22:42:50.875Z"
   },
   {
    "duration": 61,
    "start_time": "2025-02-22T22:44:35.669Z"
   },
   {
    "duration": 5,
    "start_time": "2025-02-22T22:45:57.032Z"
   },
   {
    "duration": 58181,
    "start_time": "2025-02-22T22:45:58.953Z"
   },
   {
    "duration": 57417,
    "start_time": "2025-02-22T22:47:21.172Z"
   },
   {
    "duration": 5,
    "start_time": "2025-02-22T22:49:08.528Z"
   },
   {
    "duration": 14,
    "start_time": "2025-02-22T22:50:32.351Z"
   },
   {
    "duration": 16,
    "start_time": "2025-02-22T22:52:31.998Z"
   },
   {
    "duration": 10,
    "start_time": "2025-02-22T22:53:45.917Z"
   },
   {
    "duration": 8,
    "start_time": "2025-02-22T22:54:46.834Z"
   },
   {
    "duration": 24,
    "start_time": "2025-02-22T22:55:22.958Z"
   },
   {
    "duration": 7,
    "start_time": "2025-02-22T22:55:29.426Z"
   },
   {
    "duration": 12,
    "start_time": "2025-02-22T22:55:35.971Z"
   },
   {
    "duration": 43,
    "start_time": "2025-02-22T22:55:41.141Z"
   },
   {
    "duration": 7849,
    "start_time": "2025-02-22T23:10:35.774Z"
   },
   {
    "duration": 488,
    "start_time": "2025-02-22T23:10:51.642Z"
   },
   {
    "duration": 11195,
    "start_time": "2025-02-22T23:11:24.441Z"
   },
   {
    "duration": 27,
    "start_time": "2025-02-22T23:11:38.548Z"
   },
   {
    "duration": 11225,
    "start_time": "2025-02-22T23:11:52.766Z"
   },
   {
    "duration": 2183,
    "start_time": "2025-02-22T23:12:03.994Z"
   },
   {
    "duration": 3,
    "start_time": "2025-02-22T23:12:06.179Z"
   },
   {
    "duration": 69,
    "start_time": "2025-02-22T23:12:06.184Z"
   },
   {
    "duration": 34,
    "start_time": "2025-02-22T23:12:06.256Z"
   },
   {
    "duration": 38,
    "start_time": "2025-02-22T23:12:06.292Z"
   },
   {
    "duration": 97,
    "start_time": "2025-02-22T23:12:06.333Z"
   },
   {
    "duration": 33,
    "start_time": "2025-02-22T23:12:06.433Z"
   },
   {
    "duration": 40,
    "start_time": "2025-02-22T23:12:06.467Z"
   },
   {
    "duration": 16,
    "start_time": "2025-02-22T23:12:06.508Z"
   },
   {
    "duration": 29,
    "start_time": "2025-02-22T23:12:06.525Z"
   },
   {
    "duration": 48,
    "start_time": "2025-02-22T23:12:06.555Z"
   },
   {
    "duration": 6,
    "start_time": "2025-02-22T23:12:06.604Z"
   },
   {
    "duration": 50,
    "start_time": "2025-02-22T23:12:06.613Z"
   },
   {
    "duration": 24,
    "start_time": "2025-02-22T23:12:06.665Z"
   },
   {
    "duration": 29,
    "start_time": "2025-02-22T23:12:06.691Z"
   },
   {
    "duration": 18,
    "start_time": "2025-02-22T23:12:06.722Z"
   },
   {
    "duration": 979,
    "start_time": "2025-02-22T23:12:06.742Z"
   },
   {
    "duration": 787,
    "start_time": "2025-02-22T23:12:07.723Z"
   },
   {
    "duration": 494,
    "start_time": "2025-02-22T23:12:08.512Z"
   },
   {
    "duration": 1293,
    "start_time": "2025-02-22T23:12:09.007Z"
   },
   {
    "duration": 941,
    "start_time": "2025-02-22T23:12:10.302Z"
   },
   {
    "duration": 4,
    "start_time": "2025-02-22T23:12:11.248Z"
   },
   {
    "duration": 55,
    "start_time": "2025-02-22T23:12:11.254Z"
   },
   {
    "duration": 9,
    "start_time": "2025-02-22T23:12:11.310Z"
   },
   {
    "duration": 13,
    "start_time": "2025-02-22T23:12:11.320Z"
   },
   {
    "duration": 5,
    "start_time": "2025-02-22T23:12:11.335Z"
   },
   {
    "duration": 19,
    "start_time": "2025-02-22T23:12:11.341Z"
   },
   {
    "duration": 35,
    "start_time": "2025-02-22T23:12:11.361Z"
   },
   {
    "duration": 34680,
    "start_time": "2025-02-22T23:12:11.398Z"
   },
   {
    "duration": 124,
    "start_time": "2025-02-22T23:12:46.080Z"
   },
   {
    "duration": 33,
    "start_time": "2025-02-22T23:12:46.205Z"
   },
   {
    "duration": 36,
    "start_time": "2025-02-22T23:12:46.240Z"
   },
   {
    "duration": 5,
    "start_time": "2025-02-22T23:12:46.278Z"
   },
   {
    "duration": 14,
    "start_time": "2025-02-22T23:12:46.284Z"
   },
   {
    "duration": 4,
    "start_time": "2025-02-22T23:12:46.300Z"
   },
   {
    "duration": 35,
    "start_time": "2025-02-22T23:12:46.305Z"
   },
   {
    "duration": 55,
    "start_time": "2025-02-22T23:12:46.341Z"
   },
   {
    "duration": 888,
    "start_time": "2025-02-22T23:12:46.398Z"
   },
   {
    "duration": 278,
    "start_time": "2025-02-22T23:12:47.288Z"
   },
   {
    "duration": 11,
    "start_time": "2025-02-22T23:12:47.570Z"
   },
   {
    "duration": 6,
    "start_time": "2025-02-22T23:12:47.583Z"
   },
   {
    "duration": 2110,
    "start_time": "2025-02-22T23:12:47.590Z"
   },
   {
    "duration": 17,
    "start_time": "2025-02-22T23:12:49.702Z"
   },
   {
    "duration": 308,
    "start_time": "2025-02-22T23:12:49.721Z"
   },
   {
    "duration": 689,
    "start_time": "2025-02-22T23:12:50.031Z"
   },
   {
    "duration": 184,
    "start_time": "2025-02-22T23:12:50.722Z"
   },
   {
    "duration": 7,
    "start_time": "2025-02-22T23:12:50.908Z"
   },
   {
    "duration": 38,
    "start_time": "2025-02-22T23:12:50.917Z"
   },
   {
    "duration": 5,
    "start_time": "2025-02-22T23:12:50.957Z"
   },
   {
    "duration": 58775,
    "start_time": "2025-02-22T23:12:50.964Z"
   },
   {
    "duration": 15,
    "start_time": "2025-02-22T23:13:49.741Z"
   },
   {
    "duration": 44,
    "start_time": "2025-02-22T23:13:49.758Z"
   },
   {
    "duration": 202,
    "start_time": "2025-02-22T23:13:49.804Z"
   },
   {
    "duration": 14,
    "start_time": "2025-02-22T23:17:29.378Z"
   },
   {
    "duration": 24550,
    "start_time": "2025-02-22T23:18:31.028Z"
   },
   {
    "duration": 24315,
    "start_time": "2025-02-22T23:24:03.750Z"
   },
   {
    "duration": 24907,
    "start_time": "2025-02-22T23:25:02.809Z"
   },
   {
    "duration": 24492,
    "start_time": "2025-02-22T23:26:17.300Z"
   },
   {
    "duration": 440,
    "start_time": "2025-02-22T23:27:04.932Z"
   },
   {
    "duration": 442,
    "start_time": "2025-02-22T23:28:28.440Z"
   },
   {
    "duration": 24998,
    "start_time": "2025-02-22T23:29:01.332Z"
   },
   {
    "duration": 14,
    "start_time": "2025-02-22T23:30:22.654Z"
   },
   {
    "duration": 24801,
    "start_time": "2025-02-22T23:30:34.385Z"
   },
   {
    "duration": 434,
    "start_time": "2025-02-22T23:31:20.014Z"
   },
   {
    "duration": 24926,
    "start_time": "2025-02-22T23:31:33.524Z"
   },
   {
    "duration": 24143,
    "start_time": "2025-02-22T23:34:10.294Z"
   },
   {
    "duration": 25112,
    "start_time": "2025-02-22T23:36:20.309Z"
   },
   {
    "duration": 14,
    "start_time": "2025-02-22T23:39:03.049Z"
   },
   {
    "duration": 316,
    "start_time": "2025-02-22T23:39:12.121Z"
   },
   {
    "duration": 12,
    "start_time": "2025-02-22T23:39:51.025Z"
   },
   {
    "duration": 276,
    "start_time": "2025-02-22T23:40:02.155Z"
   },
   {
    "duration": 29,
    "start_time": "2025-02-22T23:46:41.338Z"
   },
   {
    "duration": 36,
    "start_time": "2025-02-22T23:47:29.053Z"
   },
   {
    "duration": 28,
    "start_time": "2025-02-22T23:47:38.650Z"
   },
   {
    "duration": 61434,
    "start_time": "2025-02-22T23:48:52.816Z"
   },
   {
    "duration": 22,
    "start_time": "2025-02-22T23:53:46.648Z"
   },
   {
    "duration": 27,
    "start_time": "2025-02-22T23:54:16.249Z"
   },
   {
    "duration": 63818,
    "start_time": "2025-02-22T23:54:30.719Z"
   },
   {
    "duration": 85,
    "start_time": "2025-02-23T01:51:54.282Z"
   },
   {
    "duration": 77,
    "start_time": "2025-02-23T01:59:12.432Z"
   },
   {
    "duration": 105,
    "start_time": "2025-02-23T02:00:37.611Z"
   },
   {
    "duration": 101,
    "start_time": "2025-02-23T14:13:25.387Z"
   },
   {
    "duration": 42,
    "start_time": "2025-02-23T14:27:34.272Z"
   },
   {
    "duration": 32070,
    "start_time": "2025-02-23T14:27:38.744Z"
   },
   {
    "duration": 675,
    "start_time": "2025-02-23T14:28:10.817Z"
   },
   {
    "duration": 0,
    "start_time": "2025-02-23T14:28:11.496Z"
   },
   {
    "duration": 0,
    "start_time": "2025-02-23T14:28:11.497Z"
   },
   {
    "duration": 0,
    "start_time": "2025-02-23T14:28:11.498Z"
   },
   {
    "duration": 0,
    "start_time": "2025-02-23T14:28:11.499Z"
   },
   {
    "duration": 0,
    "start_time": "2025-02-23T14:28:11.500Z"
   },
   {
    "duration": 0,
    "start_time": "2025-02-23T14:28:11.501Z"
   },
   {
    "duration": 0,
    "start_time": "2025-02-23T14:28:11.502Z"
   },
   {
    "duration": 0,
    "start_time": "2025-02-23T14:28:11.503Z"
   },
   {
    "duration": 0,
    "start_time": "2025-02-23T14:28:11.505Z"
   },
   {
    "duration": 0,
    "start_time": "2025-02-23T14:28:11.506Z"
   },
   {
    "duration": 0,
    "start_time": "2025-02-23T14:28:11.507Z"
   },
   {
    "duration": 0,
    "start_time": "2025-02-23T14:28:11.508Z"
   },
   {
    "duration": 0,
    "start_time": "2025-02-23T14:28:11.509Z"
   },
   {
    "duration": 0,
    "start_time": "2025-02-23T14:28:11.510Z"
   },
   {
    "duration": 0,
    "start_time": "2025-02-23T14:28:11.511Z"
   },
   {
    "duration": 0,
    "start_time": "2025-02-23T14:28:11.512Z"
   },
   {
    "duration": 0,
    "start_time": "2025-02-23T14:28:11.512Z"
   },
   {
    "duration": 0,
    "start_time": "2025-02-23T14:28:11.513Z"
   },
   {
    "duration": 0,
    "start_time": "2025-02-23T14:28:11.514Z"
   },
   {
    "duration": 0,
    "start_time": "2025-02-23T14:28:11.515Z"
   },
   {
    "duration": 0,
    "start_time": "2025-02-23T14:28:11.516Z"
   },
   {
    "duration": 0,
    "start_time": "2025-02-23T14:28:11.517Z"
   },
   {
    "duration": 0,
    "start_time": "2025-02-23T14:28:11.518Z"
   },
   {
    "duration": 0,
    "start_time": "2025-02-23T14:28:11.519Z"
   },
   {
    "duration": 0,
    "start_time": "2025-02-23T14:28:11.520Z"
   },
   {
    "duration": 0,
    "start_time": "2025-02-23T14:28:11.521Z"
   },
   {
    "duration": 0,
    "start_time": "2025-02-23T14:28:11.523Z"
   },
   {
    "duration": 1,
    "start_time": "2025-02-23T14:28:11.523Z"
   },
   {
    "duration": 0,
    "start_time": "2025-02-23T14:28:11.525Z"
   },
   {
    "duration": 0,
    "start_time": "2025-02-23T14:28:11.526Z"
   },
   {
    "duration": 0,
    "start_time": "2025-02-23T14:28:11.527Z"
   },
   {
    "duration": 0,
    "start_time": "2025-02-23T14:28:11.528Z"
   },
   {
    "duration": 0,
    "start_time": "2025-02-23T14:28:11.529Z"
   },
   {
    "duration": 0,
    "start_time": "2025-02-23T14:28:11.530Z"
   },
   {
    "duration": 0,
    "start_time": "2025-02-23T14:28:11.531Z"
   },
   {
    "duration": 0,
    "start_time": "2025-02-23T14:28:11.570Z"
   },
   {
    "duration": 0,
    "start_time": "2025-02-23T14:28:11.571Z"
   },
   {
    "duration": 1,
    "start_time": "2025-02-23T14:28:11.572Z"
   },
   {
    "duration": 0,
    "start_time": "2025-02-23T14:28:11.574Z"
   },
   {
    "duration": 0,
    "start_time": "2025-02-23T14:28:11.575Z"
   },
   {
    "duration": 0,
    "start_time": "2025-02-23T14:28:11.576Z"
   },
   {
    "duration": 0,
    "start_time": "2025-02-23T14:28:11.577Z"
   },
   {
    "duration": 0,
    "start_time": "2025-02-23T14:28:11.578Z"
   },
   {
    "duration": 0,
    "start_time": "2025-02-23T14:28:11.579Z"
   },
   {
    "duration": 0,
    "start_time": "2025-02-23T14:28:11.580Z"
   },
   {
    "duration": 0,
    "start_time": "2025-02-23T14:28:11.581Z"
   },
   {
    "duration": 0,
    "start_time": "2025-02-23T14:28:11.582Z"
   },
   {
    "duration": 0,
    "start_time": "2025-02-23T14:28:11.583Z"
   },
   {
    "duration": 0,
    "start_time": "2025-02-23T14:28:11.584Z"
   },
   {
    "duration": 0,
    "start_time": "2025-02-23T14:28:11.585Z"
   },
   {
    "duration": 0,
    "start_time": "2025-02-23T14:28:11.586Z"
   },
   {
    "duration": 0,
    "start_time": "2025-02-23T14:28:11.587Z"
   },
   {
    "duration": 0,
    "start_time": "2025-02-23T14:28:11.588Z"
   },
   {
    "duration": 15076,
    "start_time": "2025-02-23T14:28:23.203Z"
   },
   {
    "duration": 1963,
    "start_time": "2025-02-23T14:28:38.281Z"
   },
   {
    "duration": 3,
    "start_time": "2025-02-23T14:28:40.245Z"
   },
   {
    "duration": 64,
    "start_time": "2025-02-23T14:28:40.250Z"
   },
   {
    "duration": 33,
    "start_time": "2025-02-23T14:28:40.316Z"
   },
   {
    "duration": 36,
    "start_time": "2025-02-23T14:28:40.351Z"
   },
   {
    "duration": 6,
    "start_time": "2025-02-23T14:28:40.389Z"
   },
   {
    "duration": 12,
    "start_time": "2025-02-23T14:28:40.397Z"
   },
   {
    "duration": 12,
    "start_time": "2025-02-23T14:28:40.411Z"
   },
   {
    "duration": 6,
    "start_time": "2025-02-23T14:28:40.425Z"
   },
   {
    "duration": 42,
    "start_time": "2025-02-23T14:28:40.433Z"
   },
   {
    "duration": 49,
    "start_time": "2025-02-23T14:28:40.477Z"
   },
   {
    "duration": 5,
    "start_time": "2025-02-23T14:28:40.528Z"
   },
   {
    "duration": 19,
    "start_time": "2025-02-23T14:28:40.536Z"
   },
   {
    "duration": 13,
    "start_time": "2025-02-23T14:28:40.556Z"
   },
   {
    "duration": 42,
    "start_time": "2025-02-23T14:28:40.570Z"
   },
   {
    "duration": 16,
    "start_time": "2025-02-23T14:28:40.613Z"
   },
   {
    "duration": 932,
    "start_time": "2025-02-23T14:28:40.630Z"
   },
   {
    "duration": 739,
    "start_time": "2025-02-23T14:28:41.564Z"
   },
   {
    "duration": 428,
    "start_time": "2025-02-23T14:28:42.305Z"
   },
   {
    "duration": 1412,
    "start_time": "2025-02-23T14:28:42.735Z"
   },
   {
    "duration": 1162,
    "start_time": "2025-02-23T14:28:44.149Z"
   },
   {
    "duration": 4,
    "start_time": "2025-02-23T14:28:45.312Z"
   },
   {
    "duration": 41,
    "start_time": "2025-02-23T14:28:45.318Z"
   },
   {
    "duration": 16,
    "start_time": "2025-02-23T14:28:45.361Z"
   },
   {
    "duration": 5,
    "start_time": "2025-02-23T14:28:45.378Z"
   },
   {
    "duration": 6,
    "start_time": "2025-02-23T14:28:45.385Z"
   },
   {
    "duration": 31,
    "start_time": "2025-02-23T14:28:45.392Z"
   },
   {
    "duration": 34,
    "start_time": "2025-02-23T14:28:45.424Z"
   },
   {
    "duration": 31323,
    "start_time": "2025-02-23T14:28:45.459Z"
   },
   {
    "duration": 45,
    "start_time": "2025-02-23T14:29:16.784Z"
   },
   {
    "duration": 39,
    "start_time": "2025-02-23T14:29:16.831Z"
   },
   {
    "duration": 38,
    "start_time": "2025-02-23T14:29:16.872Z"
   },
   {
    "duration": 5,
    "start_time": "2025-02-23T14:29:16.911Z"
   },
   {
    "duration": 17,
    "start_time": "2025-02-23T14:29:16.917Z"
   },
   {
    "duration": 5,
    "start_time": "2025-02-23T14:29:16.935Z"
   },
   {
    "duration": 11,
    "start_time": "2025-02-23T14:29:16.941Z"
   },
   {
    "duration": 27,
    "start_time": "2025-02-23T14:29:16.954Z"
   },
   {
    "duration": 525,
    "start_time": "2025-02-23T14:29:16.983Z"
   },
   {
    "duration": 208,
    "start_time": "2025-02-23T14:29:17.510Z"
   },
   {
    "duration": 14,
    "start_time": "2025-02-23T14:29:17.724Z"
   },
   {
    "duration": 5,
    "start_time": "2025-02-23T14:29:17.740Z"
   },
   {
    "duration": 1430,
    "start_time": "2025-02-23T14:29:17.747Z"
   },
   {
    "duration": 17,
    "start_time": "2025-02-23T14:29:19.178Z"
   },
   {
    "duration": 291,
    "start_time": "2025-02-23T14:29:19.197Z"
   },
   {
    "duration": 528,
    "start_time": "2025-02-23T14:29:19.490Z"
   },
   {
    "duration": 71,
    "start_time": "2025-02-23T14:29:20.019Z"
   },
   {
    "duration": 6,
    "start_time": "2025-02-23T14:29:20.092Z"
   },
   {
    "duration": 29,
    "start_time": "2025-02-23T14:29:20.099Z"
   },
   {
    "duration": 4,
    "start_time": "2025-02-23T14:29:20.130Z"
   },
   {
    "duration": 57940,
    "start_time": "2025-02-23T14:29:20.135Z"
   },
   {
    "duration": 42,
    "start_time": "2025-02-23T14:30:18.077Z"
   },
   {
    "duration": 150,
    "start_time": "2025-02-23T14:30:18.121Z"
   },
   {
    "duration": 0,
    "start_time": "2025-02-23T14:30:18.273Z"
   },
   {
    "duration": 0,
    "start_time": "2025-02-23T14:30:18.274Z"
   },
   {
    "duration": 76,
    "start_time": "2025-02-23T14:46:49.326Z"
   },
   {
    "duration": 94,
    "start_time": "2025-02-23T14:53:15.670Z"
   },
   {
    "duration": 43,
    "start_time": "2025-02-23T14:55:13.558Z"
   },
   {
    "duration": 72,
    "start_time": "2025-02-23T14:56:27.541Z"
   },
   {
    "duration": 10627,
    "start_time": "2025-02-23T14:56:36.166Z"
   },
   {
    "duration": 5,
    "start_time": "2025-02-23T14:56:46.796Z"
   },
   {
    "duration": 5,
    "start_time": "2025-02-23T14:56:46.803Z"
   },
   {
    "duration": 53,
    "start_time": "2025-02-23T14:56:46.809Z"
   },
   {
    "duration": 31,
    "start_time": "2025-02-23T14:56:46.863Z"
   },
   {
    "duration": 36,
    "start_time": "2025-02-23T14:56:46.896Z"
   },
   {
    "duration": 5,
    "start_time": "2025-02-23T14:56:46.933Z"
   },
   {
    "duration": 35,
    "start_time": "2025-02-23T14:56:46.939Z"
   },
   {
    "duration": 13,
    "start_time": "2025-02-23T14:56:46.976Z"
   },
   {
    "duration": 19,
    "start_time": "2025-02-23T14:56:46.991Z"
   },
   {
    "duration": 22,
    "start_time": "2025-02-23T14:56:47.012Z"
   },
   {
    "duration": 21,
    "start_time": "2025-02-23T14:56:47.035Z"
   },
   {
    "duration": 6,
    "start_time": "2025-02-23T14:56:47.058Z"
   },
   {
    "duration": 11,
    "start_time": "2025-02-23T14:56:47.065Z"
   },
   {
    "duration": 20,
    "start_time": "2025-02-23T14:56:47.077Z"
   },
   {
    "duration": 22,
    "start_time": "2025-02-23T14:56:47.098Z"
   },
   {
    "duration": 25,
    "start_time": "2025-02-23T14:56:47.122Z"
   },
   {
    "duration": 965,
    "start_time": "2025-02-23T14:56:47.148Z"
   },
   {
    "duration": 615,
    "start_time": "2025-02-23T14:56:48.115Z"
   },
   {
    "duration": 545,
    "start_time": "2025-02-23T14:56:48.732Z"
   },
   {
    "duration": 1222,
    "start_time": "2025-02-23T14:56:49.279Z"
   },
   {
    "duration": 1001,
    "start_time": "2025-02-23T14:56:50.502Z"
   },
   {
    "duration": 3,
    "start_time": "2025-02-23T14:56:51.505Z"
   },
   {
    "duration": 13,
    "start_time": "2025-02-23T14:56:51.510Z"
   },
   {
    "duration": 16,
    "start_time": "2025-02-23T14:56:51.524Z"
   },
   {
    "duration": 4,
    "start_time": "2025-02-23T14:56:51.542Z"
   },
   {
    "duration": 14,
    "start_time": "2025-02-23T14:56:51.547Z"
   },
   {
    "duration": 35,
    "start_time": "2025-02-23T14:56:51.564Z"
   },
   {
    "duration": 32,
    "start_time": "2025-02-23T14:56:51.601Z"
   },
   {
    "duration": 33651,
    "start_time": "2025-02-23T14:56:51.634Z"
   },
   {
    "duration": 124,
    "start_time": "2025-02-23T14:57:25.286Z"
   },
   {
    "duration": 34,
    "start_time": "2025-02-23T14:57:25.412Z"
   },
   {
    "duration": 39,
    "start_time": "2025-02-23T14:57:25.448Z"
   },
   {
    "duration": 4,
    "start_time": "2025-02-23T14:57:25.489Z"
   },
   {
    "duration": 23,
    "start_time": "2025-02-23T14:57:25.494Z"
   },
   {
    "duration": 8,
    "start_time": "2025-02-23T14:57:25.518Z"
   },
   {
    "duration": 13,
    "start_time": "2025-02-23T14:57:25.527Z"
   },
   {
    "duration": 37,
    "start_time": "2025-02-23T14:57:25.541Z"
   },
   {
    "duration": 724,
    "start_time": "2025-02-23T14:57:25.579Z"
   },
   {
    "duration": 196,
    "start_time": "2025-02-23T14:57:26.305Z"
   },
   {
    "duration": 10,
    "start_time": "2025-02-23T14:57:26.503Z"
   },
   {
    "duration": 10,
    "start_time": "2025-02-23T14:57:26.514Z"
   },
   {
    "duration": 1283,
    "start_time": "2025-02-23T14:57:26.526Z"
   },
   {
    "duration": 17,
    "start_time": "2025-02-23T14:57:27.810Z"
   },
   {
    "duration": 332,
    "start_time": "2025-02-23T14:57:27.828Z"
   },
   {
    "duration": 568,
    "start_time": "2025-02-23T14:57:28.161Z"
   },
   {
    "duration": 177,
    "start_time": "2025-02-23T14:57:28.731Z"
   },
   {
    "duration": 150,
    "start_time": "2025-02-23T14:57:28.910Z"
   },
   {
    "duration": 56,
    "start_time": "2025-02-23T14:57:29.061Z"
   },
   {
    "duration": 10,
    "start_time": "2025-02-23T14:57:29.118Z"
   },
   {
    "duration": 57387,
    "start_time": "2025-02-23T14:57:29.130Z"
   },
   {
    "duration": 58,
    "start_time": "2025-02-23T14:58:26.519Z"
   },
   {
    "duration": 14,
    "start_time": "2025-02-23T14:58:26.579Z"
   },
   {
    "duration": 0,
    "start_time": "2025-02-23T14:58:26.595Z"
   },
   {
    "duration": 0,
    "start_time": "2025-02-23T14:58:26.596Z"
   },
   {
    "duration": 41,
    "start_time": "2025-02-23T15:01:15.358Z"
   },
   {
    "duration": 3,
    "start_time": "2025-02-23T15:01:40.322Z"
   },
   {
    "duration": 4,
    "start_time": "2025-02-23T15:02:37.460Z"
   },
   {
    "duration": 3,
    "start_time": "2025-02-23T15:03:44.396Z"
   },
   {
    "duration": 20,
    "start_time": "2025-02-23T15:03:46.440Z"
   },
   {
    "duration": 43,
    "start_time": "2025-02-23T15:05:54.546Z"
   },
   {
    "duration": 20,
    "start_time": "2025-02-23T15:06:46.567Z"
   },
   {
    "duration": 14,
    "start_time": "2025-02-23T15:11:18.592Z"
   },
   {
    "duration": 198,
    "start_time": "2025-02-23T15:12:08.565Z"
   },
   {
    "duration": 10612,
    "start_time": "2025-02-23T15:12:33.831Z"
   },
   {
    "duration": 5,
    "start_time": "2025-02-23T15:12:44.445Z"
   },
   {
    "duration": 22,
    "start_time": "2025-02-23T15:12:44.451Z"
   },
   {
    "duration": 69,
    "start_time": "2025-02-23T15:12:44.475Z"
   },
   {
    "duration": 32,
    "start_time": "2025-02-23T15:12:44.545Z"
   },
   {
    "duration": 36,
    "start_time": "2025-02-23T15:12:44.578Z"
   },
   {
    "duration": 5,
    "start_time": "2025-02-23T15:12:44.615Z"
   },
   {
    "duration": 25,
    "start_time": "2025-02-23T15:12:44.621Z"
   },
   {
    "duration": 14,
    "start_time": "2025-02-23T15:12:44.647Z"
   },
   {
    "duration": 10,
    "start_time": "2025-02-23T15:12:44.663Z"
   },
   {
    "duration": 22,
    "start_time": "2025-02-23T15:12:44.674Z"
   },
   {
    "duration": 27,
    "start_time": "2025-02-23T15:12:44.698Z"
   },
   {
    "duration": 5,
    "start_time": "2025-02-23T15:12:44.726Z"
   },
   {
    "duration": 6,
    "start_time": "2025-02-23T15:12:44.732Z"
   },
   {
    "duration": 18,
    "start_time": "2025-02-23T15:12:44.739Z"
   },
   {
    "duration": 28,
    "start_time": "2025-02-23T15:12:44.758Z"
   },
   {
    "duration": 27,
    "start_time": "2025-02-23T15:12:44.787Z"
   },
   {
    "duration": 910,
    "start_time": "2025-02-23T15:12:44.815Z"
   },
   {
    "duration": 622,
    "start_time": "2025-02-23T15:12:45.727Z"
   },
   {
    "duration": 399,
    "start_time": "2025-02-23T15:12:46.351Z"
   },
   {
    "duration": 1365,
    "start_time": "2025-02-23T15:12:46.751Z"
   },
   {
    "duration": 990,
    "start_time": "2025-02-23T15:12:48.118Z"
   },
   {
    "duration": 4,
    "start_time": "2025-02-23T15:12:49.110Z"
   },
   {
    "duration": 15,
    "start_time": "2025-02-23T15:12:49.115Z"
   },
   {
    "duration": 7,
    "start_time": "2025-02-23T15:12:49.131Z"
   },
   {
    "duration": 3,
    "start_time": "2025-02-23T15:12:49.139Z"
   },
   {
    "duration": 6,
    "start_time": "2025-02-23T15:12:49.143Z"
   },
   {
    "duration": 26,
    "start_time": "2025-02-23T15:12:49.152Z"
   },
   {
    "duration": 39,
    "start_time": "2025-02-23T15:12:49.179Z"
   },
   {
    "duration": 31058,
    "start_time": "2025-02-23T15:12:49.219Z"
   },
   {
    "duration": 69,
    "start_time": "2025-02-23T15:13:20.279Z"
   },
   {
    "duration": 41,
    "start_time": "2025-02-23T15:13:20.350Z"
   },
   {
    "duration": 36,
    "start_time": "2025-02-23T15:13:20.393Z"
   },
   {
    "duration": 5,
    "start_time": "2025-02-23T15:13:20.431Z"
   },
   {
    "duration": 29,
    "start_time": "2025-02-23T15:13:20.437Z"
   },
   {
    "duration": 6,
    "start_time": "2025-02-23T15:13:20.470Z"
   },
   {
    "duration": 14,
    "start_time": "2025-02-23T15:13:20.477Z"
   },
   {
    "duration": 43,
    "start_time": "2025-02-23T15:13:20.492Z"
   },
   {
    "duration": 569,
    "start_time": "2025-02-23T15:13:20.537Z"
   },
   {
    "duration": 195,
    "start_time": "2025-02-23T15:13:21.107Z"
   },
   {
    "duration": 11,
    "start_time": "2025-02-23T15:13:21.304Z"
   },
   {
    "duration": 6,
    "start_time": "2025-02-23T15:13:21.317Z"
   },
   {
    "duration": 1404,
    "start_time": "2025-02-23T15:13:21.325Z"
   },
   {
    "duration": 18,
    "start_time": "2025-02-23T15:13:22.731Z"
   },
   {
    "duration": 303,
    "start_time": "2025-02-23T15:13:22.751Z"
   },
   {
    "duration": 565,
    "start_time": "2025-02-23T15:13:23.056Z"
   },
   {
    "duration": 101,
    "start_time": "2025-02-23T15:13:23.623Z"
   },
   {
    "duration": 6,
    "start_time": "2025-02-23T15:13:23.726Z"
   },
   {
    "duration": 52,
    "start_time": "2025-02-23T15:13:23.733Z"
   },
   {
    "duration": 22,
    "start_time": "2025-02-23T15:13:23.787Z"
   },
   {
    "duration": 56411,
    "start_time": "2025-02-23T15:13:23.810Z"
   },
   {
    "duration": 70,
    "start_time": "2025-02-23T15:14:20.223Z"
   },
   {
    "duration": 3,
    "start_time": "2025-02-23T15:14:20.294Z"
   },
   {
    "duration": 10,
    "start_time": "2025-02-23T15:14:20.299Z"
   },
   {
    "duration": 75,
    "start_time": "2025-02-23T15:14:20.310Z"
   },
   {
    "duration": 201,
    "start_time": "2025-02-23T15:14:20.387Z"
   },
   {
    "duration": 25,
    "start_time": "2025-02-23T15:14:20.590Z"
   },
   {
    "duration": 58480,
    "start_time": "2025-02-23T15:14:20.616Z"
   },
   {
    "duration": 45,
    "start_time": "2025-03-22T18:47:43.448Z"
   },
   {
    "duration": 7,
    "start_time": "2025-03-22T18:48:09.774Z"
   },
   {
    "duration": 6,
    "start_time": "2025-03-22T18:50:10.128Z"
   },
   {
    "duration": 49,
    "start_time": "2025-03-23T10:52:40.991Z"
   },
   {
    "duration": 28669,
    "start_time": "2025-03-23T11:35:36.105Z"
   },
   {
    "duration": 516,
    "start_time": "2025-03-23T11:36:04.777Z"
   },
   {
    "duration": 0,
    "start_time": "2025-03-23T11:36:05.297Z"
   },
   {
    "duration": 0,
    "start_time": "2025-03-23T11:36:05.299Z"
   },
   {
    "duration": 0,
    "start_time": "2025-03-23T11:36:05.300Z"
   },
   {
    "duration": 0,
    "start_time": "2025-03-23T11:36:05.302Z"
   },
   {
    "duration": 0,
    "start_time": "2025-03-23T11:36:05.303Z"
   },
   {
    "duration": 0,
    "start_time": "2025-03-23T11:36:05.305Z"
   },
   {
    "duration": 0,
    "start_time": "2025-03-23T11:36:05.306Z"
   },
   {
    "duration": 0,
    "start_time": "2025-03-23T11:36:05.307Z"
   },
   {
    "duration": 0,
    "start_time": "2025-03-23T11:36:05.309Z"
   },
   {
    "duration": 0,
    "start_time": "2025-03-23T11:36:05.310Z"
   },
   {
    "duration": 0,
    "start_time": "2025-03-23T11:36:05.312Z"
   },
   {
    "duration": 0,
    "start_time": "2025-03-23T11:36:05.313Z"
   },
   {
    "duration": 0,
    "start_time": "2025-03-23T11:36:05.315Z"
   },
   {
    "duration": 0,
    "start_time": "2025-03-23T11:36:05.317Z"
   },
   {
    "duration": 0,
    "start_time": "2025-03-23T11:36:05.318Z"
   },
   {
    "duration": 0,
    "start_time": "2025-03-23T11:36:05.319Z"
   },
   {
    "duration": 0,
    "start_time": "2025-03-23T11:36:05.321Z"
   },
   {
    "duration": 0,
    "start_time": "2025-03-23T11:36:05.323Z"
   },
   {
    "duration": 0,
    "start_time": "2025-03-23T11:36:05.324Z"
   },
   {
    "duration": 0,
    "start_time": "2025-03-23T11:36:05.326Z"
   },
   {
    "duration": 0,
    "start_time": "2025-03-23T11:36:05.327Z"
   },
   {
    "duration": 0,
    "start_time": "2025-03-23T11:36:05.328Z"
   },
   {
    "duration": 0,
    "start_time": "2025-03-23T11:36:05.330Z"
   },
   {
    "duration": 0,
    "start_time": "2025-03-23T11:36:05.331Z"
   },
   {
    "duration": 0,
    "start_time": "2025-03-23T11:36:05.332Z"
   },
   {
    "duration": 0,
    "start_time": "2025-03-23T11:36:05.334Z"
   },
   {
    "duration": 1,
    "start_time": "2025-03-23T11:36:05.361Z"
   },
   {
    "duration": 0,
    "start_time": "2025-03-23T11:36:05.363Z"
   },
   {
    "duration": 0,
    "start_time": "2025-03-23T11:36:05.364Z"
   },
   {
    "duration": 0,
    "start_time": "2025-03-23T11:36:05.365Z"
   },
   {
    "duration": 0,
    "start_time": "2025-03-23T11:36:05.366Z"
   },
   {
    "duration": 0,
    "start_time": "2025-03-23T11:36:05.368Z"
   },
   {
    "duration": 0,
    "start_time": "2025-03-23T11:36:05.369Z"
   },
   {
    "duration": 0,
    "start_time": "2025-03-23T11:36:05.370Z"
   },
   {
    "duration": 0,
    "start_time": "2025-03-23T11:36:05.371Z"
   },
   {
    "duration": 0,
    "start_time": "2025-03-23T11:36:05.372Z"
   },
   {
    "duration": 0,
    "start_time": "2025-03-23T11:36:05.373Z"
   },
   {
    "duration": 0,
    "start_time": "2025-03-23T11:36:05.374Z"
   },
   {
    "duration": 0,
    "start_time": "2025-03-23T11:36:05.375Z"
   },
   {
    "duration": 0,
    "start_time": "2025-03-23T11:36:05.377Z"
   },
   {
    "duration": 0,
    "start_time": "2025-03-23T11:36:05.378Z"
   },
   {
    "duration": 0,
    "start_time": "2025-03-23T11:36:05.379Z"
   },
   {
    "duration": 0,
    "start_time": "2025-03-23T11:36:05.380Z"
   },
   {
    "duration": 0,
    "start_time": "2025-03-23T11:36:05.381Z"
   },
   {
    "duration": 0,
    "start_time": "2025-03-23T11:36:05.382Z"
   },
   {
    "duration": 0,
    "start_time": "2025-03-23T11:36:05.383Z"
   },
   {
    "duration": 0,
    "start_time": "2025-03-23T11:36:05.384Z"
   },
   {
    "duration": 0,
    "start_time": "2025-03-23T11:36:05.386Z"
   },
   {
    "duration": 0,
    "start_time": "2025-03-23T11:36:05.388Z"
   },
   {
    "duration": 0,
    "start_time": "2025-03-23T11:36:05.389Z"
   },
   {
    "duration": 0,
    "start_time": "2025-03-23T11:36:05.391Z"
   },
   {
    "duration": 0,
    "start_time": "2025-03-23T11:36:05.392Z"
   },
   {
    "duration": 0,
    "start_time": "2025-03-23T11:36:05.393Z"
   },
   {
    "duration": 15350,
    "start_time": "2025-03-23T11:42:38.256Z"
   },
   {
    "duration": 1902,
    "start_time": "2025-03-23T11:42:53.608Z"
   },
   {
    "duration": 3,
    "start_time": "2025-03-23T11:42:55.511Z"
   },
   {
    "duration": 56,
    "start_time": "2025-03-23T11:42:55.516Z"
   },
   {
    "duration": 30,
    "start_time": "2025-03-23T11:42:55.573Z"
   },
   {
    "duration": 35,
    "start_time": "2025-03-23T11:42:55.605Z"
   },
   {
    "duration": 5,
    "start_time": "2025-03-23T11:42:55.641Z"
   },
   {
    "duration": 12,
    "start_time": "2025-03-23T11:42:55.647Z"
   },
   {
    "duration": 11,
    "start_time": "2025-03-23T11:42:55.662Z"
   },
   {
    "duration": 5,
    "start_time": "2025-03-23T11:42:55.674Z"
   },
   {
    "duration": 10,
    "start_time": "2025-03-23T11:42:55.680Z"
   },
   {
    "duration": 34,
    "start_time": "2025-03-23T11:42:55.691Z"
   },
   {
    "duration": 36,
    "start_time": "2025-03-23T11:42:55.727Z"
   },
   {
    "duration": 33,
    "start_time": "2025-03-23T11:42:55.767Z"
   },
   {
    "duration": 26,
    "start_time": "2025-03-23T11:42:55.801Z"
   },
   {
    "duration": 19,
    "start_time": "2025-03-23T11:42:55.828Z"
   },
   {
    "duration": 17,
    "start_time": "2025-03-23T11:42:55.848Z"
   },
   {
    "duration": 962,
    "start_time": "2025-03-23T11:42:55.866Z"
   },
   {
    "duration": 805,
    "start_time": "2025-03-23T11:42:56.829Z"
   },
   {
    "duration": 433,
    "start_time": "2025-03-23T11:42:57.635Z"
   },
   {
    "duration": 1281,
    "start_time": "2025-03-23T11:42:58.070Z"
   },
   {
    "duration": 1162,
    "start_time": "2025-03-23T11:42:59.352Z"
   },
   {
    "duration": 5,
    "start_time": "2025-03-23T11:43:00.515Z"
   },
   {
    "duration": 18,
    "start_time": "2025-03-23T11:43:00.521Z"
   },
   {
    "duration": 26,
    "start_time": "2025-03-23T11:43:00.541Z"
   },
   {
    "duration": 49,
    "start_time": "2025-03-23T11:43:00.569Z"
   },
   {
    "duration": 11,
    "start_time": "2025-03-23T11:43:00.620Z"
   },
   {
    "duration": 41,
    "start_time": "2025-03-23T11:43:00.633Z"
   },
   {
    "duration": 48,
    "start_time": "2025-03-23T11:43:00.676Z"
   },
   {
    "duration": 81,
    "start_time": "2025-03-23T11:43:00.726Z"
   },
   {
    "duration": 0,
    "start_time": "2025-03-23T11:43:00.809Z"
   },
   {
    "duration": 0,
    "start_time": "2025-03-23T11:43:00.811Z"
   },
   {
    "duration": 0,
    "start_time": "2025-03-23T11:43:00.813Z"
   },
   {
    "duration": 0,
    "start_time": "2025-03-23T11:43:00.814Z"
   },
   {
    "duration": 0,
    "start_time": "2025-03-23T11:43:00.815Z"
   },
   {
    "duration": 0,
    "start_time": "2025-03-23T11:43:00.817Z"
   },
   {
    "duration": 0,
    "start_time": "2025-03-23T11:43:00.818Z"
   },
   {
    "duration": 0,
    "start_time": "2025-03-23T11:43:00.820Z"
   },
   {
    "duration": 0,
    "start_time": "2025-03-23T11:43:00.821Z"
   },
   {
    "duration": 0,
    "start_time": "2025-03-23T11:43:00.823Z"
   },
   {
    "duration": 0,
    "start_time": "2025-03-23T11:43:00.824Z"
   },
   {
    "duration": 0,
    "start_time": "2025-03-23T11:43:00.826Z"
   },
   {
    "duration": 0,
    "start_time": "2025-03-23T11:43:00.827Z"
   },
   {
    "duration": 0,
    "start_time": "2025-03-23T11:43:00.829Z"
   },
   {
    "duration": 0,
    "start_time": "2025-03-23T11:43:00.830Z"
   },
   {
    "duration": 0,
    "start_time": "2025-03-23T11:43:00.832Z"
   },
   {
    "duration": 0,
    "start_time": "2025-03-23T11:43:00.833Z"
   },
   {
    "duration": 0,
    "start_time": "2025-03-23T11:43:00.835Z"
   },
   {
    "duration": 0,
    "start_time": "2025-03-23T11:43:00.836Z"
   },
   {
    "duration": 0,
    "start_time": "2025-03-23T11:43:00.838Z"
   },
   {
    "duration": 0,
    "start_time": "2025-03-23T11:43:00.840Z"
   },
   {
    "duration": 0,
    "start_time": "2025-03-23T11:43:00.841Z"
   },
   {
    "duration": 0,
    "start_time": "2025-03-23T11:43:00.842Z"
   },
   {
    "duration": 0,
    "start_time": "2025-03-23T11:43:00.844Z"
   },
   {
    "duration": 0,
    "start_time": "2025-03-23T11:43:00.845Z"
   },
   {
    "duration": 37,
    "start_time": "2025-03-23T11:44:10.717Z"
   },
   {
    "duration": 33535,
    "start_time": "2025-03-23T11:44:10.756Z"
   },
   {
    "duration": 126,
    "start_time": "2025-03-23T11:44:44.292Z"
   },
   {
    "duration": 34,
    "start_time": "2025-03-23T11:44:44.420Z"
   },
   {
    "duration": 36,
    "start_time": "2025-03-23T11:44:44.455Z"
   },
   {
    "duration": 4,
    "start_time": "2025-03-23T11:44:44.493Z"
   },
   {
    "duration": 22,
    "start_time": "2025-03-23T11:44:44.499Z"
   },
   {
    "duration": 5,
    "start_time": "2025-03-23T11:44:44.523Z"
   },
   {
    "duration": 8,
    "start_time": "2025-03-23T11:44:44.529Z"
   },
   {
    "duration": 32,
    "start_time": "2025-03-23T11:44:44.539Z"
   },
   {
    "duration": 543,
    "start_time": "2025-03-23T11:44:44.573Z"
   },
   {
    "duration": 209,
    "start_time": "2025-03-23T11:44:45.118Z"
   },
   {
    "duration": 10,
    "start_time": "2025-03-23T11:44:45.328Z"
   },
   {
    "duration": 29,
    "start_time": "2025-03-23T11:44:45.340Z"
   },
   {
    "duration": 1518,
    "start_time": "2025-03-23T11:44:45.370Z"
   },
   {
    "duration": 17,
    "start_time": "2025-03-23T11:44:46.889Z"
   },
   {
    "duration": 378,
    "start_time": "2025-03-23T11:44:46.908Z"
   },
   {
    "duration": 521,
    "start_time": "2025-03-23T11:44:47.288Z"
   },
   {
    "duration": 179,
    "start_time": "2025-03-23T11:44:47.811Z"
   },
   {
    "duration": 7,
    "start_time": "2025-03-23T11:44:47.992Z"
   },
   {
    "duration": 25,
    "start_time": "2025-03-23T11:44:48.000Z"
   },
   {
    "duration": 86,
    "start_time": "2025-03-23T11:44:48.026Z"
   },
   {
    "duration": 58309,
    "start_time": "2025-03-23T11:44:48.113Z"
   },
   {
    "duration": 53,
    "start_time": "2025-03-23T11:45:46.424Z"
   },
   {
    "duration": 194,
    "start_time": "2025-03-23T11:45:46.479Z"
   },
   {
    "duration": 26,
    "start_time": "2025-03-23T11:45:46.675Z"
   },
   {
    "duration": 63800,
    "start_time": "2025-03-23T11:45:46.702Z"
   }
  ],
  "kernelspec": {
   "display_name": "Python 3 (ipykernel)",
   "language": "python",
   "name": "python3"
  },
  "language_info": {
   "codemirror_mode": {
    "name": "ipython",
    "version": 3
   },
   "file_extension": ".py",
   "mimetype": "text/x-python",
   "name": "python",
   "nbconvert_exporter": "python",
   "pygments_lexer": "ipython3",
   "version": "3.9.5"
  },
  "toc": {
   "base_numbering": 1,
   "nav_menu": {
    "height": "333.989px",
    "width": "314.784px"
   },
   "number_sections": true,
   "sideBar": true,
   "skip_h1_title": true,
   "title_cell": "Table of Contents",
   "title_sidebar": "Contents",
   "toc_cell": false,
   "toc_position": {
    "height": "calc(100% - 180px)",
    "left": "10px",
    "top": "150px",
    "width": "165px"
   },
   "toc_section_display": true,
   "toc_window_display": true
  }
 },
 "nbformat": 4,
 "nbformat_minor": 5
}
