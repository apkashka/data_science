{
 "cells": [
  {
   "cell_type": "markdown",
   "metadata": {},
   "source": [
    "# Data Analysis for the Online Store \"Strimchik\"\n",
    "\n",
    "This project involves analyzing and processing data from open sources about games released between 1980 and 2016. <br>\n",
    "The goal of the project is to <b>identify patterns</b> for selecting a potentially successful product and promoting it <b>in 2017</b>. To achieve this goal, I plan to:\n",
    "\n",
    "1. Review the data obtained from the service.  \n",
    "2. Check the data for missing values, fill them in if possible, remove duplicates, and convert the data to the most suitable format.  \n",
    "3. Identify the data relevant for the study.  \n",
    "4. Analyze the dependence of game sales on various parameters (platform, genre, ratings).  \n",
    "5. Study user behavior patterns in different regions.  \n",
    "6. Formulate and test hypotheses.  \n",
    "7. Write the recommendations"
   ]
  },
  {
   "cell_type": "markdown",
   "metadata": {},
   "source": [
    "## Data preparation"
   ]
  },
  {
   "cell_type": "code",
   "execution_count": 100,
   "metadata": {},
   "outputs": [],
   "source": [
    "import pandas as pd\n",
    "import numpy as np\n",
    "import seaborn as sns\n",
    "import matplotlib.pyplot as plt\n",
    "from scipy import stats as st\n",
    "pd.set_option('display.float_format', lambda x: '%.2f' % x)"
   ]
  },
  {
   "cell_type": "code",
   "execution_count": 101,
   "metadata": {
    "scrolled": true
   },
   "outputs": [
    {
     "name": "stdout",
     "output_type": "stream",
     "text": [
      "<class 'pandas.core.frame.DataFrame'>\n",
      "RangeIndex: 16715 entries, 0 to 16714\n",
      "Data columns (total 11 columns):\n",
      " #   Column           Non-Null Count  Dtype  \n",
      "---  ------           --------------  -----  \n",
      " 0   Name             16713 non-null  object \n",
      " 1   Platform         16715 non-null  object \n",
      " 2   Year_of_Release  16446 non-null  float64\n",
      " 3   Genre            16713 non-null  object \n",
      " 4   NA_sales         16715 non-null  float64\n",
      " 5   EU_sales         16715 non-null  float64\n",
      " 6   JP_sales         16715 non-null  float64\n",
      " 7   Other_sales      16715 non-null  float64\n",
      " 8   Critic_Score     8137 non-null   float64\n",
      " 9   User_Score       10014 non-null  object \n",
      " 10  Rating           9949 non-null   object \n",
      "dtypes: float64(6), object(5)\n",
      "memory usage: 1.4+ MB\n"
     ]
    },
    {
     "data": {
      "text/html": [
       "<div>\n",
       "<style scoped>\n",
       "    .dataframe tbody tr th:only-of-type {\n",
       "        vertical-align: middle;\n",
       "    }\n",
       "\n",
       "    .dataframe tbody tr th {\n",
       "        vertical-align: top;\n",
       "    }\n",
       "\n",
       "    .dataframe thead th {\n",
       "        text-align: right;\n",
       "    }\n",
       "</style>\n",
       "<table border=\"1\" class=\"dataframe\">\n",
       "  <thead>\n",
       "    <tr style=\"text-align: right;\">\n",
       "      <th></th>\n",
       "      <th>Name</th>\n",
       "      <th>Platform</th>\n",
       "      <th>Year_of_Release</th>\n",
       "      <th>Genre</th>\n",
       "      <th>NA_sales</th>\n",
       "      <th>EU_sales</th>\n",
       "      <th>JP_sales</th>\n",
       "      <th>Other_sales</th>\n",
       "      <th>Critic_Score</th>\n",
       "      <th>User_Score</th>\n",
       "      <th>Rating</th>\n",
       "    </tr>\n",
       "  </thead>\n",
       "  <tbody>\n",
       "    <tr>\n",
       "      <th>0</th>\n",
       "      <td>Wii Sports</td>\n",
       "      <td>Wii</td>\n",
       "      <td>2006.00</td>\n",
       "      <td>Sports</td>\n",
       "      <td>41.36</td>\n",
       "      <td>28.96</td>\n",
       "      <td>3.77</td>\n",
       "      <td>8.45</td>\n",
       "      <td>76.00</td>\n",
       "      <td>8</td>\n",
       "      <td>E</td>\n",
       "    </tr>\n",
       "    <tr>\n",
       "      <th>1</th>\n",
       "      <td>Super Mario Bros.</td>\n",
       "      <td>NES</td>\n",
       "      <td>1985.00</td>\n",
       "      <td>Platform</td>\n",
       "      <td>29.08</td>\n",
       "      <td>3.58</td>\n",
       "      <td>6.81</td>\n",
       "      <td>0.77</td>\n",
       "      <td>NaN</td>\n",
       "      <td>NaN</td>\n",
       "      <td>NaN</td>\n",
       "    </tr>\n",
       "    <tr>\n",
       "      <th>2</th>\n",
       "      <td>Mario Kart Wii</td>\n",
       "      <td>Wii</td>\n",
       "      <td>2008.00</td>\n",
       "      <td>Racing</td>\n",
       "      <td>15.68</td>\n",
       "      <td>12.76</td>\n",
       "      <td>3.79</td>\n",
       "      <td>3.29</td>\n",
       "      <td>82.00</td>\n",
       "      <td>8.3</td>\n",
       "      <td>E</td>\n",
       "    </tr>\n",
       "    <tr>\n",
       "      <th>3</th>\n",
       "      <td>Wii Sports Resort</td>\n",
       "      <td>Wii</td>\n",
       "      <td>2009.00</td>\n",
       "      <td>Sports</td>\n",
       "      <td>15.61</td>\n",
       "      <td>10.93</td>\n",
       "      <td>3.28</td>\n",
       "      <td>2.95</td>\n",
       "      <td>80.00</td>\n",
       "      <td>8</td>\n",
       "      <td>E</td>\n",
       "    </tr>\n",
       "    <tr>\n",
       "      <th>4</th>\n",
       "      <td>Pokemon Red/Pokemon Blue</td>\n",
       "      <td>GB</td>\n",
       "      <td>1996.00</td>\n",
       "      <td>Role-Playing</td>\n",
       "      <td>11.27</td>\n",
       "      <td>8.89</td>\n",
       "      <td>10.22</td>\n",
       "      <td>1.00</td>\n",
       "      <td>NaN</td>\n",
       "      <td>NaN</td>\n",
       "      <td>NaN</td>\n",
       "    </tr>\n",
       "    <tr>\n",
       "      <th>5</th>\n",
       "      <td>Tetris</td>\n",
       "      <td>GB</td>\n",
       "      <td>1989.00</td>\n",
       "      <td>Puzzle</td>\n",
       "      <td>23.20</td>\n",
       "      <td>2.26</td>\n",
       "      <td>4.22</td>\n",
       "      <td>0.58</td>\n",
       "      <td>NaN</td>\n",
       "      <td>NaN</td>\n",
       "      <td>NaN</td>\n",
       "    </tr>\n",
       "    <tr>\n",
       "      <th>6</th>\n",
       "      <td>New Super Mario Bros.</td>\n",
       "      <td>DS</td>\n",
       "      <td>2006.00</td>\n",
       "      <td>Platform</td>\n",
       "      <td>11.28</td>\n",
       "      <td>9.14</td>\n",
       "      <td>6.50</td>\n",
       "      <td>2.88</td>\n",
       "      <td>89.00</td>\n",
       "      <td>8.5</td>\n",
       "      <td>E</td>\n",
       "    </tr>\n",
       "    <tr>\n",
       "      <th>7</th>\n",
       "      <td>Wii Play</td>\n",
       "      <td>Wii</td>\n",
       "      <td>2006.00</td>\n",
       "      <td>Misc</td>\n",
       "      <td>13.96</td>\n",
       "      <td>9.18</td>\n",
       "      <td>2.93</td>\n",
       "      <td>2.84</td>\n",
       "      <td>58.00</td>\n",
       "      <td>6.6</td>\n",
       "      <td>E</td>\n",
       "    </tr>\n",
       "    <tr>\n",
       "      <th>8</th>\n",
       "      <td>New Super Mario Bros. Wii</td>\n",
       "      <td>Wii</td>\n",
       "      <td>2009.00</td>\n",
       "      <td>Platform</td>\n",
       "      <td>14.44</td>\n",
       "      <td>6.94</td>\n",
       "      <td>4.70</td>\n",
       "      <td>2.24</td>\n",
       "      <td>87.00</td>\n",
       "      <td>8.4</td>\n",
       "      <td>E</td>\n",
       "    </tr>\n",
       "    <tr>\n",
       "      <th>9</th>\n",
       "      <td>Duck Hunt</td>\n",
       "      <td>NES</td>\n",
       "      <td>1984.00</td>\n",
       "      <td>Shooter</td>\n",
       "      <td>26.93</td>\n",
       "      <td>0.63</td>\n",
       "      <td>0.28</td>\n",
       "      <td>0.47</td>\n",
       "      <td>NaN</td>\n",
       "      <td>NaN</td>\n",
       "      <td>NaN</td>\n",
       "    </tr>\n",
       "  </tbody>\n",
       "</table>\n",
       "</div>"
      ],
      "text/plain": [
       "                        Name Platform  Year_of_Release         Genre  \\\n",
       "0                 Wii Sports      Wii          2006.00        Sports   \n",
       "1          Super Mario Bros.      NES          1985.00      Platform   \n",
       "2             Mario Kart Wii      Wii          2008.00        Racing   \n",
       "3          Wii Sports Resort      Wii          2009.00        Sports   \n",
       "4   Pokemon Red/Pokemon Blue       GB          1996.00  Role-Playing   \n",
       "5                     Tetris       GB          1989.00        Puzzle   \n",
       "6      New Super Mario Bros.       DS          2006.00      Platform   \n",
       "7                   Wii Play      Wii          2006.00          Misc   \n",
       "8  New Super Mario Bros. Wii      Wii          2009.00      Platform   \n",
       "9                  Duck Hunt      NES          1984.00       Shooter   \n",
       "\n",
       "   NA_sales  EU_sales  JP_sales  Other_sales  Critic_Score User_Score Rating  \n",
       "0     41.36     28.96      3.77         8.45         76.00          8      E  \n",
       "1     29.08      3.58      6.81         0.77           NaN        NaN    NaN  \n",
       "2     15.68     12.76      3.79         3.29         82.00        8.3      E  \n",
       "3     15.61     10.93      3.28         2.95         80.00          8      E  \n",
       "4     11.27      8.89     10.22         1.00           NaN        NaN    NaN  \n",
       "5     23.20      2.26      4.22         0.58           NaN        NaN    NaN  \n",
       "6     11.28      9.14      6.50         2.88         89.00        8.5      E  \n",
       "7     13.96      9.18      2.93         2.84         58.00        6.6      E  \n",
       "8     14.44      6.94      4.70         2.24         87.00        8.4      E  \n",
       "9     26.93      0.63      0.28         0.47           NaN        NaN    NaN  "
      ]
     },
     "metadata": {},
     "output_type": "display_data"
    }
   ],
   "source": [
    "df = pd.read_csv('/datasets/games.csv')\n",
    "df.info()\n",
    "display(df.head(10))"
   ]
  },
  {
   "cell_type": "markdown",
   "metadata": {},
   "source": [
    "<div class=\"alert alert-info\">\n",
    "Loaded the data. We have 16,715 records. The records contain information about:\n",
    "\n",
    "1. Game title  \n",
    "2. Platform  \n",
    "3. Release year  \n",
    "4. Genre  \n",
    "5. Sales columns for North America, Europe, Japan, and the rest of the world  \n",
    "6. Critic and user ratings  \n",
    "7. Game age rating  "
   ]
  },
  {
   "cell_type": "markdown",
   "metadata": {},
   "source": [
    "### Replace column names (convert to lower case)"
   ]
  },
  {
   "cell_type": "code",
   "execution_count": 102,
   "metadata": {
    "scrolled": true
   },
   "outputs": [
    {
     "name": "stdout",
     "output_type": "stream",
     "text": [
      "Index(['name', 'platform', 'year_of_release', 'genre', 'na_sales', 'eu_sales',\n",
      "       'jp_sales', 'other_sales', 'critic_score', 'user_score', 'rating'],\n",
      "      dtype='object')\n"
     ]
    }
   ],
   "source": [
    "df.rename(str.lower, axis='columns', inplace = True)\n",
    "print(df.columns)"
   ]
  },
  {
   "cell_type": "markdown",
   "metadata": {},
   "source": [
    "<div class=\"alert alert-info\">\n",
    "\n",
    "Converted column names to lowercase."
   ]
  },
  {
   "cell_type": "markdown",
   "metadata": {},
   "source": [
    "### Convert the data into the necessary types. Describe which columns were changed and why. Handle missing values if necessary.  "
   ]
  },
  {
   "cell_type": "code",
   "execution_count": 103,
   "metadata": {},
   "outputs": [
    {
     "name": "stdout",
     "output_type": "stream",
     "text": [
      "2\n",
      "269\n",
      "<class 'pandas.core.frame.DataFrame'>\n",
      "Int64Index: 16444 entries, 0 to 16714\n",
      "Data columns (total 11 columns):\n",
      " #   Column           Non-Null Count  Dtype  \n",
      "---  ------           --------------  -----  \n",
      " 0   name             16444 non-null  object \n",
      " 1   platform         16444 non-null  object \n",
      " 2   year_of_release  16444 non-null  float64\n",
      " 3   genre            16444 non-null  object \n",
      " 4   na_sales         16444 non-null  float64\n",
      " 5   eu_sales         16444 non-null  float64\n",
      " 6   jp_sales         16444 non-null  float64\n",
      " 7   other_sales      16444 non-null  float64\n",
      " 8   critic_score     7983 non-null   float64\n",
      " 9   user_score       9839 non-null   object \n",
      " 10  rating           9768 non-null   object \n",
      "dtypes: float64(6), object(5)\n",
      "memory usage: 1.5+ MB\n"
     ]
    }
   ],
   "source": [
    "print(df['name'].isna().sum())\n",
    "print(df['year_of_release'].isna().sum())\n",
    "df = df.dropna(subset = ['name', 'year_of_release'])\n",
    "df.info()"
   ]
  },
  {
   "cell_type": "markdown",
   "metadata": {},
   "source": [
    "<div class=\"alert alert-info\">\n",
    "Deleted rows without a name and release year. There were only two games without a name, and the absence of a release year makes the records irrelevant for future tasks (as it will be necessary to select a relevant period for forecasting)."
   ]
  },
  {
   "cell_type": "code",
   "execution_count": 104,
   "metadata": {
    "scrolled": true
   },
   "outputs": [
    {
     "name": "stdout",
     "output_type": "stream",
     "text": [
      "['8' nan '8.3' '8.5' '6.6' '8.4' '8.6' '7.7' '6.3' '7.4' '8.2' '9' '7.9'\n",
      " '8.1' '8.7' '7.1' '3.4' '5.3' '4.8' '3.2' '8.9' '6.4' '7.8' '7.5' '2.6'\n",
      " '7.2' '9.2' '7' '7.3' '4.3' '7.6' '5.7' '5' '9.1' '6.5' 'tbd' '8.8' '6.9'\n",
      " '9.4' '6.8' '6.1' '6.7' '5.4' '4' '4.9' '4.5' '9.3' '6.2' '4.2' '6' '3.7'\n",
      " '4.1' '5.8' '5.6' '5.5' '4.4' '4.6' '5.9' '3.9' '3.1' '2.9' '5.2' '3.3'\n",
      " '4.7' '5.1' '3.5' '2.5' '1.9' '3' '2.7' '2.2' '2' '9.5' '2.1' '3.6' '2.8'\n",
      " '1.8' '3.8' '0' '1.6' '9.6' '2.4' '1.7' '1.1' '0.3' '1.5' '0.7' '1.2'\n",
      " '2.3' '0.5' '1.3' '0.2' '0.6' '1.4' '0.9' '1' '9.7']\n",
      "[76. nan 82. 80. 89. 58. 87. 91. 61. 97. 95. 77. 88. 83. 94. 93. 85. 86.\n",
      " 98. 96. 90. 84. 73. 74. 78. 92. 71. 72. 68. 62. 49. 67. 81. 66. 56. 79.\n",
      " 70. 59. 64. 75. 60. 63. 69. 50. 25. 42. 44. 55. 48. 57. 29. 47. 65. 54.\n",
      " 20. 53. 37. 38. 33. 52. 30. 32. 43. 45. 51. 40. 46. 39. 34. 41. 36. 31.\n",
      " 27. 35. 26. 19. 28. 23. 24. 21. 17. 13.]\n",
      "['E' nan 'M' 'T' 'E10+' 'K-A' 'AO' 'EC' 'RP']\n"
     ]
    }
   ],
   "source": [
    "print(df['user_score'].unique())\n",
    "print(df['critic_score'].unique())\n",
    "print(df['rating'].unique())"
   ]
  },
  {
   "cell_type": "code",
   "execution_count": 105,
   "metadata": {
    "scrolled": false
   },
   "outputs": [
    {
     "name": "stdout",
     "output_type": "stream",
     "text": [
      "['8' nan '8.3' '8.5' '6.6' '8.4' '8.6' '7.7' '6.3' '7.4' '8.2' '9' '7.9'\n",
      " '8.1' '8.7' '7.1' '3.4' '5.3' '4.8' '3.2' '8.9' '6.4' '7.8' '7.5' '2.6'\n",
      " '7.2' '9.2' '7' '7.3' '4.3' '7.6' '5.7' '5' '9.1' '6.5' '8.8' '6.9' '9.4'\n",
      " '6.8' '6.1' '6.7' '5.4' '4' '4.9' '4.5' '9.3' '6.2' '4.2' '6' '3.7' '4.1'\n",
      " '5.8' '5.6' '5.5' '4.4' '4.6' '5.9' '3.9' '3.1' '2.9' '5.2' '3.3' '4.7'\n",
      " '5.1' '3.5' '2.5' '1.9' '3' '2.7' '2.2' '2' '9.5' '2.1' '3.6' '2.8' '1.8'\n",
      " '3.8' '0' '1.6' '9.6' '2.4' '1.7' '1.1' '0.3' '1.5' '0.7' '1.2' '2.3'\n",
      " '0.5' '1.3' '0.2' '0.6' '1.4' '0.9' '1' '9.7']\n"
     ]
    }
   ],
   "source": [
    "df['user_score'] = df['user_score'].replace({'tbd' : np.nan})\n",
    "print(df['user_score'].unique())"
   ]
  },
  {
   "cell_type": "markdown",
   "metadata": {},
   "source": [
    "<div class=\"alert alert-info\">\n",
    "Replaced \"tbd\" (to be decided/determined) with NaN in `user_score`, as it essentially represents a missing rating with a promise that it will be provided later.  "
   ]
  },
  {
   "cell_type": "code",
   "execution_count": 106,
   "metadata": {
    "scrolled": true
   },
   "outputs": [
    {
     "name": "stdout",
     "output_type": "stream",
     "text": [
      "<class 'pandas.core.frame.DataFrame'>\n",
      "Int64Index: 16444 entries, 0 to 16714\n",
      "Data columns (total 11 columns):\n",
      " #   Column           Non-Null Count  Dtype  \n",
      "---  ------           --------------  -----  \n",
      " 0   name             16444 non-null  object \n",
      " 1   platform         16444 non-null  object \n",
      " 2   year_of_release  16444 non-null  int32  \n",
      " 3   genre            16444 non-null  object \n",
      " 4   na_sales         16444 non-null  float32\n",
      " 5   eu_sales         16444 non-null  float32\n",
      " 6   jp_sales         16444 non-null  float32\n",
      " 7   other_sales      16444 non-null  float32\n",
      " 8   critic_score     7983 non-null   float32\n",
      " 9   user_score       7463 non-null   float32\n",
      " 10  rating           9768 non-null   object \n",
      "dtypes: float32(6), int32(1), object(4)\n",
      "memory usage: 1.1+ MB\n"
     ]
    }
   ],
   "source": [
    "df = df.astype({'year_of_release' : 'int32', 'user_score' : 'float32', 'critic_score' : 'float32',\n",
    "                'na_sales' : 'float32', 'eu_sales' : 'float32', 'jp_sales' : 'float32', 'other_sales' : 'float32' })\n",
    "df.info()"
   ]
  },
  {
   "cell_type": "markdown",
   "metadata": {},
   "source": [
    "<div class=\"alert alert-info\">\n",
    "Converted `year` to an integer for better efficiency, `critic_score` to float since it contains numerical values.<br> \n",
    "`user_score` to float because it can handle NaN values, unlike int.  "
   ]
  },
  {
   "cell_type": "markdown",
   "metadata": {},
   "source": [
    "<div class=\"alert alert-info\">\n",
    "There are still missing values in the ratings and age rating columns. Filling them with mean or median values is meaningless since a game's rating and age classification can vary regardless of its genre, platform, sales, or release year. <br>\n",
    "\n",
    "1. Regarding ratings, a game might have been either not popular enough to be listed or released before such ratings were introduced.  \n",
    "2. As for the age rating, specialized organizations handle this process, which takes time, so a game might not have received a rating yet or was never intended to have one.  "
   ]
  },
  {
   "cell_type": "markdown",
   "metadata": {},
   "source": [
    "### Calculate total sales across all regions and store them in a separate column.  "
   ]
  },
  {
   "cell_type": "code",
   "execution_count": 107,
   "metadata": {
    "scrolled": false
   },
   "outputs": [
    {
     "data": {
      "text/html": [
       "<div>\n",
       "<style scoped>\n",
       "    .dataframe tbody tr th:only-of-type {\n",
       "        vertical-align: middle;\n",
       "    }\n",
       "\n",
       "    .dataframe tbody tr th {\n",
       "        vertical-align: top;\n",
       "    }\n",
       "\n",
       "    .dataframe thead th {\n",
       "        text-align: right;\n",
       "    }\n",
       "</style>\n",
       "<table border=\"1\" class=\"dataframe\">\n",
       "  <thead>\n",
       "    <tr style=\"text-align: right;\">\n",
       "      <th></th>\n",
       "      <th>name</th>\n",
       "      <th>platform</th>\n",
       "      <th>year_of_release</th>\n",
       "      <th>genre</th>\n",
       "      <th>na_sales</th>\n",
       "      <th>eu_sales</th>\n",
       "      <th>jp_sales</th>\n",
       "      <th>other_sales</th>\n",
       "      <th>critic_score</th>\n",
       "      <th>user_score</th>\n",
       "      <th>rating</th>\n",
       "      <th>sum_sales</th>\n",
       "    </tr>\n",
       "  </thead>\n",
       "  <tbody>\n",
       "    <tr>\n",
       "      <th>0</th>\n",
       "      <td>Wii Sports</td>\n",
       "      <td>Wii</td>\n",
       "      <td>2006</td>\n",
       "      <td>Sports</td>\n",
       "      <td>41.36</td>\n",
       "      <td>28.96</td>\n",
       "      <td>3.77</td>\n",
       "      <td>8.45</td>\n",
       "      <td>76.00</td>\n",
       "      <td>8.00</td>\n",
       "      <td>E</td>\n",
       "      <td>82.54</td>\n",
       "    </tr>\n",
       "    <tr>\n",
       "      <th>1</th>\n",
       "      <td>Super Mario Bros.</td>\n",
       "      <td>NES</td>\n",
       "      <td>1985</td>\n",
       "      <td>Platform</td>\n",
       "      <td>29.08</td>\n",
       "      <td>3.58</td>\n",
       "      <td>6.81</td>\n",
       "      <td>0.77</td>\n",
       "      <td>NaN</td>\n",
       "      <td>NaN</td>\n",
       "      <td>NaN</td>\n",
       "      <td>40.24</td>\n",
       "    </tr>\n",
       "    <tr>\n",
       "      <th>2</th>\n",
       "      <td>Mario Kart Wii</td>\n",
       "      <td>Wii</td>\n",
       "      <td>2008</td>\n",
       "      <td>Racing</td>\n",
       "      <td>15.68</td>\n",
       "      <td>12.76</td>\n",
       "      <td>3.79</td>\n",
       "      <td>3.29</td>\n",
       "      <td>82.00</td>\n",
       "      <td>8.30</td>\n",
       "      <td>E</td>\n",
       "      <td>35.52</td>\n",
       "    </tr>\n",
       "    <tr>\n",
       "      <th>3</th>\n",
       "      <td>Wii Sports Resort</td>\n",
       "      <td>Wii</td>\n",
       "      <td>2009</td>\n",
       "      <td>Sports</td>\n",
       "      <td>15.61</td>\n",
       "      <td>10.93</td>\n",
       "      <td>3.28</td>\n",
       "      <td>2.95</td>\n",
       "      <td>80.00</td>\n",
       "      <td>8.00</td>\n",
       "      <td>E</td>\n",
       "      <td>32.77</td>\n",
       "    </tr>\n",
       "    <tr>\n",
       "      <th>4</th>\n",
       "      <td>Pokemon Red/Pokemon Blue</td>\n",
       "      <td>GB</td>\n",
       "      <td>1996</td>\n",
       "      <td>Role-Playing</td>\n",
       "      <td>11.27</td>\n",
       "      <td>8.89</td>\n",
       "      <td>10.22</td>\n",
       "      <td>1.00</td>\n",
       "      <td>NaN</td>\n",
       "      <td>NaN</td>\n",
       "      <td>NaN</td>\n",
       "      <td>31.38</td>\n",
       "    </tr>\n",
       "  </tbody>\n",
       "</table>\n",
       "</div>"
      ],
      "text/plain": [
       "                       name platform  year_of_release         genre  na_sales  \\\n",
       "0                Wii Sports      Wii             2006        Sports     41.36   \n",
       "1         Super Mario Bros.      NES             1985      Platform     29.08   \n",
       "2            Mario Kart Wii      Wii             2008        Racing     15.68   \n",
       "3         Wii Sports Resort      Wii             2009        Sports     15.61   \n",
       "4  Pokemon Red/Pokemon Blue       GB             1996  Role-Playing     11.27   \n",
       "\n",
       "   eu_sales  jp_sales  other_sales  critic_score  user_score rating  sum_sales  \n",
       "0     28.96      3.77         8.45         76.00        8.00      E      82.54  \n",
       "1      3.58      6.81         0.77           NaN         NaN    NaN      40.24  \n",
       "2     12.76      3.79         3.29         82.00        8.30      E      35.52  \n",
       "3     10.93      3.28         2.95         80.00        8.00      E      32.77  \n",
       "4      8.89     10.22         1.00           NaN         NaN    NaN      31.38  "
      ]
     },
     "metadata": {},
     "output_type": "display_data"
    }
   ],
   "source": [
    "df['sum_sales'] = df[['na_sales','eu_sales', 'jp_sales','other_sales']].sum(axis=1)\n",
    "display(df.head())"
   ]
  },
  {
   "cell_type": "code",
   "execution_count": 108,
   "metadata": {
    "scrolled": true
   },
   "outputs": [
    {
     "name": "stdout",
     "output_type": "stream",
     "text": [
      "0\n"
     ]
    }
   ],
   "source": [
    "print(df.duplicated().sum())"
   ]
  },
  {
   "cell_type": "markdown",
   "metadata": {},
   "source": [
    "<div class=\"alert alert-info\">\n",
    "    \n",
    "Added an additional column for total global sales and checked for duplicates. None were found, so moving on to exploratory data analysis."
   ]
  },
  {
   "cell_type": "markdown",
   "metadata": {},
   "source": [
    "## Exploratory Data Analysis"
   ]
  },
  {
   "cell_type": "markdown",
   "metadata": {},
   "source": [
    "### Analyze the number of games released in different years. Are data from all periods relevant?  "
   ]
  },
  {
   "cell_type": "code",
   "execution_count": 109,
   "metadata": {
    "scrolled": true
   },
   "outputs": [
    {
     "data": {
      "image/png": "[encoded data removed]",
      "text/plain": [
       "<Figure size 720x288 with 1 Axes>"
      ]
     },
     "metadata": {
      "needs_background": "light"
     },
     "output_type": "display_data"
    }
   ],
   "source": [
    "df_years = df.groupby('year_of_release').agg({'name':'count'})\n",
    "df_years.rename(columns={'name': 'count'}, inplace = True)\n",
    "df_years.plot.bar(title = 'Number of games released', figsize = (10, 4), xlabel = 'Year of release', ylabel = \"Count\");"
   ]
  },
  {
   "cell_type": "markdown",
   "metadata": {},
   "source": [
    "<div class=\"alert alert-info\">\n",
    "    \n",
    "The highest number of games were released between 2002 and 2011, followed by a decline. It is clearly unnecessary to consider data from the entire period for the analysis. Until 2009, game production was growing, but then it declined, marking the beginning of a \"new era\" with new industry rules."
   ]
  },
  {
   "cell_type": "markdown",
   "metadata": {},
   "source": [
    "### Analyze how sales have changed across platforms. Select platforms with the highest total sales and visualize their distribution over the years. What is the typical lifecycle of gaming platforms? How long do new platforms emerge, and old ones disappear?"
   ]
  },
  {
   "cell_type": "code",
   "execution_count": 110,
   "metadata": {
    "scrolled": false
   },
   "outputs": [
    {
     "data": {
      "image/png": "[encoded data removed]",
      "text/plain": [
       "<Figure size 720x288 with 1 Axes>"
      ]
     },
     "metadata": {
      "needs_background": "light"
     },
     "output_type": "display_data"
    }
   ],
   "source": [
    "df_platforms = df.pivot_table(index=['platform'], values = 'sum_sales', aggfunc = 'sum')\n",
    "df_platforms = df_platforms.sort_values('sum_sales', ascending = False)\n",
    "df_platforms.plot.bar(title = 'Sales by platform', xlabel = 'Platform', ylabel = 'Count', figsize = (10,4));"
   ]
  },
  {
   "cell_type": "code",
   "execution_count": 111,
   "metadata": {
    "scrolled": false
   },
   "outputs": [
    {
     "data": {
      "text/plain": [
       "Index(['PS2', 'X360', 'PS3', 'Wii', 'DS', 'PS'], dtype='object', name='platform')"
      ]
     },
     "metadata": {},
     "output_type": "display_data"
    }
   ],
   "source": [
    "platforms_top = df_platforms.index[:6]\n",
    "display(platforms_top)"
   ]
  },
  {
   "cell_type": "code",
   "execution_count": 112,
   "metadata": {
    "scrolled": true
   },
   "outputs": [
    {
     "data": {
      "image/png": "[encoded data removed]",
      "text/plain": [
       "<Figure size 432x288 with 1 Axes>"
      ]
     },
     "metadata": {
      "needs_background": "light"
     },
     "output_type": "display_data"
    },
    {
     "data": {
      "image/png": "[encoded data removed]",
      "text/plain": [
       "<Figure size 432x288 with 1 Axes>"
      ]
     },
     "metadata": {
      "needs_background": "light"
     },
     "output_type": "display_data"
    },
    {
     "data": {
      "image/png": "[encoded data removed]",
      "text/plain": [
       "<Figure size 432x288 with 1 Axes>"
      ]
     },
     "metadata": {
      "needs_background": "light"
     },
     "output_type": "display_data"
    },
    {
     "data": {
      "image/png": "[encoded data removed]",
      "text/plain": [
       "<Figure size 432x288 with 1 Axes>"
      ]
     },
     "metadata": {
      "needs_background": "light"
     },
     "output_type": "display_data"
    },
    {
     "data": {
      "image/png": "[encoded data removed]",
      "text/plain": [
       "<Figure size 432x288 with 1 Axes>"
      ]
     },
     "metadata": {
      "needs_background": "light"
     },
     "output_type": "display_data"
    },
    {
     "data": {
      "image/png": "[encoded data removed]",
      "text/plain": [
       "<Figure size 432x288 with 1 Axes>"
      ]
     },
     "metadata": {
      "needs_background": "light"
     },
     "output_type": "display_data"
    }
   ],
   "source": [
    "for platform in platforms_top:\n",
    "    platform_years = df.query('platform == @platform').pivot_table(index ='year_of_release',\n",
    "                                                                   values = 'sum_sales', aggfunc = 'count')\n",
    "    platform_years.columns = ['year_of_release']\n",
    "    platform_years.plot(title = platform, xlabel = 'Year of release', ylabel = 'World sales')"
   ]
  },
  {
   "cell_type": "markdown",
   "metadata": {},
   "source": [
    "<div class=\"alert alert-info\">\n",
    "Platforms typically take 6–7 years to reach their peak after launch, followed by a decline. To capture the period of dynamic changes, we would need data spanning six years, with 2017 as the sixth year—meaning from 2012 to 2016. This timeframe aligns with the transition into a new era.\n",
    "\n",
    "<b>However, I will use three years (2014–2016), following established and well-tested practices.</b>"
   ]
  },
  {
   "cell_type": "markdown",
   "metadata": {},
   "source": [
    "### Take data for the relevant current period. Determine the current period yourself as a result of researching the previous questions. The main factor is that these data will help build a forecast for 2017. Do not take into account data for previous years in your work."
   ]
  },
  {
   "cell_type": "code",
   "execution_count": 113,
   "metadata": {
    "scrolled": true
   },
   "outputs": [
    {
     "name": "stdout",
     "output_type": "stream",
     "text": [
      "<class 'pandas.core.frame.DataFrame'>\n",
      "Int64Index: 1689 entries, 31 to 16714\n",
      "Data columns (total 12 columns):\n",
      " #   Column           Non-Null Count  Dtype  \n",
      "---  ------           --------------  -----  \n",
      " 0   name             1689 non-null   object \n",
      " 1   platform         1689 non-null   object \n",
      " 2   year_of_release  1689 non-null   int32  \n",
      " 3   genre            1689 non-null   object \n",
      " 4   na_sales         1689 non-null   float32\n",
      " 5   eu_sales         1689 non-null   float32\n",
      " 6   jp_sales         1689 non-null   float32\n",
      " 7   other_sales      1689 non-null   float32\n",
      " 8   critic_score     718 non-null    float32\n",
      " 9   user_score       888 non-null    float32\n",
      " 10  rating           940 non-null    object \n",
      " 11  sum_sales        1689 non-null   float32\n",
      "dtypes: float32(7), int32(1), object(4)\n",
      "memory usage: 118.8+ KB\n",
      "None\n"
     ]
    },
    {
     "data": {
      "text/html": [
       "<div>\n",
       "<style scoped>\n",
       "    .dataframe tbody tr th:only-of-type {\n",
       "        vertical-align: middle;\n",
       "    }\n",
       "\n",
       "    .dataframe tbody tr th {\n",
       "        vertical-align: top;\n",
       "    }\n",
       "\n",
       "    .dataframe thead th {\n",
       "        text-align: right;\n",
       "    }\n",
       "</style>\n",
       "<table border=\"1\" class=\"dataframe\">\n",
       "  <thead>\n",
       "    <tr style=\"text-align: right;\">\n",
       "      <th></th>\n",
       "      <th>name</th>\n",
       "      <th>platform</th>\n",
       "      <th>year_of_release</th>\n",
       "      <th>genre</th>\n",
       "      <th>na_sales</th>\n",
       "      <th>eu_sales</th>\n",
       "      <th>jp_sales</th>\n",
       "      <th>other_sales</th>\n",
       "      <th>critic_score</th>\n",
       "      <th>user_score</th>\n",
       "      <th>rating</th>\n",
       "      <th>sum_sales</th>\n",
       "    </tr>\n",
       "  </thead>\n",
       "  <tbody>\n",
       "    <tr>\n",
       "      <th>31</th>\n",
       "      <td>Call of Duty: Black Ops 3</td>\n",
       "      <td>PS4</td>\n",
       "      <td>2015</td>\n",
       "      <td>Shooter</td>\n",
       "      <td>6.03</td>\n",
       "      <td>5.86</td>\n",
       "      <td>0.36</td>\n",
       "      <td>2.38</td>\n",
       "      <td>NaN</td>\n",
       "      <td>NaN</td>\n",
       "      <td>NaN</td>\n",
       "      <td>14.63</td>\n",
       "    </tr>\n",
       "    <tr>\n",
       "      <th>42</th>\n",
       "      <td>Grand Theft Auto V</td>\n",
       "      <td>PS4</td>\n",
       "      <td>2014</td>\n",
       "      <td>Action</td>\n",
       "      <td>3.96</td>\n",
       "      <td>6.31</td>\n",
       "      <td>0.38</td>\n",
       "      <td>1.97</td>\n",
       "      <td>97.00</td>\n",
       "      <td>8.30</td>\n",
       "      <td>M</td>\n",
       "      <td>12.62</td>\n",
       "    </tr>\n",
       "    <tr>\n",
       "      <th>47</th>\n",
       "      <td>Pokemon Omega Ruby/Pokemon Alpha Sapphire</td>\n",
       "      <td>3DS</td>\n",
       "      <td>2014</td>\n",
       "      <td>Role-Playing</td>\n",
       "      <td>4.35</td>\n",
       "      <td>3.49</td>\n",
       "      <td>3.10</td>\n",
       "      <td>0.74</td>\n",
       "      <td>NaN</td>\n",
       "      <td>NaN</td>\n",
       "      <td>NaN</td>\n",
       "      <td>11.68</td>\n",
       "    </tr>\n",
       "    <tr>\n",
       "      <th>77</th>\n",
       "      <td>FIFA 16</td>\n",
       "      <td>PS4</td>\n",
       "      <td>2015</td>\n",
       "      <td>Sports</td>\n",
       "      <td>1.12</td>\n",
       "      <td>6.12</td>\n",
       "      <td>0.06</td>\n",
       "      <td>1.28</td>\n",
       "      <td>82.00</td>\n",
       "      <td>4.30</td>\n",
       "      <td>E</td>\n",
       "      <td>8.58</td>\n",
       "    </tr>\n",
       "    <tr>\n",
       "      <th>87</th>\n",
       "      <td>Star Wars Battlefront (2015)</td>\n",
       "      <td>PS4</td>\n",
       "      <td>2015</td>\n",
       "      <td>Shooter</td>\n",
       "      <td>2.99</td>\n",
       "      <td>3.49</td>\n",
       "      <td>0.22</td>\n",
       "      <td>1.28</td>\n",
       "      <td>NaN</td>\n",
       "      <td>NaN</td>\n",
       "      <td>NaN</td>\n",
       "      <td>7.98</td>\n",
       "    </tr>\n",
       "  </tbody>\n",
       "</table>\n",
       "</div>"
      ],
      "text/plain": [
       "                                         name platform  year_of_release  \\\n",
       "31                  Call of Duty: Black Ops 3      PS4             2015   \n",
       "42                         Grand Theft Auto V      PS4             2014   \n",
       "47  Pokemon Omega Ruby/Pokemon Alpha Sapphire      3DS             2014   \n",
       "77                                    FIFA 16      PS4             2015   \n",
       "87               Star Wars Battlefront (2015)      PS4             2015   \n",
       "\n",
       "           genre  na_sales  eu_sales  jp_sales  other_sales  critic_score  \\\n",
       "31       Shooter      6.03      5.86      0.36         2.38           NaN   \n",
       "42        Action      3.96      6.31      0.38         1.97         97.00   \n",
       "47  Role-Playing      4.35      3.49      3.10         0.74           NaN   \n",
       "77        Sports      1.12      6.12      0.06         1.28         82.00   \n",
       "87       Shooter      2.99      3.49      0.22         1.28           NaN   \n",
       "\n",
       "    user_score rating  sum_sales  \n",
       "31         NaN    NaN      14.63  \n",
       "42        8.30      M      12.62  \n",
       "47         NaN    NaN      11.68  \n",
       "77        4.30      E       8.58  \n",
       "87         NaN    NaN       7.98  "
      ]
     },
     "metadata": {},
     "output_type": "display_data"
    }
   ],
   "source": [
    "df_actual = df.query('year_of_release > 2013')\n",
    "print(df_actual.info())\n",
    "display(df_actual.head())"
   ]
  },
  {
   "cell_type": "code",
   "execution_count": 114,
   "metadata": {
    "scrolled": true
   },
   "outputs": [
    {
     "data": {
      "text/html": [
       "<div>\n",
       "<style scoped>\n",
       "    .dataframe tbody tr th:only-of-type {\n",
       "        vertical-align: middle;\n",
       "    }\n",
       "\n",
       "    .dataframe tbody tr th {\n",
       "        vertical-align: top;\n",
       "    }\n",
       "\n",
       "    .dataframe thead th {\n",
       "        text-align: right;\n",
       "    }\n",
       "</style>\n",
       "<table border=\"1\" class=\"dataframe\">\n",
       "  <thead>\n",
       "    <tr style=\"text-align: right;\">\n",
       "      <th></th>\n",
       "      <th></th>\n",
       "      <th>sum_sales</th>\n",
       "    </tr>\n",
       "    <tr>\n",
       "      <th>platform</th>\n",
       "      <th>year_of_release</th>\n",
       "      <th></th>\n",
       "    </tr>\n",
       "  </thead>\n",
       "  <tbody>\n",
       "    <tr>\n",
       "      <th rowspan=\"3\" valign=\"top\">3DS</th>\n",
       "      <th>2014</th>\n",
       "      <td>43.76</td>\n",
       "    </tr>\n",
       "    <tr>\n",
       "      <th>2015</th>\n",
       "      <td>27.78</td>\n",
       "    </tr>\n",
       "    <tr>\n",
       "      <th>2016</th>\n",
       "      <td>15.14</td>\n",
       "    </tr>\n",
       "    <tr>\n",
       "      <th rowspan=\"3\" valign=\"top\">PC</th>\n",
       "      <th>2014</th>\n",
       "      <td>13.28</td>\n",
       "    </tr>\n",
       "    <tr>\n",
       "      <th>2015</th>\n",
       "      <td>8.52</td>\n",
       "    </tr>\n",
       "    <tr>\n",
       "      <th>2016</th>\n",
       "      <td>5.25</td>\n",
       "    </tr>\n",
       "    <tr>\n",
       "      <th rowspan=\"3\" valign=\"top\">PS3</th>\n",
       "      <th>2014</th>\n",
       "      <td>47.76</td>\n",
       "    </tr>\n",
       "    <tr>\n",
       "      <th>2015</th>\n",
       "      <td>16.82</td>\n",
       "    </tr>\n",
       "    <tr>\n",
       "      <th>2016</th>\n",
       "      <td>3.60</td>\n",
       "    </tr>\n",
       "    <tr>\n",
       "      <th rowspan=\"3\" valign=\"top\">PS4</th>\n",
       "      <th>2014</th>\n",
       "      <td>100.00</td>\n",
       "    </tr>\n",
       "    <tr>\n",
       "      <th>2015</th>\n",
       "      <td>118.90</td>\n",
       "    </tr>\n",
       "    <tr>\n",
       "      <th>2016</th>\n",
       "      <td>69.25</td>\n",
       "    </tr>\n",
       "    <tr>\n",
       "      <th rowspan=\"2\" valign=\"top\">PSP</th>\n",
       "      <th>2014</th>\n",
       "      <td>0.24</td>\n",
       "    </tr>\n",
       "    <tr>\n",
       "      <th>2015</th>\n",
       "      <td>0.12</td>\n",
       "    </tr>\n",
       "    <tr>\n",
       "      <th rowspan=\"3\" valign=\"top\">PSV</th>\n",
       "      <th>2014</th>\n",
       "      <td>11.90</td>\n",
       "    </tr>\n",
       "    <tr>\n",
       "      <th>2015</th>\n",
       "      <td>6.25</td>\n",
       "    </tr>\n",
       "    <tr>\n",
       "      <th>2016</th>\n",
       "      <td>4.25</td>\n",
       "    </tr>\n",
       "    <tr>\n",
       "      <th rowspan=\"3\" valign=\"top\">Wii</th>\n",
       "      <th>2014</th>\n",
       "      <td>3.75</td>\n",
       "    </tr>\n",
       "    <tr>\n",
       "      <th>2015</th>\n",
       "      <td>1.14</td>\n",
       "    </tr>\n",
       "    <tr>\n",
       "      <th>2016</th>\n",
       "      <td>0.18</td>\n",
       "    </tr>\n",
       "    <tr>\n",
       "      <th rowspan=\"3\" valign=\"top\">WiiU</th>\n",
       "      <th>2014</th>\n",
       "      <td>22.03</td>\n",
       "    </tr>\n",
       "    <tr>\n",
       "      <th>2015</th>\n",
       "      <td>16.35</td>\n",
       "    </tr>\n",
       "    <tr>\n",
       "      <th>2016</th>\n",
       "      <td>4.60</td>\n",
       "    </tr>\n",
       "    <tr>\n",
       "      <th rowspan=\"3\" valign=\"top\">X360</th>\n",
       "      <th>2014</th>\n",
       "      <td>34.74</td>\n",
       "    </tr>\n",
       "    <tr>\n",
       "      <th>2015</th>\n",
       "      <td>11.96</td>\n",
       "    </tr>\n",
       "    <tr>\n",
       "      <th>2016</th>\n",
       "      <td>1.52</td>\n",
       "    </tr>\n",
       "    <tr>\n",
       "      <th rowspan=\"3\" valign=\"top\">XOne</th>\n",
       "      <th>2014</th>\n",
       "      <td>54.07</td>\n",
       "    </tr>\n",
       "    <tr>\n",
       "      <th>2015</th>\n",
       "      <td>60.14</td>\n",
       "    </tr>\n",
       "    <tr>\n",
       "      <th>2016</th>\n",
       "      <td>26.15</td>\n",
       "    </tr>\n",
       "  </tbody>\n",
       "</table>\n",
       "</div>"
      ],
      "text/plain": [
       "                          sum_sales\n",
       "platform year_of_release           \n",
       "3DS      2014                 43.76\n",
       "         2015                 27.78\n",
       "         2016                 15.14\n",
       "PC       2014                 13.28\n",
       "         2015                  8.52\n",
       "         2016                  5.25\n",
       "PS3      2014                 47.76\n",
       "         2015                 16.82\n",
       "         2016                  3.60\n",
       "PS4      2014                100.00\n",
       "         2015                118.90\n",
       "         2016                 69.25\n",
       "PSP      2014                  0.24\n",
       "         2015                  0.12\n",
       "PSV      2014                 11.90\n",
       "         2015                  6.25\n",
       "         2016                  4.25\n",
       "Wii      2014                  3.75\n",
       "         2015                  1.14\n",
       "         2016                  0.18\n",
       "WiiU     2014                 22.03\n",
       "         2015                 16.35\n",
       "         2016                  4.60\n",
       "X360     2014                 34.74\n",
       "         2015                 11.96\n",
       "         2016                  1.52\n",
       "XOne     2014                 54.07\n",
       "         2015                 60.14\n",
       "         2016                 26.15"
      ]
     },
     "metadata": {},
     "output_type": "display_data"
    }
   ],
   "source": [
    "df_platform_years = df_actual.pivot_table(index = ['platform', 'year_of_release'], values = 'sum_sales', aggfunc = 'sum')\n",
    "display(df_platform_years)"
   ]
  },
  {
   "cell_type": "code",
   "execution_count": 115,
   "metadata": {
    "scrolled": false
   },
   "outputs": [
    {
     "name": "stdout",
     "output_type": "stream",
     "text": [
      "<class 'pandas.core.frame.DataFrame'>\n",
      "Int64Index: 1676 entries, 31 to 16714\n",
      "Data columns (total 12 columns):\n",
      " #   Column           Non-Null Count  Dtype  \n",
      "---  ------           --------------  -----  \n",
      " 0   name             1676 non-null   object \n",
      " 1   platform         1676 non-null   object \n",
      " 2   year_of_release  1676 non-null   int32  \n",
      " 3   genre            1676 non-null   object \n",
      " 4   na_sales         1676 non-null   float32\n",
      " 5   eu_sales         1676 non-null   float32\n",
      " 6   jp_sales         1676 non-null   float32\n",
      " 7   other_sales      1676 non-null   float32\n",
      " 8   critic_score     718 non-null    float32\n",
      " 9   user_score       888 non-null    float32\n",
      " 10  rating           940 non-null    object \n",
      " 11  sum_sales        1676 non-null   float32\n",
      "dtypes: float32(7), int32(1), object(4)\n",
      "memory usage: 117.8+ KB\n"
     ]
    }
   ],
   "source": [
    "df_actual = df_actual.query('platform != \"DS\" and platform != \"PSP\"')\n",
    "df_actual.info()"
   ]
  },
  {
   "cell_type": "markdown",
   "metadata": {},
   "source": [
    "<div class=\"alert alert-info\">\n",
    "Filtered out all games released before 2014 and removed platforms that stopped receiving new releases by 2016 (DS and PSP).  \n",
    "\n",
    "A total of 1,676 records remain."
   ]
  },
  {
   "cell_type": "markdown",
   "metadata": {},
   "source": [
    "### Which platforms are leading in sales, growing or declining? Select a few potentially profitable platforms."
   ]
  },
  {
   "cell_type": "code",
   "execution_count": 116,
   "metadata": {
    "scrolled": true
   },
   "outputs": [
    {
     "data": {
      "image/png": "[encoded data removed]",
      "text/plain": [
       "<Figure size 432x288 with 1 Axes>"
      ]
     },
     "metadata": {
      "needs_background": "light"
     },
     "output_type": "display_data"
    }
   ],
   "source": [
    "sns.barplot(data = df_actual, y = 'sum_sales', x = 'platform', hue = 'year_of_release')\n",
    "plt.xlabel('Platform')\n",
    "plt.ylabel('Sales')\n",
    "plt.show()"
   ]
  },
  {
   "cell_type": "code",
   "execution_count": 117,
   "metadata": {},
   "outputs": [
    {
     "name": "stdout",
     "output_type": "stream",
     "text": [
      "          sum_sales\n",
      "platform           \n",
      "PS4          288.15\n",
      "XOne         140.36\n",
      "3DS           86.68\n",
      "PS3           68.18\n",
      "X360          48.22\n",
      "WiiU          42.98\n",
      "PC            27.05\n",
      "PSV           22.40\n",
      "Wii            5.07\n"
     ]
    }
   ],
   "source": [
    "platform_top = df_actual.pivot_table(index = 'platform', values = 'sum_sales', aggfunc='sum')\n",
    "print(platform_top.sort_values('sum_sales', ascending = False))"
   ]
  },
  {
   "cell_type": "markdown",
   "metadata": {},
   "source": [
    "<div class=\"alert alert-info\">\n",
    "The sales leaders are PS4, PS3, X360, 3DS, and XOne. However, over the last year, sales have declined for all of them. X360 has significantly weakened, seemingly handing over its position to XOne. PS3 has also dropped to single-digit figures, giving up its share to PS4.  "
   ]
  },
  {
   "cell_type": "markdown",
   "metadata": {},
   "source": [
    "### Create a box plot of global game sales, broken down by platform. Describe the results.  "
   ]
  },
  {
   "cell_type": "code",
   "execution_count": 118,
   "metadata": {
    "scrolled": true
   },
   "outputs": [],
   "source": [
    "platform_sales = df_actual.pivot_table(index=['platform'], values = 'sum_sales', aggfunc = 'sum').sort_values('sum_sales', ascending = False)\n",
    "platform_top = platform_sales.head().index\n",
    "df_actual_top = df_actual.query('platform.isin(@platform_top)')"
   ]
  },
  {
   "cell_type": "code",
   "execution_count": 119,
   "metadata": {
    "scrolled": true
   },
   "outputs": [
    {
     "data": {
      "image/png": "[encoded data removed]",
      "text/plain": [
       "<Figure size 432x288 with 1 Axes>"
      ]
     },
     "metadata": {
      "needs_background": "light"
     },
     "output_type": "display_data"
    }
   ],
   "source": [
    "ax = sns.boxplot(data = df_actual_top, x = \"platform\", y = \"sum_sales\")\n",
    "plt.show()"
   ]
  },
  {
   "cell_type": "code",
   "execution_count": 120,
   "metadata": {
    "scrolled": true
   },
   "outputs": [
    {
     "data": {
      "image/png": "[encoded data removed]",
      "text/plain": [
       "<Figure size 432x288 with 1 Axes>"
      ]
     },
     "metadata": {
      "needs_background": "light"
     },
     "output_type": "display_data"
    }
   ],
   "source": [
    "ax = sns.boxplot(data = df_actual_top, x = \"platform\", y = \"sum_sales\")\n",
    "ax.set(ylim = (0,2))\n",
    "plt.show()"
   ]
  },
  {
   "cell_type": "code",
   "execution_count": 121,
   "metadata": {
    "scrolled": false
   },
   "outputs": [
    {
     "name": "stdout",
     "output_type": "stream",
     "text": [
      "PS4\n",
      "count   376.00\n",
      "mean      0.77\n",
      "std       1.61\n",
      "min       0.01\n",
      "25%       0.06\n",
      "50%       0.19\n",
      "75%       0.69\n",
      "max      14.63\n",
      "Name: sum_sales, dtype: float64\n",
      "\n",
      "XOne\n",
      "count   228.00\n",
      "mean      0.62\n",
      "std       1.05\n",
      "min       0.01\n",
      "25%       0.05\n",
      "50%       0.20\n",
      "75%       0.63\n",
      "max       7.39\n",
      "Name: sum_sales, dtype: float64\n",
      "\n",
      "3DS\n",
      "count   212.00\n",
      "mean      0.41\n",
      "std       1.19\n",
      "min       0.01\n",
      "25%       0.03\n",
      "50%       0.09\n",
      "75%       0.25\n",
      "max      11.68\n",
      "Name: sum_sales, dtype: float64\n",
      "\n",
      "PS3\n",
      "count   219.00\n",
      "mean      0.31\n",
      "std       0.63\n",
      "min       0.01\n",
      "25%       0.04\n",
      "50%       0.11\n",
      "75%       0.33\n",
      "max       5.27\n",
      "Name: sum_sales, dtype: float64\n",
      "\n",
      "X360\n",
      "count   111.00\n",
      "mean      0.43\n",
      "std       0.63\n",
      "min       0.01\n",
      "25%       0.07\n",
      "50%       0.18\n",
      "75%       0.51\n",
      "max       4.28\n",
      "Name: sum_sales, dtype: float64\n",
      "\n"
     ]
    }
   ],
   "source": [
    "for platform in platform_top:\n",
    "    print(platform)\n",
    "    print(df_actual.query('platform == @platform')['sum_sales'].describe())\n",
    "    print()"
   ]
  },
  {
   "cell_type": "markdown",
   "metadata": {},
   "source": [
    "<div class=\"alert alert-info\">\n",
    "Conclusions:  \n",
    "\n",
    "1. All platforms exhibit a significant number of outliers. Some games become massive hits, reaching multimillion sales (up to 14.63 million on PS4).  \n",
    "2. More than half of the games do not exceed 200,000 copies in sales. For the top platforms, the median sales range from 90,000 to 200,000 copies.  \n",
    "3. PS4 is currently the most successful platform, with an average of 770,000 copies sold per game—150,000 more than its closest competitor, XOne, and significantly higher than the rest.  "
   ]
  },
  {
   "cell_type": "markdown",
   "metadata": {},
   "source": [
    "### Analyze how user and critic reviews affect sales within a single popular platform. Create a scatter plot and calculate the correlation between reviews and sales. Formulate conclusions.  "
   ]
  },
  {
   "cell_type": "code",
   "execution_count": 122,
   "metadata": {},
   "outputs": [],
   "source": [
    "def show_correlation(platform):\n",
    "    df_platform = df_actual.query('platform == @platform')\n",
    "    platform_scores_and_sales = df_platform.loc[ :, ['user_score', 'critic_score','sum_sales']]\n",
    "    print(platform_scores_and_sales.corr())\n",
    "    pd.plotting.scatter_matrix(platform_scores_and_sales, figsize = (15,15));"
   ]
  },
  {
   "cell_type": "code",
   "execution_count": 123,
   "metadata": {
    "scrolled": true
   },
   "outputs": [
    {
     "name": "stdout",
     "output_type": "stream",
     "text": [
      "              user_score  critic_score  sum_sales\n",
      "user_score          1.00          0.55      -0.04\n",
      "critic_score        0.55          1.00       0.40\n",
      "sum_sales          -0.04          0.40       1.00\n"
     ]
    },
    {
     "data": {
      "image/png": "[encoded data removed]",
      "text/plain": [
       "<Figure size 1080x1080 with 9 Axes>"
      ]
     },
     "metadata": {
      "needs_background": "light"
     },
     "output_type": "display_data"
    }
   ],
   "source": [
    "show_correlation('PS4')"
   ]
  },
  {
   "cell_type": "markdown",
   "metadata": {},
   "source": [
    "<div class=\"alert alert-info\">\n",
    "For PS4:  \n",
    "\n",
    "1. There is a correlation between critic scores and total sales. \n",
    "2. There is almost no correlation between user scores and total sales.  \n",
    "3. There is also a correlation between critic scores and user scores.  "
   ]
  },
  {
   "cell_type": "markdown",
   "metadata": {},
   "source": [
    "### Compare these findings with game sales on other platforms.  "
   ]
  },
  {
   "cell_type": "code",
   "execution_count": 124,
   "metadata": {
    "scrolled": true
   },
   "outputs": [
    {
     "name": "stdout",
     "output_type": "stream",
     "text": [
      "              user_score  critic_score  sum_sales\n",
      "user_score          1.00          0.69      -0.17\n",
      "critic_score        0.69          1.00       0.45\n",
      "sum_sales          -0.17          0.45       1.00\n"
     ]
    },
    {
     "data": {
      "image/png": "[encoded data removed]",
      "text/plain": [
       "<Figure size 1080x1080 with 9 Axes>"
      ]
     },
     "metadata": {
      "needs_background": "light"
     },
     "output_type": "display_data"
    }
   ],
   "source": [
    "show_correlation(\"PS3\")"
   ]
  },
  {
   "cell_type": "code",
   "execution_count": 125,
   "metadata": {
    "scrolled": true
   },
   "outputs": [
    {
     "name": "stdout",
     "output_type": "stream",
     "text": [
      "              user_score  critic_score  sum_sales\n",
      "user_score          1.00          0.63      -0.14\n",
      "critic_score        0.63          1.00       0.53\n",
      "sum_sales          -0.14          0.53       1.00\n"
     ]
    },
    {
     "data": {
      "image/png": "[encoded data removed]",
      "text/plain": [
       "<Figure size 1080x1080 with 9 Axes>"
      ]
     },
     "metadata": {
      "needs_background": "light"
     },
     "output_type": "display_data"
    }
   ],
   "source": [
    "show_correlation('X360')"
   ]
  },
  {
   "cell_type": "code",
   "execution_count": 126,
   "metadata": {
    "scrolled": true
   },
   "outputs": [
    {
     "name": "stdout",
     "output_type": "stream",
     "text": [
      "              user_score  critic_score  sum_sales\n",
      "user_score          1.00          0.86       0.22\n",
      "critic_score        0.86          1.00       0.31\n",
      "sum_sales           0.22          0.31       1.00\n"
     ]
    },
    {
     "data": {
      "image/png": "[encoded data removed]",
      "text/plain": [
       "<Figure size 1080x1080 with 9 Axes>"
      ]
     },
     "metadata": {
      "needs_background": "light"
     },
     "output_type": "display_data"
    }
   ],
   "source": [
    "show_correlation('3DS')"
   ]
  },
  {
   "cell_type": "markdown",
   "metadata": {},
   "source": [
    "<div class=\"alert alert-info\">\n",
    "Overall, the dependency pattern is the same across all platforms:  \n",
    "\n",
    "1. Sales are fairly strongly correlated with critic scores.  \n",
    "2. Sales show little to no correlation with user scores.  "
   ]
  },
  {
   "cell_type": "markdown",
   "metadata": {},
   "source": [
    "### Analyze the overall distribution of games by genre. What can be said about the most profitable genres? Are there genres with significantly high or low sales?  "
   ]
  },
  {
   "cell_type": "code",
   "execution_count": 127,
   "metadata": {
    "scrolled": true
   },
   "outputs": [
    {
     "data": {
      "image/png": "[encoded data removed]",
      "text/plain": [
       "<Figure size 432x288 with 1 Axes>"
      ]
     },
     "metadata": {},
     "output_type": "display_data"
    }
   ],
   "source": [
    "genre_count = df_actual['genre'].value_counts()\n",
    "fig, ax = plt.subplots()\n",
    "ax.pie(genre_count.values, labels = genre_count.keys())\n",
    "percentages = [f\"{val / genre_count.sum() * 100:.1f}%\" for val in genre_count.values]\n",
    "labels_with_percent = [f\"{genre}: {percent}\" for genre, percent in zip(genre_count.index, percentages)]\n",
    "ax.legend(labels_with_percent, title=\"Genres\", loc=\"upper left\", bbox_to_anchor=(1.5, 1))\n",
    "plt.title('Distribution by Genre')\n",
    "plt.show()"
   ]
  },
  {
   "cell_type": "code",
   "execution_count": 128,
   "metadata": {
    "scrolled": true
   },
   "outputs": [
    {
     "data": {
      "image/png": "[encoded data removed]",
      "text/plain": [
       "<Figure size 432x288 with 1 Axes>"
      ]
     },
     "metadata": {},
     "output_type": "display_data"
    }
   ],
   "source": [
    "genre_sales = df_actual.pivot_table(index = 'genre', values = 'sum_sales',\n",
    "                                    aggfunc = 'mean').sort_values('sum_sales', ascending = False)['sum_sales']\n",
    "fig, ax = plt.subplots()\n",
    "ax.pie(genre_sales.values, labels = genre_sales.keys())\n",
    "percentages = [f\"{val / genre_sales.sum() * 100:.1f}%\" for val in genre_sales.values]\n",
    "labels_with_percent = [f\"{genre}: {percent}\" for genre, percent in zip(genre_sales.index, percentages)]\n",
    "ax.legend(labels_with_percent, title=\"Genres\", loc=\"upper left\", bbox_to_anchor=(1.5, 1))\n",
    "plt.title('Sales by Genre')\n",
    "plt.show()"
   ]
  },
  {
   "cell_type": "markdown",
   "metadata": {},
   "source": [
    "<div class=\"alert alert-info\">\n",
    "\n",
    "Action games make up a third of all released titles, so it’s no surprise that this genre is the most profitable in absolute terms.\n",
    "\n",
    "However, when looking at average sales, **shooters** take the lead. Platformers and sports simulators also hold strong positions in the top three. Most of these games have simple mechanics, making them easy to pick up with a low entry barrier. Additionally, shooters and sports simulators benefit from multiple AAA titles catering to various tastes, such as *Call of Duty*, *Battlefield*, and *FIFA*. Platformers, on the other hand, were foundational to the gaming industry and remain familiar and beloved by a wide audience.\n",
    "\n",
    "The least profitable genres across all metrics are **puzzle, strategy, and adventure** games. However, comparing them to the top-selling genres is not entirely fair. Puzzle games are often free, strategy games cater to a niche audience, and adventure games are a broad category—when combined with shooting mechanics, they resemble shooters, while more vibrant ones often fall under Action.  "
   ]
  },
  {
   "cell_type": "markdown",
   "metadata": {},
   "source": [
    "## User Profile for Each Region  "
   ]
  },
  {
   "cell_type": "markdown",
   "metadata": {},
   "source": [
    "### Most Popular Platforms (Top 5). Describe the differences in sales shares."
   ]
  },
  {
   "cell_type": "code",
   "execution_count": 129,
   "metadata": {
    "scrolled": true
   },
   "outputs": [],
   "source": [
    "region_sales = ['na_sales', 'eu_sales', 'jp_sales']"
   ]
  },
  {
   "cell_type": "code",
   "execution_count": 130,
   "metadata": {
    "scrolled": true
   },
   "outputs": [
    {
     "data": {
      "image/png": "[encoded data removed]",
      "text/plain": [
       "<Figure size 432x288 with 1 Axes>"
      ]
     },
     "metadata": {},
     "output_type": "display_data"
    },
    {
     "data": {
      "image/png": "[encoded data removed]",
      "text/plain": [
       "<Figure size 432x288 with 1 Axes>"
      ]
     },
     "metadata": {},
     "output_type": "display_data"
    },
    {
     "data": {
      "image/png": "[encoded data removed]",
      "text/plain": [
       "<Figure size 432x288 with 1 Axes>"
      ]
     },
     "metadata": {},
     "output_type": "display_data"
    }
   ],
   "source": [
    "for region in region_sales:\n",
    "    platform_table = df_actual.pivot_table(index = 'platform', values = region, aggfunc = 'sum').sort_values(region, ascending = False)\n",
    "    fig, ax = plt.subplots()\n",
    "    ax.pie(platform_table[region].values, labels = None)\n",
    "    percentages = [f\"{val / platform_table[region].sum() * 100:.1f}%\" for val in platform_table[region].values]\n",
    "    labels_with_percent = [f\"{genre}: {percent}\" for genre, percent in zip(platform_table[region].index, percentages)]\n",
    "    ax.legend(labels_with_percent, title=\"Platform\", loc=\"upper left\", bbox_to_anchor=(1, 1))\n",
    "    plt.title(region)"
   ]
  },
  {
   "cell_type": "markdown",
   "metadata": {},
   "source": [
    "<div class=\"alert alert-info\">\n",
    "Top 5 for the North American region: PS4 - 34.7%, XOne - 28.6%, X360 - 10%, 3DS - 8%, PS3 - 7.8% <br>  \n",
    "Top 5 for the European region: PS4 - 48%, XOne - 17.1%, PS3 - 9.4%, PC - 6.6%, 3DS - 6.0% <br>  \n",
    "Top 5 for Japan: 3DS - 47.7%, PS4 - 16.2%, PSV - 15.7%, PS3 - 12.1%, WiiU - 7.9% <br>  \n",
    "\n",
    "Each market has a Japanese-made platform as the leader: <br>  \n",
    "\n",
    "1. In North America, **PS4** holds a **34.7%** share  \n",
    "2. In Europe, nearly half of all games **48%** are bought on **PS4**  \n",
    "3. In Japan, **Nintendo 3DS** dominates with **47.7%**, a portable console likely favored due to high population density and expensive housing  "
   ]
  },
  {
   "cell_type": "markdown",
   "metadata": {},
   "source": [
    "### Most Popular Genres (Top 5). Explain the Differences."
   ]
  },
  {
   "cell_type": "code",
   "execution_count": 131,
   "metadata": {
    "scrolled": true
   },
   "outputs": [
    {
     "data": {
      "image/png": "[encoded data removed]",
      "text/plain": [
       "<Figure size 432x288 with 1 Axes>"
      ]
     },
     "metadata": {},
     "output_type": "display_data"
    },
    {
     "data": {
      "image/png": "[encoded data removed]",
      "text/plain": [
       "<Figure size 432x288 with 1 Axes>"
      ]
     },
     "metadata": {},
     "output_type": "display_data"
    },
    {
     "data": {
      "image/png": "[encoded data removed]",
      "text/plain": [
       "<Figure size 432x288 with 1 Axes>"
      ]
     },
     "metadata": {},
     "output_type": "display_data"
    }
   ],
   "source": [
    "for region in region_sales:\n",
    "    platform_table = df_actual.pivot_table(index = 'genre', values = region, aggfunc = 'sum').sort_values(region, ascending = False)\n",
    "    fig, ax = plt.subplots()\n",
    "    ax.pie(platform_table[region].values, labels = None)\n",
    "    percentages = [f\"{val / platform_table[region].sum() * 100:.1f}%\" for val in platform_table[region].values]\n",
    "    labels_with_percent = [f\"{genre}: {percent}\" for genre, percent in zip(genre_count.index, percentages)]\n",
    "    ax.legend(labels_with_percent, title=\"Genre\", loc=\"upper left\", bbox_to_anchor=(1, 1))\n",
    "    plt.title(region)"
   ]
  },
  {
   "cell_type": "markdown",
   "metadata": {},
   "source": [
    "<div class=\"alert alert-info\">\n",
    "Top 5 for the North American region: Action - 30.2%, Shooter - 24.7%, Sports - 13.9%, Role-Playing - 10.3%, Misc - 6.5% \n",
    "\n",
    "Top 5 for the European region: Action - 31.5%, Shooter - 22.6%, Sports - 13.7%, Role-Playing - 9.3%, Racing - 5.4% \n",
    "    \n",
    "Top 5 for Japan: Role-Playing - 33.1%, Action - 27.6%, Misc - 7%, Simulation - 5.8%, Shooter - 5.2%\n",
    "\n",
    "Genre preferences in the **European and American markets are identical**, with the top three being **Action, Shooter, and Sports games**.\n",
    "\n",
    "In **Japan**, however, **Role-Playing games** take the top spot, **Action** is in second place, and third place is occupied by a mix of **miscellaneous or hybrid genre games**.\n",
    "\n",
    "This is likely due to the **popularity of different platforms**, as playing shooters on **portable devices** is quite inconvenient. Cultural differences also play a role—Japan is a more **traditional country**, where people prefer to **play soccer in real life rather than on devices** (or perhaps chase Godzilla on devices).  "
   ]
  },
  {
   "cell_type": "markdown",
   "metadata": {},
   "source": [
    "### Does the ESRB Rating Affect Sales in Each Region?"
   ]
  },
  {
   "cell_type": "code",
   "execution_count": 132,
   "metadata": {
    "scrolled": true
   },
   "outputs": [
    {
     "data": {
      "image/png": "[encoded data removed]",
      "text/plain": [
       "<Figure size 432x288 with 1 Axes>"
      ]
     },
     "metadata": {
      "needs_background": "light"
     },
     "output_type": "display_data"
    },
    {
     "data": {
      "image/png": "[encoded data removed]",
      "text/plain": [
       "<Figure size 432x288 with 1 Axes>"
      ]
     },
     "metadata": {
      "needs_background": "light"
     },
     "output_type": "display_data"
    },
    {
     "data": {
      "image/png": "[encoded data removed]",
      "text/plain": [
       "<Figure size 432x288 with 1 Axes>"
      ]
     },
     "metadata": {
      "needs_background": "light"
     },
     "output_type": "display_data"
    }
   ],
   "source": [
    "for region in region_sales:\n",
    "    platform_table = df_actual.pivot_table(index = 'rating', values = region, aggfunc = 'sum')\n",
    "    platform_table.sort_values(region, ascending = False).plot.barh()"
   ]
  },
  {
   "cell_type": "markdown",
   "metadata": {},
   "source": [
    "<div class=\"alert alert-info\">\n",
    "\n",
    "Yes. In **Europe and North America**, games with an **M (17+) rating** are the most popular, giving developers more freedom in terms of game content.\n",
    "In **Japan**, however, more than half of all sales come from games with an **E (Everyone)** or **T (Teen, 13+) rating**. It seems that a significant portion of Japanese gamers prefer more **family-friendly adventures**."
   ]
  },
  {
   "cell_type": "markdown",
   "metadata": {},
   "source": [
    "## Hypothesis Testing"
   ]
  },
  {
   "cell_type": "markdown",
   "metadata": {},
   "source": [
    "### The average user ratings for Xbox One and PC are the same."
   ]
  },
  {
   "cell_type": "code",
   "execution_count": 133,
   "metadata": {},
   "outputs": [
    {
     "data": {
      "text/plain": [
       "count   165.00\n",
       "mean      6.59\n",
       "std       1.38\n",
       "min       1.60\n",
       "25%       5.80\n",
       "50%       6.80\n",
       "75%       7.60\n",
       "max       9.20\n",
       "Name: user_score, dtype: float64"
      ]
     },
     "metadata": {},
     "output_type": "display_data"
    }
   ],
   "source": [
    "xo_ratings = df_actual.query('platform == \"XOne\"')['user_score'].dropna()\n",
    "display(xo_ratings.describe())"
   ]
  },
  {
   "cell_type": "code",
   "execution_count": 134,
   "metadata": {
    "scrolled": true
   },
   "outputs": [
    {
     "data": {
      "text/plain": [
       "count   122.00\n",
       "mean      6.30\n",
       "std       1.70\n",
       "min       1.40\n",
       "25%       5.33\n",
       "50%       6.80\n",
       "75%       7.60\n",
       "max       9.30\n",
       "Name: user_score, dtype: float64"
      ]
     },
     "metadata": {},
     "output_type": "display_data"
    }
   ],
   "source": [
    "pc_ratings = df_actual.query('platform == \"PC\"')['user_score'].dropna()\n",
    "display(pc_ratings.describe())"
   ]
  },
  {
   "cell_type": "code",
   "execution_count": 135,
   "metadata": {
    "scrolled": false
   },
   "outputs": [
    {
     "data": {
      "image/png": "[encoded data removed]",
      "text/plain": [
       "<Figure size 432x288 with 1 Axes>"
      ]
     },
     "metadata": {
      "needs_background": "light"
     },
     "output_type": "display_data"
    }
   ],
   "source": [
    "xo_ratings.plot.hist(bins = 100, label = 'XOne', alpha = 0.7)\n",
    "pc_ratings.plot.hist(bins = 100, label = 'PC', alpha = 0.7)\n",
    "plt.title('Comparison of XOne and PC charts')\n",
    "plt.legend(loc = 'upper left')\n",
    "plt.show()"
   ]
  },
  {
   "cell_type": "markdown",
   "metadata": {},
   "source": [
    "<div class=\"alert alert-info\">\n",
    "\n",
    "Studying the information, we can preliminarily conclude that user ratings are very similar. Let's check\n",
    "    \n",
    "Null hypothesis: <b>\"The average user ratings of Xbox One and PC platforms are the same.\"</b>\n",
    "    \n",
    "Alternative hypothesis: <b>\"The average user ratings of Xbox One and PC platforms are different.\""
   ]
  },
  {
   "cell_type": "code",
   "execution_count": 136,
   "metadata": {
    "scrolled": false
   },
   "outputs": [
    {
     "name": "stdout",
     "output_type": "stream",
     "text": [
      "p-value: 0.10450648833224654\n",
      "Failed to reject the null hypothesis.\n"
     ]
    }
   ],
   "source": [
    "alpha = 0.05\n",
    "results = st.ttest_ind(xo_ratings, pc_ratings)\n",
    "\n",
    "print('p-value:', results.pvalue)\n",
    "if (results.pvalue < alpha):\n",
    "    print(\"Reject the null hypothesis.\")\n",
    "else:\n",
    "    print(\"Failed to reject the null hypothesis.\")"
   ]
  },
  {
   "cell_type": "markdown",
   "metadata": {},
   "source": [
    "<div class=\"alert alert-info\">\n",
    "There are grounds to believe that the average user ratings of Xbox One and PC platforms are indeed the same."
   ]
  },
  {
   "cell_type": "markdown",
   "metadata": {},
   "source": [
    "### The average user ratings of the Action and Sports genres are different."
   ]
  },
  {
   "cell_type": "code",
   "execution_count": 137,
   "metadata": {},
   "outputs": [
    {
     "name": "stdout",
     "output_type": "stream",
     "text": [
      "count   297.00\n",
      "mean      6.76\n",
      "std       1.38\n",
      "min       2.00\n",
      "25%       6.10\n",
      "50%       7.10\n",
      "75%       7.70\n",
      "max       9.00\n",
      "Name: user_score, dtype: float64\n"
     ]
    }
   ],
   "source": [
    "action_ratings = df_actual.query('genre == \"Action\"')['user_score'].dropna()\n",
    "print(action_ratings.describe())"
   ]
  },
  {
   "cell_type": "code",
   "execution_count": 138,
   "metadata": {
    "scrolled": false
   },
   "outputs": [
    {
     "name": "stdout",
     "output_type": "stream",
     "text": [
      "count   127.00\n",
      "mean      5.23\n",
      "std       1.86\n",
      "min       0.20\n",
      "25%       4.00\n",
      "50%       5.50\n",
      "75%       6.65\n",
      "max       8.80\n",
      "Name: user_score, dtype: float64\n"
     ]
    }
   ],
   "source": [
    "sport_ratings = df_actual.query('genre == \"Sports\"')['user_score'].dropna()\n",
    "print(sport_ratings.describe())"
   ]
  },
  {
   "cell_type": "code",
   "execution_count": 139,
   "metadata": {
    "scrolled": false
   },
   "outputs": [
    {
     "data": {
      "image/png": "[encoded data removed]",
      "text/plain": [
       "<Figure size 432x288 with 1 Axes>"
      ]
     },
     "metadata": {
      "needs_background": "light"
     },
     "output_type": "display_data"
    }
   ],
   "source": [
    "action_ratings.plot.hist(bins = 100, label = 'Action', alpha = 0.7)\n",
    "sport_ratings.plot.hist(bins = 100, label = 'Sport', alpha = 0.7)\n",
    "plt.title('Comparison of Action and Sports charts.')\n",
    "plt.legend(loc = 'upper left')\n",
    "plt.show()"
   ]
  },
  {
   "cell_type": "markdown",
   "metadata": {},
   "source": [
    "<div class=\"alert alert-info\">\n",
    "Изучив информацию можно предварительно придти к выводу пользовательские оценки достаточно сильно отличаются. Проверим<br>\n",
    "Нулевая гипотеза: <b>\"Средние пользовательские рейтинги жанров Action и Sports одинаковые\".</b> <br>\n",
    "Альтернативная гипотеза: <b> \"Средние пользовательские рейтинги жанров Action и Sports различаются\".</b>"
   ]
  },
  {
   "cell_type": "code",
   "execution_count": 140,
   "metadata": {
    "scrolled": true
   },
   "outputs": [
    {
     "name": "stdout",
     "output_type": "stream",
     "text": [
      "p-value: 2.871146400695882e-19\n",
      "Reject the null hypothesis.\n"
     ]
    }
   ],
   "source": [
    "results = st.ttest_ind(action_ratings, sport_ratings)\n",
    "print('p-value:', results.pvalue)\n",
    "if (results.pvalue < alpha):\n",
    "    print(\"Reject the null hypothesis.\")\n",
    "else:\n",
    "    print(\"Failed to reject the null hypothesis.\")"
   ]
  },
  {
   "cell_type": "markdown",
   "metadata": {},
   "source": [
    "<div class=\"alert alert-info\">\n",
    "There is reason to believe that the average user ratings for the Action and Sports genres are indeed different."
   ]
  },
  {
   "cell_type": "markdown",
   "metadata": {},
   "source": [
    "## Overall Conclusion"
   ]
  },
  {
   "cell_type": "markdown",
   "metadata": {},
   "source": [
    "<div class=\"alert alert-info\">  \n",
    "I have examined and analyzed data from the online store \"Streamchik\" containing information about games released from 1980 to 2016. <br>  \n",
    "\n",
    "The dataset includes 16,715 records with information on the **game title**, **platform** it was released on, **release year**, and **genre**. It also contains data on sales in various regions (North America/Europe/Japan/Rest of the World), **age rating**, and **user and critic scores**.  \n",
    "\n",
    "**During the data preprocessing, I:**    \n",
    "\n",
    "1. Converted column names to lowercase.  \n",
    "2. Removed rows missing the game title and release year.  \n",
    "3. Processed *tbd* (to be decided/determined) values in *user_score* (replaced with NaN).  \n",
    "4. Converted columns to more appropriate and efficient data types.  \n",
    "5. Explained the possibility of keeping NaN values in rating and score columns and identified possible reasons for their presence.  \n",
    "\n",
    "**Key findings from the analysis:**  \n",
    "\n",
    "**Relevance:**  \n",
    "\n",
    "1. The peak of game production occurred between 2002 and 2011. After that, production declined, marking the beginning of a new era, making data before 2012 irrelevant for our analysis.  \n",
    "2. The average lifespan of a platform from its introduction to peak popularity is 6 years, followed by another 6 years of decline.  \n",
    "3. Given the dynamic nature of the gaming market, a three-year period was selected as the \"relevant period.\" During this period, 1,676 games were released, providing sufficient data for analysis.  \n",
    "\n",
    "**Sales Analysis:**  \n",
    "\n",
    "1. Sales continued to decline across all platforms in 2016.  \n",
    "2. The top-selling platforms were **PS4, PS3, X360, 3DS, and XOne**.  \n",
    "3. **PS4 is currently the most successful platform.**  \n",
    "4. There is a **strong correlation** between critic ratings and sales, while **user ratings show little to no correlation** with sales.  \n",
    "5. **Shooters account for a quarter of all sales.**  \n",
    "6. **Japanese platforms dominate all markets.** In Europe, half of the sales belong to PS4, while in Japan, 3DS holds the largest share.  \n",
    "7. **Genre preferences in Europe and North America are identical**, with the top three genres being **action, shooters, and sports games**.  \n",
    "8. **In Japan, almost two-thirds of all games fall into the action (33%) or role-playing (31%) categories.**  \n",
    "9. **Sales vary significantly by region based on age rating.** In Europe and North America, games rated **17+** dominate, whereas in Japan, more than half of the games are rated for a **younger audience**.  \n",
    "\n",
    "**Hypothesis Testing:**  \n",
    "\n",
    "1. **\"The average user ratings for Xbox One and PC platforms are the same.\"**  - There is reason to believe that this hypothesis is **true**.  \n",
    "2. **\"The average user ratings for Action and Sports genres are the same.\"** - There is reason to believe that this hypothesis is **false**."
   ]
  },
  {
   "cell_type": "markdown",
   "metadata": {},
   "source": [
    "<div class=\"alert alert-info\">  \n",
    "\n",
    "**Key Recommendations:**  \n",
    "\n",
    "1. **Focus on High-Sales Platforms:**  \n",
    "    **PS4** is the most profitable platform with the highest average sales per game. Prioritizing releases for this platform can maximize revenue.  \n",
    "\n",
    "2. **Prioritize Popular Genres:**  \n",
    "    **Shooters** have the highest average sales, making them a strong investment. **Sports and platformers** also perform well.  \n",
    "\n",
    "3. **Leverage Critical Reviews:**  \n",
    "    Sales are **strongly correlated with critic scores**, so securing high ratings can significantly boost revenue.  \n",
    "\n",
    "4. **Target Regional Preferences:**  \n",
    "    In **North America and Europe**, focus on **action, shooters, and sports games**. In **Japan**, prioritize **role-playing games (RPGs) and action games**, especially on portable platforms.  "
   ]
  },
  {
   "cell_type": "code",
   "execution_count": null,
   "metadata": {},
   "outputs": [],
   "source": []
  }
 ],
 "metadata": {
  "ExecuteTimeLog": [
   {
    "duration": 47,
    "start_time": "2024-09-22T18:17:21.116Z"
   },
   {
    "duration": 430,
    "start_time": "2024-09-22T18:17:26.728Z"
   },
   {
    "duration": 218,
    "start_time": "2024-09-22T18:17:27.919Z"
   },
   {
    "duration": 3,
    "start_time": "2024-09-22T18:18:28.944Z"
   },
   {
    "duration": 27,
    "start_time": "2024-09-22T18:18:55.134Z"
   },
   {
    "duration": 7,
    "start_time": "2024-09-22T18:19:57.789Z"
   },
   {
    "duration": 4,
    "start_time": "2024-09-22T18:21:18.850Z"
   },
   {
    "duration": 4,
    "start_time": "2024-09-22T18:22:34.308Z"
   },
   {
    "duration": 29,
    "start_time": "2024-09-22T19:10:08.646Z"
   },
   {
    "duration": 63,
    "start_time": "2024-09-22T19:14:06.744Z"
   },
   {
    "duration": 20,
    "start_time": "2024-09-22T19:14:28.664Z"
   },
   {
    "duration": 13,
    "start_time": "2024-09-22T19:14:40.782Z"
   },
   {
    "duration": 12,
    "start_time": "2024-09-22T19:15:01.309Z"
   },
   {
    "duration": 19,
    "start_time": "2024-09-22T19:16:52.083Z"
   },
   {
    "duration": 23,
    "start_time": "2024-09-22T19:19:14.398Z"
   },
   {
    "duration": 10,
    "start_time": "2024-09-22T19:26:11.282Z"
   },
   {
    "duration": 12,
    "start_time": "2024-09-22T19:26:17.139Z"
   },
   {
    "duration": 7,
    "start_time": "2024-09-22T19:27:05.979Z"
   },
   {
    "duration": 9,
    "start_time": "2024-09-22T19:28:09.152Z"
   },
   {
    "duration": 15,
    "start_time": "2024-09-22T19:28:43.764Z"
   },
   {
    "duration": 25,
    "start_time": "2024-09-22T19:33:56.813Z"
   },
   {
    "duration": 25,
    "start_time": "2024-09-22T19:35:04.384Z"
   },
   {
    "duration": 11,
    "start_time": "2024-09-22T19:35:20.193Z"
   },
   {
    "duration": 22,
    "start_time": "2024-09-22T19:36:16.894Z"
   },
   {
    "duration": 11,
    "start_time": "2024-09-22T19:38:05.705Z"
   },
   {
    "duration": 45,
    "start_time": "2024-09-22T19:38:24.443Z"
   },
   {
    "duration": 5,
    "start_time": "2024-09-22T19:38:31.143Z"
   },
   {
    "duration": 42,
    "start_time": "2024-09-22T19:39:42.253Z"
   },
   {
    "duration": 7,
    "start_time": "2024-09-22T19:40:08.405Z"
   },
   {
    "duration": 8,
    "start_time": "2024-09-22T19:40:51.202Z"
   },
   {
    "duration": 2,
    "start_time": "2024-09-22T19:41:39.856Z"
   },
   {
    "duration": 10,
    "start_time": "2024-09-22T19:41:52.533Z"
   },
   {
    "duration": 14,
    "start_time": "2024-09-22T19:44:28.130Z"
   },
   {
    "duration": 19,
    "start_time": "2024-09-22T19:45:28.879Z"
   },
   {
    "duration": 3,
    "start_time": "2024-09-22T20:08:25.527Z"
   },
   {
    "duration": 2,
    "start_time": "2024-09-22T20:08:55.708Z"
   },
   {
    "duration": 15,
    "start_time": "2024-09-22T20:11:40.032Z"
   },
   {
    "duration": 12,
    "start_time": "2024-09-22T20:14:32.773Z"
   },
   {
    "duration": 10,
    "start_time": "2024-09-22T20:15:34.673Z"
   },
   {
    "duration": 12,
    "start_time": "2024-09-22T20:15:45.168Z"
   },
   {
    "duration": 23,
    "start_time": "2024-09-22T20:32:58.583Z"
   },
   {
    "duration": 21,
    "start_time": "2024-09-22T20:33:10.116Z"
   },
   {
    "duration": 15,
    "start_time": "2024-09-22T20:34:48.507Z"
   },
   {
    "duration": 4,
    "start_time": "2024-09-22T20:36:02.273Z"
   },
   {
    "duration": 43,
    "start_time": "2024-09-22T20:38:55.757Z"
   },
   {
    "duration": 657,
    "start_time": "2024-09-22T20:39:39.221Z"
   },
   {
    "duration": 106,
    "start_time": "2024-09-22T20:40:12.911Z"
   },
   {
    "duration": 118,
    "start_time": "2024-09-22T20:41:16.621Z"
   },
   {
    "duration": 13,
    "start_time": "2024-09-22T20:42:15.435Z"
   },
   {
    "duration": 10,
    "start_time": "2024-09-22T20:42:22.018Z"
   },
   {
    "duration": 30,
    "start_time": "2024-09-22T20:42:31.363Z"
   },
   {
    "duration": 8,
    "start_time": "2024-09-22T20:42:50.109Z"
   },
   {
    "duration": 7,
    "start_time": "2024-09-22T20:43:02.741Z"
   },
   {
    "duration": 8,
    "start_time": "2024-09-22T20:44:16.043Z"
   },
   {
    "duration": 4,
    "start_time": "2024-09-22T20:44:55.038Z"
   },
   {
    "duration": 5,
    "start_time": "2024-09-22T20:45:06.556Z"
   },
   {
    "duration": 3,
    "start_time": "2024-09-22T20:45:20.981Z"
   },
   {
    "duration": 4,
    "start_time": "2024-09-22T20:46:09.888Z"
   },
   {
    "duration": 3,
    "start_time": "2024-09-22T20:46:23.092Z"
   },
   {
    "duration": 8,
    "start_time": "2024-09-22T20:47:07.987Z"
   },
   {
    "duration": 4,
    "start_time": "2024-09-22T20:48:23.445Z"
   },
   {
    "duration": 6,
    "start_time": "2024-09-22T20:48:35.664Z"
   },
   {
    "duration": 4,
    "start_time": "2024-09-22T20:48:46.103Z"
   },
   {
    "duration": 5,
    "start_time": "2024-09-22T20:50:31.941Z"
   },
   {
    "duration": 4,
    "start_time": "2024-09-22T20:50:57.913Z"
   },
   {
    "duration": 34,
    "start_time": "2024-09-22T20:51:40.405Z"
   },
   {
    "duration": 16,
    "start_time": "2024-09-22T20:53:33.812Z"
   },
   {
    "duration": 11,
    "start_time": "2024-09-22T20:54:33.422Z"
   },
   {
    "duration": 3,
    "start_time": "2024-09-22T20:55:28.607Z"
   },
   {
    "duration": 11,
    "start_time": "2024-09-22T20:55:45.780Z"
   },
   {
    "duration": 45,
    "start_time": "2024-09-22T20:57:07.951Z"
   },
   {
    "duration": 57,
    "start_time": "2024-09-22T20:58:25.001Z"
   },
   {
    "duration": 3,
    "start_time": "2024-09-22T20:59:19.544Z"
   },
   {
    "duration": 11,
    "start_time": "2024-09-22T20:59:26.724Z"
   },
   {
    "duration": 14,
    "start_time": "2024-09-22T20:59:43.972Z"
   },
   {
    "duration": 12,
    "start_time": "2024-09-22T21:00:07.093Z"
   },
   {
    "duration": 13,
    "start_time": "2024-09-22T21:00:36.252Z"
   },
   {
    "duration": 14,
    "start_time": "2024-09-22T22:14:56.575Z"
   },
   {
    "duration": 5,
    "start_time": "2024-09-23T20:02:32.141Z"
   },
   {
    "duration": 50,
    "start_time": "2024-09-23T20:17:18.910Z"
   },
   {
    "duration": 395,
    "start_time": "2024-09-23T20:17:25.002Z"
   },
   {
    "duration": 215,
    "start_time": "2024-09-23T20:17:25.399Z"
   },
   {
    "duration": 4,
    "start_time": "2024-09-23T20:17:25.615Z"
   },
   {
    "duration": 99,
    "start_time": "2024-09-23T20:17:25.620Z"
   },
   {
    "duration": 19,
    "start_time": "2024-09-23T20:17:25.721Z"
   },
   {
    "duration": 4,
    "start_time": "2024-09-23T20:17:25.742Z"
   },
   {
    "duration": 5,
    "start_time": "2024-09-23T20:17:25.748Z"
   },
   {
    "duration": 0,
    "start_time": "2024-09-23T20:17:25.755Z"
   },
   {
    "duration": 0,
    "start_time": "2024-09-23T20:17:25.756Z"
   },
   {
    "duration": 0,
    "start_time": "2024-09-23T20:17:25.757Z"
   },
   {
    "duration": 0,
    "start_time": "2024-09-23T20:17:25.758Z"
   },
   {
    "duration": 3,
    "start_time": "2024-09-23T20:17:41.974Z"
   },
   {
    "duration": 69,
    "start_time": "2024-09-23T20:17:41.978Z"
   },
   {
    "duration": 3,
    "start_time": "2024-09-23T20:17:42.049Z"
   },
   {
    "duration": 26,
    "start_time": "2024-09-23T20:17:42.054Z"
   },
   {
    "duration": 19,
    "start_time": "2024-09-23T20:17:42.081Z"
   },
   {
    "duration": 6,
    "start_time": "2024-09-23T20:17:42.101Z"
   },
   {
    "duration": 7,
    "start_time": "2024-09-23T20:17:42.109Z"
   },
   {
    "duration": 16,
    "start_time": "2024-09-23T20:17:42.118Z"
   },
   {
    "duration": 14,
    "start_time": "2024-09-23T20:17:42.135Z"
   },
   {
    "duration": 43,
    "start_time": "2024-09-23T20:17:42.151Z"
   },
   {
    "duration": 688,
    "start_time": "2024-09-23T20:17:42.195Z"
   },
   {
    "duration": 307,
    "start_time": "2024-09-23T20:18:02.510Z"
   },
   {
    "duration": 3,
    "start_time": "2024-09-23T20:46:56.322Z"
   },
   {
    "duration": 69,
    "start_time": "2024-09-23T20:46:56.327Z"
   },
   {
    "duration": 3,
    "start_time": "2024-09-23T20:46:56.398Z"
   },
   {
    "duration": 25,
    "start_time": "2024-09-23T20:46:56.402Z"
   },
   {
    "duration": 17,
    "start_time": "2024-09-23T20:46:56.429Z"
   },
   {
    "duration": 5,
    "start_time": "2024-09-23T20:46:56.447Z"
   },
   {
    "duration": 86,
    "start_time": "2024-09-23T20:46:56.453Z"
   },
   {
    "duration": 17,
    "start_time": "2024-09-23T20:46:56.541Z"
   },
   {
    "duration": 41,
    "start_time": "2024-09-23T20:46:56.560Z"
   },
   {
    "duration": 13,
    "start_time": "2024-09-23T20:46:56.603Z"
   },
   {
    "duration": 306,
    "start_time": "2024-09-23T20:46:56.617Z"
   },
   {
    "duration": 28,
    "start_time": "2024-09-23T20:46:56.924Z"
   },
   {
    "duration": 9,
    "start_time": "2024-09-23T20:46:56.953Z"
   },
   {
    "duration": 57,
    "start_time": "2024-09-23T20:46:56.964Z"
   },
   {
    "duration": 19,
    "start_time": "2024-09-23T20:48:28.347Z"
   },
   {
    "duration": 2,
    "start_time": "2024-09-23T20:50:33.123Z"
   },
   {
    "duration": 78,
    "start_time": "2024-09-23T20:50:33.126Z"
   },
   {
    "duration": 4,
    "start_time": "2024-09-23T20:50:33.205Z"
   },
   {
    "duration": 32,
    "start_time": "2024-09-23T20:50:33.210Z"
   },
   {
    "duration": 46,
    "start_time": "2024-09-23T20:50:33.244Z"
   },
   {
    "duration": 6,
    "start_time": "2024-09-23T20:50:33.291Z"
   },
   {
    "duration": 28,
    "start_time": "2024-09-23T20:50:33.298Z"
   },
   {
    "duration": 47,
    "start_time": "2024-09-23T20:50:33.327Z"
   },
   {
    "duration": 15,
    "start_time": "2024-09-23T20:50:33.376Z"
   },
   {
    "duration": 43,
    "start_time": "2024-09-23T20:50:33.392Z"
   },
   {
    "duration": 285,
    "start_time": "2024-09-23T20:50:33.436Z"
   },
   {
    "duration": 27,
    "start_time": "2024-09-23T20:50:33.723Z"
   },
   {
    "duration": 65,
    "start_time": "2024-09-23T20:50:33.752Z"
   },
   {
    "duration": 20,
    "start_time": "2024-09-23T20:50:33.818Z"
   },
   {
    "duration": 77,
    "start_time": "2024-09-23T20:51:00.477Z"
   },
   {
    "duration": 15,
    "start_time": "2024-09-23T20:51:49.190Z"
   },
   {
    "duration": 15,
    "start_time": "2024-09-23T20:52:50.718Z"
   },
   {
    "duration": 8,
    "start_time": "2024-09-23T20:52:56.027Z"
   },
   {
    "duration": 4,
    "start_time": "2024-09-23T20:55:03.757Z"
   },
   {
    "duration": 4,
    "start_time": "2024-09-23T20:55:44.997Z"
   },
   {
    "duration": 81,
    "start_time": "2024-09-23T20:55:52.655Z"
   },
   {
    "duration": 113,
    "start_time": "2024-09-23T20:56:03.536Z"
   },
   {
    "duration": 4,
    "start_time": "2024-09-23T20:56:41.658Z"
   },
   {
    "duration": 3,
    "start_time": "2024-09-23T20:57:14.330Z"
   },
   {
    "duration": 89,
    "start_time": "2024-09-23T20:57:22.701Z"
   },
   {
    "duration": 877,
    "start_time": "2024-09-23T21:16:20.549Z"
   },
   {
    "duration": 45,
    "start_time": "2024-09-23T21:16:49.862Z"
   },
   {
    "duration": 992,
    "start_time": "2024-09-23T21:17:01.712Z"
   },
   {
    "duration": 27,
    "start_time": "2024-09-23T21:20:33.299Z"
   },
   {
    "duration": 14,
    "start_time": "2024-09-23T21:21:52.832Z"
   },
   {
    "duration": 14,
    "start_time": "2024-09-23T21:24:12.676Z"
   },
   {
    "duration": 13,
    "start_time": "2024-09-23T21:25:41.548Z"
   },
   {
    "duration": 24,
    "start_time": "2024-09-23T21:26:43.577Z"
   },
   {
    "duration": 18,
    "start_time": "2024-09-23T21:30:53.508Z"
   },
   {
    "duration": 35,
    "start_time": "2024-09-23T21:39:42.976Z"
   },
   {
    "duration": 26,
    "start_time": "2024-09-23T21:40:42.717Z"
   },
   {
    "duration": 27,
    "start_time": "2024-09-23T21:41:21.332Z"
   },
   {
    "duration": 24,
    "start_time": "2024-09-23T21:41:34.516Z"
   },
   {
    "duration": 12,
    "start_time": "2024-09-23T21:41:52.709Z"
   },
   {
    "duration": 14,
    "start_time": "2024-09-23T21:42:24.211Z"
   },
   {
    "duration": 17,
    "start_time": "2024-09-23T21:42:48.684Z"
   },
   {
    "duration": 14,
    "start_time": "2024-09-23T22:04:36.166Z"
   },
   {
    "duration": 11,
    "start_time": "2024-09-23T22:04:42.718Z"
   },
   {
    "duration": 3,
    "start_time": "2024-09-23T22:06:39.702Z"
   },
   {
    "duration": 64,
    "start_time": "2024-09-23T22:06:39.707Z"
   },
   {
    "duration": 3,
    "start_time": "2024-09-23T22:06:39.773Z"
   },
   {
    "duration": 26,
    "start_time": "2024-09-23T22:06:39.778Z"
   },
   {
    "duration": 23,
    "start_time": "2024-09-23T22:06:39.806Z"
   },
   {
    "duration": 5,
    "start_time": "2024-09-23T22:06:39.831Z"
   },
   {
    "duration": 20,
    "start_time": "2024-09-23T22:06:39.838Z"
   },
   {
    "duration": 31,
    "start_time": "2024-09-23T22:06:39.860Z"
   },
   {
    "duration": 15,
    "start_time": "2024-09-23T22:06:39.893Z"
   },
   {
    "duration": 20,
    "start_time": "2024-09-23T22:06:39.909Z"
   },
   {
    "duration": 314,
    "start_time": "2024-09-23T22:06:39.930Z"
   },
   {
    "duration": 24,
    "start_time": "2024-09-23T22:06:40.246Z"
   },
   {
    "duration": 3,
    "start_time": "2024-09-23T22:06:40.273Z"
   },
   {
    "duration": 909,
    "start_time": "2024-09-23T22:06:40.289Z"
   },
   {
    "duration": 23,
    "start_time": "2024-09-23T22:06:41.200Z"
   },
   {
    "duration": 16,
    "start_time": "2024-09-23T22:06:41.224Z"
   },
   {
    "duration": 13,
    "start_time": "2024-09-23T22:06:41.241Z"
   },
   {
    "duration": 45,
    "start_time": "2024-09-23T22:06:41.255Z"
   },
   {
    "duration": 10,
    "start_time": "2024-09-23T22:06:41.302Z"
   },
   {
    "duration": 89,
    "start_time": "2024-09-23T22:16:43.487Z"
   },
   {
    "duration": 82,
    "start_time": "2024-09-23T22:16:55.144Z"
   },
   {
    "duration": 86,
    "start_time": "2024-09-23T22:17:04.486Z"
   },
   {
    "duration": 2,
    "start_time": "2024-09-23T22:18:51.353Z"
   },
   {
    "duration": 7,
    "start_time": "2024-09-23T22:20:45.368Z"
   },
   {
    "duration": 26,
    "start_time": "2024-09-23T22:20:55.660Z"
   },
   {
    "duration": 472,
    "start_time": "2024-09-23T22:21:08.051Z"
   },
   {
    "duration": 252,
    "start_time": "2024-09-23T22:21:33.621Z"
   },
   {
    "duration": 423,
    "start_time": "2024-09-23T22:25:20.708Z"
   },
   {
    "duration": 81,
    "start_time": "2024-09-23T22:27:28.109Z"
   },
   {
    "duration": 44,
    "start_time": "2024-09-23T22:27:40.118Z"
   },
   {
    "duration": 735,
    "start_time": "2024-09-23T22:31:03.659Z"
   },
   {
    "duration": 11,
    "start_time": "2024-09-23T22:33:46.711Z"
   },
   {
    "duration": 259,
    "start_time": "2024-09-23T22:33:59.111Z"
   },
   {
    "duration": 189,
    "start_time": "2024-09-23T22:37:07.319Z"
   },
   {
    "duration": 183,
    "start_time": "2024-09-23T22:38:11.607Z"
   },
   {
    "duration": 185,
    "start_time": "2024-09-23T22:38:22.323Z"
   },
   {
    "duration": 105,
    "start_time": "2024-09-23T22:38:39.853Z"
   },
   {
    "duration": 104,
    "start_time": "2024-09-23T22:40:42.063Z"
   },
   {
    "duration": 48,
    "start_time": "2024-09-23T22:41:40.473Z"
   },
   {
    "duration": 182,
    "start_time": "2024-09-23T22:42:03.014Z"
   },
   {
    "duration": 243,
    "start_time": "2024-09-23T22:42:13.839Z"
   },
   {
    "duration": 411,
    "start_time": "2024-09-23T22:42:34.095Z"
   },
   {
    "duration": 296,
    "start_time": "2024-09-23T22:43:00.032Z"
   },
   {
    "duration": 307,
    "start_time": "2024-09-23T22:43:17.171Z"
   },
   {
    "duration": 361,
    "start_time": "2024-09-23T22:43:46.251Z"
   },
   {
    "duration": 368,
    "start_time": "2024-09-23T22:44:03.223Z"
   },
   {
    "duration": 243,
    "start_time": "2024-09-23T22:44:17.646Z"
   },
   {
    "duration": 46,
    "start_time": "2024-09-24T19:31:47.372Z"
   },
   {
    "duration": 5,
    "start_time": "2024-09-24T19:32:30.982Z"
   },
   {
    "duration": 1363,
    "start_time": "2024-09-24T19:32:35.280Z"
   },
   {
    "duration": 214,
    "start_time": "2024-09-24T19:32:36.645Z"
   },
   {
    "duration": 3,
    "start_time": "2024-09-24T19:32:36.861Z"
   },
   {
    "duration": 21,
    "start_time": "2024-09-24T19:32:36.865Z"
   },
   {
    "duration": 26,
    "start_time": "2024-09-24T19:32:36.888Z"
   },
   {
    "duration": 6,
    "start_time": "2024-09-24T19:32:36.916Z"
   },
   {
    "duration": 8,
    "start_time": "2024-09-24T19:32:36.924Z"
   },
   {
    "duration": 25,
    "start_time": "2024-09-24T19:32:36.933Z"
   },
   {
    "duration": 15,
    "start_time": "2024-09-24T19:32:36.975Z"
   },
   {
    "duration": 20,
    "start_time": "2024-09-24T19:32:36.991Z"
   },
   {
    "duration": 332,
    "start_time": "2024-09-24T19:32:37.012Z"
   },
   {
    "duration": 16,
    "start_time": "2024-09-24T19:32:37.345Z"
   },
   {
    "duration": 17,
    "start_time": "2024-09-24T19:32:37.362Z"
   },
   {
    "duration": 965,
    "start_time": "2024-09-24T19:32:37.381Z"
   },
   {
    "duration": 28,
    "start_time": "2024-09-24T19:32:38.348Z"
   },
   {
    "duration": 16,
    "start_time": "2024-09-24T19:32:38.378Z"
   },
   {
    "duration": 62,
    "start_time": "2024-09-24T19:32:38.395Z"
   },
   {
    "duration": 17,
    "start_time": "2024-09-24T19:32:38.458Z"
   },
   {
    "duration": 9,
    "start_time": "2024-09-24T19:32:38.476Z"
   },
   {
    "duration": 109,
    "start_time": "2024-09-24T19:32:38.487Z"
   },
   {
    "duration": 202,
    "start_time": "2024-09-24T19:32:38.597Z"
   },
   {
    "duration": 267,
    "start_time": "2024-09-24T19:32:38.801Z"
   },
   {
    "duration": 44,
    "start_time": "2024-09-24T19:33:02.617Z"
   },
   {
    "duration": 41,
    "start_time": "2024-09-24T19:33:38.547Z"
   },
   {
    "duration": 42,
    "start_time": "2024-09-24T19:33:53.640Z"
   },
   {
    "duration": 62,
    "start_time": "2024-09-24T19:34:07.747Z"
   },
   {
    "duration": 68,
    "start_time": "2024-09-24T19:34:15.457Z"
   },
   {
    "duration": 14,
    "start_time": "2024-09-24T20:15:20.398Z"
   },
   {
    "duration": 10,
    "start_time": "2024-09-24T20:21:27.411Z"
   },
   {
    "duration": 68,
    "start_time": "2024-09-24T20:22:22.650Z"
   },
   {
    "duration": 773,
    "start_time": "2024-09-24T20:23:20.311Z"
   },
   {
    "duration": 3,
    "start_time": "2024-09-24T20:24:28.912Z"
   },
   {
    "duration": 722,
    "start_time": "2024-09-24T20:24:35.522Z"
   },
   {
    "duration": 816,
    "start_time": "2024-09-24T20:24:57.126Z"
   },
   {
    "duration": 721,
    "start_time": "2024-09-24T20:25:09.127Z"
   },
   {
    "duration": 255,
    "start_time": "2024-09-24T20:50:39.672Z"
   },
   {
    "duration": 10,
    "start_time": "2024-09-24T20:50:56.150Z"
   },
   {
    "duration": 10,
    "start_time": "2024-09-24T20:54:38.010Z"
   },
   {
    "duration": 10,
    "start_time": "2024-09-24T20:54:48.960Z"
   },
   {
    "duration": 2,
    "start_time": "2024-09-24T20:55:18.522Z"
   },
   {
    "duration": 172,
    "start_time": "2024-09-24T20:55:28.819Z"
   },
   {
    "duration": 16,
    "start_time": "2024-09-24T21:17:11.059Z"
   },
   {
    "duration": 14,
    "start_time": "2024-09-24T21:17:16.448Z"
   },
   {
    "duration": 10,
    "start_time": "2024-09-24T21:33:27.823Z"
   },
   {
    "duration": 15,
    "start_time": "2024-09-24T21:33:34.072Z"
   },
   {
    "duration": 17,
    "start_time": "2024-09-24T21:33:39.531Z"
   },
   {
    "duration": 36,
    "start_time": "2024-09-24T21:33:48.121Z"
   },
   {
    "duration": 471,
    "start_time": "2024-09-24T21:36:50.063Z"
   },
   {
    "duration": 3,
    "start_time": "2024-09-24T21:37:30.911Z"
   },
   {
    "duration": 454,
    "start_time": "2024-09-24T21:38:09.316Z"
   },
   {
    "duration": 551,
    "start_time": "2024-09-24T21:38:14.325Z"
   },
   {
    "duration": 458,
    "start_time": "2024-09-24T21:38:27.327Z"
   },
   {
    "duration": 540,
    "start_time": "2024-09-24T21:38:44.213Z"
   },
   {
    "duration": 536,
    "start_time": "2024-09-24T21:39:09.562Z"
   },
   {
    "duration": 21,
    "start_time": "2024-09-24T21:49:00.359Z"
   },
   {
    "duration": 17,
    "start_time": "2024-09-24T21:50:21.276Z"
   },
   {
    "duration": 14,
    "start_time": "2024-09-24T21:50:50.165Z"
   },
   {
    "duration": 15,
    "start_time": "2024-09-24T21:51:22.899Z"
   },
   {
    "duration": 14,
    "start_time": "2024-09-24T21:51:53.118Z"
   },
   {
    "duration": 271,
    "start_time": "2024-09-24T21:55:57.088Z"
   },
   {
    "duration": 421,
    "start_time": "2024-09-24T21:56:08.178Z"
   },
   {
    "duration": 388,
    "start_time": "2024-09-24T21:56:52.190Z"
   },
   {
    "duration": 584,
    "start_time": "2024-09-24T21:57:08.111Z"
   },
   {
    "duration": 386,
    "start_time": "2024-09-24T21:58:05.277Z"
   },
   {
    "duration": 392,
    "start_time": "2024-09-24T21:58:16.878Z"
   },
   {
    "duration": 389,
    "start_time": "2024-09-24T21:58:29.268Z"
   },
   {
    "duration": 10,
    "start_time": "2024-09-24T22:17:36.455Z"
   },
   {
    "duration": 4,
    "start_time": "2024-09-24T22:17:58.678Z"
   },
   {
    "duration": 10,
    "start_time": "2024-09-24T22:18:07.223Z"
   },
   {
    "duration": 5,
    "start_time": "2024-09-24T22:18:21.376Z"
   },
   {
    "duration": 6,
    "start_time": "2024-09-24T22:19:05.463Z"
   },
   {
    "duration": 11,
    "start_time": "2024-09-24T22:19:24.145Z"
   },
   {
    "duration": 12,
    "start_time": "2024-09-24T22:19:24.158Z"
   },
   {
    "duration": 579,
    "start_time": "2024-09-24T22:19:24.172Z"
   },
   {
    "duration": 5,
    "start_time": "2024-09-24T22:19:24.753Z"
   },
   {
    "duration": 10,
    "start_time": "2024-09-24T22:21:43.807Z"
   },
   {
    "duration": 11,
    "start_time": "2024-09-24T22:23:01.006Z"
   },
   {
    "duration": 9,
    "start_time": "2024-09-24T22:23:10.785Z"
   },
   {
    "duration": 381,
    "start_time": "2024-09-24T22:25:13.585Z"
   },
   {
    "duration": 362,
    "start_time": "2024-09-24T22:25:41.648Z"
   },
   {
    "duration": 10,
    "start_time": "2024-09-24T22:26:31.853Z"
   },
   {
    "duration": 4,
    "start_time": "2024-09-24T22:27:06.283Z"
   },
   {
    "duration": 5,
    "start_time": "2024-09-24T22:28:55.553Z"
   },
   {
    "duration": 14,
    "start_time": "2024-09-24T22:32:27.977Z"
   },
   {
    "duration": 3,
    "start_time": "2024-09-24T22:32:44.150Z"
   },
   {
    "duration": 2,
    "start_time": "2024-09-24T22:34:09.416Z"
   },
   {
    "duration": 79,
    "start_time": "2024-09-24T22:54:38.869Z"
   },
   {
    "duration": 77,
    "start_time": "2024-09-24T22:54:53.318Z"
   },
   {
    "duration": 77,
    "start_time": "2024-09-24T22:57:05.502Z"
   },
   {
    "duration": 849,
    "start_time": "2024-09-24T23:32:59.777Z"
   },
   {
    "duration": 10,
    "start_time": "2024-09-24T23:34:47.911Z"
   },
   {
    "duration": 77,
    "start_time": "2024-09-24T23:35:27.196Z"
   },
   {
    "duration": 3,
    "start_time": "2024-09-24T23:36:28.796Z"
   },
   {
    "duration": 79,
    "start_time": "2024-09-24T23:36:28.801Z"
   },
   {
    "duration": 4,
    "start_time": "2024-09-24T23:36:28.882Z"
   },
   {
    "duration": 22,
    "start_time": "2024-09-24T23:36:28.887Z"
   },
   {
    "duration": 6,
    "start_time": "2024-09-24T23:36:28.910Z"
   },
   {
    "duration": 7,
    "start_time": "2024-09-24T23:36:28.918Z"
   },
   {
    "duration": 17,
    "start_time": "2024-09-24T23:36:41.735Z"
   },
   {
    "duration": 18,
    "start_time": "2024-09-24T23:36:56.826Z"
   },
   {
    "duration": 17,
    "start_time": "2024-09-24T23:37:06.550Z"
   },
   {
    "duration": 17,
    "start_time": "2024-09-24T23:39:26.367Z"
   },
   {
    "duration": 7,
    "start_time": "2024-09-24T23:40:19.923Z"
   },
   {
    "duration": 3,
    "start_time": "2024-09-24T23:43:56.544Z"
   },
   {
    "duration": 76,
    "start_time": "2024-09-24T23:43:56.549Z"
   },
   {
    "duration": 4,
    "start_time": "2024-09-24T23:43:56.627Z"
   },
   {
    "duration": 29,
    "start_time": "2024-09-24T23:43:56.633Z"
   },
   {
    "duration": 16,
    "start_time": "2024-09-24T23:43:56.664Z"
   },
   {
    "duration": 8,
    "start_time": "2024-09-24T23:43:56.780Z"
   },
   {
    "duration": 18,
    "start_time": "2024-09-24T23:43:56.789Z"
   },
   {
    "duration": 16,
    "start_time": "2024-09-24T23:43:56.809Z"
   },
   {
    "duration": 14,
    "start_time": "2024-09-24T23:43:56.827Z"
   },
   {
    "duration": 48,
    "start_time": "2024-09-24T23:44:43.847Z"
   },
   {
    "duration": 2,
    "start_time": "2024-09-24T23:55:57.712Z"
   },
   {
    "duration": 50,
    "start_time": "2024-09-25T00:00:04.351Z"
   },
   {
    "duration": 1461,
    "start_time": "2024-09-25T19:01:42.899Z"
   },
   {
    "duration": 202,
    "start_time": "2024-09-25T19:01:44.362Z"
   },
   {
    "duration": 3,
    "start_time": "2024-09-25T19:01:44.566Z"
   },
   {
    "duration": 118,
    "start_time": "2024-09-25T19:01:44.571Z"
   },
   {
    "duration": 0,
    "start_time": "2024-09-25T19:01:44.691Z"
   },
   {
    "duration": 0,
    "start_time": "2024-09-25T19:01:44.692Z"
   },
   {
    "duration": 0,
    "start_time": "2024-09-25T19:01:44.693Z"
   },
   {
    "duration": 0,
    "start_time": "2024-09-25T19:01:44.694Z"
   },
   {
    "duration": 0,
    "start_time": "2024-09-25T19:01:44.695Z"
   },
   {
    "duration": 392,
    "start_time": "2024-09-25T19:04:04.350Z"
   },
   {
    "duration": 348,
    "start_time": "2024-09-25T19:04:38.375Z"
   },
   {
    "duration": 320,
    "start_time": "2024-09-25T19:04:53.162Z"
   },
   {
    "duration": 16,
    "start_time": "2024-09-25T19:06:38.163Z"
   },
   {
    "duration": 24,
    "start_time": "2024-09-25T19:06:40.543Z"
   },
   {
    "duration": 15,
    "start_time": "2024-09-25T19:06:44.761Z"
   },
   {
    "duration": 8,
    "start_time": "2024-09-25T19:08:07.570Z"
   },
   {
    "duration": 2,
    "start_time": "2024-09-25T19:15:11.354Z"
   },
   {
    "duration": 81,
    "start_time": "2024-09-25T19:15:11.359Z"
   },
   {
    "duration": 4,
    "start_time": "2024-09-25T19:15:11.441Z"
   },
   {
    "duration": 20,
    "start_time": "2024-09-25T19:15:11.509Z"
   },
   {
    "duration": 7,
    "start_time": "2024-09-25T19:15:11.531Z"
   },
   {
    "duration": 8,
    "start_time": "2024-09-25T19:15:11.540Z"
   },
   {
    "duration": 20,
    "start_time": "2024-09-25T19:15:11.549Z"
   },
   {
    "duration": 14,
    "start_time": "2024-09-25T19:15:11.571Z"
   },
   {
    "duration": 16,
    "start_time": "2024-09-25T19:15:11.653Z"
   },
   {
    "duration": 354,
    "start_time": "2024-09-25T19:15:44.344Z"
   },
   {
    "duration": 398,
    "start_time": "2024-09-25T19:16:03.741Z"
   },
   {
    "duration": 301,
    "start_time": "2024-09-25T19:16:11.952Z"
   },
   {
    "duration": 259,
    "start_time": "2024-09-25T19:17:08.962Z"
   },
   {
    "duration": 261,
    "start_time": "2024-09-25T19:17:51.769Z"
   },
   {
    "duration": 328,
    "start_time": "2024-09-25T19:22:48.983Z"
   },
   {
    "duration": 131,
    "start_time": "2024-09-25T19:24:30.693Z"
   },
   {
    "duration": 270,
    "start_time": "2024-09-25T19:24:51.450Z"
   },
   {
    "duration": 373,
    "start_time": "2024-09-25T19:25:10.322Z"
   },
   {
    "duration": 292,
    "start_time": "2024-09-25T19:25:18.501Z"
   },
   {
    "duration": 282,
    "start_time": "2024-09-25T19:25:27.929Z"
   },
   {
    "duration": 4,
    "start_time": "2024-09-25T19:25:56.799Z"
   },
   {
    "duration": 4,
    "start_time": "2024-09-25T19:26:33.628Z"
   },
   {
    "duration": 770,
    "start_time": "2024-09-25T19:29:45.002Z"
   },
   {
    "duration": 14,
    "start_time": "2024-09-25T19:30:45.943Z"
   },
   {
    "duration": 4,
    "start_time": "2024-09-25T19:31:20.736Z"
   },
   {
    "duration": 285,
    "start_time": "2024-09-25T19:31:39.560Z"
   },
   {
    "duration": 4,
    "start_time": "2024-09-25T19:31:45.941Z"
   },
   {
    "duration": 13,
    "start_time": "2024-09-25T19:31:51.912Z"
   },
   {
    "duration": 101,
    "start_time": "2024-09-25T19:32:25.710Z"
   },
   {
    "duration": 12,
    "start_time": "2024-09-25T19:32:31.530Z"
   },
   {
    "duration": 925,
    "start_time": "2024-09-25T19:32:48.632Z"
   },
   {
    "duration": 11,
    "start_time": "2024-09-25T20:19:11.130Z"
   },
   {
    "duration": 3,
    "start_time": "2024-09-25T20:19:16.890Z"
   },
   {
    "duration": 85,
    "start_time": "2024-09-25T20:19:16.894Z"
   },
   {
    "duration": 3,
    "start_time": "2024-09-25T20:19:16.981Z"
   },
   {
    "duration": 22,
    "start_time": "2024-09-25T20:19:16.985Z"
   },
   {
    "duration": 6,
    "start_time": "2024-09-25T20:19:17.009Z"
   },
   {
    "duration": 10,
    "start_time": "2024-09-25T20:19:17.016Z"
   },
   {
    "duration": 33,
    "start_time": "2024-09-25T20:19:17.027Z"
   },
   {
    "duration": 16,
    "start_time": "2024-09-25T20:19:17.061Z"
   },
   {
    "duration": 13,
    "start_time": "2024-09-25T20:19:17.079Z"
   },
   {
    "duration": 336,
    "start_time": "2024-09-25T20:19:17.093Z"
   },
   {
    "duration": 284,
    "start_time": "2024-09-25T20:19:17.431Z"
   },
   {
    "duration": 4,
    "start_time": "2024-09-25T20:19:17.716Z"
   },
   {
    "duration": 823,
    "start_time": "2024-09-25T20:19:17.722Z"
   },
   {
    "duration": 28,
    "start_time": "2024-09-25T20:19:18.547Z"
   },
   {
    "duration": 18,
    "start_time": "2024-09-25T20:19:18.577Z"
   },
   {
    "duration": 13,
    "start_time": "2024-09-25T20:19:18.597Z"
   },
   {
    "duration": 44,
    "start_time": "2024-09-25T20:19:18.612Z"
   },
   {
    "duration": 20,
    "start_time": "2024-09-25T20:19:18.658Z"
   },
   {
    "duration": 96,
    "start_time": "2024-09-25T20:19:18.680Z"
   },
   {
    "duration": 212,
    "start_time": "2024-09-25T20:19:18.777Z"
   },
   {
    "duration": 73,
    "start_time": "2024-09-25T20:19:18.990Z"
   },
   {
    "duration": 12,
    "start_time": "2024-09-25T20:19:19.064Z"
   },
   {
    "duration": 9,
    "start_time": "2024-09-25T20:19:19.077Z"
   },
   {
    "duration": 835,
    "start_time": "2024-09-25T20:19:19.088Z"
   },
   {
    "duration": 179,
    "start_time": "2024-09-25T20:19:19.925Z"
   },
   {
    "duration": 15,
    "start_time": "2024-09-25T20:19:20.107Z"
   },
   {
    "duration": 13,
    "start_time": "2024-09-25T20:19:34.061Z"
   },
   {
    "duration": 9,
    "start_time": "2024-09-25T20:36:51.360Z"
   },
   {
    "duration": 3,
    "start_time": "2024-09-25T20:36:56.991Z"
   },
   {
    "duration": 108,
    "start_time": "2024-09-25T20:36:58.481Z"
   },
   {
    "duration": 113,
    "start_time": "2024-09-25T20:38:25.599Z"
   },
   {
    "duration": 1179,
    "start_time": "2024-09-25T20:39:54.355Z"
   },
   {
    "duration": 1668,
    "start_time": "2024-09-25T20:40:29.699Z"
   },
   {
    "duration": 194,
    "start_time": "2024-09-25T20:40:52.427Z"
   },
   {
    "duration": 134,
    "start_time": "2024-09-25T20:41:41.836Z"
   },
   {
    "duration": 1122,
    "start_time": "2024-09-25T20:43:39.582Z"
   },
   {
    "duration": 222,
    "start_time": "2024-09-25T20:44:08.948Z"
   },
   {
    "duration": 104,
    "start_time": "2024-09-25T20:44:48.254Z"
   },
   {
    "duration": 199,
    "start_time": "2024-09-25T20:45:07.409Z"
   },
   {
    "duration": 107,
    "start_time": "2024-09-25T20:46:31.254Z"
   },
   {
    "duration": 112,
    "start_time": "2024-09-25T20:46:44.160Z"
   },
   {
    "duration": 107,
    "start_time": "2024-09-25T20:47:06.823Z"
   },
   {
    "duration": 106,
    "start_time": "2024-09-25T20:47:21.079Z"
   },
   {
    "duration": 109,
    "start_time": "2024-09-25T20:47:34.275Z"
   },
   {
    "duration": 281,
    "start_time": "2024-09-25T20:47:49.427Z"
   },
   {
    "duration": 368,
    "start_time": "2024-09-25T20:48:09.939Z"
   },
   {
    "duration": 507,
    "start_time": "2024-09-25T20:49:00.437Z"
   },
   {
    "duration": 349,
    "start_time": "2024-09-25T20:49:40.694Z"
   },
   {
    "duration": 359,
    "start_time": "2024-09-25T20:50:21.585Z"
   },
   {
    "duration": 347,
    "start_time": "2024-09-25T20:50:27.837Z"
   },
   {
    "duration": 107,
    "start_time": "2024-09-25T21:00:03.953Z"
   },
   {
    "duration": 492,
    "start_time": "2024-09-25T22:15:45.213Z"
   },
   {
    "duration": 74,
    "start_time": "2024-09-25T22:45:21.966Z"
   },
   {
    "duration": 815,
    "start_time": "2024-09-25T23:20:46.928Z"
   },
   {
    "duration": 687,
    "start_time": "2024-09-25T23:21:02.902Z"
   },
   {
    "duration": 21,
    "start_time": "2024-09-25T23:22:15.556Z"
   },
   {
    "duration": 19,
    "start_time": "2024-09-25T23:22:24.583Z"
   },
   {
    "duration": 19,
    "start_time": "2024-09-25T23:22:30.579Z"
   },
   {
    "duration": 698,
    "start_time": "2024-09-25T23:24:02.640Z"
   },
   {
    "duration": 920,
    "start_time": "2024-09-25T23:24:08.265Z"
   },
   {
    "duration": 810,
    "start_time": "2024-09-25T23:24:26.908Z"
   },
   {
    "duration": 8,
    "start_time": "2024-09-25T23:27:37.703Z"
   },
   {
    "duration": 4,
    "start_time": "2024-09-25T23:27:42.217Z"
   },
   {
    "duration": 765,
    "start_time": "2024-09-25T23:27:43.970Z"
   },
   {
    "duration": 1471,
    "start_time": "2024-09-25T23:31:01.631Z"
   },
   {
    "duration": 3,
    "start_time": "2024-09-25T23:31:40.442Z"
   },
   {
    "duration": 803,
    "start_time": "2024-09-25T23:31:48.502Z"
   },
   {
    "duration": 3,
    "start_time": "2024-09-25T23:32:12.107Z"
   },
   {
    "duration": 710,
    "start_time": "2024-09-25T23:32:13.742Z"
   },
   {
    "duration": 662,
    "start_time": "2024-09-25T23:32:35.387Z"
   },
   {
    "duration": 869,
    "start_time": "2024-09-25T23:32:46.591Z"
   },
   {
    "duration": 7,
    "start_time": "2024-09-25T23:33:33.559Z"
   },
   {
    "duration": 661,
    "start_time": "2024-09-25T23:33:38.452Z"
   },
   {
    "duration": 52,
    "start_time": "2024-09-26T19:34:08.846Z"
   },
   {
    "duration": 1417,
    "start_time": "2024-09-26T19:34:32.624Z"
   },
   {
    "duration": 270,
    "start_time": "2024-09-26T19:34:34.044Z"
   },
   {
    "duration": 4,
    "start_time": "2024-09-26T19:34:34.315Z"
   },
   {
    "duration": 31,
    "start_time": "2024-09-26T19:34:34.320Z"
   },
   {
    "duration": 8,
    "start_time": "2024-09-26T19:34:34.354Z"
   },
   {
    "duration": 15,
    "start_time": "2024-09-26T19:34:34.363Z"
   },
   {
    "duration": 104,
    "start_time": "2024-09-26T19:34:42.998Z"
   },
   {
    "duration": 20,
    "start_time": "2024-09-26T19:35:29.746Z"
   },
   {
    "duration": 12,
    "start_time": "2024-09-26T19:37:08.584Z"
   },
   {
    "duration": 10,
    "start_time": "2024-09-26T19:37:24.934Z"
   },
   {
    "duration": 23,
    "start_time": "2024-09-26T19:38:47.495Z"
   },
   {
    "duration": 104,
    "start_time": "2024-09-26T19:39:00.910Z"
   },
   {
    "duration": 10,
    "start_time": "2024-09-26T19:39:59.076Z"
   },
   {
    "duration": 10,
    "start_time": "2024-09-26T19:40:07.226Z"
   },
   {
    "duration": 14,
    "start_time": "2024-09-26T19:40:18.483Z"
   },
   {
    "duration": 10,
    "start_time": "2024-09-26T19:40:48.602Z"
   },
   {
    "duration": 3,
    "start_time": "2024-09-26T19:41:04.571Z"
   },
   {
    "duration": 98,
    "start_time": "2024-09-26T19:41:04.577Z"
   },
   {
    "duration": 4,
    "start_time": "2024-09-26T19:41:04.676Z"
   },
   {
    "duration": 22,
    "start_time": "2024-09-26T19:41:04.782Z"
   },
   {
    "duration": 10,
    "start_time": "2024-09-26T19:41:04.806Z"
   },
   {
    "duration": 11,
    "start_time": "2024-09-26T19:41:04.818Z"
   },
   {
    "duration": 19,
    "start_time": "2024-09-26T19:41:08.868Z"
   },
   {
    "duration": 19,
    "start_time": "2024-09-26T19:41:25.428Z"
   },
   {
    "duration": 18,
    "start_time": "2024-09-26T19:41:40.074Z"
   },
   {
    "duration": 18,
    "start_time": "2024-09-26T19:42:08.477Z"
   },
   {
    "duration": 24,
    "start_time": "2024-09-26T19:42:15.287Z"
   },
   {
    "duration": 16,
    "start_time": "2024-09-26T19:43:20.687Z"
   },
   {
    "duration": 737,
    "start_time": "2024-09-26T19:44:34.257Z"
   },
   {
    "duration": 17,
    "start_time": "2024-09-26T19:44:52.162Z"
   },
   {
    "duration": 4,
    "start_time": "2024-09-26T19:46:29.846Z"
   },
   {
    "duration": 18,
    "start_time": "2024-09-26T19:46:39.609Z"
   },
   {
    "duration": 65,
    "start_time": "2024-09-26T19:48:47.166Z"
   },
   {
    "duration": 9,
    "start_time": "2024-09-26T19:52:47.573Z"
   },
   {
    "duration": 3,
    "start_time": "2024-09-26T19:52:55.539Z"
   },
   {
    "duration": 89,
    "start_time": "2024-09-26T19:52:55.544Z"
   },
   {
    "duration": 5,
    "start_time": "2024-09-26T19:52:55.635Z"
   },
   {
    "duration": 22,
    "start_time": "2024-09-26T19:52:55.758Z"
   },
   {
    "duration": 7,
    "start_time": "2024-09-26T19:52:55.782Z"
   },
   {
    "duration": 9,
    "start_time": "2024-09-26T19:52:55.791Z"
   },
   {
    "duration": 19,
    "start_time": "2024-09-26T19:52:55.801Z"
   },
   {
    "duration": 26,
    "start_time": "2024-09-26T19:52:55.822Z"
   },
   {
    "duration": 26,
    "start_time": "2024-09-26T19:52:55.911Z"
   },
   {
    "duration": 372,
    "start_time": "2024-09-26T19:52:55.939Z"
   },
   {
    "duration": 338,
    "start_time": "2024-09-26T19:52:56.313Z"
   },
   {
    "duration": 9,
    "start_time": "2024-09-26T19:52:56.653Z"
   },
   {
    "duration": 953,
    "start_time": "2024-09-26T19:52:56.664Z"
   },
   {
    "duration": 37,
    "start_time": "2024-09-26T19:52:57.619Z"
   },
   {
    "duration": 15,
    "start_time": "2024-09-26T19:52:57.658Z"
   },
   {
    "duration": 14,
    "start_time": "2024-09-26T19:52:57.675Z"
   },
   {
    "duration": 19,
    "start_time": "2024-09-26T19:53:34.673Z"
   },
   {
    "duration": 320,
    "start_time": "2024-09-26T19:53:40.146Z"
   },
   {
    "duration": 389,
    "start_time": "2024-09-26T19:54:32.340Z"
   },
   {
    "duration": 298,
    "start_time": "2024-09-26T19:55:16.457Z"
   },
   {
    "duration": 21,
    "start_time": "2024-09-26T20:02:56.791Z"
   },
   {
    "duration": 25,
    "start_time": "2024-09-26T20:03:20.716Z"
   },
   {
    "duration": 18,
    "start_time": "2024-09-26T20:04:06.231Z"
   },
   {
    "duration": 97,
    "start_time": "2024-09-26T20:04:19.700Z"
   },
   {
    "duration": 10,
    "start_time": "2024-09-26T20:07:58.647Z"
   },
   {
    "duration": 20,
    "start_time": "2024-09-26T20:08:53.349Z"
   },
   {
    "duration": 874,
    "start_time": "2024-09-26T20:09:06.697Z"
   },
   {
    "duration": 874,
    "start_time": "2024-09-26T20:09:26.888Z"
   },
   {
    "duration": 888,
    "start_time": "2024-09-26T20:09:33.440Z"
   },
   {
    "duration": 881,
    "start_time": "2024-09-26T20:12:32.275Z"
   },
   {
    "duration": 972,
    "start_time": "2024-09-26T20:12:56.459Z"
   },
   {
    "duration": 868,
    "start_time": "2024-09-26T20:13:11.969Z"
   },
   {
    "duration": 17,
    "start_time": "2024-09-26T20:13:36.785Z"
   },
   {
    "duration": 878,
    "start_time": "2024-09-26T20:13:43.419Z"
   },
   {
    "duration": 837,
    "start_time": "2024-09-26T20:13:48.015Z"
   },
   {
    "duration": 46,
    "start_time": "2024-09-26T20:14:29.301Z"
   },
   {
    "duration": 112,
    "start_time": "2024-09-26T20:20:26.791Z"
   },
   {
    "duration": 241,
    "start_time": "2024-09-26T20:20:43.949Z"
   },
   {
    "duration": 12,
    "start_time": "2024-09-26T20:24:59.150Z"
   },
   {
    "duration": 15,
    "start_time": "2024-09-26T20:27:33.379Z"
   },
   {
    "duration": 11,
    "start_time": "2024-09-26T20:27:41.938Z"
   },
   {
    "duration": 46,
    "start_time": "2024-09-26T20:28:41.499Z"
   },
   {
    "duration": 13,
    "start_time": "2024-09-26T20:29:10.869Z"
   },
   {
    "duration": 282,
    "start_time": "2024-09-26T20:29:18.930Z"
   },
   {
    "duration": 196,
    "start_time": "2024-09-26T20:31:49.531Z"
   },
   {
    "duration": 167,
    "start_time": "2024-09-26T20:37:01.025Z"
   },
   {
    "duration": 164,
    "start_time": "2024-09-26T20:37:07.565Z"
   },
   {
    "duration": 48,
    "start_time": "2024-09-26T20:38:11.138Z"
   },
   {
    "duration": 116,
    "start_time": "2024-09-26T20:54:05.884Z"
   },
   {
    "duration": 15,
    "start_time": "2024-09-26T20:54:08.897Z"
   },
   {
    "duration": 111,
    "start_time": "2024-09-26T20:54:11.162Z"
   },
   {
    "duration": 160,
    "start_time": "2024-09-26T20:54:29.672Z"
   },
   {
    "duration": 116,
    "start_time": "2024-09-26T20:54:34.822Z"
   },
   {
    "duration": 157,
    "start_time": "2024-09-26T20:54:43.035Z"
   },
   {
    "duration": 9,
    "start_time": "2024-09-26T20:55:12.311Z"
   },
   {
    "duration": 34,
    "start_time": "2024-09-26T20:55:24.348Z"
   },
   {
    "duration": 25,
    "start_time": "2024-09-26T20:55:34.776Z"
   },
   {
    "duration": 26,
    "start_time": "2024-09-26T20:55:40.579Z"
   },
   {
    "duration": 123,
    "start_time": "2024-09-26T21:09:03.278Z"
   },
   {
    "duration": 166,
    "start_time": "2024-09-26T21:10:52.138Z"
   },
   {
    "duration": 374,
    "start_time": "2024-09-26T21:12:43.254Z"
   },
   {
    "duration": 143,
    "start_time": "2024-09-26T21:14:15.414Z"
   },
   {
    "duration": 169,
    "start_time": "2024-09-26T21:14:27.290Z"
   },
   {
    "duration": 267,
    "start_time": "2024-09-26T21:15:53.353Z"
   },
   {
    "duration": 235,
    "start_time": "2024-09-26T21:16:13.363Z"
   },
   {
    "duration": 239,
    "start_time": "2024-09-26T21:16:21.800Z"
   },
   {
    "duration": 235,
    "start_time": "2024-09-26T21:16:31.308Z"
   },
   {
    "duration": 53,
    "start_time": "2024-09-26T21:17:00.605Z"
   },
   {
    "duration": 11,
    "start_time": "2024-09-26T21:20:43.090Z"
   },
   {
    "duration": 3,
    "start_time": "2024-09-26T21:20:49.991Z"
   },
   {
    "duration": 572,
    "start_time": "2024-09-26T21:20:55.912Z"
   },
   {
    "duration": 117,
    "start_time": "2024-09-26T21:22:46.080Z"
   },
   {
    "duration": 672,
    "start_time": "2024-09-26T21:23:08.440Z"
   },
   {
    "duration": 565,
    "start_time": "2024-09-26T21:23:25.271Z"
   },
   {
    "duration": 114,
    "start_time": "2024-09-26T21:23:49.950Z"
   },
   {
    "duration": 522,
    "start_time": "2024-09-26T21:24:06.674Z"
   },
   {
    "duration": 59,
    "start_time": "2024-09-26T21:24:35.301Z"
   },
   {
    "duration": 505,
    "start_time": "2024-09-26T21:24:42.683Z"
   },
   {
    "duration": 568,
    "start_time": "2024-09-26T21:26:45.257Z"
   },
   {
    "duration": 689,
    "start_time": "2024-09-26T21:27:06.211Z"
   },
   {
    "duration": 513,
    "start_time": "2024-09-26T21:27:16.754Z"
   },
   {
    "duration": 557,
    "start_time": "2024-09-26T21:28:20.787Z"
   },
   {
    "duration": 509,
    "start_time": "2024-09-26T21:30:57.840Z"
   },
   {
    "duration": 528,
    "start_time": "2024-09-26T21:31:09.554Z"
   },
   {
    "duration": 64,
    "start_time": "2024-09-26T21:31:52.197Z"
   },
   {
    "duration": 51,
    "start_time": "2024-09-26T21:32:08.696Z"
   },
   {
    "duration": 612,
    "start_time": "2024-09-26T21:33:24.459Z"
   },
   {
    "duration": 624,
    "start_time": "2024-09-26T21:35:45.995Z"
   },
   {
    "duration": 628,
    "start_time": "2024-09-26T21:36:10.171Z"
   },
   {
    "duration": 11,
    "start_time": "2024-09-26T21:52:48.822Z"
   },
   {
    "duration": 10,
    "start_time": "2024-09-26T21:52:52.052Z"
   },
   {
    "duration": 498,
    "start_time": "2024-09-26T21:52:56.388Z"
   },
   {
    "duration": 466,
    "start_time": "2024-09-26T21:54:14.074Z"
   },
   {
    "duration": 628,
    "start_time": "2024-09-26T21:58:49.197Z"
   },
   {
    "duration": 65,
    "start_time": "2024-09-26T21:59:26.283Z"
   },
   {
    "duration": 399,
    "start_time": "2024-09-26T21:59:31.562Z"
   },
   {
    "duration": 46,
    "start_time": "2024-09-26T22:11:47.186Z"
   },
   {
    "duration": 9,
    "start_time": "2024-09-26T22:11:55.880Z"
   },
   {
    "duration": 8,
    "start_time": "2024-09-26T22:11:57.476Z"
   },
   {
    "duration": 56,
    "start_time": "2024-09-26T22:11:59.805Z"
   },
   {
    "duration": 397,
    "start_time": "2024-09-26T22:12:27.544Z"
   },
   {
    "duration": 120,
    "start_time": "2024-09-26T22:54:39.090Z"
   },
   {
    "duration": 765,
    "start_time": "2024-09-26T22:55:14.242Z"
   },
   {
    "duration": 11,
    "start_time": "2024-09-26T22:55:43.696Z"
   },
   {
    "duration": 10,
    "start_time": "2024-09-26T22:55:56.813Z"
   },
   {
    "duration": 236,
    "start_time": "2024-09-26T22:56:15.654Z"
   },
   {
    "duration": 622,
    "start_time": "2024-09-26T22:58:43.026Z"
   },
   {
    "duration": 501,
    "start_time": "2024-09-26T22:59:22.320Z"
   },
   {
    "duration": 613,
    "start_time": "2024-09-26T23:06:14.285Z"
   },
   {
    "duration": 363,
    "start_time": "2024-09-26T23:14:26.556Z"
   },
   {
    "duration": 380,
    "start_time": "2024-09-26T23:17:23.465Z"
   },
   {
    "duration": 1590,
    "start_time": "2025-03-21T16:28:55.067Z"
   },
   {
    "duration": 94,
    "start_time": "2025-03-21T16:28:56.659Z"
   },
   {
    "duration": 5,
    "start_time": "2025-03-21T16:28:56.755Z"
   },
   {
    "duration": 26,
    "start_time": "2025-03-21T16:28:56.761Z"
   },
   {
    "duration": 18,
    "start_time": "2025-03-21T16:28:56.790Z"
   },
   {
    "duration": 8,
    "start_time": "2025-03-21T16:28:56.809Z"
   },
   {
    "duration": 30,
    "start_time": "2025-03-21T16:28:56.819Z"
   },
   {
    "duration": 14,
    "start_time": "2025-03-21T16:28:56.851Z"
   },
   {
    "duration": 17,
    "start_time": "2025-03-21T16:28:56.867Z"
   },
   {
    "duration": 358,
    "start_time": "2025-03-21T16:28:56.904Z"
   },
   {
    "duration": 334,
    "start_time": "2025-03-21T16:28:57.265Z"
   },
   {
    "duration": 5,
    "start_time": "2025-03-21T16:28:57.601Z"
   },
   {
    "duration": 878,
    "start_time": "2025-03-21T16:28:57.607Z"
   },
   {
    "duration": 26,
    "start_time": "2025-03-21T16:28:58.488Z"
   },
   {
    "duration": 16,
    "start_time": "2025-03-21T16:28:58.515Z"
   },
   {
    "duration": 12,
    "start_time": "2025-03-21T16:28:58.532Z"
   },
   {
    "duration": 877,
    "start_time": "2025-03-21T16:28:58.546Z"
   },
   {
    "duration": 12,
    "start_time": "2025-03-21T16:28:59.426Z"
   },
   {
    "duration": 14,
    "start_time": "2025-03-21T16:28:59.440Z"
   },
   {
    "duration": 269,
    "start_time": "2025-03-21T16:28:59.456Z"
   },
   {
    "duration": 193,
    "start_time": "2025-03-21T16:28:59.727Z"
   },
   {
    "duration": 27,
    "start_time": "2025-03-21T16:28:59.922Z"
   },
   {
    "duration": 3,
    "start_time": "2025-03-21T16:28:59.951Z"
   },
   {
    "duration": 796,
    "start_time": "2025-03-21T16:28:59.956Z"
   },
   {
    "duration": 675,
    "start_time": "2025-03-21T16:29:00.754Z"
   },
   {
    "duration": 914,
    "start_time": "2025-03-21T16:29:01.431Z"
   },
   {
    "duration": 681,
    "start_time": "2025-03-21T16:29:02.347Z"
   },
   {
    "duration": 247,
    "start_time": "2025-03-21T16:29:03.030Z"
   },
   {
    "duration": 254,
    "start_time": "2025-03-21T16:29:03.278Z"
   },
   {
    "duration": 2,
    "start_time": "2025-03-21T16:29:03.534Z"
   },
   {
    "duration": 488,
    "start_time": "2025-03-21T16:29:03.538Z"
   },
   {
    "duration": 752,
    "start_time": "2025-03-21T16:29:04.028Z"
   },
   {
    "duration": 379,
    "start_time": "2025-03-21T16:29:04.782Z"
   },
   {
    "duration": 11,
    "start_time": "2025-03-21T16:29:05.162Z"
   },
   {
    "duration": 20,
    "start_time": "2025-03-21T16:29:05.174Z"
   },
   {
    "duration": 420,
    "start_time": "2025-03-21T16:29:05.196Z"
   },
   {
    "duration": 5,
    "start_time": "2025-03-21T16:29:05.617Z"
   },
   {
    "duration": 50,
    "start_time": "2025-03-21T16:29:05.624Z"
   },
   {
    "duration": 11,
    "start_time": "2025-03-21T16:29:05.675Z"
   },
   {
    "duration": 494,
    "start_time": "2025-03-21T16:29:05.688Z"
   },
   {
    "duration": 5,
    "start_time": "2025-03-21T16:29:06.186Z"
   },
   {
    "duration": 13,
    "start_time": "2025-03-21T16:38:31.518Z"
   },
   {
    "duration": 8,
    "start_time": "2025-03-21T16:40:07.165Z"
   },
   {
    "duration": 116,
    "start_time": "2025-03-21T16:40:07.465Z"
   },
   {
    "duration": 3,
    "start_time": "2025-03-21T16:59:00.281Z"
   },
   {
    "duration": 135,
    "start_time": "2025-03-21T16:59:00.287Z"
   },
   {
    "duration": 5,
    "start_time": "2025-03-21T16:59:00.424Z"
   },
   {
    "duration": 68,
    "start_time": "2025-03-21T16:59:00.431Z"
   },
   {
    "duration": 34,
    "start_time": "2025-03-21T16:59:00.502Z"
   },
   {
    "duration": 21,
    "start_time": "2025-03-21T16:59:00.538Z"
   },
   {
    "duration": 58,
    "start_time": "2025-03-21T16:59:00.561Z"
   },
   {
    "duration": 25,
    "start_time": "2025-03-21T16:59:00.621Z"
   },
   {
    "duration": 23,
    "start_time": "2025-03-21T16:59:00.648Z"
   },
   {
    "duration": 493,
    "start_time": "2025-03-21T16:59:00.673Z"
   },
   {
    "duration": 297,
    "start_time": "2025-03-21T16:59:01.168Z"
   },
   {
    "duration": 4,
    "start_time": "2025-03-21T16:59:01.468Z"
   },
   {
    "duration": 897,
    "start_time": "2025-03-21T16:59:01.473Z"
   },
   {
    "duration": 33,
    "start_time": "2025-03-21T16:59:02.373Z"
   },
   {
    "duration": 33,
    "start_time": "2025-03-21T16:59:02.408Z"
   },
   {
    "duration": 53,
    "start_time": "2025-03-21T16:59:02.443Z"
   },
   {
    "duration": 867,
    "start_time": "2025-03-21T16:59:02.498Z"
   },
   {
    "duration": 12,
    "start_time": "2025-03-21T16:59:03.367Z"
   },
   {
    "duration": 52,
    "start_time": "2025-03-21T16:59:03.381Z"
   },
   {
    "duration": 184,
    "start_time": "2025-03-21T16:59:03.435Z"
   },
   {
    "duration": 173,
    "start_time": "2025-03-21T16:59:03.621Z"
   },
   {
    "duration": 33,
    "start_time": "2025-03-21T16:59:03.796Z"
   },
   {
    "duration": 102,
    "start_time": "2025-03-21T16:59:03.830Z"
   },
   {
    "duration": 852,
    "start_time": "2025-03-21T16:59:03.934Z"
   },
   {
    "duration": 715,
    "start_time": "2025-03-21T16:59:04.788Z"
   },
   {
    "duration": 829,
    "start_time": "2025-03-21T16:59:05.505Z"
   },
   {
    "duration": 794,
    "start_time": "2025-03-21T16:59:06.336Z"
   },
   {
    "duration": 237,
    "start_time": "2025-03-21T16:59:07.131Z"
   },
   {
    "duration": 275,
    "start_time": "2025-03-21T16:59:07.370Z"
   },
   {
    "duration": 3,
    "start_time": "2025-03-21T16:59:07.646Z"
   },
   {
    "duration": 495,
    "start_time": "2025-03-21T16:59:07.650Z"
   },
   {
    "duration": 616,
    "start_time": "2025-03-21T16:59:08.147Z"
   },
   {
    "duration": 483,
    "start_time": "2025-03-21T16:59:08.764Z"
   },
   {
    "duration": 9,
    "start_time": "2025-03-21T16:59:09.249Z"
   },
   {
    "duration": 12,
    "start_time": "2025-03-21T16:59:09.259Z"
   },
   {
    "duration": 425,
    "start_time": "2025-03-21T16:59:09.272Z"
   },
   {
    "duration": 6,
    "start_time": "2025-03-21T16:59:09.699Z"
   },
   {
    "duration": 19,
    "start_time": "2025-03-21T16:59:09.706Z"
   },
   {
    "duration": 8,
    "start_time": "2025-03-21T16:59:09.727Z"
   },
   {
    "duration": 420,
    "start_time": "2025-03-21T16:59:09.736Z"
   },
   {
    "duration": 5,
    "start_time": "2025-03-21T16:59:10.159Z"
   },
   {
    "duration": 363,
    "start_time": "2025-03-21T17:53:36.343Z"
   },
   {
    "duration": 1035,
    "start_time": "2025-03-21T17:56:59.036Z"
   },
   {
    "duration": 823,
    "start_time": "2025-03-21T17:59:31.781Z"
   },
   {
    "duration": 109,
    "start_time": "2025-03-21T18:03:29.111Z"
   },
   {
    "duration": 38,
    "start_time": "2025-03-21T18:03:37.300Z"
   },
   {
    "duration": 47,
    "start_time": "2025-03-21T18:04:00.336Z"
   },
   {
    "duration": 30,
    "start_time": "2025-03-21T18:04:15.769Z"
   },
   {
    "duration": 239,
    "start_time": "2025-03-21T18:08:22.260Z"
   },
   {
    "duration": 227,
    "start_time": "2025-03-21T18:08:27.810Z"
   },
   {
    "duration": 239,
    "start_time": "2025-03-21T18:08:48.013Z"
   },
   {
    "duration": 242,
    "start_time": "2025-03-21T18:09:01.364Z"
   },
   {
    "duration": 237,
    "start_time": "2025-03-21T18:09:16.812Z"
   },
   {
    "duration": 446,
    "start_time": "2025-03-21T18:25:24.550Z"
   },
   {
    "duration": 6,
    "start_time": "2025-03-21T18:30:49.746Z"
   },
   {
    "duration": 4,
    "start_time": "2025-03-21T18:40:25.329Z"
   },
   {
    "duration": 71,
    "start_time": "2025-03-21T18:40:25.335Z"
   },
   {
    "duration": 4,
    "start_time": "2025-03-21T18:40:25.408Z"
   },
   {
    "duration": 21,
    "start_time": "2025-03-21T18:40:25.413Z"
   },
   {
    "duration": 6,
    "start_time": "2025-03-21T18:40:25.436Z"
   },
   {
    "duration": 17,
    "start_time": "2025-03-21T18:40:25.443Z"
   },
   {
    "duration": 25,
    "start_time": "2025-03-21T18:40:25.461Z"
   },
   {
    "duration": 12,
    "start_time": "2025-03-21T18:40:25.503Z"
   },
   {
    "duration": 17,
    "start_time": "2025-03-21T18:40:25.517Z"
   },
   {
    "duration": 506,
    "start_time": "2025-03-21T18:40:25.535Z"
   },
   {
    "duration": 364,
    "start_time": "2025-03-21T18:40:26.043Z"
   },
   {
    "duration": 4,
    "start_time": "2025-03-21T18:40:26.409Z"
   },
   {
    "duration": 899,
    "start_time": "2025-03-21T18:40:26.415Z"
   },
   {
    "duration": 23,
    "start_time": "2025-03-21T18:40:27.317Z"
   },
   {
    "duration": 16,
    "start_time": "2025-03-21T18:40:27.341Z"
   },
   {
    "duration": 30,
    "start_time": "2025-03-21T18:40:27.359Z"
   },
   {
    "duration": 822,
    "start_time": "2025-03-21T18:40:27.391Z"
   },
   {
    "duration": 12,
    "start_time": "2025-03-21T18:40:28.215Z"
   },
   {
    "duration": 11,
    "start_time": "2025-03-21T18:40:28.228Z"
   },
   {
    "duration": 170,
    "start_time": "2025-03-21T18:40:28.241Z"
   },
   {
    "duration": 162,
    "start_time": "2025-03-21T18:40:28.413Z"
   },
   {
    "duration": 39,
    "start_time": "2025-03-21T18:40:28.577Z"
   },
   {
    "duration": 4,
    "start_time": "2025-03-21T18:40:28.617Z"
   },
   {
    "duration": 817,
    "start_time": "2025-03-21T18:40:28.622Z"
   },
   {
    "duration": 718,
    "start_time": "2025-03-21T18:40:29.441Z"
   },
   {
    "duration": 954,
    "start_time": "2025-03-21T18:40:30.160Z"
   },
   {
    "duration": 684,
    "start_time": "2025-03-21T18:40:31.116Z"
   },
   {
    "duration": 248,
    "start_time": "2025-03-21T18:40:31.803Z"
   },
   {
    "duration": 251,
    "start_time": "2025-03-21T18:40:32.053Z"
   },
   {
    "duration": 3,
    "start_time": "2025-03-21T18:40:32.305Z"
   },
   {
    "duration": 501,
    "start_time": "2025-03-21T18:40:32.310Z"
   },
   {
    "duration": 623,
    "start_time": "2025-03-21T18:40:32.813Z"
   },
   {
    "duration": 505,
    "start_time": "2025-03-21T18:40:33.438Z"
   },
   {
    "duration": 10,
    "start_time": "2025-03-21T18:40:33.945Z"
   },
   {
    "duration": 29,
    "start_time": "2025-03-21T18:40:33.956Z"
   },
   {
    "duration": 423,
    "start_time": "2025-03-21T18:40:33.987Z"
   },
   {
    "duration": 5,
    "start_time": "2025-03-21T18:40:34.412Z"
   },
   {
    "duration": 14,
    "start_time": "2025-03-21T18:40:34.419Z"
   },
   {
    "duration": 9,
    "start_time": "2025-03-21T18:40:34.434Z"
   },
   {
    "duration": 445,
    "start_time": "2025-03-21T18:40:34.445Z"
   },
   {
    "duration": 13,
    "start_time": "2025-03-21T18:40:34.895Z"
   }
  ],
  "kernelspec": {
   "display_name": "Python 3 (ipykernel)",
   "language": "python",
   "name": "python3"
  },
  "language_info": {
   "codemirror_mode": {
    "name": "ipython",
    "version": 3
   },
   "file_extension": ".py",
   "mimetype": "text/x-python",
   "name": "python",
   "nbconvert_exporter": "python",
   "pygments_lexer": "ipython3",
   "version": "3.9.5"
  },
  "toc": {
   "base_numbering": 1,
   "nav_menu": {
    "height": "156.989px",
    "width": "160px"
   },
   "number_sections": true,
   "sideBar": true,
   "skip_h1_title": true,
   "title_cell": "Table of Contents",
   "title_sidebar": "Contents",
   "toc_cell": false,
   "toc_position": {},
   "toc_section_display": true,
   "toc_window_display": false
  }
 },
 "nbformat": 4,
 "nbformat_minor": 2
}
