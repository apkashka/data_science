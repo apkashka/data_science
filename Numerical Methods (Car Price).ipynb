{
 "cells": [
  {
   "cell_type": "markdown",
   "metadata": {},
   "source": [
    "# Determining the cost of vehicles"
   ]
  },
  {
   "cell_type": "markdown",
   "metadata": {},
   "source": [
    "The used car sales service \"Never Crashed, Never Painted\" is developing an app to attract new customers. It allows users to quickly find out the market value of their car. You have historical data at your disposal: technical specifications, configurations, and car prices. You need to build a model to determine the cost.\n",
    "\n",
    "The client values:\n",
    "\n",
    "- prediction quality;  \n",
    "- prediction speed;  \n",
    "- training time."
   ]
  },
  {
   "cell_type": "markdown",
   "metadata": {},
   "source": [
    "# Imports"
   ]
  },
  {
   "cell_type": "code",
   "execution_count": 2,
   "metadata": {
    "scrolled": false
   },
   "outputs": [
    {
     "name": "stdout",
     "output_type": "stream",
     "text": [
      "Note: you may need to restart the kernel to use updated packages.\n"
     ]
    }
   ],
   "source": [
    "pip install --upgrade scikit-learn -q"
   ]
  },
  {
   "cell_type": "code",
   "execution_count": 3,
   "metadata": {},
   "outputs": [
    {
     "name": "stdout",
     "output_type": "stream",
     "text": [
      "1.6.1\n"
     ]
    }
   ],
   "source": [
    "import sklearn\n",
    "print(sklearn.__version__)"
   ]
  },
  {
   "cell_type": "code",
   "execution_count": 4,
   "metadata": {},
   "outputs": [],
   "source": [
    "import pandas as pd\n",
    "import numpy as np\n",
    "import time\n",
    "import seaborn as sns\n",
    "import matplotlib.pyplot as plt\n",
    "from sklearn.preprocessing import LabelEncoder\n",
    "from sklearn.model_selection import train_test_split, GridSearchCV, cross_val_score, KFold\n",
    "from sklearn.preprocessing import OneHotEncoder, OrdinalEncoder, StandardScaler\n",
    "from sklearn.metrics import mean_squared_error\n",
    "from sklearn.ensemble import RandomForestRegressor\n",
    "from sklearn.linear_model import LinearRegression\n",
    "from lightgbm import LGBMRegressor\n",
    "from catboost import CatBoostRegressor"
   ]
  },
  {
   "cell_type": "markdown",
   "metadata": {},
   "source": [
    "## Data Overview"
   ]
  },
  {
   "cell_type": "code",
   "execution_count": 5,
   "metadata": {
    "scrolled": true
   },
   "outputs": [],
   "source": [
    "data = pd.read_csv('/datasets/autos.csv')"
   ]
  },
  {
   "cell_type": "code",
   "execution_count": 6,
   "metadata": {
    "scrolled": true
   },
   "outputs": [
    {
     "name": "stdout",
     "output_type": "stream",
     "text": [
      "<class 'pandas.core.frame.DataFrame'>\n",
      "RangeIndex: 354369 entries, 0 to 354368\n",
      "Data columns (total 16 columns):\n",
      " #   Column             Non-Null Count   Dtype \n",
      "---  ------             --------------   ----- \n",
      " 0   DateCrawled        354369 non-null  object\n",
      " 1   Price              354369 non-null  int64 \n",
      " 2   VehicleType        316879 non-null  object\n",
      " 3   RegistrationYear   354369 non-null  int64 \n",
      " 4   Gearbox            334536 non-null  object\n",
      " 5   Power              354369 non-null  int64 \n",
      " 6   Model              334664 non-null  object\n",
      " 7   Kilometer          354369 non-null  int64 \n",
      " 8   RegistrationMonth  354369 non-null  int64 \n",
      " 9   FuelType           321474 non-null  object\n",
      " 10  Brand              354369 non-null  object\n",
      " 11  Repaired           283215 non-null  object\n",
      " 12  DateCreated        354369 non-null  object\n",
      " 13  NumberOfPictures   354369 non-null  int64 \n",
      " 14  PostalCode         354369 non-null  int64 \n",
      " 15  LastSeen           354369 non-null  object\n",
      "dtypes: int64(7), object(9)\n",
      "memory usage: 43.3+ MB\n"
     ]
    },
    {
     "data": {
      "text/html": [
       "<div>\n",
       "<style scoped>\n",
       "    .dataframe tbody tr th:only-of-type {\n",
       "        vertical-align: middle;\n",
       "    }\n",
       "\n",
       "    .dataframe tbody tr th {\n",
       "        vertical-align: top;\n",
       "    }\n",
       "\n",
       "    .dataframe thead th {\n",
       "        text-align: right;\n",
       "    }\n",
       "</style>\n",
       "<table border=\"1\" class=\"dataframe\">\n",
       "  <thead>\n",
       "    <tr style=\"text-align: right;\">\n",
       "      <th></th>\n",
       "      <th>DateCrawled</th>\n",
       "      <th>Price</th>\n",
       "      <th>VehicleType</th>\n",
       "      <th>RegistrationYear</th>\n",
       "      <th>Gearbox</th>\n",
       "      <th>Power</th>\n",
       "      <th>Model</th>\n",
       "      <th>Kilometer</th>\n",
       "      <th>RegistrationMonth</th>\n",
       "      <th>FuelType</th>\n",
       "      <th>Brand</th>\n",
       "      <th>Repaired</th>\n",
       "      <th>DateCreated</th>\n",
       "      <th>NumberOfPictures</th>\n",
       "      <th>PostalCode</th>\n",
       "      <th>LastSeen</th>\n",
       "    </tr>\n",
       "  </thead>\n",
       "  <tbody>\n",
       "    <tr>\n",
       "      <th>0</th>\n",
       "      <td>2016-03-24 11:52:17</td>\n",
       "      <td>480</td>\n",
       "      <td>NaN</td>\n",
       "      <td>1993</td>\n",
       "      <td>manual</td>\n",
       "      <td>0</td>\n",
       "      <td>golf</td>\n",
       "      <td>150000</td>\n",
       "      <td>0</td>\n",
       "      <td>petrol</td>\n",
       "      <td>volkswagen</td>\n",
       "      <td>NaN</td>\n",
       "      <td>2016-03-24 00:00:00</td>\n",
       "      <td>0</td>\n",
       "      <td>70435</td>\n",
       "      <td>2016-04-07 03:16:57</td>\n",
       "    </tr>\n",
       "    <tr>\n",
       "      <th>1</th>\n",
       "      <td>2016-03-24 10:58:45</td>\n",
       "      <td>18300</td>\n",
       "      <td>coupe</td>\n",
       "      <td>2011</td>\n",
       "      <td>manual</td>\n",
       "      <td>190</td>\n",
       "      <td>NaN</td>\n",
       "      <td>125000</td>\n",
       "      <td>5</td>\n",
       "      <td>gasoline</td>\n",
       "      <td>audi</td>\n",
       "      <td>yes</td>\n",
       "      <td>2016-03-24 00:00:00</td>\n",
       "      <td>0</td>\n",
       "      <td>66954</td>\n",
       "      <td>2016-04-07 01:46:50</td>\n",
       "    </tr>\n",
       "    <tr>\n",
       "      <th>2</th>\n",
       "      <td>2016-03-14 12:52:21</td>\n",
       "      <td>9800</td>\n",
       "      <td>suv</td>\n",
       "      <td>2004</td>\n",
       "      <td>auto</td>\n",
       "      <td>163</td>\n",
       "      <td>grand</td>\n",
       "      <td>125000</td>\n",
       "      <td>8</td>\n",
       "      <td>gasoline</td>\n",
       "      <td>jeep</td>\n",
       "      <td>NaN</td>\n",
       "      <td>2016-03-14 00:00:00</td>\n",
       "      <td>0</td>\n",
       "      <td>90480</td>\n",
       "      <td>2016-04-05 12:47:46</td>\n",
       "    </tr>\n",
       "    <tr>\n",
       "      <th>3</th>\n",
       "      <td>2016-03-17 16:54:04</td>\n",
       "      <td>1500</td>\n",
       "      <td>small</td>\n",
       "      <td>2001</td>\n",
       "      <td>manual</td>\n",
       "      <td>75</td>\n",
       "      <td>golf</td>\n",
       "      <td>150000</td>\n",
       "      <td>6</td>\n",
       "      <td>petrol</td>\n",
       "      <td>volkswagen</td>\n",
       "      <td>no</td>\n",
       "      <td>2016-03-17 00:00:00</td>\n",
       "      <td>0</td>\n",
       "      <td>91074</td>\n",
       "      <td>2016-03-17 17:40:17</td>\n",
       "    </tr>\n",
       "    <tr>\n",
       "      <th>4</th>\n",
       "      <td>2016-03-31 17:25:20</td>\n",
       "      <td>3600</td>\n",
       "      <td>small</td>\n",
       "      <td>2008</td>\n",
       "      <td>manual</td>\n",
       "      <td>69</td>\n",
       "      <td>fabia</td>\n",
       "      <td>90000</td>\n",
       "      <td>7</td>\n",
       "      <td>gasoline</td>\n",
       "      <td>skoda</td>\n",
       "      <td>no</td>\n",
       "      <td>2016-03-31 00:00:00</td>\n",
       "      <td>0</td>\n",
       "      <td>60437</td>\n",
       "      <td>2016-04-06 10:17:21</td>\n",
       "    </tr>\n",
       "  </tbody>\n",
       "</table>\n",
       "</div>"
      ],
      "text/plain": [
       "           DateCrawled  Price VehicleType  RegistrationYear Gearbox  Power  \\\n",
       "0  2016-03-24 11:52:17    480         NaN              1993  manual      0   \n",
       "1  2016-03-24 10:58:45  18300       coupe              2011  manual    190   \n",
       "2  2016-03-14 12:52:21   9800         suv              2004    auto    163   \n",
       "3  2016-03-17 16:54:04   1500       small              2001  manual     75   \n",
       "4  2016-03-31 17:25:20   3600       small              2008  manual     69   \n",
       "\n",
       "   Model  Kilometer  RegistrationMonth  FuelType       Brand Repaired  \\\n",
       "0   golf     150000                  0    petrol  volkswagen      NaN   \n",
       "1    NaN     125000                  5  gasoline        audi      yes   \n",
       "2  grand     125000                  8  gasoline        jeep      NaN   \n",
       "3   golf     150000                  6    petrol  volkswagen       no   \n",
       "4  fabia      90000                  7  gasoline       skoda       no   \n",
       "\n",
       "           DateCreated  NumberOfPictures  PostalCode             LastSeen  \n",
       "0  2016-03-24 00:00:00                 0       70435  2016-04-07 03:16:57  \n",
       "1  2016-03-24 00:00:00                 0       66954  2016-04-07 01:46:50  \n",
       "2  2016-03-14 00:00:00                 0       90480  2016-04-05 12:47:46  \n",
       "3  2016-03-17 00:00:00                 0       91074  2016-03-17 17:40:17  \n",
       "4  2016-03-31 00:00:00                 0       60437  2016-04-06 10:17:21  "
      ]
     },
     "metadata": {},
     "output_type": "display_data"
    },
    {
     "data": {
      "text/html": [
       "<div>\n",
       "<style scoped>\n",
       "    .dataframe tbody tr th:only-of-type {\n",
       "        vertical-align: middle;\n",
       "    }\n",
       "\n",
       "    .dataframe tbody tr th {\n",
       "        vertical-align: top;\n",
       "    }\n",
       "\n",
       "    .dataframe thead th {\n",
       "        text-align: right;\n",
       "    }\n",
       "</style>\n",
       "<table border=\"1\" class=\"dataframe\">\n",
       "  <thead>\n",
       "    <tr style=\"text-align: right;\">\n",
       "      <th></th>\n",
       "      <th>Price</th>\n",
       "      <th>RegistrationYear</th>\n",
       "      <th>Power</th>\n",
       "      <th>Kilometer</th>\n",
       "      <th>RegistrationMonth</th>\n",
       "      <th>NumberOfPictures</th>\n",
       "      <th>PostalCode</th>\n",
       "    </tr>\n",
       "  </thead>\n",
       "  <tbody>\n",
       "    <tr>\n",
       "      <th>count</th>\n",
       "      <td>354369.000000</td>\n",
       "      <td>354369.000000</td>\n",
       "      <td>354369.000000</td>\n",
       "      <td>354369.000000</td>\n",
       "      <td>354369.000000</td>\n",
       "      <td>354369.0</td>\n",
       "      <td>354369.000000</td>\n",
       "    </tr>\n",
       "    <tr>\n",
       "      <th>mean</th>\n",
       "      <td>4416.656776</td>\n",
       "      <td>2004.234448</td>\n",
       "      <td>110.094337</td>\n",
       "      <td>128211.172535</td>\n",
       "      <td>5.714645</td>\n",
       "      <td>0.0</td>\n",
       "      <td>50508.689087</td>\n",
       "    </tr>\n",
       "    <tr>\n",
       "      <th>std</th>\n",
       "      <td>4514.158514</td>\n",
       "      <td>90.227958</td>\n",
       "      <td>189.850405</td>\n",
       "      <td>37905.341530</td>\n",
       "      <td>3.726421</td>\n",
       "      <td>0.0</td>\n",
       "      <td>25783.096248</td>\n",
       "    </tr>\n",
       "    <tr>\n",
       "      <th>min</th>\n",
       "      <td>0.000000</td>\n",
       "      <td>1000.000000</td>\n",
       "      <td>0.000000</td>\n",
       "      <td>5000.000000</td>\n",
       "      <td>0.000000</td>\n",
       "      <td>0.0</td>\n",
       "      <td>1067.000000</td>\n",
       "    </tr>\n",
       "    <tr>\n",
       "      <th>25%</th>\n",
       "      <td>1050.000000</td>\n",
       "      <td>1999.000000</td>\n",
       "      <td>69.000000</td>\n",
       "      <td>125000.000000</td>\n",
       "      <td>3.000000</td>\n",
       "      <td>0.0</td>\n",
       "      <td>30165.000000</td>\n",
       "    </tr>\n",
       "    <tr>\n",
       "      <th>50%</th>\n",
       "      <td>2700.000000</td>\n",
       "      <td>2003.000000</td>\n",
       "      <td>105.000000</td>\n",
       "      <td>150000.000000</td>\n",
       "      <td>6.000000</td>\n",
       "      <td>0.0</td>\n",
       "      <td>49413.000000</td>\n",
       "    </tr>\n",
       "    <tr>\n",
       "      <th>75%</th>\n",
       "      <td>6400.000000</td>\n",
       "      <td>2008.000000</td>\n",
       "      <td>143.000000</td>\n",
       "      <td>150000.000000</td>\n",
       "      <td>9.000000</td>\n",
       "      <td>0.0</td>\n",
       "      <td>71083.000000</td>\n",
       "    </tr>\n",
       "    <tr>\n",
       "      <th>max</th>\n",
       "      <td>20000.000000</td>\n",
       "      <td>9999.000000</td>\n",
       "      <td>20000.000000</td>\n",
       "      <td>150000.000000</td>\n",
       "      <td>12.000000</td>\n",
       "      <td>0.0</td>\n",
       "      <td>99998.000000</td>\n",
       "    </tr>\n",
       "  </tbody>\n",
       "</table>\n",
       "</div>"
      ],
      "text/plain": [
       "               Price  RegistrationYear          Power      Kilometer  \\\n",
       "count  354369.000000     354369.000000  354369.000000  354369.000000   \n",
       "mean     4416.656776       2004.234448     110.094337  128211.172535   \n",
       "std      4514.158514         90.227958     189.850405   37905.341530   \n",
       "min         0.000000       1000.000000       0.000000    5000.000000   \n",
       "25%      1050.000000       1999.000000      69.000000  125000.000000   \n",
       "50%      2700.000000       2003.000000     105.000000  150000.000000   \n",
       "75%      6400.000000       2008.000000     143.000000  150000.000000   \n",
       "max     20000.000000       9999.000000   20000.000000  150000.000000   \n",
       "\n",
       "       RegistrationMonth  NumberOfPictures     PostalCode  \n",
       "count      354369.000000          354369.0  354369.000000  \n",
       "mean            5.714645               0.0   50508.689087  \n",
       "std             3.726421               0.0   25783.096248  \n",
       "min             0.000000               0.0    1067.000000  \n",
       "25%             3.000000               0.0   30165.000000  \n",
       "50%             6.000000               0.0   49413.000000  \n",
       "75%             9.000000               0.0   71083.000000  \n",
       "max            12.000000               0.0   99998.000000  "
      ]
     },
     "metadata": {},
     "output_type": "display_data"
    }
   ],
   "source": [
    "data.info()\n",
    "display(data.head())\n",
    "display(data.describe())"
   ]
  },
  {
   "cell_type": "markdown",
   "metadata": {},
   "source": [
    "<div class=\"alert alert-info\">\n",
    "\n",
    "Uploaded the dataset. It's very large — 354 thousand entries, but there are quite a few missing values, as well as unnecessary columns and abnormal values. Let's get things in order."
   ]
  },
  {
   "cell_type": "markdown",
   "metadata": {},
   "source": [
    "## Data Preprocessing"
   ]
  },
  {
   "cell_type": "markdown",
   "metadata": {},
   "source": [
    "### Duplicate сheck"
   ]
  },
  {
   "cell_type": "code",
   "execution_count": 7,
   "metadata": {},
   "outputs": [
    {
     "name": "stdout",
     "output_type": "stream",
     "text": [
      "4\n"
     ]
    }
   ],
   "source": [
    "print(data.duplicated().sum())"
   ]
  },
  {
   "cell_type": "code",
   "execution_count": 8,
   "metadata": {},
   "outputs": [],
   "source": [
    "data = data.drop_duplicates()"
   ]
  },
  {
   "cell_type": "markdown",
   "metadata": {},
   "source": [
    "### Removing unnecessary columns"
   ]
  },
  {
   "cell_type": "code",
   "execution_count": 9,
   "metadata": {},
   "outputs": [
    {
     "data": {
      "text/plain": [
       "0    354365\n",
       "Name: NumberOfPictures, dtype: int64"
      ]
     },
     "execution_count": 9,
     "metadata": {},
     "output_type": "execute_result"
    }
   ],
   "source": [
    "data['NumberOfPictures'].value_counts()"
   ]
  },
  {
   "cell_type": "code",
   "execution_count": 10,
   "metadata": {},
   "outputs": [
    {
     "name": "stdout",
     "output_type": "stream",
     "text": [
      "                   RegistrationMonth    Price\n",
      "RegistrationMonth            1.00000  0.11058\n",
      "Price                        0.11058  1.00000\n"
     ]
    }
   ],
   "source": [
    "print(data[['RegistrationMonth', 'Price']].corr())"
   ]
  },
  {
   "cell_type": "code",
   "execution_count": 11,
   "metadata": {
    "scrolled": true
   },
   "outputs": [
    {
     "name": "stdout",
     "output_type": "stream",
     "text": [
      "10115    819\n",
      "65428    613\n",
      "66333    343\n",
      "32257    317\n",
      "44145    317\n",
      "        ... \n",
      "21782      1\n",
      "9517       1\n",
      "29367      1\n",
      "38325      1\n",
      "82404      1\n",
      "Name: PostalCode, Length: 8143, dtype: int64\n"
     ]
    }
   ],
   "source": [
    "print(data['PostalCode'].value_counts())"
   ]
  },
  {
   "cell_type": "code",
   "execution_count": 12,
   "metadata": {},
   "outputs": [],
   "source": [
    "data = data.drop(['DateCrawled', 'DateCreated', 'LastSeen', 'NumberOfPictures', \n",
    "                  'RegistrationMonth', 'PostalCode'], axis=1)"
   ]
  },
  {
   "cell_type": "markdown",
   "metadata": {},
   "source": [
    "<div class='alert alert-info'>\n",
    "\n",
    "Removed columns with time logs, as well as the registration month (due to weak correlation), number of images (all are 0, better to inform those collecting the data), and postal code (too many unique values, might break the training)."
   ]
  },
  {
   "cell_type": "markdown",
   "metadata": {},
   "source": [
    "### Type сasting"
   ]
  },
  {
   "cell_type": "code",
   "execution_count": 13,
   "metadata": {},
   "outputs": [],
   "source": [
    "data = data.astype({'Price': 'int32', 'RegistrationYear': 'int32', 'Power': 'int32', 'Kilometer': 'int32'})"
   ]
  },
  {
   "cell_type": "code",
   "execution_count": 14,
   "metadata": {
    "scrolled": true
   },
   "outputs": [
    {
     "name": "stdout",
     "output_type": "stream",
     "text": [
      "<class 'pandas.core.frame.DataFrame'>\n",
      "Int64Index: 354365 entries, 0 to 354368\n",
      "Data columns (total 10 columns):\n",
      " #   Column            Non-Null Count   Dtype \n",
      "---  ------            --------------   ----- \n",
      " 0   Price             354365 non-null  int32 \n",
      " 1   VehicleType       316875 non-null  object\n",
      " 2   RegistrationYear  354365 non-null  int32 \n",
      " 3   Gearbox           334532 non-null  object\n",
      " 4   Power             354365 non-null  int32 \n",
      " 5   Model             334660 non-null  object\n",
      " 6   Kilometer         354365 non-null  int32 \n",
      " 7   FuelType          321470 non-null  object\n",
      " 8   Brand             354365 non-null  object\n",
      " 9   Repaired          283211 non-null  object\n",
      "dtypes: int32(4), object(6)\n",
      "memory usage: 24.3+ MB\n"
     ]
    },
    {
     "data": {
      "text/html": [
       "<div>\n",
       "<style scoped>\n",
       "    .dataframe tbody tr th:only-of-type {\n",
       "        vertical-align: middle;\n",
       "    }\n",
       "\n",
       "    .dataframe tbody tr th {\n",
       "        vertical-align: top;\n",
       "    }\n",
       "\n",
       "    .dataframe thead th {\n",
       "        text-align: right;\n",
       "    }\n",
       "</style>\n",
       "<table border=\"1\" class=\"dataframe\">\n",
       "  <thead>\n",
       "    <tr style=\"text-align: right;\">\n",
       "      <th></th>\n",
       "      <th>Price</th>\n",
       "      <th>VehicleType</th>\n",
       "      <th>RegistrationYear</th>\n",
       "      <th>Gearbox</th>\n",
       "      <th>Power</th>\n",
       "      <th>Model</th>\n",
       "      <th>Kilometer</th>\n",
       "      <th>FuelType</th>\n",
       "      <th>Brand</th>\n",
       "      <th>Repaired</th>\n",
       "    </tr>\n",
       "  </thead>\n",
       "  <tbody>\n",
       "    <tr>\n",
       "      <th>0</th>\n",
       "      <td>480</td>\n",
       "      <td>NaN</td>\n",
       "      <td>1993</td>\n",
       "      <td>manual</td>\n",
       "      <td>0</td>\n",
       "      <td>golf</td>\n",
       "      <td>150000</td>\n",
       "      <td>petrol</td>\n",
       "      <td>volkswagen</td>\n",
       "      <td>NaN</td>\n",
       "    </tr>\n",
       "    <tr>\n",
       "      <th>1</th>\n",
       "      <td>18300</td>\n",
       "      <td>coupe</td>\n",
       "      <td>2011</td>\n",
       "      <td>manual</td>\n",
       "      <td>190</td>\n",
       "      <td>NaN</td>\n",
       "      <td>125000</td>\n",
       "      <td>gasoline</td>\n",
       "      <td>audi</td>\n",
       "      <td>yes</td>\n",
       "    </tr>\n",
       "    <tr>\n",
       "      <th>2</th>\n",
       "      <td>9800</td>\n",
       "      <td>suv</td>\n",
       "      <td>2004</td>\n",
       "      <td>auto</td>\n",
       "      <td>163</td>\n",
       "      <td>grand</td>\n",
       "      <td>125000</td>\n",
       "      <td>gasoline</td>\n",
       "      <td>jeep</td>\n",
       "      <td>NaN</td>\n",
       "    </tr>\n",
       "    <tr>\n",
       "      <th>3</th>\n",
       "      <td>1500</td>\n",
       "      <td>small</td>\n",
       "      <td>2001</td>\n",
       "      <td>manual</td>\n",
       "      <td>75</td>\n",
       "      <td>golf</td>\n",
       "      <td>150000</td>\n",
       "      <td>petrol</td>\n",
       "      <td>volkswagen</td>\n",
       "      <td>no</td>\n",
       "    </tr>\n",
       "    <tr>\n",
       "      <th>4</th>\n",
       "      <td>3600</td>\n",
       "      <td>small</td>\n",
       "      <td>2008</td>\n",
       "      <td>manual</td>\n",
       "      <td>69</td>\n",
       "      <td>fabia</td>\n",
       "      <td>90000</td>\n",
       "      <td>gasoline</td>\n",
       "      <td>skoda</td>\n",
       "      <td>no</td>\n",
       "    </tr>\n",
       "  </tbody>\n",
       "</table>\n",
       "</div>"
      ],
      "text/plain": [
       "   Price VehicleType  RegistrationYear Gearbox  Power  Model  Kilometer  \\\n",
       "0    480         NaN              1993  manual      0   golf     150000   \n",
       "1  18300       coupe              2011  manual    190    NaN     125000   \n",
       "2   9800         suv              2004    auto    163  grand     125000   \n",
       "3   1500       small              2001  manual     75   golf     150000   \n",
       "4   3600       small              2008  manual     69  fabia      90000   \n",
       "\n",
       "   FuelType       Brand Repaired  \n",
       "0    petrol  volkswagen      NaN  \n",
       "1  gasoline        audi      yes  \n",
       "2  gasoline        jeep      NaN  \n",
       "3    petrol  volkswagen       no  \n",
       "4  gasoline       skoda       no  "
      ]
     },
     "metadata": {},
     "output_type": "display_data"
    }
   ],
   "source": [
    "data.info()\n",
    "display(data.head())"
   ]
  },
  {
   "cell_type": "markdown",
   "metadata": {},
   "source": [
    "<div class=\"alert alert-info\">\n",
    "\n",
    "Converted int64 to int32 to speed up model training."
   ]
  },
  {
   "cell_type": "markdown",
   "metadata": {},
   "source": [
    "### RegistrationYear"
   ]
  },
  {
   "cell_type": "code",
   "execution_count": 15,
   "metadata": {},
   "outputs": [
    {
     "name": "stdout",
     "output_type": "stream",
     "text": [
      "1000\n",
      "9999\n"
     ]
    }
   ],
   "source": [
    "print(data['RegistrationYear'].min())\n",
    "print(data['RegistrationYear'].max())"
   ]
  },
  {
   "cell_type": "code",
   "execution_count": 16,
   "metadata": {},
   "outputs": [
    {
     "name": "stdout",
     "output_type": "stream",
     "text": [
      "20734\n"
     ]
    }
   ],
   "source": [
    "print(data.query('RegistrationYear < 1986 or RegistrationYear > 2016').shape[0])"
   ]
  },
  {
   "cell_type": "code",
   "execution_count": 17,
   "metadata": {
    "scrolled": true
   },
   "outputs": [],
   "source": [
    "data = data.query('1986 <= RegistrationYear <= 2016')"
   ]
  },
  {
   "cell_type": "markdown",
   "metadata": {},
   "source": [
    "<div class=\"alert alert-info\">\n",
    "\n",
    "Started with RegistrationYear. Kept cars from the last 30 years. Anything older or in the future is too difficult to predict."
   ]
  },
  {
   "cell_type": "markdown",
   "metadata": {},
   "source": [
    "### Power"
   ]
  },
  {
   "cell_type": "code",
   "execution_count": 18,
   "metadata": {
    "scrolled": true
   },
   "outputs": [
    {
     "data": {
      "text/plain": [
       "0        34613\n",
       "1           27\n",
       "2            9\n",
       "3            7\n",
       "4           30\n",
       "         ...  \n",
       "17932        1\n",
       "19208        1\n",
       "19211        1\n",
       "19312        1\n",
       "20000        1\n",
       "Name: Power, Length: 694, dtype: int64"
      ]
     },
     "metadata": {},
     "output_type": "display_data"
    }
   ],
   "source": [
    "display(data['Power'].value_counts().sort_index())"
   ]
  },
  {
   "cell_type": "code",
   "execution_count": 19,
   "metadata": {
    "scrolled": true
   },
   "outputs": [
    {
     "data": {
      "text/html": [
       "<div>\n",
       "<style scoped>\n",
       "    .dataframe tbody tr th:only-of-type {\n",
       "        vertical-align: middle;\n",
       "    }\n",
       "\n",
       "    .dataframe tbody tr th {\n",
       "        vertical-align: top;\n",
       "    }\n",
       "\n",
       "    .dataframe thead th {\n",
       "        text-align: right;\n",
       "    }\n",
       "</style>\n",
       "<table border=\"1\" class=\"dataframe\">\n",
       "  <thead>\n",
       "    <tr style=\"text-align: right;\">\n",
       "      <th></th>\n",
       "      <th>Price</th>\n",
       "      <th>VehicleType</th>\n",
       "      <th>RegistrationYear</th>\n",
       "      <th>Gearbox</th>\n",
       "      <th>Power</th>\n",
       "      <th>Model</th>\n",
       "      <th>Kilometer</th>\n",
       "      <th>FuelType</th>\n",
       "      <th>Brand</th>\n",
       "      <th>Repaired</th>\n",
       "    </tr>\n",
       "  </thead>\n",
       "  <tbody>\n",
       "    <tr>\n",
       "      <th>101186</th>\n",
       "      <td>600</td>\n",
       "      <td>wagon</td>\n",
       "      <td>2000</td>\n",
       "      <td>manual</td>\n",
       "      <td>1753</td>\n",
       "      <td>focus</td>\n",
       "      <td>150000</td>\n",
       "      <td>gasoline</td>\n",
       "      <td>ford</td>\n",
       "      <td>no</td>\n",
       "    </tr>\n",
       "    <tr>\n",
       "      <th>323887</th>\n",
       "      <td>7499</td>\n",
       "      <td>coupe</td>\n",
       "      <td>2004</td>\n",
       "      <td>manual</td>\n",
       "      <td>1707</td>\n",
       "      <td>cooper</td>\n",
       "      <td>150000</td>\n",
       "      <td>petrol</td>\n",
       "      <td>mini</td>\n",
       "      <td>no</td>\n",
       "    </tr>\n",
       "    <tr>\n",
       "      <th>322683</th>\n",
       "      <td>8600</td>\n",
       "      <td>other</td>\n",
       "      <td>2007</td>\n",
       "      <td>auto</td>\n",
       "      <td>3500</td>\n",
       "      <td>transporter</td>\n",
       "      <td>150000</td>\n",
       "      <td>NaN</td>\n",
       "      <td>volkswagen</td>\n",
       "      <td>NaN</td>\n",
       "    </tr>\n",
       "    <tr>\n",
       "      <th>353633</th>\n",
       "      <td>2400</td>\n",
       "      <td>sedan</td>\n",
       "      <td>2007</td>\n",
       "      <td>manual</td>\n",
       "      <td>650</td>\n",
       "      <td>c2</td>\n",
       "      <td>150000</td>\n",
       "      <td>petrol</td>\n",
       "      <td>citroen</td>\n",
       "      <td>NaN</td>\n",
       "    </tr>\n",
       "    <tr>\n",
       "      <th>28942</th>\n",
       "      <td>300</td>\n",
       "      <td>wagon</td>\n",
       "      <td>1996</td>\n",
       "      <td>manual</td>\n",
       "      <td>1999</td>\n",
       "      <td>golf</td>\n",
       "      <td>10000</td>\n",
       "      <td>petrol</td>\n",
       "      <td>volkswagen</td>\n",
       "      <td>NaN</td>\n",
       "    </tr>\n",
       "    <tr>\n",
       "      <th>117936</th>\n",
       "      <td>3999</td>\n",
       "      <td>sedan</td>\n",
       "      <td>2000</td>\n",
       "      <td>manual</td>\n",
       "      <td>1801</td>\n",
       "      <td>NaN</td>\n",
       "      <td>150000</td>\n",
       "      <td>petrol</td>\n",
       "      <td>audi</td>\n",
       "      <td>no</td>\n",
       "    </tr>\n",
       "    <tr>\n",
       "      <th>121124</th>\n",
       "      <td>650</td>\n",
       "      <td>wagon</td>\n",
       "      <td>1997</td>\n",
       "      <td>auto</td>\n",
       "      <td>3199</td>\n",
       "      <td>e_klasse</td>\n",
       "      <td>30000</td>\n",
       "      <td>petrol</td>\n",
       "      <td>mercedes_benz</td>\n",
       "      <td>NaN</td>\n",
       "    </tr>\n",
       "    <tr>\n",
       "      <th>341320</th>\n",
       "      <td>1899</td>\n",
       "      <td>other</td>\n",
       "      <td>2006</td>\n",
       "      <td>manual</td>\n",
       "      <td>7518</td>\n",
       "      <td>berlingo</td>\n",
       "      <td>125000</td>\n",
       "      <td>petrol</td>\n",
       "      <td>citroen</td>\n",
       "      <td>yes</td>\n",
       "    </tr>\n",
       "    <tr>\n",
       "      <th>59887</th>\n",
       "      <td>300</td>\n",
       "      <td>sedan</td>\n",
       "      <td>2004</td>\n",
       "      <td>manual</td>\n",
       "      <td>1002</td>\n",
       "      <td>NaN</td>\n",
       "      <td>150000</td>\n",
       "      <td>NaN</td>\n",
       "      <td>ford</td>\n",
       "      <td>yes</td>\n",
       "    </tr>\n",
       "    <tr>\n",
       "      <th>261022</th>\n",
       "      <td>900</td>\n",
       "      <td>wagon</td>\n",
       "      <td>1992</td>\n",
       "      <td>auto</td>\n",
       "      <td>1992</td>\n",
       "      <td>touareg</td>\n",
       "      <td>150000</td>\n",
       "      <td>NaN</td>\n",
       "      <td>volkswagen</td>\n",
       "      <td>NaN</td>\n",
       "    </tr>\n",
       "    <tr>\n",
       "      <th>196217</th>\n",
       "      <td>850</td>\n",
       "      <td>small</td>\n",
       "      <td>1999</td>\n",
       "      <td>auto</td>\n",
       "      <td>1400</td>\n",
       "      <td>a_klasse</td>\n",
       "      <td>150000</td>\n",
       "      <td>petrol</td>\n",
       "      <td>mercedes_benz</td>\n",
       "      <td>NaN</td>\n",
       "    </tr>\n",
       "    <tr>\n",
       "      <th>183631</th>\n",
       "      <td>200</td>\n",
       "      <td>wagon</td>\n",
       "      <td>1996</td>\n",
       "      <td>manual</td>\n",
       "      <td>1598</td>\n",
       "      <td>astra</td>\n",
       "      <td>150000</td>\n",
       "      <td>petrol</td>\n",
       "      <td>opel</td>\n",
       "      <td>NaN</td>\n",
       "    </tr>\n",
       "    <tr>\n",
       "      <th>84803</th>\n",
       "      <td>1999</td>\n",
       "      <td>sedan</td>\n",
       "      <td>1991</td>\n",
       "      <td>auto</td>\n",
       "      <td>10912</td>\n",
       "      <td>NaN</td>\n",
       "      <td>150000</td>\n",
       "      <td>gasoline</td>\n",
       "      <td>mercedes_benz</td>\n",
       "      <td>no</td>\n",
       "    </tr>\n",
       "    <tr>\n",
       "      <th>63986</th>\n",
       "      <td>3250</td>\n",
       "      <td>sedan</td>\n",
       "      <td>2001</td>\n",
       "      <td>auto</td>\n",
       "      <td>17932</td>\n",
       "      <td>omega</td>\n",
       "      <td>150000</td>\n",
       "      <td>petrol</td>\n",
       "      <td>opel</td>\n",
       "      <td>NaN</td>\n",
       "    </tr>\n",
       "    <tr>\n",
       "      <th>172462</th>\n",
       "      <td>3000</td>\n",
       "      <td>wagon</td>\n",
       "      <td>2002</td>\n",
       "      <td>manual</td>\n",
       "      <td>2000</td>\n",
       "      <td>other</td>\n",
       "      <td>5000</td>\n",
       "      <td>gasoline</td>\n",
       "      <td>citroen</td>\n",
       "      <td>no</td>\n",
       "    </tr>\n",
       "  </tbody>\n",
       "</table>\n",
       "</div>"
      ],
      "text/plain": [
       "        Price VehicleType  RegistrationYear Gearbox  Power        Model  \\\n",
       "101186    600       wagon              2000  manual   1753        focus   \n",
       "323887   7499       coupe              2004  manual   1707       cooper   \n",
       "322683   8600       other              2007    auto   3500  transporter   \n",
       "353633   2400       sedan              2007  manual    650           c2   \n",
       "28942     300       wagon              1996  manual   1999         golf   \n",
       "117936   3999       sedan              2000  manual   1801          NaN   \n",
       "121124    650       wagon              1997    auto   3199     e_klasse   \n",
       "341320   1899       other              2006  manual   7518     berlingo   \n",
       "59887     300       sedan              2004  manual   1002          NaN   \n",
       "261022    900       wagon              1992    auto   1992      touareg   \n",
       "196217    850       small              1999    auto   1400     a_klasse   \n",
       "183631    200       wagon              1996  manual   1598        astra   \n",
       "84803    1999       sedan              1991    auto  10912          NaN   \n",
       "63986    3250       sedan              2001    auto  17932        omega   \n",
       "172462   3000       wagon              2002  manual   2000        other   \n",
       "\n",
       "        Kilometer  FuelType          Brand Repaired  \n",
       "101186     150000  gasoline           ford       no  \n",
       "323887     150000    petrol           mini       no  \n",
       "322683     150000       NaN     volkswagen      NaN  \n",
       "353633     150000    petrol        citroen      NaN  \n",
       "28942       10000    petrol     volkswagen      NaN  \n",
       "117936     150000    petrol           audi       no  \n",
       "121124      30000    petrol  mercedes_benz      NaN  \n",
       "341320     125000    petrol        citroen      yes  \n",
       "59887      150000       NaN           ford      yes  \n",
       "261022     150000       NaN     volkswagen      NaN  \n",
       "196217     150000    petrol  mercedes_benz      NaN  \n",
       "183631     150000    petrol           opel      NaN  \n",
       "84803      150000  gasoline  mercedes_benz       no  \n",
       "63986      150000    petrol           opel      NaN  \n",
       "172462       5000  gasoline        citroen       no  "
      ]
     },
     "execution_count": 19,
     "metadata": {},
     "output_type": "execute_result"
    }
   ],
   "source": [
    "data[data['Power']>600].sample(15)"
   ]
  },
  {
   "cell_type": "code",
   "execution_count": 20,
   "metadata": {},
   "outputs": [
    {
     "data": {
      "text/html": [
       "<div>\n",
       "<style scoped>\n",
       "    .dataframe tbody tr th:only-of-type {\n",
       "        vertical-align: middle;\n",
       "    }\n",
       "\n",
       "    .dataframe tbody tr th {\n",
       "        vertical-align: top;\n",
       "    }\n",
       "\n",
       "    .dataframe thead th {\n",
       "        text-align: right;\n",
       "    }\n",
       "</style>\n",
       "<table border=\"1\" class=\"dataframe\">\n",
       "  <thead>\n",
       "    <tr style=\"text-align: right;\">\n",
       "      <th></th>\n",
       "      <th>Price</th>\n",
       "      <th>VehicleType</th>\n",
       "      <th>RegistrationYear</th>\n",
       "      <th>Gearbox</th>\n",
       "      <th>Power</th>\n",
       "      <th>Model</th>\n",
       "      <th>Kilometer</th>\n",
       "      <th>FuelType</th>\n",
       "      <th>Brand</th>\n",
       "      <th>Repaired</th>\n",
       "    </tr>\n",
       "  </thead>\n",
       "  <tbody>\n",
       "    <tr>\n",
       "      <th>285566</th>\n",
       "      <td>6200</td>\n",
       "      <td>sedan</td>\n",
       "      <td>2009</td>\n",
       "      <td>NaN</td>\n",
       "      <td>0</td>\n",
       "      <td>3er</td>\n",
       "      <td>125000</td>\n",
       "      <td>gasoline</td>\n",
       "      <td>bmw</td>\n",
       "      <td>NaN</td>\n",
       "    </tr>\n",
       "    <tr>\n",
       "      <th>25975</th>\n",
       "      <td>3900</td>\n",
       "      <td>sedan</td>\n",
       "      <td>2007</td>\n",
       "      <td>NaN</td>\n",
       "      <td>0</td>\n",
       "      <td>a4</td>\n",
       "      <td>150000</td>\n",
       "      <td>gasoline</td>\n",
       "      <td>audi</td>\n",
       "      <td>no</td>\n",
       "    </tr>\n",
       "    <tr>\n",
       "      <th>307983</th>\n",
       "      <td>0</td>\n",
       "      <td>NaN</td>\n",
       "      <td>1995</td>\n",
       "      <td>NaN</td>\n",
       "      <td>0</td>\n",
       "      <td>NaN</td>\n",
       "      <td>5000</td>\n",
       "      <td>petrol</td>\n",
       "      <td>fiat</td>\n",
       "      <td>yes</td>\n",
       "    </tr>\n",
       "    <tr>\n",
       "      <th>347113</th>\n",
       "      <td>2599</td>\n",
       "      <td>NaN</td>\n",
       "      <td>2016</td>\n",
       "      <td>manual</td>\n",
       "      <td>0</td>\n",
       "      <td>sprinter</td>\n",
       "      <td>150000</td>\n",
       "      <td>gasoline</td>\n",
       "      <td>mercedes_benz</td>\n",
       "      <td>yes</td>\n",
       "    </tr>\n",
       "    <tr>\n",
       "      <th>328979</th>\n",
       "      <td>2000</td>\n",
       "      <td>bus</td>\n",
       "      <td>1991</td>\n",
       "      <td>manual</td>\n",
       "      <td>0</td>\n",
       "      <td>transporter</td>\n",
       "      <td>150000</td>\n",
       "      <td>NaN</td>\n",
       "      <td>volkswagen</td>\n",
       "      <td>no</td>\n",
       "    </tr>\n",
       "    <tr>\n",
       "      <th>335112</th>\n",
       "      <td>5555</td>\n",
       "      <td>sedan</td>\n",
       "      <td>1999</td>\n",
       "      <td>NaN</td>\n",
       "      <td>0</td>\n",
       "      <td>e_klasse</td>\n",
       "      <td>150000</td>\n",
       "      <td>NaN</td>\n",
       "      <td>mercedes_benz</td>\n",
       "      <td>NaN</td>\n",
       "    </tr>\n",
       "    <tr>\n",
       "      <th>176109</th>\n",
       "      <td>950</td>\n",
       "      <td>NaN</td>\n",
       "      <td>2016</td>\n",
       "      <td>NaN</td>\n",
       "      <td>0</td>\n",
       "      <td>antara</td>\n",
       "      <td>150000</td>\n",
       "      <td>petrol</td>\n",
       "      <td>opel</td>\n",
       "      <td>no</td>\n",
       "    </tr>\n",
       "    <tr>\n",
       "      <th>248973</th>\n",
       "      <td>150</td>\n",
       "      <td>NaN</td>\n",
       "      <td>1995</td>\n",
       "      <td>NaN</td>\n",
       "      <td>0</td>\n",
       "      <td>NaN</td>\n",
       "      <td>150000</td>\n",
       "      <td>petrol</td>\n",
       "      <td>renault</td>\n",
       "      <td>NaN</td>\n",
       "    </tr>\n",
       "    <tr>\n",
       "      <th>128421</th>\n",
       "      <td>10000</td>\n",
       "      <td>NaN</td>\n",
       "      <td>2000</td>\n",
       "      <td>NaN</td>\n",
       "      <td>0</td>\n",
       "      <td>NaN</td>\n",
       "      <td>150000</td>\n",
       "      <td>NaN</td>\n",
       "      <td>bmw</td>\n",
       "      <td>NaN</td>\n",
       "    </tr>\n",
       "    <tr>\n",
       "      <th>223179</th>\n",
       "      <td>50</td>\n",
       "      <td>NaN</td>\n",
       "      <td>2005</td>\n",
       "      <td>NaN</td>\n",
       "      <td>0</td>\n",
       "      <td>transporter</td>\n",
       "      <td>5000</td>\n",
       "      <td>NaN</td>\n",
       "      <td>volkswagen</td>\n",
       "      <td>NaN</td>\n",
       "    </tr>\n",
       "    <tr>\n",
       "      <th>312991</th>\n",
       "      <td>0</td>\n",
       "      <td>small</td>\n",
       "      <td>1994</td>\n",
       "      <td>manual</td>\n",
       "      <td>0</td>\n",
       "      <td>polo</td>\n",
       "      <td>150000</td>\n",
       "      <td>petrol</td>\n",
       "      <td>volkswagen</td>\n",
       "      <td>NaN</td>\n",
       "    </tr>\n",
       "    <tr>\n",
       "      <th>277732</th>\n",
       "      <td>2900</td>\n",
       "      <td>sedan</td>\n",
       "      <td>2001</td>\n",
       "      <td>manual</td>\n",
       "      <td>0</td>\n",
       "      <td>c_klasse</td>\n",
       "      <td>150000</td>\n",
       "      <td>gasoline</td>\n",
       "      <td>mercedes_benz</td>\n",
       "      <td>NaN</td>\n",
       "    </tr>\n",
       "    <tr>\n",
       "      <th>335194</th>\n",
       "      <td>6000</td>\n",
       "      <td>wagon</td>\n",
       "      <td>2006</td>\n",
       "      <td>manual</td>\n",
       "      <td>0</td>\n",
       "      <td>passat</td>\n",
       "      <td>150000</td>\n",
       "      <td>gasoline</td>\n",
       "      <td>volkswagen</td>\n",
       "      <td>NaN</td>\n",
       "    </tr>\n",
       "    <tr>\n",
       "      <th>279680</th>\n",
       "      <td>80</td>\n",
       "      <td>small</td>\n",
       "      <td>1997</td>\n",
       "      <td>NaN</td>\n",
       "      <td>0</td>\n",
       "      <td>corsa</td>\n",
       "      <td>5000</td>\n",
       "      <td>gasoline</td>\n",
       "      <td>opel</td>\n",
       "      <td>NaN</td>\n",
       "    </tr>\n",
       "    <tr>\n",
       "      <th>16252</th>\n",
       "      <td>799</td>\n",
       "      <td>NaN</td>\n",
       "      <td>2005</td>\n",
       "      <td>manual</td>\n",
       "      <td>0</td>\n",
       "      <td>clio</td>\n",
       "      <td>150000</td>\n",
       "      <td>NaN</td>\n",
       "      <td>renault</td>\n",
       "      <td>NaN</td>\n",
       "    </tr>\n",
       "  </tbody>\n",
       "</table>\n",
       "</div>"
      ],
      "text/plain": [
       "        Price VehicleType  RegistrationYear Gearbox  Power        Model  \\\n",
       "285566   6200       sedan              2009     NaN      0          3er   \n",
       "25975    3900       sedan              2007     NaN      0           a4   \n",
       "307983      0         NaN              1995     NaN      0          NaN   \n",
       "347113   2599         NaN              2016  manual      0     sprinter   \n",
       "328979   2000         bus              1991  manual      0  transporter   \n",
       "335112   5555       sedan              1999     NaN      0     e_klasse   \n",
       "176109    950         NaN              2016     NaN      0       antara   \n",
       "248973    150         NaN              1995     NaN      0          NaN   \n",
       "128421  10000         NaN              2000     NaN      0          NaN   \n",
       "223179     50         NaN              2005     NaN      0  transporter   \n",
       "312991      0       small              1994  manual      0         polo   \n",
       "277732   2900       sedan              2001  manual      0     c_klasse   \n",
       "335194   6000       wagon              2006  manual      0       passat   \n",
       "279680     80       small              1997     NaN      0        corsa   \n",
       "16252     799         NaN              2005  manual      0         clio   \n",
       "\n",
       "        Kilometer  FuelType          Brand Repaired  \n",
       "285566     125000  gasoline            bmw      NaN  \n",
       "25975      150000  gasoline           audi       no  \n",
       "307983       5000    petrol           fiat      yes  \n",
       "347113     150000  gasoline  mercedes_benz      yes  \n",
       "328979     150000       NaN     volkswagen       no  \n",
       "335112     150000       NaN  mercedes_benz      NaN  \n",
       "176109     150000    petrol           opel       no  \n",
       "248973     150000    petrol        renault      NaN  \n",
       "128421     150000       NaN            bmw      NaN  \n",
       "223179       5000       NaN     volkswagen      NaN  \n",
       "312991     150000    petrol     volkswagen      NaN  \n",
       "277732     150000  gasoline  mercedes_benz      NaN  \n",
       "335194     150000  gasoline     volkswagen      NaN  \n",
       "279680       5000  gasoline           opel      NaN  \n",
       "16252      150000       NaN        renault      NaN  "
      ]
     },
     "execution_count": 20,
     "metadata": {},
     "output_type": "execute_result"
    }
   ],
   "source": [
    "data[data['Power']<35].sample(15)"
   ]
  },
  {
   "cell_type": "code",
   "execution_count": 21,
   "metadata": {
    "scrolled": true
   },
   "outputs": [
    {
     "name": "stdout",
     "output_type": "stream",
     "text": [
      "<class 'pandas.core.frame.DataFrame'>\n",
      "Int64Index: 298120 entries, 1 to 354368\n",
      "Data columns (total 10 columns):\n",
      " #   Column            Non-Null Count   Dtype \n",
      "---  ------            --------------   ----- \n",
      " 0   Price             298120 non-null  int32 \n",
      " 1   VehicleType       286396 non-null  object\n",
      " 2   RegistrationYear  298120 non-null  int32 \n",
      " 3   Gearbox           292587 non-null  object\n",
      " 4   Power             298120 non-null  int32 \n",
      " 5   Model             287018 non-null  object\n",
      " 6   Kilometer         298120 non-null  int32 \n",
      " 7   FuelType          281781 non-null  object\n",
      " 8   Brand             298120 non-null  object\n",
      " 9   Repaired          253912 non-null  object\n",
      "dtypes: int32(4), object(6)\n",
      "memory usage: 20.5+ MB\n",
      "None\n"
     ]
    }
   ],
   "source": [
    "data = data.query('30 <= Power <= 600')\n",
    "print(data.info())"
   ]
  },
  {
   "cell_type": "markdown",
   "metadata": {},
   "source": [
    "<div class=\"alert alert-info\">\n",
    "    \n",
    "Kept cars with more than 30 years and over 600 horsepower. The number of null values in other columns significantly decreased, which confirms the \"poor quality\" of most such listings.\n",
    "\n",
    "**sonstige_autos** and **trabant** stand out in this regard compared to others, let's check the brands."
   ]
  },
  {
   "cell_type": "markdown",
   "metadata": {},
   "source": [
    "### Brand"
   ]
  },
  {
   "cell_type": "code",
   "execution_count": 22,
   "metadata": {},
   "outputs": [
    {
     "data": {
      "text/plain": [
       "volkswagen        64779\n",
       "opel              33010\n",
       "bmw               32761\n",
       "mercedes_benz     26992\n",
       "audi              26117\n",
       "ford              20856\n",
       "renault           14177\n",
       "peugeot            9534\n",
       "fiat               7632\n",
       "seat               5976\n",
       "skoda              4977\n",
       "mazda              4797\n",
       "smart              4516\n",
       "citroen            4219\n",
       "nissan             4114\n",
       "toyota             4020\n",
       "hyundai            3138\n",
       "mini               2977\n",
       "volvo              2823\n",
       "mitsubishi         2559\n",
       "honda              2424\n",
       "kia                2130\n",
       "suzuki             1970\n",
       "alfa_romeo         1958\n",
       "chevrolet          1372\n",
       "sonstige_autos     1244\n",
       "chrysler           1186\n",
       "dacia               804\n",
       "subaru              661\n",
       "daihatsu            637\n",
       "jeep                554\n",
       "porsche             544\n",
       "saab                471\n",
       "land_rover          444\n",
       "jaguar              422\n",
       "daewoo              414\n",
       "rover               379\n",
       "lancia              371\n",
       "lada                138\n",
       "trabant              23\n",
       "Name: Brand, dtype: int64"
      ]
     },
     "execution_count": 22,
     "metadata": {},
     "output_type": "execute_result"
    }
   ],
   "source": [
    "data['Brand'].value_counts()"
   ]
  },
  {
   "cell_type": "code",
   "execution_count": 23,
   "metadata": {},
   "outputs": [
    {
     "data": {
      "text/html": [
       "<div>\n",
       "<style scoped>\n",
       "    .dataframe tbody tr th:only-of-type {\n",
       "        vertical-align: middle;\n",
       "    }\n",
       "\n",
       "    .dataframe tbody tr th {\n",
       "        vertical-align: top;\n",
       "    }\n",
       "\n",
       "    .dataframe thead th {\n",
       "        text-align: right;\n",
       "    }\n",
       "</style>\n",
       "<table border=\"1\" class=\"dataframe\">\n",
       "  <thead>\n",
       "    <tr style=\"text-align: right;\">\n",
       "      <th></th>\n",
       "      <th>Price</th>\n",
       "      <th>RegistrationYear</th>\n",
       "      <th>Power</th>\n",
       "      <th>Kilometer</th>\n",
       "    </tr>\n",
       "  </thead>\n",
       "  <tbody>\n",
       "    <tr>\n",
       "      <th>count</th>\n",
       "      <td>1244.000000</td>\n",
       "      <td>1244.000000</td>\n",
       "      <td>1244.000000</td>\n",
       "      <td>1244.000000</td>\n",
       "    </tr>\n",
       "    <tr>\n",
       "      <th>mean</th>\n",
       "      <td>6982.887460</td>\n",
       "      <td>2002.197749</td>\n",
       "      <td>175.444534</td>\n",
       "      <td>117094.051447</td>\n",
       "    </tr>\n",
       "    <tr>\n",
       "      <th>std</th>\n",
       "      <td>5509.200653</td>\n",
       "      <td>6.722122</td>\n",
       "      <td>82.612751</td>\n",
       "      <td>45032.124012</td>\n",
       "    </tr>\n",
       "    <tr>\n",
       "      <th>min</th>\n",
       "      <td>0.000000</td>\n",
       "      <td>1986.000000</td>\n",
       "      <td>30.000000</td>\n",
       "      <td>5000.000000</td>\n",
       "    </tr>\n",
       "    <tr>\n",
       "      <th>25%</th>\n",
       "      <td>2498.750000</td>\n",
       "      <td>1998.000000</td>\n",
       "      <td>120.000000</td>\n",
       "      <td>90000.000000</td>\n",
       "    </tr>\n",
       "    <tr>\n",
       "      <th>50%</th>\n",
       "      <td>5770.000000</td>\n",
       "      <td>2003.000000</td>\n",
       "      <td>156.000000</td>\n",
       "      <td>150000.000000</td>\n",
       "    </tr>\n",
       "    <tr>\n",
       "      <th>75%</th>\n",
       "      <td>10800.000000</td>\n",
       "      <td>2007.000000</td>\n",
       "      <td>223.250000</td>\n",
       "      <td>150000.000000</td>\n",
       "    </tr>\n",
       "    <tr>\n",
       "      <th>max</th>\n",
       "      <td>20000.000000</td>\n",
       "      <td>2016.000000</td>\n",
       "      <td>551.000000</td>\n",
       "      <td>150000.000000</td>\n",
       "    </tr>\n",
       "  </tbody>\n",
       "</table>\n",
       "</div>"
      ],
      "text/plain": [
       "              Price  RegistrationYear        Power      Kilometer\n",
       "count   1244.000000       1244.000000  1244.000000    1244.000000\n",
       "mean    6982.887460       2002.197749   175.444534  117094.051447\n",
       "std     5509.200653          6.722122    82.612751   45032.124012\n",
       "min        0.000000       1986.000000    30.000000    5000.000000\n",
       "25%     2498.750000       1998.000000   120.000000   90000.000000\n",
       "50%     5770.000000       2003.000000   156.000000  150000.000000\n",
       "75%    10800.000000       2007.000000   223.250000  150000.000000\n",
       "max    20000.000000       2016.000000   551.000000  150000.000000"
      ]
     },
     "metadata": {},
     "output_type": "display_data"
    },
    {
     "data": {
      "text/html": [
       "<div>\n",
       "<style scoped>\n",
       "    .dataframe tbody tr th:only-of-type {\n",
       "        vertical-align: middle;\n",
       "    }\n",
       "\n",
       "    .dataframe tbody tr th {\n",
       "        vertical-align: top;\n",
       "    }\n",
       "\n",
       "    .dataframe thead th {\n",
       "        text-align: right;\n",
       "    }\n",
       "</style>\n",
       "<table border=\"1\" class=\"dataframe\">\n",
       "  <thead>\n",
       "    <tr style=\"text-align: right;\">\n",
       "      <th></th>\n",
       "      <th>Price</th>\n",
       "      <th>VehicleType</th>\n",
       "      <th>RegistrationYear</th>\n",
       "      <th>Gearbox</th>\n",
       "      <th>Power</th>\n",
       "      <th>Model</th>\n",
       "      <th>Kilometer</th>\n",
       "      <th>FuelType</th>\n",
       "      <th>Brand</th>\n",
       "      <th>Repaired</th>\n",
       "    </tr>\n",
       "  </thead>\n",
       "  <tbody>\n",
       "    <tr>\n",
       "      <th>181619</th>\n",
       "      <td>3690</td>\n",
       "      <td>sedan</td>\n",
       "      <td>2004</td>\n",
       "      <td>manual</td>\n",
       "      <td>155</td>\n",
       "      <td>NaN</td>\n",
       "      <td>150000</td>\n",
       "      <td>petrol</td>\n",
       "      <td>sonstige_autos</td>\n",
       "      <td>no</td>\n",
       "    </tr>\n",
       "    <tr>\n",
       "      <th>257327</th>\n",
       "      <td>350</td>\n",
       "      <td>sedan</td>\n",
       "      <td>1989</td>\n",
       "      <td>auto</td>\n",
       "      <td>126</td>\n",
       "      <td>NaN</td>\n",
       "      <td>30000</td>\n",
       "      <td>petrol</td>\n",
       "      <td>sonstige_autos</td>\n",
       "      <td>yes</td>\n",
       "    </tr>\n",
       "    <tr>\n",
       "      <th>283298</th>\n",
       "      <td>0</td>\n",
       "      <td>small</td>\n",
       "      <td>1992</td>\n",
       "      <td>manual</td>\n",
       "      <td>90</td>\n",
       "      <td>NaN</td>\n",
       "      <td>150000</td>\n",
       "      <td>petrol</td>\n",
       "      <td>sonstige_autos</td>\n",
       "      <td>NaN</td>\n",
       "    </tr>\n",
       "    <tr>\n",
       "      <th>296973</th>\n",
       "      <td>14300</td>\n",
       "      <td>other</td>\n",
       "      <td>2011</td>\n",
       "      <td>manual</td>\n",
       "      <td>160</td>\n",
       "      <td>NaN</td>\n",
       "      <td>150000</td>\n",
       "      <td>gasoline</td>\n",
       "      <td>sonstige_autos</td>\n",
       "      <td>no</td>\n",
       "    </tr>\n",
       "    <tr>\n",
       "      <th>297959</th>\n",
       "      <td>4500</td>\n",
       "      <td>other</td>\n",
       "      <td>2006</td>\n",
       "      <td>manual</td>\n",
       "      <td>136</td>\n",
       "      <td>NaN</td>\n",
       "      <td>150000</td>\n",
       "      <td>gasoline</td>\n",
       "      <td>sonstige_autos</td>\n",
       "      <td>no</td>\n",
       "    </tr>\n",
       "    <tr>\n",
       "      <th>310769</th>\n",
       "      <td>500</td>\n",
       "      <td>NaN</td>\n",
       "      <td>1995</td>\n",
       "      <td>manual</td>\n",
       "      <td>60</td>\n",
       "      <td>NaN</td>\n",
       "      <td>150000</td>\n",
       "      <td>NaN</td>\n",
       "      <td>sonstige_autos</td>\n",
       "      <td>no</td>\n",
       "    </tr>\n",
       "    <tr>\n",
       "      <th>272280</th>\n",
       "      <td>12500</td>\n",
       "      <td>suv</td>\n",
       "      <td>2004</td>\n",
       "      <td>auto</td>\n",
       "      <td>211</td>\n",
       "      <td>NaN</td>\n",
       "      <td>150000</td>\n",
       "      <td>hybrid</td>\n",
       "      <td>sonstige_autos</td>\n",
       "      <td>no</td>\n",
       "    </tr>\n",
       "    <tr>\n",
       "      <th>8714</th>\n",
       "      <td>2490</td>\n",
       "      <td>convertible</td>\n",
       "      <td>2000</td>\n",
       "      <td>manual</td>\n",
       "      <td>120</td>\n",
       "      <td>NaN</td>\n",
       "      <td>150000</td>\n",
       "      <td>petrol</td>\n",
       "      <td>sonstige_autos</td>\n",
       "      <td>no</td>\n",
       "    </tr>\n",
       "    <tr>\n",
       "      <th>90934</th>\n",
       "      <td>18200</td>\n",
       "      <td>sedan</td>\n",
       "      <td>2006</td>\n",
       "      <td>auto</td>\n",
       "      <td>400</td>\n",
       "      <td>NaN</td>\n",
       "      <td>125000</td>\n",
       "      <td>petrol</td>\n",
       "      <td>sonstige_autos</td>\n",
       "      <td>no</td>\n",
       "    </tr>\n",
       "    <tr>\n",
       "      <th>341443</th>\n",
       "      <td>12500</td>\n",
       "      <td>suv</td>\n",
       "      <td>2005</td>\n",
       "      <td>auto</td>\n",
       "      <td>211</td>\n",
       "      <td>NaN</td>\n",
       "      <td>150000</td>\n",
       "      <td>hybrid</td>\n",
       "      <td>sonstige_autos</td>\n",
       "      <td>no</td>\n",
       "    </tr>\n",
       "  </tbody>\n",
       "</table>\n",
       "</div>"
      ],
      "text/plain": [
       "        Price  VehicleType  RegistrationYear Gearbox  Power Model  Kilometer  \\\n",
       "181619   3690        sedan              2004  manual    155   NaN     150000   \n",
       "257327    350        sedan              1989    auto    126   NaN      30000   \n",
       "283298      0        small              1992  manual     90   NaN     150000   \n",
       "296973  14300        other              2011  manual    160   NaN     150000   \n",
       "297959   4500        other              2006  manual    136   NaN     150000   \n",
       "310769    500          NaN              1995  manual     60   NaN     150000   \n",
       "272280  12500          suv              2004    auto    211   NaN     150000   \n",
       "8714     2490  convertible              2000  manual    120   NaN     150000   \n",
       "90934   18200        sedan              2006    auto    400   NaN     125000   \n",
       "341443  12500          suv              2005    auto    211   NaN     150000   \n",
       "\n",
       "        FuelType           Brand Repaired  \n",
       "181619    petrol  sonstige_autos       no  \n",
       "257327    petrol  sonstige_autos      yes  \n",
       "283298    petrol  sonstige_autos      NaN  \n",
       "296973  gasoline  sonstige_autos       no  \n",
       "297959  gasoline  sonstige_autos       no  \n",
       "310769       NaN  sonstige_autos       no  \n",
       "272280    hybrid  sonstige_autos       no  \n",
       "8714      petrol  sonstige_autos       no  \n",
       "90934     petrol  sonstige_autos       no  \n",
       "341443    hybrid  sonstige_autos       no  "
      ]
     },
     "metadata": {},
     "output_type": "display_data"
    }
   ],
   "source": [
    "sonstige_autos = data[data['Brand'] == 'sonstige_autos']\n",
    "display(sonstige_autos.describe())\n",
    "display(sonstige_autos.sample(10))"
   ]
  },
  {
   "cell_type": "code",
   "execution_count": 24,
   "metadata": {},
   "outputs": [
    {
     "data": {
      "text/html": [
       "<div>\n",
       "<style scoped>\n",
       "    .dataframe tbody tr th:only-of-type {\n",
       "        vertical-align: middle;\n",
       "    }\n",
       "\n",
       "    .dataframe tbody tr th {\n",
       "        vertical-align: top;\n",
       "    }\n",
       "\n",
       "    .dataframe thead th {\n",
       "        text-align: right;\n",
       "    }\n",
       "</style>\n",
       "<table border=\"1\" class=\"dataframe\">\n",
       "  <thead>\n",
       "    <tr style=\"text-align: right;\">\n",
       "      <th></th>\n",
       "      <th>Price</th>\n",
       "      <th>VehicleType</th>\n",
       "      <th>RegistrationYear</th>\n",
       "      <th>Gearbox</th>\n",
       "      <th>Power</th>\n",
       "      <th>Model</th>\n",
       "      <th>Kilometer</th>\n",
       "      <th>FuelType</th>\n",
       "      <th>Brand</th>\n",
       "      <th>Repaired</th>\n",
       "    </tr>\n",
       "  </thead>\n",
       "  <tbody>\n",
       "    <tr>\n",
       "      <th>2953</th>\n",
       "      <td>2500</td>\n",
       "      <td>sedan</td>\n",
       "      <td>1989</td>\n",
       "      <td>manual</td>\n",
       "      <td>41</td>\n",
       "      <td>other</td>\n",
       "      <td>150000</td>\n",
       "      <td>petrol</td>\n",
       "      <td>trabant</td>\n",
       "      <td>no</td>\n",
       "    </tr>\n",
       "    <tr>\n",
       "      <th>100862</th>\n",
       "      <td>0</td>\n",
       "      <td>sedan</td>\n",
       "      <td>1989</td>\n",
       "      <td>manual</td>\n",
       "      <td>36</td>\n",
       "      <td>601</td>\n",
       "      <td>5000</td>\n",
       "      <td>NaN</td>\n",
       "      <td>trabant</td>\n",
       "      <td>NaN</td>\n",
       "    </tr>\n",
       "    <tr>\n",
       "      <th>172263</th>\n",
       "      <td>2500</td>\n",
       "      <td>sedan</td>\n",
       "      <td>1989</td>\n",
       "      <td>manual</td>\n",
       "      <td>41</td>\n",
       "      <td>other</td>\n",
       "      <td>5000</td>\n",
       "      <td>petrol</td>\n",
       "      <td>trabant</td>\n",
       "      <td>NaN</td>\n",
       "    </tr>\n",
       "    <tr>\n",
       "      <th>55888</th>\n",
       "      <td>2490</td>\n",
       "      <td>wagon</td>\n",
       "      <td>1990</td>\n",
       "      <td>manual</td>\n",
       "      <td>41</td>\n",
       "      <td>other</td>\n",
       "      <td>60000</td>\n",
       "      <td>petrol</td>\n",
       "      <td>trabant</td>\n",
       "      <td>no</td>\n",
       "    </tr>\n",
       "    <tr>\n",
       "      <th>184799</th>\n",
       "      <td>14500</td>\n",
       "      <td>convertible</td>\n",
       "      <td>1993</td>\n",
       "      <td>manual</td>\n",
       "      <td>41</td>\n",
       "      <td>other</td>\n",
       "      <td>5000</td>\n",
       "      <td>petrol</td>\n",
       "      <td>trabant</td>\n",
       "      <td>no</td>\n",
       "    </tr>\n",
       "    <tr>\n",
       "      <th>237648</th>\n",
       "      <td>0</td>\n",
       "      <td>wagon</td>\n",
       "      <td>1988</td>\n",
       "      <td>manual</td>\n",
       "      <td>50</td>\n",
       "      <td>other</td>\n",
       "      <td>50000</td>\n",
       "      <td>petrol</td>\n",
       "      <td>trabant</td>\n",
       "      <td>NaN</td>\n",
       "    </tr>\n",
       "    <tr>\n",
       "      <th>322695</th>\n",
       "      <td>1500</td>\n",
       "      <td>wagon</td>\n",
       "      <td>1990</td>\n",
       "      <td>manual</td>\n",
       "      <td>39</td>\n",
       "      <td>other</td>\n",
       "      <td>50000</td>\n",
       "      <td>petrol</td>\n",
       "      <td>trabant</td>\n",
       "      <td>no</td>\n",
       "    </tr>\n",
       "    <tr>\n",
       "      <th>239919</th>\n",
       "      <td>500</td>\n",
       "      <td>sedan</td>\n",
       "      <td>1986</td>\n",
       "      <td>manual</td>\n",
       "      <td>35</td>\n",
       "      <td>601</td>\n",
       "      <td>40000</td>\n",
       "      <td>petrol</td>\n",
       "      <td>trabant</td>\n",
       "      <td>yes</td>\n",
       "    </tr>\n",
       "    <tr>\n",
       "      <th>305451</th>\n",
       "      <td>2000</td>\n",
       "      <td>small</td>\n",
       "      <td>2004</td>\n",
       "      <td>manual</td>\n",
       "      <td>60</td>\n",
       "      <td>NaN</td>\n",
       "      <td>150000</td>\n",
       "      <td>gasoline</td>\n",
       "      <td>trabant</td>\n",
       "      <td>yes</td>\n",
       "    </tr>\n",
       "    <tr>\n",
       "      <th>78755</th>\n",
       "      <td>4799</td>\n",
       "      <td>small</td>\n",
       "      <td>1986</td>\n",
       "      <td>manual</td>\n",
       "      <td>50</td>\n",
       "      <td>601</td>\n",
       "      <td>5000</td>\n",
       "      <td>petrol</td>\n",
       "      <td>trabant</td>\n",
       "      <td>no</td>\n",
       "    </tr>\n",
       "    <tr>\n",
       "      <th>304943</th>\n",
       "      <td>2990</td>\n",
       "      <td>wagon</td>\n",
       "      <td>1990</td>\n",
       "      <td>manual</td>\n",
       "      <td>40</td>\n",
       "      <td>other</td>\n",
       "      <td>30000</td>\n",
       "      <td>petrol</td>\n",
       "      <td>trabant</td>\n",
       "      <td>no</td>\n",
       "    </tr>\n",
       "    <tr>\n",
       "      <th>58704</th>\n",
       "      <td>2700</td>\n",
       "      <td>sedan</td>\n",
       "      <td>1989</td>\n",
       "      <td>manual</td>\n",
       "      <td>41</td>\n",
       "      <td>other</td>\n",
       "      <td>150000</td>\n",
       "      <td>petrol</td>\n",
       "      <td>trabant</td>\n",
       "      <td>yes</td>\n",
       "    </tr>\n",
       "    <tr>\n",
       "      <th>226812</th>\n",
       "      <td>2490</td>\n",
       "      <td>wagon</td>\n",
       "      <td>1990</td>\n",
       "      <td>manual</td>\n",
       "      <td>40</td>\n",
       "      <td>other</td>\n",
       "      <td>60000</td>\n",
       "      <td>petrol</td>\n",
       "      <td>trabant</td>\n",
       "      <td>no</td>\n",
       "    </tr>\n",
       "    <tr>\n",
       "      <th>42034</th>\n",
       "      <td>4500</td>\n",
       "      <td>wagon</td>\n",
       "      <td>1990</td>\n",
       "      <td>manual</td>\n",
       "      <td>45</td>\n",
       "      <td>other</td>\n",
       "      <td>50000</td>\n",
       "      <td>petrol</td>\n",
       "      <td>trabant</td>\n",
       "      <td>no</td>\n",
       "    </tr>\n",
       "    <tr>\n",
       "      <th>38757</th>\n",
       "      <td>150</td>\n",
       "      <td>small</td>\n",
       "      <td>1998</td>\n",
       "      <td>manual</td>\n",
       "      <td>75</td>\n",
       "      <td>NaN</td>\n",
       "      <td>150000</td>\n",
       "      <td>petrol</td>\n",
       "      <td>trabant</td>\n",
       "      <td>yes</td>\n",
       "    </tr>\n",
       "  </tbody>\n",
       "</table>\n",
       "</div>"
      ],
      "text/plain": [
       "        Price  VehicleType  RegistrationYear Gearbox  Power  Model  Kilometer  \\\n",
       "2953     2500        sedan              1989  manual     41  other     150000   \n",
       "100862      0        sedan              1989  manual     36    601       5000   \n",
       "172263   2500        sedan              1989  manual     41  other       5000   \n",
       "55888    2490        wagon              1990  manual     41  other      60000   \n",
       "184799  14500  convertible              1993  manual     41  other       5000   \n",
       "237648      0        wagon              1988  manual     50  other      50000   \n",
       "322695   1500        wagon              1990  manual     39  other      50000   \n",
       "239919    500        sedan              1986  manual     35    601      40000   \n",
       "305451   2000        small              2004  manual     60    NaN     150000   \n",
       "78755    4799        small              1986  manual     50    601       5000   \n",
       "304943   2990        wagon              1990  manual     40  other      30000   \n",
       "58704    2700        sedan              1989  manual     41  other     150000   \n",
       "226812   2490        wagon              1990  manual     40  other      60000   \n",
       "42034    4500        wagon              1990  manual     45  other      50000   \n",
       "38757     150        small              1998  manual     75    NaN     150000   \n",
       "\n",
       "        FuelType    Brand Repaired  \n",
       "2953      petrol  trabant       no  \n",
       "100862       NaN  trabant      NaN  \n",
       "172263    petrol  trabant      NaN  \n",
       "55888     petrol  trabant       no  \n",
       "184799    petrol  trabant       no  \n",
       "237648    petrol  trabant      NaN  \n",
       "322695    petrol  trabant       no  \n",
       "239919    petrol  trabant      yes  \n",
       "305451  gasoline  trabant      yes  \n",
       "78755     petrol  trabant       no  \n",
       "304943    petrol  trabant       no  \n",
       "58704     petrol  trabant      yes  \n",
       "226812    petrol  trabant       no  \n",
       "42034     petrol  trabant       no  \n",
       "38757     petrol  trabant      yes  "
      ]
     },
     "execution_count": 24,
     "metadata": {},
     "output_type": "execute_result"
    }
   ],
   "source": [
    "trabant = data[data['Brand']=='trabant']\n",
    "trabant.sample(15)"
   ]
  },
  {
   "cell_type": "code",
   "execution_count": 25,
   "metadata": {},
   "outputs": [],
   "source": [
    "data = data[~data['Brand'].isin(['sonstige_autos', 'trabant'])]"
   ]
  },
  {
   "cell_type": "markdown",
   "metadata": {},
   "source": [
    "<div class=\"alert alert-info\">\n",
    "\n",
    "Cars with poor data include those from the brand **sonstige_autos**, which, translated from German, means **other cars**, mainly consisting of vehicles with high mileage. A mix of completely different cars is unnecessary, so I removed them from the dataset.\n",
    "\n",
    "Also removed **trabant**, since the factory is closed and no longer produces cars, and vehicles there typically have mileage of 150,000 or more, likely much higher.\n",
    "\n",
    "There are no brand duplicates."
   ]
  },
  {
   "cell_type": "markdown",
   "metadata": {},
   "source": [
    "### Price"
   ]
  },
  {
   "cell_type": "code",
   "execution_count": 26,
   "metadata": {
    "scrolled": true
   },
   "outputs": [
    {
     "data": {
      "text/plain": [
       "0        6140\n",
       "1         622\n",
       "2           7\n",
       "3           4\n",
       "5           7\n",
       "         ... \n",
       "19995      10\n",
       "19997       1\n",
       "19998       6\n",
       "19999     256\n",
       "20000     229\n",
       "Name: Price, Length: 3550, dtype: int64"
      ]
     },
     "execution_count": 26,
     "metadata": {},
     "output_type": "execute_result"
    }
   ],
   "source": [
    "data['Price'].value_counts().sort_index()"
   ]
  },
  {
   "cell_type": "code",
   "execution_count": 27,
   "metadata": {},
   "outputs": [
    {
     "data": {
      "text/plain": [
       "<AxesSubplot:>"
      ]
     },
     "execution_count": 27,
     "metadata": {},
     "output_type": "execute_result"
    },
    {
     "data": {
      "image/png": "[encoded data removed]",
      "text/plain": [
       "<Figure size 432x288 with 1 Axes>"
      ]
     },
     "metadata": {
      "needs_background": "light"
     },
     "output_type": "display_data"
    }
   ],
   "source": [
    "data['Price'].hist(bins=100, range=(0, 700))"
   ]
  },
  {
   "cell_type": "code",
   "execution_count": 28,
   "metadata": {},
   "outputs": [
    {
     "data": {
      "image/png": "[encoded data removed]",
      "text/plain": [
       "<Figure size 720x216 with 1 Axes>"
      ]
     },
     "metadata": {
      "needs_background": "light"
     },
     "output_type": "display_data"
    }
   ],
   "source": [
    "plt.figure(figsize=(10,3))\n",
    "sns.boxplot(x=data['Price'], orient='h')\n",
    "plt.title('Boxplot for target feature')\n",
    "plt.show()"
   ]
  },
  {
   "cell_type": "code",
   "execution_count": 29,
   "metadata": {
    "scrolled": true
   },
   "outputs": [
    {
     "data": {
      "text/plain": [
       "0.05      300.0\n",
       "0.25     1250.0\n",
       "0.50     2999.0\n",
       "0.75     6900.0\n",
       "0.95    14990.0\n",
       "0.99    18900.0\n",
       "Name: Price, dtype: float64"
      ]
     },
     "execution_count": 29,
     "metadata": {},
     "output_type": "execute_result"
    }
   ],
   "source": [
    "data['Price'].quantile([0.05, 0.25, 0.5, 0.75, 0.95, 0.99])"
   ]
  },
  {
   "cell_type": "code",
   "execution_count": 30,
   "metadata": {
    "scrolled": true
   },
   "outputs": [],
   "source": [
    "data = data.query('200 < Price')"
   ]
  },
  {
   "cell_type": "markdown",
   "metadata": {},
   "source": [
    "<div class=\"Alert alert-info\">\n",
    "    \n",
    "For cars priced above 200 euros, it probably makes sense to care about the sale. If the model predicts the price incorrectly and the actual price turns out to be 100 dollars instead of 200, I don't think the buyer will be too upset.\n",
    "\n",
    "As for cars above 15,000 euros, I will leave them as is for now, since the maximum price in the data is 20,000 euros, which is not really a limit, even for 2016."
   ]
  },
  {
   "cell_type": "markdown",
   "metadata": {},
   "source": [
    "### Kilometer"
   ]
  },
  {
   "cell_type": "code",
   "execution_count": 31,
   "metadata": {},
   "outputs": [
    {
     "data": {
      "text/plain": [
       "150000    190143\n",
       "125000     30925\n",
       "100000     12216\n",
       "90000       9940\n",
       "80000       8678\n",
       "70000       7485\n",
       "60000       6564\n",
       "50000       5429\n",
       "40000       4323\n",
       "30000       3683\n",
       "20000       3041\n",
       "5000        2350\n",
       "10000        819\n",
       "Name: Kilometer, dtype: int64"
      ]
     },
     "execution_count": 31,
     "metadata": {},
     "output_type": "execute_result"
    }
   ],
   "source": [
    "data['Kilometer'].value_counts()"
   ]
  },
  {
   "cell_type": "markdown",
   "metadata": {},
   "source": [
    "<div class=\"alert alert-info\">\n",
    "    \n",
    "Most cars have mileage of 150,000 km+, with no outliers or anomalies."
   ]
  },
  {
   "cell_type": "markdown",
   "metadata": {},
   "source": [
    "### Processing null"
   ]
  },
  {
   "cell_type": "code",
   "execution_count": 32,
   "metadata": {
    "scrolled": true
   },
   "outputs": [
    {
     "data": {
      "text/plain": [
       "Price                   0\n",
       "VehicleType          9863\n",
       "RegistrationYear        0\n",
       "Gearbox              4814\n",
       "Power                   0\n",
       "Model                8707\n",
       "Kilometer               0\n",
       "FuelType            14183\n",
       "Brand                   0\n",
       "Repaired            39962\n",
       "dtype: int64"
      ]
     },
     "execution_count": 32,
     "metadata": {},
     "output_type": "execute_result"
    }
   ],
   "source": [
    "data.isna().sum()"
   ]
  },
  {
   "cell_type": "code",
   "execution_count": 33,
   "metadata": {
    "scrolled": true
   },
   "outputs": [
    {
     "data": {
      "text/plain": [
       "68015"
      ]
     },
     "execution_count": 33,
     "metadata": {},
     "output_type": "execute_result"
    }
   ],
   "source": [
    "data = data.dropna(subset=['Gearbox'])\n",
    "data.isna().sum().sum()"
   ]
  },
  {
   "cell_type": "code",
   "execution_count": 34,
   "metadata": {
    "scrolled": false
   },
   "outputs": [
    {
     "data": {
      "text/plain": [
       "0"
      ]
     },
     "execution_count": 34,
     "metadata": {},
     "output_type": "execute_result"
    }
   ],
   "source": [
    "data['VehicleType'].fillna('unknown', inplace=True)\n",
    "data['Model'].fillna('unknown', inplace=True)\n",
    "data['FuelType'].fillna('unknown', inplace=True)\n",
    "data['Repaired'].fillna('yes', inplace=True)\n",
    "data.isna().sum().sum()"
   ]
  },
  {
   "cell_type": "code",
   "execution_count": 35,
   "metadata": {},
   "outputs": [
    {
     "name": "stdout",
     "output_type": "stream",
     "text": [
      "<class 'pandas.core.frame.DataFrame'>\n",
      "Int64Index: 280782 entries, 1 to 354368\n",
      "Data columns (total 10 columns):\n",
      " #   Column            Non-Null Count   Dtype \n",
      "---  ------            --------------   ----- \n",
      " 0   Price             280782 non-null  int32 \n",
      " 1   VehicleType       280782 non-null  object\n",
      " 2   RegistrationYear  280782 non-null  int32 \n",
      " 3   Gearbox           280782 non-null  object\n",
      " 4   Power             280782 non-null  int32 \n",
      " 5   Model             280782 non-null  object\n",
      " 6   Kilometer         280782 non-null  int32 \n",
      " 7   FuelType          280782 non-null  object\n",
      " 8   Brand             280782 non-null  object\n",
      " 9   Repaired          280782 non-null  object\n",
      "dtypes: int32(4), object(6)\n",
      "memory usage: 19.3+ MB\n"
     ]
    }
   ],
   "source": [
    "data.info()"
   ]
  },
  {
   "cell_type": "markdown",
   "metadata": {},
   "source": [
    "<div class=\"alert alert-info\">\n",
    "    \n",
    "Decided to remove **Gearbox** instead of filling it, as it can be binary encoded, and many null values were cleaned up in other columns.\n",
    "\n",
    "Replaced null in **Repaired** with \"yes\", as the absence of repair information is treated as a repair that is being hidden.\n",
    "\n",
    "For other columns, replaced null with \"unknown\", adding one more category."
   ]
  },
  {
   "cell_type": "markdown",
   "metadata": {},
   "source": [
    "### FuelType"
   ]
  },
  {
   "cell_type": "code",
   "execution_count": 36,
   "metadata": {
    "scrolled": false
   },
   "outputs": [
    {
     "name": "stdout",
     "output_type": "stream",
     "text": [
      "['gasoline' 'petrol' 'unknown' 'lpg' 'other' 'hybrid' 'cng' 'electric']\n"
     ]
    }
   ],
   "source": [
    "print(data['FuelType'].unique())"
   ]
  },
  {
   "cell_type": "code",
   "execution_count": 37,
   "metadata": {},
   "outputs": [
    {
     "name": "stdout",
     "output_type": "stream",
     "text": [
      "['gasoline' 'other' 'gas' 'hybrid' 'electric']\n"
     ]
    }
   ],
   "source": [
    "data['FuelType'] = data['FuelType'].replace({\n",
    "    'petrol' : 'gasoline',\n",
    "    'lpg' : 'gas',\n",
    "    'cng' : 'gas',\n",
    "    'unknown' : 'other'\n",
    "})\n",
    "print(data['FuelType'].unique())"
   ]
  },
  {
   "cell_type": "markdown",
   "metadata": {},
   "source": [
    "<div class=\"alert alert-info\">\n",
    "    \n",
    "Merged gasoline and petrol as they are the same. Combined lpg and cng into gas, and assigned unknown to other, as both represent unclear information."
   ]
  },
  {
   "cell_type": "markdown",
   "metadata": {},
   "source": [
    "### Binary Feature Encoding"
   ]
  },
  {
   "cell_type": "code",
   "execution_count": 38,
   "metadata": {},
   "outputs": [
    {
     "data": {
      "text/plain": [
       "manual    223890\n",
       "auto       56892\n",
       "Name: Gearbox, dtype: int64"
      ]
     },
     "execution_count": 38,
     "metadata": {},
     "output_type": "execute_result"
    }
   ],
   "source": [
    "data['Gearbox'].value_counts()"
   ]
  },
  {
   "cell_type": "code",
   "execution_count": 39,
   "metadata": {},
   "outputs": [],
   "source": [
    "ord_encoder = OrdinalEncoder()\n",
    "data['Gearbox'] = ord_encoder.fit_transform(data[['Gearbox']])\n",
    "data['Repaired'] = ord_encoder.fit_transform(data[['Repaired']])"
   ]
  },
  {
   "cell_type": "markdown",
   "metadata": {},
   "source": [
    "### Correlation"
   ]
  },
  {
   "cell_type": "code",
   "execution_count": 40,
   "metadata": {},
   "outputs": [
    {
     "data": {
      "text/plain": [
       "Price               1.000000\n",
       "RegistrationYear    0.605841\n",
       "Gearbox            -0.254055\n",
       "Power               0.509117\n",
       "Kilometer          -0.399976\n",
       "Repaired           -0.243089\n",
       "Name: Price, dtype: float64"
      ]
     },
     "execution_count": 40,
     "metadata": {},
     "output_type": "execute_result"
    }
   ],
   "source": [
    "data.corr()['Price']"
   ]
  },
  {
   "cell_type": "markdown",
   "metadata": {},
   "source": [
    "### Preprocessing conclusions"
   ]
  },
  {
   "cell_type": "markdown",
   "metadata": {},
   "source": [
    "<div class=\"alert alert-info\">\n",
    "    \n",
    "During preprocessing:\n",
    "1. Removed columns: DateCrawled, DateCreated, LastSeen, NumberOfPictures, RegistrationMonth, PostalCode. The last one could have been useful if transformed into regions to avoid too many unique values.\n",
    "2. Converted numerical types to int32 to save memory.\n",
    "3. Kept only cars from the last 30 years, 1986-2016.\n",
    "4. Kept only cars with horsepower between 35 and 600.\n",
    "5. Excluded models from the \"other cars\" category and trabant.\n",
    "6. Removed cars priced below 200 euros.\n",
    "7. Removed all records without information on the gearbox; where repair info was missing, assumed it was repaired.\n",
    "8. Replaced null in other categories with \"unknown.\"\n",
    "9. Encoded Gearbox and Repaired.\n",
    "\n",
    "After processing, the dataset contains **280,782 records**, which is quite substantial. The strongest correlations with price are observed from **registration year, engine power, and mileage**."
   ]
  },
  {
   "cell_type": "markdown",
   "metadata": {},
   "source": [
    "## Model Training"
   ]
  },
  {
   "cell_type": "code",
   "execution_count": 42,
   "metadata": {
    "scrolled": true
   },
   "outputs": [
    {
     "name": "stdout",
     "output_type": "stream",
     "text": [
      "Validation set created\n",
      "Test set created\n"
     ]
    }
   ],
   "source": [
    "X = data.drop(columns=['Price'])\n",
    "y = data['Price']\n",
    "\n",
    "cat_features = X.select_dtypes(include='object').columns.tolist()\n",
    "num_features = X.select_dtypes(exclude='object').columns.tolist()\n",
    "\n",
    "X_sample, X_valid, y_sample, y_valid = train_test_split(X, y, train_size=0.8, random_state=42)\n",
    "print(f\"Validation set created\")\n",
    "\n",
    "X_train, X_test, y_train, y_test = train_test_split(X_sample, y_sample, test_size=0.25, random_state=42)\n",
    "print(f\"Test set created\")\n",
    "\n",
    "\n",
    "results = []"
   ]
  },
  {
   "cell_type": "markdown",
   "metadata": {},
   "source": [
    "<div class=\"alert alert-info\">\n",
    "    \n",
    "Created validation and test sets. The data split ratio is 3:1:1."
   ]
  },
  {
   "cell_type": "markdown",
   "metadata": {},
   "source": [
    "### LightGBM OHE"
   ]
  },
  {
   "cell_type": "code",
   "execution_count": 43,
   "metadata": {},
   "outputs": [
    {
     "name": "stdout",
     "output_type": "stream",
     "text": [
      "Best params for LGBM + OneHot: {'learning_rate': 0.1, 'n_estimators': 100}\n"
     ]
    }
   ],
   "source": [
    "ohe = OneHotEncoder(handle_unknown='ignore', sparse_output=False, drop='first')\n",
    "X_train_cat_ohe = pd.DataFrame(ohe.fit_transform(X_train[cat_features]), columns=ohe.get_feature_names_out(cat_features), index=X_train.index)\n",
    "X_valid_cat_ohe = pd.DataFrame(ohe.transform(X_valid[cat_features]), columns=ohe.get_feature_names_out(cat_features), index=X_valid.index)\n",
    "\n",
    "X_train_ohe = pd.concat([X_train[num_features], X_train_cat_ohe], axis=1)\n",
    "X_valid_ohe = pd.concat([X_valid[num_features], X_valid_cat_ohe], axis=1)\n",
    "\n",
    "lgbm_param_grid = {\n",
    "    'n_estimators': [50, 100],\n",
    "    'learning_rate': [0.1]\n",
    "}\n",
    "\n",
    "lgbm_grid = GridSearchCV(\n",
    "    LGBMRegressor(random_state=42), \n",
    "    param_grid=lgbm_param_grid,\n",
    "    cv=5,\n",
    "    scoring='neg_root_mean_squared_error',\n",
    "    n_jobs=-1\n",
    ")\n",
    "\n",
    "lgbm_grid.fit(X_train_ohe, y_train)\n",
    "best_params = lgbm_grid.best_params_\n",
    "print(f\"Best params for LGBM + OneHot: {best_params}\")\n",
    "\n",
    "model = LGBMRegressor(random_state=42, **best_params)\n",
    "start_train = time.time()\n",
    "model.fit(X_train_ohe, y_train)\n",
    "train_time = time.time() - start_train\n",
    "\n",
    "start_pred = time.time()\n",
    "preds = model.predict(X_valid_ohe)\n",
    "pred_time = time.time() - start_pred\n",
    "mse = mean_squared_error(y_valid, preds)\n",
    "rmse = np.sqrt(mse)\n",
    "results.append([\"LGBM + OneHot\", rmse, train_time, pred_time])"
   ]
  },
  {
   "cell_type": "markdown",
   "metadata": {},
   "source": [
    "### LightGBM OE"
   ]
  },
  {
   "cell_type": "code",
   "execution_count": 44,
   "metadata": {
    "scrolled": true
   },
   "outputs": [
    {
     "name": "stderr",
     "output_type": "stream",
     "text": [
      "/opt/conda/lib/python3.9/site-packages/lightgbm/basic.py:2065: UserWarning: Using categorical_feature in Dataset.\n",
      "  _log_warning('Using categorical_feature in Dataset.')\n",
      "/opt/conda/lib/python3.9/site-packages/lightgbm/basic.py:2065: UserWarning: Using categorical_feature in Dataset.\n",
      "  _log_warning('Using categorical_feature in Dataset.')\n",
      "/opt/conda/lib/python3.9/site-packages/lightgbm/basic.py:2065: UserWarning: Using categorical_feature in Dataset.\n",
      "  _log_warning('Using categorical_feature in Dataset.')\n",
      "/opt/conda/lib/python3.9/site-packages/lightgbm/basic.py:2065: UserWarning: Using categorical_feature in Dataset.\n",
      "  _log_warning('Using categorical_feature in Dataset.')\n",
      "/opt/conda/lib/python3.9/site-packages/lightgbm/basic.py:2065: UserWarning: Using categorical_feature in Dataset.\n",
      "  _log_warning('Using categorical_feature in Dataset.')\n",
      "/opt/conda/lib/python3.9/site-packages/lightgbm/basic.py:2065: UserWarning: Using categorical_feature in Dataset.\n",
      "  _log_warning('Using categorical_feature in Dataset.')\n",
      "/opt/conda/lib/python3.9/site-packages/lightgbm/basic.py:2065: UserWarning: Using categorical_feature in Dataset.\n",
      "  _log_warning('Using categorical_feature in Dataset.')\n",
      "/opt/conda/lib/python3.9/site-packages/lightgbm/basic.py:2065: UserWarning: Using categorical_feature in Dataset.\n",
      "  _log_warning('Using categorical_feature in Dataset.')\n",
      "/opt/conda/lib/python3.9/site-packages/lightgbm/basic.py:2065: UserWarning: Using categorical_feature in Dataset.\n",
      "  _log_warning('Using categorical_feature in Dataset.')\n",
      "/opt/conda/lib/python3.9/site-packages/lightgbm/basic.py:2065: UserWarning: Using categorical_feature in Dataset.\n",
      "  _log_warning('Using categorical_feature in Dataset.')\n",
      "/opt/conda/lib/python3.9/site-packages/lightgbm/basic.py:2065: UserWarning: Using categorical_feature in Dataset.\n",
      "  _log_warning('Using categorical_feature in Dataset.')\n"
     ]
    },
    {
     "name": "stdout",
     "output_type": "stream",
     "text": [
      "Best params for LGBM + Ordinal: {'learning_rate': 0.1, 'n_estimators': 100}\n"
     ]
    }
   ],
   "source": [
    "ord = OrdinalEncoder(handle_unknown='use_encoded_value', unknown_value=-1)\n",
    "X_train_ord = X_train.copy()\n",
    "X_valid_ord = X_valid.copy()\n",
    "X_train_ord[cat_features] = ord.fit_transform(X_train[cat_features])\n",
    "X_valid_ord[cat_features] = ord.transform(X_valid[cat_features])\n",
    "\n",
    "cat_indices = [X_train_ord.columns.get_loc(col) for col in cat_features]\n",
    "\n",
    "lgbm_ord_grid = GridSearchCV(\n",
    "    LGBMRegressor(max_depth=10, num_leaves=31, random_state=42), \n",
    "    param_grid=lgbm_param_grid,\n",
    "    cv=5,\n",
    "    scoring='neg_root_mean_squared_error',\n",
    "    n_jobs=-1\n",
    ")\n",
    "\n",
    "lgbm_ord_grid.fit(X_train_ord, y_train, categorical_feature=cat_indices)\n",
    "print(f\"Best params for LGBM + Ordinal: {lgbm_ord_grid.best_params_}\")\n",
    "\n",
    "model = LGBMRegressor(max_depth=10, num_leaves=31, random_state=42, **best_params)\n",
    "start_train = time.time()\n",
    "model.fit(X_train_ord, y_train, categorical_feature=cat_indices)\n",
    "train_time = time.time() - start_train\n",
    "\n",
    "\n",
    "start_pred = time.time()\n",
    "preds = model.predict(X_valid_ord)\n",
    "pred_time = time.time() - start_pred\n",
    "mse = mean_squared_error(y_valid, preds)\n",
    "rmse = np.sqrt(mse)\n",
    "results.append([\"LGBM + Ordinal\", rmse, train_time, pred_time])"
   ]
  },
  {
   "cell_type": "markdown",
   "metadata": {},
   "source": [
    "### CatBoost "
   ]
  },
  {
   "cell_type": "code",
   "execution_count": 45,
   "metadata": {},
   "outputs": [
    {
     "name": "stdout",
     "output_type": "stream",
     "text": [
      "Best params for CatBoost + Ordinal: {'depth': 10, 'iterations': 200, 'learning_rate': 0.1}\n"
     ]
    }
   ],
   "source": [
    "catboost_param_grid = {\n",
    "    'iterations': [100, 200],\n",
    "    'learning_rate': [0.1],\n",
    "    'depth': [6, 10]\n",
    "}\n",
    "\n",
    "catboost_grid = GridSearchCV(\n",
    "    CatBoostRegressor(verbose=0, random_seed=42),\n",
    "    param_grid=catboost_param_grid,\n",
    "    cv=5,\n",
    "    scoring='neg_root_mean_squared_error',\n",
    "    n_jobs=-1\n",
    ")\n",
    "\n",
    "catboost_grid.fit(X_train_ord, y_train)\n",
    "best_params = catboost_grid.best_params_\n",
    "print(f\"Best params for CatBoost + Ordinal: {best_params}\")\n",
    "\n",
    "cat_boost = CatBoostRegressor(verbose=0, random_seed=42, **best_params)\n",
    "start_train = time.time()\n",
    "cat_boost.fit(X_train_ord, y_train)\n",
    "train_time = time.time() - start_train\n",
    "\n",
    "start_pred = time.time()\n",
    "preds = cat_boost.predict(X_valid_ord)\n",
    "pred_time = time.time() - start_pred\n",
    "mse = mean_squared_error(y_valid, preds)\n",
    "rmse = np.sqrt(mse)\n",
    "results.append([\"CatBoost\", rmse, train_time, pred_time])"
   ]
  },
  {
   "cell_type": "markdown",
   "metadata": {},
   "source": [
    "### Linear Regression"
   ]
  },
  {
   "cell_type": "code",
   "execution_count": 46,
   "metadata": {},
   "outputs": [],
   "source": [
    "scaler = StandardScaler(with_mean=False)\n",
    "X_train_scaled = scaler.fit_transform(X_train_ohe)\n",
    "X_valid_scaled = scaler.transform(X_valid_ohe)\n",
    "\n",
    "lr = LinearRegression()\n",
    "start_train = time.time()\n",
    "lr.fit(X_train_scaled, y_train)\n",
    "train_time = time.time() - start_train\n",
    "\n",
    "start_pred = time.time()\n",
    "preds = lr.predict(X_valid_scaled)\n",
    "pred_time = time.time() - start_pred\n",
    "mse = mean_squared_error(y_valid, preds)\n",
    "rmse = np.sqrt(mse)\n",
    "results.append([\"LinearRegression + OneHot\", rmse, train_time, pred_time])"
   ]
  },
  {
   "cell_type": "markdown",
   "metadata": {},
   "source": [
    "## Model Analysis"
   ]
  },
  {
   "cell_type": "code",
   "execution_count": 47,
   "metadata": {
    "scrolled": false
   },
   "outputs": [
    {
     "data": {
      "text/html": [
       "<div>\n",
       "<style scoped>\n",
       "    .dataframe tbody tr th:only-of-type {\n",
       "        vertical-align: middle;\n",
       "    }\n",
       "\n",
       "    .dataframe tbody tr th {\n",
       "        vertical-align: top;\n",
       "    }\n",
       "\n",
       "    .dataframe thead th {\n",
       "        text-align: right;\n",
       "    }\n",
       "</style>\n",
       "<table border=\"1\" class=\"dataframe\">\n",
       "  <thead>\n",
       "    <tr style=\"text-align: right;\">\n",
       "      <th></th>\n",
       "      <th>Model</th>\n",
       "      <th>RMSE</th>\n",
       "      <th>Train time (s)</th>\n",
       "      <th>Predict time (s)</th>\n",
       "    </tr>\n",
       "  </thead>\n",
       "  <tbody>\n",
       "    <tr>\n",
       "      <th>1</th>\n",
       "      <td>LGBM + Ordinal</td>\n",
       "      <td>1552.879588</td>\n",
       "      <td>4.398282</td>\n",
       "      <td>0.609611</td>\n",
       "    </tr>\n",
       "    <tr>\n",
       "      <th>2</th>\n",
       "      <td>CatBoost</td>\n",
       "      <td>1574.415474</td>\n",
       "      <td>9.600533</td>\n",
       "      <td>0.045522</td>\n",
       "    </tr>\n",
       "    <tr>\n",
       "      <th>0</th>\n",
       "      <td>LGBM + OneHot</td>\n",
       "      <td>1619.478833</td>\n",
       "      <td>5.796752</td>\n",
       "      <td>0.906754</td>\n",
       "    </tr>\n",
       "    <tr>\n",
       "      <th>3</th>\n",
       "      <td>LinearRegression + OneHot</td>\n",
       "      <td>2326.225777</td>\n",
       "      <td>14.387534</td>\n",
       "      <td>0.112378</td>\n",
       "    </tr>\n",
       "  </tbody>\n",
       "</table>\n",
       "</div>"
      ],
      "text/plain": [
       "                       Model         RMSE  Train time (s)  Predict time (s)\n",
       "1             LGBM + Ordinal  1552.879588        4.398282          0.609611\n",
       "2                   CatBoost  1574.415474        9.600533          0.045522\n",
       "0              LGBM + OneHot  1619.478833        5.796752          0.906754\n",
       "3  LinearRegression + OneHot  2326.225777       14.387534          0.112378"
      ]
     },
     "metadata": {},
     "output_type": "display_data"
    }
   ],
   "source": [
    "results_df = pd.DataFrame(results, columns=[\"Model\", \"RMSE\", \"Train time (s)\", \"Predict time (s)\"])\n",
    "display(results_df.sort_values(\"RMSE\"))"
   ]
  },
  {
   "cell_type": "markdown",
   "metadata": {},
   "source": [
    "### Analysis conclusion"
   ]
  },
  {
   "cell_type": "markdown",
   "metadata": {},
   "source": [
    "<div class=\"alert alert-info\">\n",
    "    \n",
    "The linear regression model trained the fastest, partly due to the lack of parameter tuning, but it also gives the highest error. Therefore, we discard it. For the other models, the errors are generally comparable, so let's see about the time.\n",
    "\n",
    "LGBM + Ordinal performs much better than LGBM + OneHot in terms of training time and predictions, which is related to the library's specifics.\n",
    "\n",
    "As for CatBoost, it has the best prediction speed, although it has the longest training time. Since this long training time is due to parameter tuning, we will try to train and test this model using cross-validation with the best parameters."
   ]
  },
  {
   "cell_type": "markdown",
   "metadata": {},
   "source": [
    "## BestModel (CatBoost)"
   ]
  },
  {
   "cell_type": "code",
   "execution_count": 48,
   "metadata": {
    "scrolled": true
   },
   "outputs": [
    {
     "name": "stdout",
     "output_type": "stream",
     "text": [
      "CatBoost Final RMSE: 1571.8987196625642, train time: 9.583175897598267, pred time: 0.0447840690612793\n"
     ]
    }
   ],
   "source": [
    "X_test_ord = X_test.copy()\n",
    "X_test_ord[cat_features] = ord.transform(X_test[cat_features])\n",
    "\n",
    "start_train = time.time()\n",
    "cat_boost.fit(X_train_ord, y_train)\n",
    "train_time = time.time() - start_train\n",
    "\n",
    "start_pred = time.time()\n",
    "preds = cat_boost.predict(X_test_ord)\n",
    "pred_time = time.time() - start_pred\n",
    "mse = mean_squared_error(y_test, preds)\n",
    "rmse = np.sqrt(mse)\n",
    "print(f\"CatBoost Final RMSE: {rmse}, train time: {train_time}, pred time: {pred_time}\")"
   ]
  },
  {
   "cell_type": "markdown",
   "metadata": {},
   "source": [
    "## Final conclision"
   ]
  },
  {
   "cell_type": "markdown",
   "metadata": {},
   "source": [
    "### Project description"
   ]
  },
  {
   "cell_type": "markdown",
   "metadata": {},
   "source": [
    "The project aimed to create a model for predicting car prices based on historical data containing technical specifications, configurations, and car prices. The goal was to develop a solution that would provide:\n",
    "\n",
    "1. High prediction quality  \n",
    "2. Fast data processing and model training"
   ]
  },
  {
   "cell_type": "markdown",
   "metadata": {},
   "source": [
    "### Stages"
   ]
  },
  {
   "cell_type": "markdown",
   "metadata": {},
   "source": [
    "**Data Preprocessing**  \n",
    "1. The data was cleaned, and unnecessary columns were removed.  \n",
    "2. Outliers and anomalies were corrected (e.g., cars with a registration year before 1986 and mileage below 30 horsepower were removed).  \n",
    "3. Missing data was handled (filling and removal), and categorical features were encoded.  \n",
    "\n",
    "**Model Training**  \n",
    "1. Several models were tested: linear regression, LGBM (with OHE and Ordinal encoding), and CatBoost.  \n",
    "2. The training process was carried out with hyperparameter optimization and cross-validation to assess model quality.  \n",
    "\n",
    "**Quality Assessment**  \n",
    "\n",
    "The models were evaluated using the RMSE (Root Mean Squared Error) metric, training time, and prediction time.  "
   ]
  },
  {
   "cell_type": "markdown",
   "metadata": {},
   "source": [
    "### Conclusions and Suggestions"
   ]
  },
  {
   "cell_type": "markdown",
   "metadata": {},
   "source": [
    "The best results were achieved by the **CatBoost** model.\n",
    "\n",
    "The CatBoost model showed the best accuracy with the lowest RMSE error of 1546.90.\n",
    "\n",
    "Despite longer training times, the prediction speed remained high, making the model suitable for real-time use.\n",
    "\n",
    "**Improvement Recommendations**:  \n",
    "1. Consider adding additional features (e.g., regional data or updates on car brands).  \n",
    "2. Optimize training time by utilizing more powerful computing resources or distributed learning technologies.  \n",
    "3. It is recommended to periodically update the model with new data to maintain prediction accuracy.  \n",
    "4. Monitor model performance during production deployment to make adjustments in case of data or requirement changes."
   ]
  },
  {
   "cell_type": "markdown",
   "metadata": {},
   "source": [
    "### Conclusion"
   ]
  },
  {
   "cell_type": "markdown",
   "metadata": {},
   "source": [
    "The project successfully addresses the task of estimating the prices of used cars and can be used to attract customers to the service."
   ]
  }
 ],
 "metadata": {
  "ExecuteTimeLog": [
   {
    "duration": 427,
    "start_time": "2025-04-07T10:18:10.040Z"
   },
   {
    "duration": 61,
    "start_time": "2025-04-07T10:18:15.460Z"
   },
   {
    "duration": 755,
    "start_time": "2025-04-07T10:35:32.850Z"
   },
   {
    "duration": 146,
    "start_time": "2025-04-07T10:38:56.206Z"
   },
   {
    "duration": 156,
    "start_time": "2025-04-07T10:43:01.307Z"
   },
   {
    "duration": 273,
    "start_time": "2025-04-07T11:13:56.767Z"
   },
   {
    "duration": 134,
    "start_time": "2025-04-07T11:13:57.967Z"
   },
   {
    "duration": 80,
    "start_time": "2025-04-07T11:15:10.846Z"
   },
   {
    "duration": 91,
    "start_time": "2025-04-07T11:15:14.727Z"
   },
   {
    "duration": 92,
    "start_time": "2025-04-07T11:15:18.727Z"
   },
   {
    "duration": 53,
    "start_time": "2025-04-07T11:15:26.447Z"
   },
   {
    "duration": 92,
    "start_time": "2025-04-07T11:15:27.255Z"
   },
   {
    "duration": 103,
    "start_time": "2025-04-07T11:16:52.167Z"
   },
   {
    "duration": 97,
    "start_time": "2025-04-07T11:16:53.607Z"
   },
   {
    "duration": 3,
    "start_time": "2025-04-07T11:17:01.887Z"
   },
   {
    "duration": 771,
    "start_time": "2025-04-07T11:17:01.891Z"
   },
   {
    "duration": 157,
    "start_time": "2025-04-07T11:17:02.663Z"
   },
   {
    "duration": 302,
    "start_time": "2025-04-07T11:17:02.822Z"
   },
   {
    "duration": 94,
    "start_time": "2025-04-07T11:17:03.125Z"
   },
   {
    "duration": 129,
    "start_time": "2025-04-07T11:17:38.126Z"
   },
   {
    "duration": 94,
    "start_time": "2025-04-07T11:17:38.887Z"
   },
   {
    "duration": 29,
    "start_time": "2025-04-07T11:18:22.575Z"
   },
   {
    "duration": 93,
    "start_time": "2025-04-07T11:18:23.252Z"
   },
   {
    "duration": 3,
    "start_time": "2025-04-07T11:19:02.607Z"
   },
   {
    "duration": 91,
    "start_time": "2025-04-07T11:19:03.167Z"
   },
   {
    "duration": 28,
    "start_time": "2025-04-07T11:19:07.568Z"
   },
   {
    "duration": 90,
    "start_time": "2025-04-07T11:19:08.367Z"
   },
   {
    "duration": 31,
    "start_time": "2025-04-07T11:30:12.265Z"
   },
   {
    "duration": 91,
    "start_time": "2025-04-07T11:30:13.465Z"
   },
   {
    "duration": 1371,
    "start_time": "2025-04-07T12:41:39.235Z"
   },
   {
    "duration": 84,
    "start_time": "2025-04-07T12:41:54.095Z"
   },
   {
    "duration": 24,
    "start_time": "2025-04-07T12:42:01.340Z"
   },
   {
    "duration": 11,
    "start_time": "2025-04-07T12:42:36.456Z"
   },
   {
    "duration": 9,
    "start_time": "2025-04-07T12:42:41.237Z"
   },
   {
    "duration": 33,
    "start_time": "2025-04-07T12:42:59.096Z"
   },
   {
    "duration": 30,
    "start_time": "2025-04-07T12:43:15.095Z"
   },
   {
    "duration": 29,
    "start_time": "2025-04-07T12:44:04.615Z"
   },
   {
    "duration": 38,
    "start_time": "2025-04-07T12:44:13.575Z"
   },
   {
    "duration": 2,
    "start_time": "2025-04-07T12:44:53.885Z"
   },
   {
    "duration": 744,
    "start_time": "2025-04-07T12:44:53.889Z"
   },
   {
    "duration": 148,
    "start_time": "2025-04-07T12:44:54.635Z"
   },
   {
    "duration": 221,
    "start_time": "2025-04-07T12:44:54.785Z"
   },
   {
    "duration": 34,
    "start_time": "2025-04-07T12:44:55.008Z"
   },
   {
    "duration": 300,
    "start_time": "2025-04-07T12:44:55.044Z"
   },
   {
    "duration": 39,
    "start_time": "2025-04-07T12:44:55.345Z"
   },
   {
    "duration": 112,
    "start_time": "2025-04-07T12:58:23.156Z"
   },
   {
    "duration": 2,
    "start_time": "2025-04-07T12:59:37.656Z"
   },
   {
    "duration": 745,
    "start_time": "2025-04-07T12:59:37.660Z"
   },
   {
    "duration": 229,
    "start_time": "2025-04-07T12:59:38.406Z"
   },
   {
    "duration": 226,
    "start_time": "2025-04-07T12:59:38.636Z"
   },
   {
    "duration": 32,
    "start_time": "2025-04-07T12:59:38.864Z"
   },
   {
    "duration": 288,
    "start_time": "2025-04-07T12:59:38.897Z"
   },
   {
    "duration": 24,
    "start_time": "2025-04-07T12:59:39.186Z"
   },
   {
    "duration": 7,
    "start_time": "2025-04-07T13:01:10.295Z"
   },
   {
    "duration": 7,
    "start_time": "2025-04-07T13:01:18.646Z"
   },
   {
    "duration": 16,
    "start_time": "2025-04-07T13:17:14.015Z"
   },
   {
    "duration": 7,
    "start_time": "2025-04-07T13:19:22.095Z"
   },
   {
    "duration": 868,
    "start_time": "2025-04-07T13:19:29.794Z"
   },
   {
    "duration": 309,
    "start_time": "2025-04-07T13:19:35.004Z"
   },
   {
    "duration": 748,
    "start_time": "2025-04-07T13:21:41.215Z"
   },
   {
    "duration": 67,
    "start_time": "2025-04-07T13:22:52.655Z"
   },
   {
    "duration": 324,
    "start_time": "2025-04-07T13:23:04.439Z"
   },
   {
    "duration": 23,
    "start_time": "2025-04-07T13:25:37.380Z"
   },
   {
    "duration": 77,
    "start_time": "2025-04-07T13:26:00.495Z"
   },
   {
    "duration": 17,
    "start_time": "2025-04-07T13:26:44.715Z"
   },
   {
    "duration": 123,
    "start_time": "2025-04-07T13:26:54.908Z"
   },
   {
    "duration": 2,
    "start_time": "2025-04-07T13:45:21.696Z"
   },
   {
    "duration": 743,
    "start_time": "2025-04-07T13:45:21.700Z"
   },
   {
    "duration": 225,
    "start_time": "2025-04-07T13:45:22.445Z"
   },
   {
    "duration": 8,
    "start_time": "2025-04-07T13:45:22.671Z"
   },
   {
    "duration": 14,
    "start_time": "2025-04-07T13:45:22.681Z"
   },
   {
    "duration": 12,
    "start_time": "2025-04-07T13:45:22.697Z"
   },
   {
    "duration": 0,
    "start_time": "2025-04-07T13:45:22.711Z"
   },
   {
    "duration": 0,
    "start_time": "2025-04-07T13:45:22.712Z"
   },
   {
    "duration": 0,
    "start_time": "2025-04-07T13:45:22.713Z"
   },
   {
    "duration": 17,
    "start_time": "2025-04-07T13:45:38.035Z"
   },
   {
    "duration": 16,
    "start_time": "2025-04-07T13:45:38.054Z"
   },
   {
    "duration": 9,
    "start_time": "2025-04-07T13:45:38.071Z"
   },
   {
    "duration": 0,
    "start_time": "2025-04-07T13:45:38.081Z"
   },
   {
    "duration": 0,
    "start_time": "2025-04-07T13:45:38.082Z"
   },
   {
    "duration": 31,
    "start_time": "2025-04-07T13:46:34.923Z"
   },
   {
    "duration": 89,
    "start_time": "2025-04-07T13:46:43.876Z"
   },
   {
    "duration": 102,
    "start_time": "2025-04-07T13:47:04.175Z"
   },
   {
    "duration": 3,
    "start_time": "2025-04-07T13:50:49.737Z"
   },
   {
    "duration": 770,
    "start_time": "2025-04-07T13:50:49.741Z"
   },
   {
    "duration": 251,
    "start_time": "2025-04-07T13:50:50.512Z"
   },
   {
    "duration": 369,
    "start_time": "2025-04-07T13:50:50.764Z"
   },
   {
    "duration": 0,
    "start_time": "2025-04-07T13:50:51.134Z"
   },
   {
    "duration": 0,
    "start_time": "2025-04-07T13:50:51.135Z"
   },
   {
    "duration": 0,
    "start_time": "2025-04-07T13:50:51.136Z"
   },
   {
    "duration": 0,
    "start_time": "2025-04-07T13:50:51.137Z"
   },
   {
    "duration": 0,
    "start_time": "2025-04-07T13:50:51.138Z"
   },
   {
    "duration": 0,
    "start_time": "2025-04-07T13:50:51.139Z"
   },
   {
    "duration": 367,
    "start_time": "2025-04-07T13:50:59.295Z"
   },
   {
    "duration": 360,
    "start_time": "2025-04-07T13:51:50.975Z"
   },
   {
    "duration": 385,
    "start_time": "2025-04-07T13:53:12.935Z"
   },
   {
    "duration": 463,
    "start_time": "2025-04-07T14:09:13.529Z"
   },
   {
    "duration": 6,
    "start_time": "2025-04-07T14:09:13.994Z"
   },
   {
    "duration": 13,
    "start_time": "2025-04-07T14:09:14.002Z"
   },
   {
    "duration": 51,
    "start_time": "2025-04-07T14:09:14.016Z"
   },
   {
    "duration": 101,
    "start_time": "2025-04-07T14:09:14.069Z"
   },
   {
    "duration": 25,
    "start_time": "2025-04-07T14:09:14.171Z"
   },
   {
    "duration": 28,
    "start_time": "2025-04-07T14:12:26.959Z"
   },
   {
    "duration": 101,
    "start_time": "2025-04-07T14:12:29.854Z"
   },
   {
    "duration": 469,
    "start_time": "2025-04-07T14:18:37.752Z"
   },
   {
    "duration": 13,
    "start_time": "2025-04-07T15:02:09.883Z"
   },
   {
    "duration": 10,
    "start_time": "2025-04-07T15:02:19.803Z"
   },
   {
    "duration": 7,
    "start_time": "2025-04-07T15:02:30.370Z"
   },
   {
    "duration": 9,
    "start_time": "2025-04-07T15:04:36.842Z"
   },
   {
    "duration": 6,
    "start_time": "2025-04-07T15:04:53.883Z"
   },
   {
    "duration": 5,
    "start_time": "2025-04-07T15:05:00.691Z"
   },
   {
    "duration": 10,
    "start_time": "2025-04-07T15:05:10.846Z"
   },
   {
    "duration": 6,
    "start_time": "2025-04-07T15:05:21.802Z"
   },
   {
    "duration": 71,
    "start_time": "2025-04-07T15:05:40.923Z"
   },
   {
    "duration": 5,
    "start_time": "2025-04-07T15:05:53.852Z"
   },
   {
    "duration": 9,
    "start_time": "2025-04-07T15:06:07.925Z"
   },
   {
    "duration": 1100,
    "start_time": "2025-04-07T15:09:25.250Z"
   },
   {
    "duration": 761,
    "start_time": "2025-04-07T15:09:26.351Z"
   },
   {
    "duration": 270,
    "start_time": "2025-04-07T15:09:27.114Z"
   },
   {
    "duration": 440,
    "start_time": "2025-04-07T15:09:27.386Z"
   },
   {
    "duration": 515,
    "start_time": "2025-04-07T15:09:27.828Z"
   },
   {
    "duration": 7,
    "start_time": "2025-04-07T15:09:28.345Z"
   },
   {
    "duration": 31,
    "start_time": "2025-04-07T15:09:28.363Z"
   },
   {
    "duration": 8,
    "start_time": "2025-04-07T15:09:28.396Z"
   },
   {
    "duration": 36,
    "start_time": "2025-04-07T15:09:28.406Z"
   },
   {
    "duration": 51,
    "start_time": "2025-04-07T15:09:28.444Z"
   },
   {
    "duration": 118,
    "start_time": "2025-04-07T15:09:28.496Z"
   },
   {
    "duration": 12,
    "start_time": "2025-04-07T15:09:28.615Z"
   },
   {
    "duration": 9,
    "start_time": "2025-04-07T15:09:28.629Z"
   },
   {
    "duration": 112,
    "start_time": "2025-04-07T15:09:28.640Z"
   },
   {
    "duration": 602,
    "start_time": "2025-04-07T15:10:38.767Z"
   },
   {
    "duration": 176,
    "start_time": "2025-04-07T15:15:31.649Z"
   },
   {
    "duration": 95,
    "start_time": "2025-04-07T15:15:44.510Z"
   },
   {
    "duration": 5,
    "start_time": "2025-04-07T15:20:32.248Z"
   },
   {
    "duration": 7,
    "start_time": "2025-04-07T15:20:42.489Z"
   },
   {
    "duration": 11,
    "start_time": "2025-04-07T15:22:20.569Z"
   },
   {
    "duration": 10,
    "start_time": "2025-04-07T15:23:54.288Z"
   },
   {
    "duration": 247,
    "start_time": "2025-04-07T15:26:20.169Z"
   },
   {
    "duration": 8,
    "start_time": "2025-04-07T15:27:13.097Z"
   },
   {
    "duration": 11,
    "start_time": "2025-04-07T15:27:21.730Z"
   },
   {
    "duration": 9,
    "start_time": "2025-04-07T15:27:52.290Z"
   },
   {
    "duration": 8,
    "start_time": "2025-04-07T15:28:02.049Z"
   },
   {
    "duration": 8,
    "start_time": "2025-04-07T15:28:06.110Z"
   },
   {
    "duration": 9,
    "start_time": "2025-04-07T15:31:30.829Z"
   },
   {
    "duration": 10,
    "start_time": "2025-04-07T15:32:00.877Z"
   },
   {
    "duration": 8,
    "start_time": "2025-04-07T15:32:11.017Z"
   },
   {
    "duration": 9,
    "start_time": "2025-04-07T15:32:19.790Z"
   },
   {
    "duration": 8,
    "start_time": "2025-04-07T15:32:26.709Z"
   },
   {
    "duration": 16,
    "start_time": "2025-04-07T15:33:31.170Z"
   },
   {
    "duration": 356,
    "start_time": "2025-04-07T15:34:15.450Z"
   },
   {
    "duration": 12,
    "start_time": "2025-04-07T15:34:32.130Z"
   },
   {
    "duration": 13,
    "start_time": "2025-04-07T15:35:09.549Z"
   },
   {
    "duration": 15,
    "start_time": "2025-04-07T15:35:15.809Z"
   },
   {
    "duration": 15,
    "start_time": "2025-04-07T15:35:21.549Z"
   },
   {
    "duration": 6,
    "start_time": "2025-04-07T15:35:52.478Z"
   },
   {
    "duration": 11,
    "start_time": "2025-04-07T15:36:11.344Z"
   },
   {
    "duration": 9,
    "start_time": "2025-04-07T15:37:03.909Z"
   },
   {
    "duration": 9,
    "start_time": "2025-04-07T15:37:11.197Z"
   },
   {
    "duration": 9,
    "start_time": "2025-04-07T15:37:33.430Z"
   },
   {
    "duration": 8,
    "start_time": "2025-04-07T15:37:39.090Z"
   },
   {
    "duration": 8,
    "start_time": "2025-04-07T15:37:58.150Z"
   },
   {
    "duration": 6,
    "start_time": "2025-04-07T15:38:41.690Z"
   },
   {
    "duration": 14,
    "start_time": "2025-04-07T15:39:32.110Z"
   },
   {
    "duration": 15,
    "start_time": "2025-04-07T15:39:56.109Z"
   },
   {
    "duration": 1182,
    "start_time": "2025-04-07T15:41:09.852Z"
   },
   {
    "duration": 214,
    "start_time": "2025-04-07T15:41:27.609Z"
   },
   {
    "duration": 201,
    "start_time": "2025-04-07T15:42:04.617Z"
   },
   {
    "duration": 277,
    "start_time": "2025-04-07T15:42:13.009Z"
   },
   {
    "duration": 10,
    "start_time": "2025-04-07T15:43:01.270Z"
   },
   {
    "duration": 200,
    "start_time": "2025-04-07T15:43:07.730Z"
   },
   {
    "duration": 227,
    "start_time": "2025-04-07T15:45:15.225Z"
   },
   {
    "duration": 9,
    "start_time": "2025-04-07T15:45:56.410Z"
   },
   {
    "duration": 217,
    "start_time": "2025-04-07T15:46:35.798Z"
   },
   {
    "duration": 15,
    "start_time": "2025-04-07T15:49:17.410Z"
   },
   {
    "duration": 13,
    "start_time": "2025-04-07T15:49:58.878Z"
   },
   {
    "duration": 12,
    "start_time": "2025-04-07T15:50:07.558Z"
   },
   {
    "duration": 14,
    "start_time": "2025-04-07T15:50:09.529Z"
   },
   {
    "duration": 13,
    "start_time": "2025-04-07T15:50:11.810Z"
   },
   {
    "duration": 14,
    "start_time": "2025-04-07T15:50:28.998Z"
   },
   {
    "duration": 8,
    "start_time": "2025-04-07T15:53:37.178Z"
   },
   {
    "duration": 9,
    "start_time": "2025-04-07T15:54:38.850Z"
   },
   {
    "duration": 9,
    "start_time": "2025-04-07T15:54:54.909Z"
   },
   {
    "duration": 8,
    "start_time": "2025-04-07T15:56:06.432Z"
   },
   {
    "duration": 214,
    "start_time": "2025-04-07T15:58:22.350Z"
   },
   {
    "duration": 158,
    "start_time": "2025-04-07T15:59:07.332Z"
   },
   {
    "duration": 9,
    "start_time": "2025-04-07T16:01:00.049Z"
   },
   {
    "duration": 8,
    "start_time": "2025-04-07T16:01:12.349Z"
   },
   {
    "duration": 8,
    "start_time": "2025-04-07T16:02:13.509Z"
   },
   {
    "duration": 62,
    "start_time": "2025-04-07T16:02:47.249Z"
   },
   {
    "duration": 103,
    "start_time": "2025-04-07T16:03:34.269Z"
   },
   {
    "duration": 8,
    "start_time": "2025-04-07T16:04:16.848Z"
   },
   {
    "duration": 2,
    "start_time": "2025-04-07T16:04:28.809Z"
   },
   {
    "duration": 767,
    "start_time": "2025-04-07T16:04:28.813Z"
   },
   {
    "duration": 229,
    "start_time": "2025-04-07T16:04:29.582Z"
   },
   {
    "duration": 403,
    "start_time": "2025-04-07T16:04:29.812Z"
   },
   {
    "duration": 406,
    "start_time": "2025-04-07T16:04:30.217Z"
   },
   {
    "duration": 7,
    "start_time": "2025-04-07T16:04:30.625Z"
   },
   {
    "duration": 169,
    "start_time": "2025-04-07T16:04:30.633Z"
   },
   {
    "duration": 13,
    "start_time": "2025-04-07T16:04:30.804Z"
   },
   {
    "duration": 28,
    "start_time": "2025-04-07T16:04:30.819Z"
   },
   {
    "duration": 31,
    "start_time": "2025-04-07T16:04:30.849Z"
   },
   {
    "duration": 97,
    "start_time": "2025-04-07T16:04:30.883Z"
   },
   {
    "duration": 8,
    "start_time": "2025-04-07T16:04:30.981Z"
   },
   {
    "duration": 158,
    "start_time": "2025-04-07T16:04:30.990Z"
   },
   {
    "duration": 13,
    "start_time": "2025-04-07T16:04:31.150Z"
   },
   {
    "duration": 348,
    "start_time": "2025-04-07T16:04:31.164Z"
   },
   {
    "duration": 14,
    "start_time": "2025-04-07T16:04:31.514Z"
   },
   {
    "duration": 23,
    "start_time": "2025-04-07T16:04:31.529Z"
   },
   {
    "duration": 264,
    "start_time": "2025-04-07T16:04:31.562Z"
   },
   {
    "duration": 6,
    "start_time": "2025-04-07T16:04:31.827Z"
   },
   {
    "duration": 39,
    "start_time": "2025-04-07T16:04:31.834Z"
   },
   {
    "duration": 1696,
    "start_time": "2025-04-07T16:04:31.877Z"
   },
   {
    "duration": 1178,
    "start_time": "2025-04-07T16:10:19.878Z"
   },
   {
    "duration": 226,
    "start_time": "2025-04-07T16:10:30.347Z"
   },
   {
    "duration": 9,
    "start_time": "2025-04-07T16:11:28.463Z"
   },
   {
    "duration": 14,
    "start_time": "2025-04-07T16:11:50.928Z"
   },
   {
    "duration": 210,
    "start_time": "2025-04-07T16:12:45.336Z"
   },
   {
    "duration": 216,
    "start_time": "2025-04-07T16:12:52.897Z"
   },
   {
    "duration": 64,
    "start_time": "2025-04-07T16:13:14.535Z"
   },
   {
    "duration": 325,
    "start_time": "2025-04-07T16:13:19.595Z"
   },
   {
    "duration": 313,
    "start_time": "2025-04-07T16:13:48.108Z"
   },
   {
    "duration": 14,
    "start_time": "2025-04-07T16:13:55.896Z"
   },
   {
    "duration": 10,
    "start_time": "2025-04-07T16:14:58.227Z"
   },
   {
    "duration": 8,
    "start_time": "2025-04-07T16:15:02.375Z"
   },
   {
    "duration": 590,
    "start_time": "2025-04-07T16:18:04.707Z"
   },
   {
    "duration": 1501,
    "start_time": "2025-04-07T16:18:11.933Z"
   },
   {
    "duration": 5,
    "start_time": "2025-04-07T16:19:48.507Z"
   },
   {
    "duration": 211,
    "start_time": "2025-04-07T16:20:11.907Z"
   },
   {
    "duration": 14,
    "start_time": "2025-04-07T16:22:36.107Z"
   },
   {
    "duration": 14,
    "start_time": "2025-04-07T16:23:34.783Z"
   },
   {
    "duration": 15,
    "start_time": "2025-04-07T16:24:05.687Z"
   },
   {
    "duration": 14,
    "start_time": "2025-04-07T16:24:29.607Z"
   },
   {
    "duration": 10,
    "start_time": "2025-04-07T16:24:47.766Z"
   },
   {
    "duration": 3,
    "start_time": "2025-04-07T16:25:17.747Z"
   },
   {
    "duration": 11,
    "start_time": "2025-04-07T16:25:27.728Z"
   },
   {
    "duration": 6,
    "start_time": "2025-04-07T16:25:36.147Z"
   },
   {
    "duration": 3,
    "start_time": "2025-04-07T16:25:45.149Z"
   },
   {
    "duration": 756,
    "start_time": "2025-04-07T16:25:45.154Z"
   },
   {
    "duration": 259,
    "start_time": "2025-04-07T16:25:45.911Z"
   },
   {
    "duration": 413,
    "start_time": "2025-04-07T16:25:46.172Z"
   },
   {
    "duration": 483,
    "start_time": "2025-04-07T16:25:46.588Z"
   },
   {
    "duration": 13,
    "start_time": "2025-04-07T16:25:47.073Z"
   },
   {
    "duration": 14,
    "start_time": "2025-04-07T16:25:47.087Z"
   },
   {
    "duration": 8,
    "start_time": "2025-04-07T16:25:47.103Z"
   },
   {
    "duration": 72,
    "start_time": "2025-04-07T16:25:47.113Z"
   },
   {
    "duration": 41,
    "start_time": "2025-04-07T16:25:47.187Z"
   },
   {
    "duration": 118,
    "start_time": "2025-04-07T16:25:47.230Z"
   },
   {
    "duration": 13,
    "start_time": "2025-04-07T16:25:47.349Z"
   },
   {
    "duration": 13,
    "start_time": "2025-04-07T16:25:47.364Z"
   },
   {
    "duration": 14,
    "start_time": "2025-04-07T16:25:47.381Z"
   },
   {
    "duration": 5,
    "start_time": "2025-04-07T16:25:55.547Z"
   },
   {
    "duration": 14,
    "start_time": "2025-04-07T16:29:25.028Z"
   },
   {
    "duration": 3,
    "start_time": "2025-04-07T16:30:35.897Z"
   },
   {
    "duration": 850,
    "start_time": "2025-04-07T16:30:35.901Z"
   },
   {
    "duration": 273,
    "start_time": "2025-04-07T16:30:36.753Z"
   },
   {
    "duration": 465,
    "start_time": "2025-04-07T16:30:37.027Z"
   },
   {
    "duration": 505,
    "start_time": "2025-04-07T16:30:37.494Z"
   },
   {
    "duration": 7,
    "start_time": "2025-04-07T16:30:38.000Z"
   },
   {
    "duration": 14,
    "start_time": "2025-04-07T16:30:38.009Z"
   },
   {
    "duration": 8,
    "start_time": "2025-04-07T16:30:38.024Z"
   },
   {
    "duration": 67,
    "start_time": "2025-04-07T16:30:38.033Z"
   },
   {
    "duration": 35,
    "start_time": "2025-04-07T16:30:38.101Z"
   },
   {
    "duration": 143,
    "start_time": "2025-04-07T16:30:38.137Z"
   },
   {
    "duration": 4,
    "start_time": "2025-04-07T16:30:38.282Z"
   },
   {
    "duration": 35,
    "start_time": "2025-04-07T16:30:38.288Z"
   },
   {
    "duration": 49,
    "start_time": "2025-04-07T16:30:38.326Z"
   },
   {
    "duration": 8,
    "start_time": "2025-04-07T16:30:38.378Z"
   },
   {
    "duration": 13,
    "start_time": "2025-04-07T16:30:38.388Z"
   },
   {
    "duration": 2,
    "start_time": "2025-04-07T16:33:21.139Z"
   },
   {
    "duration": 897,
    "start_time": "2025-04-07T16:33:21.143Z"
   },
   {
    "duration": 285,
    "start_time": "2025-04-07T16:33:22.042Z"
   },
   {
    "duration": 475,
    "start_time": "2025-04-07T16:33:22.329Z"
   },
   {
    "duration": 499,
    "start_time": "2025-04-07T16:33:22.806Z"
   },
   {
    "duration": 7,
    "start_time": "2025-04-07T16:33:23.307Z"
   },
   {
    "duration": 48,
    "start_time": "2025-04-07T16:33:23.315Z"
   },
   {
    "duration": 10,
    "start_time": "2025-04-07T16:33:23.365Z"
   },
   {
    "duration": 35,
    "start_time": "2025-04-07T16:33:23.377Z"
   },
   {
    "duration": 59,
    "start_time": "2025-04-07T16:33:23.414Z"
   },
   {
    "duration": 114,
    "start_time": "2025-04-07T16:33:23.475Z"
   },
   {
    "duration": 3,
    "start_time": "2025-04-07T16:33:23.591Z"
   },
   {
    "duration": 22,
    "start_time": "2025-04-07T16:33:23.596Z"
   },
   {
    "duration": 6,
    "start_time": "2025-04-07T16:33:31.090Z"
   },
   {
    "duration": 3,
    "start_time": "2025-04-07T16:34:12.088Z"
   },
   {
    "duration": 799,
    "start_time": "2025-04-07T16:34:12.093Z"
   },
   {
    "duration": 246,
    "start_time": "2025-04-07T16:34:12.894Z"
   },
   {
    "duration": 442,
    "start_time": "2025-04-07T16:34:13.142Z"
   },
   {
    "duration": 464,
    "start_time": "2025-04-07T16:34:13.586Z"
   },
   {
    "duration": 12,
    "start_time": "2025-04-07T16:34:14.051Z"
   },
   {
    "duration": 16,
    "start_time": "2025-04-07T16:34:14.065Z"
   },
   {
    "duration": 9,
    "start_time": "2025-04-07T16:34:14.086Z"
   },
   {
    "duration": 40,
    "start_time": "2025-04-07T16:34:14.096Z"
   },
   {
    "duration": 62,
    "start_time": "2025-04-07T16:34:14.138Z"
   },
   {
    "duration": 123,
    "start_time": "2025-04-07T16:34:14.202Z"
   },
   {
    "duration": 26,
    "start_time": "2025-04-07T16:34:14.327Z"
   },
   {
    "duration": 9,
    "start_time": "2025-04-07T16:34:14.354Z"
   },
   {
    "duration": 125,
    "start_time": "2025-04-07T16:34:14.366Z"
   },
   {
    "duration": 3,
    "start_time": "2025-04-07T16:34:40.880Z"
   },
   {
    "duration": 896,
    "start_time": "2025-04-07T16:34:40.886Z"
   },
   {
    "duration": 268,
    "start_time": "2025-04-07T16:34:41.784Z"
   },
   {
    "duration": 457,
    "start_time": "2025-04-07T16:34:42.054Z"
   },
   {
    "duration": 520,
    "start_time": "2025-04-07T16:34:42.514Z"
   },
   {
    "duration": 8,
    "start_time": "2025-04-07T16:34:43.036Z"
   },
   {
    "duration": 34,
    "start_time": "2025-04-07T16:34:43.046Z"
   },
   {
    "duration": 10,
    "start_time": "2025-04-07T16:34:43.083Z"
   },
   {
    "duration": 54,
    "start_time": "2025-04-07T16:34:43.095Z"
   },
   {
    "duration": 36,
    "start_time": "2025-04-07T16:34:43.150Z"
   },
   {
    "duration": 118,
    "start_time": "2025-04-07T16:34:43.188Z"
   },
   {
    "duration": 38,
    "start_time": "2025-04-07T16:34:43.308Z"
   },
   {
    "duration": 30,
    "start_time": "2025-04-07T16:34:43.347Z"
   },
   {
    "duration": 136,
    "start_time": "2025-04-07T16:34:43.382Z"
   },
   {
    "duration": 15,
    "start_time": "2025-04-07T16:41:27.916Z"
   },
   {
    "duration": 29,
    "start_time": "2025-04-07T16:41:41.749Z"
   },
   {
    "duration": 8,
    "start_time": "2025-04-07T16:41:46.999Z"
   },
   {
    "duration": 105,
    "start_time": "2025-04-07T16:41:49.757Z"
   },
   {
    "duration": 6,
    "start_time": "2025-04-07T16:43:40.498Z"
   },
   {
    "duration": 7,
    "start_time": "2025-04-07T16:43:53.331Z"
   },
   {
    "duration": 7,
    "start_time": "2025-04-07T16:43:58.830Z"
   },
   {
    "duration": 13,
    "start_time": "2025-04-07T16:44:10.730Z"
   },
   {
    "duration": 13,
    "start_time": "2025-04-07T16:44:47.950Z"
   },
   {
    "duration": 14,
    "start_time": "2025-04-07T16:49:48.009Z"
   },
   {
    "duration": 15,
    "start_time": "2025-04-07T16:50:12.217Z"
   },
   {
    "duration": 1235,
    "start_time": "2025-04-07T16:50:53.234Z"
   },
   {
    "duration": 9,
    "start_time": "2025-04-07T16:51:01.089Z"
   },
   {
    "duration": 14,
    "start_time": "2025-04-07T16:51:22.311Z"
   },
   {
    "duration": 13,
    "start_time": "2025-04-07T16:52:04.889Z"
   },
   {
    "duration": 110,
    "start_time": "2025-04-07T16:52:26.511Z"
   },
   {
    "duration": 299,
    "start_time": "2025-04-07T16:52:58.118Z"
   },
   {
    "duration": 15,
    "start_time": "2025-04-07T16:53:20.658Z"
   },
   {
    "duration": 16,
    "start_time": "2025-04-07T16:54:04.071Z"
   },
   {
    "duration": 30,
    "start_time": "2025-04-07T16:55:57.689Z"
   },
   {
    "duration": 1270,
    "start_time": "2025-04-07T18:47:34.272Z"
   },
   {
    "duration": 805,
    "start_time": "2025-04-07T18:47:35.544Z"
   },
   {
    "duration": 252,
    "start_time": "2025-04-07T18:47:36.351Z"
   },
   {
    "duration": 421,
    "start_time": "2025-04-07T18:47:36.604Z"
   },
   {
    "duration": 508,
    "start_time": "2025-04-07T18:47:37.028Z"
   },
   {
    "duration": 9,
    "start_time": "2025-04-07T18:47:37.538Z"
   },
   {
    "duration": 31,
    "start_time": "2025-04-07T18:47:37.548Z"
   },
   {
    "duration": 8,
    "start_time": "2025-04-07T18:47:37.581Z"
   },
   {
    "duration": 52,
    "start_time": "2025-04-07T18:47:37.591Z"
   },
   {
    "duration": 35,
    "start_time": "2025-04-07T18:47:37.645Z"
   },
   {
    "duration": 106,
    "start_time": "2025-04-07T18:47:37.682Z"
   },
   {
    "duration": 4,
    "start_time": "2025-04-07T18:47:37.789Z"
   },
   {
    "duration": 13,
    "start_time": "2025-04-07T18:47:37.795Z"
   },
   {
    "duration": 23,
    "start_time": "2025-04-07T18:47:37.834Z"
   },
   {
    "duration": 9,
    "start_time": "2025-04-07T18:47:37.859Z"
   },
   {
    "duration": 13,
    "start_time": "2025-04-07T18:47:37.870Z"
   },
   {
    "duration": 17,
    "start_time": "2025-04-07T18:47:37.885Z"
   },
   {
    "duration": 35,
    "start_time": "2025-04-07T18:47:37.935Z"
   },
   {
    "duration": 113,
    "start_time": "2025-04-07T18:47:37.971Z"
   },
   {
    "duration": 9,
    "start_time": "2025-04-07T18:47:38.085Z"
   },
   {
    "duration": 246,
    "start_time": "2025-04-07T18:47:38.096Z"
   },
   {
    "duration": 12,
    "start_time": "2025-04-07T18:47:38.344Z"
   },
   {
    "duration": 12,
    "start_time": "2025-04-07T18:47:38.357Z"
   },
   {
    "duration": 267,
    "start_time": "2025-04-07T18:47:38.370Z"
   },
   {
    "duration": 13,
    "start_time": "2025-04-07T18:47:38.638Z"
   },
   {
    "duration": 6,
    "start_time": "2025-04-07T18:47:38.652Z"
   },
   {
    "duration": 5,
    "start_time": "2025-04-07T18:47:38.659Z"
   },
   {
    "duration": 4,
    "start_time": "2025-04-07T18:47:38.665Z"
   },
   {
    "duration": 1161,
    "start_time": "2025-04-07T18:47:38.670Z"
   },
   {
    "duration": 0,
    "start_time": "2025-04-07T18:47:39.833Z"
   },
   {
    "duration": 0,
    "start_time": "2025-04-07T18:47:39.834Z"
   },
   {
    "duration": 334,
    "start_time": "2025-04-07T18:49:38.282Z"
   },
   {
    "duration": 346,
    "start_time": "2025-04-07T18:50:35.591Z"
   },
   {
    "duration": 394,
    "start_time": "2025-04-07T18:51:01.643Z"
   },
   {
    "duration": 32,
    "start_time": "2025-04-07T18:51:15.208Z"
   },
   {
    "duration": 10,
    "start_time": "2025-04-07T18:51:51.202Z"
   },
   {
    "duration": 293,
    "start_time": "2025-04-07T18:52:00.842Z"
   },
   {
    "duration": 14,
    "start_time": "2025-04-07T18:52:28.962Z"
   },
   {
    "duration": 34,
    "start_time": "2025-04-07T18:53:25.472Z"
   },
   {
    "duration": 12,
    "start_time": "2025-04-07T18:53:49.884Z"
   },
   {
    "duration": 329,
    "start_time": "2025-04-07T18:54:53.343Z"
   },
   {
    "duration": 33,
    "start_time": "2025-04-07T18:55:48.643Z"
   },
   {
    "duration": 348,
    "start_time": "2025-04-07T18:55:53.102Z"
   },
   {
    "duration": 31,
    "start_time": "2025-04-07T18:57:06.960Z"
   },
   {
    "duration": 33,
    "start_time": "2025-04-07T18:59:14.844Z"
   },
   {
    "duration": 37,
    "start_time": "2025-04-07T18:59:42.632Z"
   },
   {
    "duration": 33,
    "start_time": "2025-04-07T18:59:54.812Z"
   },
   {
    "duration": 43,
    "start_time": "2025-04-07T19:00:01.704Z"
   },
   {
    "duration": 40,
    "start_time": "2025-04-07T19:00:11.564Z"
   },
   {
    "duration": 60,
    "start_time": "2025-04-07T19:00:24.124Z"
   },
   {
    "duration": 15,
    "start_time": "2025-04-07T19:02:11.472Z"
   },
   {
    "duration": 13,
    "start_time": "2025-04-07T19:02:23.164Z"
   },
   {
    "duration": 13,
    "start_time": "2025-04-07T19:03:20.126Z"
   },
   {
    "duration": 3,
    "start_time": "2025-04-07T19:04:21.907Z"
   },
   {
    "duration": 785,
    "start_time": "2025-04-07T19:04:21.911Z"
   },
   {
    "duration": 239,
    "start_time": "2025-04-07T19:04:22.698Z"
   },
   {
    "duration": 401,
    "start_time": "2025-04-07T19:04:22.938Z"
   },
   {
    "duration": 421,
    "start_time": "2025-04-07T19:04:23.341Z"
   },
   {
    "duration": 7,
    "start_time": "2025-04-07T19:04:23.764Z"
   },
   {
    "duration": 14,
    "start_time": "2025-04-07T19:04:23.772Z"
   },
   {
    "duration": 9,
    "start_time": "2025-04-07T19:04:23.787Z"
   },
   {
    "duration": 65,
    "start_time": "2025-04-07T19:04:23.797Z"
   },
   {
    "duration": 27,
    "start_time": "2025-04-07T19:04:23.864Z"
   },
   {
    "duration": 110,
    "start_time": "2025-04-07T19:04:23.892Z"
   },
   {
    "duration": 4,
    "start_time": "2025-04-07T19:04:24.004Z"
   },
   {
    "duration": 29,
    "start_time": "2025-04-07T19:04:24.009Z"
   },
   {
    "duration": 22,
    "start_time": "2025-04-07T19:04:24.040Z"
   },
   {
    "duration": 10,
    "start_time": "2025-04-07T19:04:24.064Z"
   },
   {
    "duration": 13,
    "start_time": "2025-04-07T19:04:24.076Z"
   },
   {
    "duration": 50,
    "start_time": "2025-04-07T19:04:24.091Z"
   },
   {
    "duration": 112,
    "start_time": "2025-04-07T19:04:24.143Z"
   },
   {
    "duration": 32,
    "start_time": "2025-04-07T19:04:44.544Z"
   },
   {
    "duration": 43,
    "start_time": "2025-04-07T19:05:09.872Z"
   },
   {
    "duration": 105,
    "start_time": "2025-04-07T19:07:04.504Z"
   },
   {
    "duration": 1159,
    "start_time": "2025-04-07T19:08:58.673Z"
   },
   {
    "duration": 27,
    "start_time": "2025-04-07T19:09:24.984Z"
   },
   {
    "duration": 30,
    "start_time": "2025-04-07T19:10:55.065Z"
   },
   {
    "duration": 23,
    "start_time": "2025-04-07T19:12:39.885Z"
   },
   {
    "duration": 23,
    "start_time": "2025-04-07T19:12:47.026Z"
   },
   {
    "duration": 103,
    "start_time": "2025-04-07T19:14:30.046Z"
   },
   {
    "duration": 24,
    "start_time": "2025-04-07T19:15:09.985Z"
   },
   {
    "duration": 16,
    "start_time": "2025-04-07T19:23:44.026Z"
   },
   {
    "duration": 99,
    "start_time": "2025-04-07T19:23:48.287Z"
   },
   {
    "duration": 3,
    "start_time": "2025-04-07T19:23:55.857Z"
   },
   {
    "duration": 789,
    "start_time": "2025-04-07T19:23:55.862Z"
   },
   {
    "duration": 233,
    "start_time": "2025-04-07T19:23:56.652Z"
   },
   {
    "duration": 399,
    "start_time": "2025-04-07T19:23:56.887Z"
   },
   {
    "duration": 442,
    "start_time": "2025-04-07T19:23:57.288Z"
   },
   {
    "duration": 10,
    "start_time": "2025-04-07T19:23:57.731Z"
   },
   {
    "duration": 15,
    "start_time": "2025-04-07T19:23:57.742Z"
   },
   {
    "duration": 9,
    "start_time": "2025-04-07T19:23:57.758Z"
   },
   {
    "duration": 36,
    "start_time": "2025-04-07T19:23:57.768Z"
   },
   {
    "duration": 52,
    "start_time": "2025-04-07T19:23:57.805Z"
   },
   {
    "duration": 111,
    "start_time": "2025-04-07T19:23:57.859Z"
   },
   {
    "duration": 4,
    "start_time": "2025-04-07T19:23:57.972Z"
   },
   {
    "duration": 18,
    "start_time": "2025-04-07T19:23:57.977Z"
   },
   {
    "duration": 46,
    "start_time": "2025-04-07T19:23:57.997Z"
   },
   {
    "duration": 8,
    "start_time": "2025-04-07T19:23:58.045Z"
   },
   {
    "duration": 12,
    "start_time": "2025-04-07T19:23:58.055Z"
   },
   {
    "duration": 16,
    "start_time": "2025-04-07T19:23:58.068Z"
   },
   {
    "duration": 107,
    "start_time": "2025-04-07T19:23:58.085Z"
   },
   {
    "duration": 31,
    "start_time": "2025-04-07T19:23:58.194Z"
   },
   {
    "duration": 69,
    "start_time": "2025-04-07T19:23:58.226Z"
   },
   {
    "duration": 27,
    "start_time": "2025-04-07T19:23:58.296Z"
   },
   {
    "duration": 111,
    "start_time": "2025-04-07T19:23:58.324Z"
   },
   {
    "duration": 8,
    "start_time": "2025-04-07T19:23:58.437Z"
   },
   {
    "duration": 289,
    "start_time": "2025-04-07T19:23:58.446Z"
   },
   {
    "duration": 14,
    "start_time": "2025-04-07T19:23:58.737Z"
   },
   {
    "duration": 13,
    "start_time": "2025-04-07T19:23:58.753Z"
   },
   {
    "duration": 262,
    "start_time": "2025-04-07T19:23:58.768Z"
   },
   {
    "duration": 12,
    "start_time": "2025-04-07T19:23:59.035Z"
   },
   {
    "duration": 6,
    "start_time": "2025-04-07T19:23:59.048Z"
   },
   {
    "duration": 5,
    "start_time": "2025-04-07T19:23:59.056Z"
   },
   {
    "duration": 5,
    "start_time": "2025-04-07T19:23:59.062Z"
   },
   {
    "duration": 1020,
    "start_time": "2025-04-07T19:23:59.068Z"
   },
   {
    "duration": 0,
    "start_time": "2025-04-07T19:24:00.090Z"
   },
   {
    "duration": 27,
    "start_time": "2025-04-07T19:26:55.375Z"
   },
   {
    "duration": 36,
    "start_time": "2025-04-07T19:27:24.228Z"
   },
   {
    "duration": 29,
    "start_time": "2025-04-07T19:27:35.547Z"
   },
   {
    "duration": 327,
    "start_time": "2025-04-07T19:32:31.347Z"
   },
   {
    "duration": 2,
    "start_time": "2025-04-07T19:32:36.189Z"
   },
   {
    "duration": 799,
    "start_time": "2025-04-07T19:32:36.193Z"
   },
   {
    "duration": 241,
    "start_time": "2025-04-07T19:32:36.994Z"
   },
   {
    "duration": 397,
    "start_time": "2025-04-07T19:32:37.237Z"
   },
   {
    "duration": 411,
    "start_time": "2025-04-07T19:32:37.637Z"
   },
   {
    "duration": 8,
    "start_time": "2025-04-07T19:32:38.050Z"
   },
   {
    "duration": 14,
    "start_time": "2025-04-07T19:32:38.060Z"
   },
   {
    "duration": 8,
    "start_time": "2025-04-07T19:32:38.076Z"
   },
   {
    "duration": 61,
    "start_time": "2025-04-07T19:32:38.086Z"
   },
   {
    "duration": 33,
    "start_time": "2025-04-07T19:32:38.149Z"
   },
   {
    "duration": 106,
    "start_time": "2025-04-07T19:32:38.183Z"
   },
   {
    "duration": 66,
    "start_time": "2025-04-07T19:32:38.291Z"
   },
   {
    "duration": 11,
    "start_time": "2025-04-07T19:32:38.359Z"
   },
   {
    "duration": 21,
    "start_time": "2025-04-07T19:32:38.373Z"
   },
   {
    "duration": 9,
    "start_time": "2025-04-07T19:32:38.396Z"
   },
   {
    "duration": 13,
    "start_time": "2025-04-07T19:32:38.406Z"
   },
   {
    "duration": 25,
    "start_time": "2025-04-07T19:32:38.421Z"
   },
   {
    "duration": 103,
    "start_time": "2025-04-07T19:32:38.447Z"
   },
   {
    "duration": 31,
    "start_time": "2025-04-07T19:32:38.552Z"
   },
   {
    "duration": 55,
    "start_time": "2025-04-07T19:32:38.584Z"
   },
   {
    "duration": 25,
    "start_time": "2025-04-07T19:32:38.641Z"
   },
   {
    "duration": 115,
    "start_time": "2025-04-07T19:32:38.667Z"
   },
   {
    "duration": 8,
    "start_time": "2025-04-07T19:32:38.784Z"
   },
   {
    "duration": 223,
    "start_time": "2025-04-07T19:32:38.793Z"
   },
   {
    "duration": 21,
    "start_time": "2025-04-07T19:32:39.018Z"
   },
   {
    "duration": 32,
    "start_time": "2025-04-07T19:32:39.040Z"
   },
   {
    "duration": 336,
    "start_time": "2025-04-07T19:32:39.073Z"
   },
   {
    "duration": 25,
    "start_time": "2025-04-07T19:32:39.410Z"
   },
   {
    "duration": 9,
    "start_time": "2025-04-07T19:32:39.437Z"
   },
   {
    "duration": 6,
    "start_time": "2025-04-07T19:32:39.447Z"
   },
   {
    "duration": 4,
    "start_time": "2025-04-07T19:32:39.455Z"
   },
   {
    "duration": 1094,
    "start_time": "2025-04-07T19:32:39.461Z"
   },
   {
    "duration": 0,
    "start_time": "2025-04-07T19:32:40.557Z"
   },
   {
    "duration": 227,
    "start_time": "2025-04-07T19:34:01.088Z"
   },
   {
    "duration": 238,
    "start_time": "2025-04-07T19:34:12.688Z"
   },
   {
    "duration": 218,
    "start_time": "2025-04-07T19:34:20.968Z"
   },
   {
    "duration": 248,
    "start_time": "2025-04-07T19:35:22.227Z"
   },
   {
    "duration": 348,
    "start_time": "2025-04-07T19:35:31.924Z"
   },
   {
    "duration": 15,
    "start_time": "2025-04-07T19:38:23.149Z"
   },
   {
    "duration": 238,
    "start_time": "2025-04-07T19:38:25.268Z"
   },
   {
    "duration": 349,
    "start_time": "2025-04-07T19:38:40.689Z"
   },
   {
    "duration": 17,
    "start_time": "2025-04-07T19:39:45.855Z"
   },
   {
    "duration": 15,
    "start_time": "2025-04-07T19:39:55.820Z"
   },
   {
    "duration": 366,
    "start_time": "2025-04-07T19:44:21.152Z"
   },
   {
    "duration": 1773,
    "start_time": "2025-04-07T19:44:39.373Z"
   },
   {
    "duration": 1688,
    "start_time": "2025-04-07T19:44:54.652Z"
   },
   {
    "duration": 383,
    "start_time": "2025-04-07T19:45:13.915Z"
   },
   {
    "duration": 1333,
    "start_time": "2025-04-07T19:45:22.753Z"
   },
   {
    "duration": 249,
    "start_time": "2025-04-07T19:46:03.353Z"
   },
   {
    "duration": 13,
    "start_time": "2025-04-07T19:48:16.774Z"
   },
   {
    "duration": 13,
    "start_time": "2025-04-07T19:49:09.134Z"
   },
   {
    "duration": 3,
    "start_time": "2025-04-07T19:50:31.205Z"
   },
   {
    "duration": 801,
    "start_time": "2025-04-07T19:50:31.209Z"
   },
   {
    "duration": 232,
    "start_time": "2025-04-07T19:50:32.012Z"
   },
   {
    "duration": 379,
    "start_time": "2025-04-07T19:50:32.245Z"
   },
   {
    "duration": 412,
    "start_time": "2025-04-07T19:50:32.626Z"
   },
   {
    "duration": 7,
    "start_time": "2025-04-07T19:50:33.039Z"
   },
   {
    "duration": 18,
    "start_time": "2025-04-07T19:50:33.047Z"
   },
   {
    "duration": 101,
    "start_time": "2025-04-07T19:50:33.066Z"
   },
   {
    "duration": 106,
    "start_time": "2025-04-07T19:50:33.169Z"
   },
   {
    "duration": 30,
    "start_time": "2025-04-07T19:50:33.277Z"
   },
   {
    "duration": 100,
    "start_time": "2025-04-07T19:50:33.309Z"
   },
   {
    "duration": 4,
    "start_time": "2025-04-07T19:50:33.410Z"
   },
   {
    "duration": 30,
    "start_time": "2025-04-07T19:50:33.416Z"
   },
   {
    "duration": 65,
    "start_time": "2025-04-07T19:50:33.449Z"
   },
   {
    "duration": 9,
    "start_time": "2025-04-07T19:50:33.517Z"
   },
   {
    "duration": 20,
    "start_time": "2025-04-07T19:50:33.527Z"
   },
   {
    "duration": 16,
    "start_time": "2025-04-07T19:50:33.548Z"
   },
   {
    "duration": 105,
    "start_time": "2025-04-07T19:50:33.565Z"
   },
   {
    "duration": 31,
    "start_time": "2025-04-07T19:50:33.671Z"
   },
   {
    "duration": 54,
    "start_time": "2025-04-07T19:50:33.704Z"
   },
   {
    "duration": 24,
    "start_time": "2025-04-07T19:50:33.760Z"
   },
   {
    "duration": 111,
    "start_time": "2025-04-07T19:50:33.786Z"
   },
   {
    "duration": 9,
    "start_time": "2025-04-07T19:50:33.898Z"
   },
   {
    "duration": 138,
    "start_time": "2025-04-07T19:50:33.908Z"
   },
   {
    "duration": 13,
    "start_time": "2025-04-07T19:50:34.047Z"
   },
   {
    "duration": 13,
    "start_time": "2025-04-07T19:50:34.061Z"
   },
   {
    "duration": 3,
    "start_time": "2025-04-07T19:51:28.556Z"
   },
   {
    "duration": 740,
    "start_time": "2025-04-07T19:51:28.561Z"
   },
   {
    "duration": 241,
    "start_time": "2025-04-07T19:51:29.303Z"
   },
   {
    "duration": 375,
    "start_time": "2025-04-07T19:51:29.546Z"
   },
   {
    "duration": 426,
    "start_time": "2025-04-07T19:51:29.924Z"
   },
   {
    "duration": 7,
    "start_time": "2025-04-07T19:51:30.351Z"
   },
   {
    "duration": 67,
    "start_time": "2025-04-07T19:51:30.359Z"
   },
   {
    "duration": 8,
    "start_time": "2025-04-07T19:51:30.427Z"
   },
   {
    "duration": 38,
    "start_time": "2025-04-07T19:51:30.436Z"
   },
   {
    "duration": 30,
    "start_time": "2025-04-07T19:51:30.476Z"
   },
   {
    "duration": 107,
    "start_time": "2025-04-07T19:51:30.507Z"
   },
   {
    "duration": 4,
    "start_time": "2025-04-07T19:51:30.616Z"
   },
   {
    "duration": 12,
    "start_time": "2025-04-07T19:51:30.635Z"
   },
   {
    "duration": 22,
    "start_time": "2025-04-07T19:51:30.650Z"
   },
   {
    "duration": 9,
    "start_time": "2025-04-07T19:51:30.674Z"
   },
   {
    "duration": 13,
    "start_time": "2025-04-07T19:51:30.684Z"
   },
   {
    "duration": 48,
    "start_time": "2025-04-07T19:51:30.698Z"
   },
   {
    "duration": 110,
    "start_time": "2025-04-07T19:51:30.747Z"
   },
   {
    "duration": 31,
    "start_time": "2025-04-07T19:51:30.858Z"
   },
   {
    "duration": 99,
    "start_time": "2025-04-07T19:51:30.890Z"
   },
   {
    "duration": 26,
    "start_time": "2025-04-07T19:51:30.990Z"
   },
   {
    "duration": 106,
    "start_time": "2025-04-07T19:51:31.017Z"
   },
   {
    "duration": 12,
    "start_time": "2025-04-07T19:51:31.125Z"
   },
   {
    "duration": 135,
    "start_time": "2025-04-07T19:51:31.138Z"
   },
   {
    "duration": 13,
    "start_time": "2025-04-07T19:51:31.275Z"
   },
   {
    "duration": 8,
    "start_time": "2025-04-07T19:52:16.104Z"
   },
   {
    "duration": 9,
    "start_time": "2025-04-07T19:52:53.236Z"
   },
   {
    "duration": 475,
    "start_time": "2025-04-07T19:52:59.655Z"
   },
   {
    "duration": 67,
    "start_time": "2025-04-07T19:55:12.576Z"
   },
   {
    "duration": 128,
    "start_time": "2025-04-07T19:55:17.896Z"
   },
   {
    "duration": 245,
    "start_time": "2025-04-07T19:57:06.337Z"
   },
   {
    "duration": 220,
    "start_time": "2025-04-07T19:57:18.517Z"
   },
   {
    "duration": 563,
    "start_time": "2025-04-07T19:58:11.978Z"
   },
   {
    "duration": 316,
    "start_time": "2025-04-07T19:58:39.357Z"
   },
   {
    "duration": 3,
    "start_time": "2025-04-07T19:59:10.582Z"
   },
   {
    "duration": 745,
    "start_time": "2025-04-07T19:59:10.586Z"
   },
   {
    "duration": 228,
    "start_time": "2025-04-07T19:59:11.334Z"
   },
   {
    "duration": 393,
    "start_time": "2025-04-07T19:59:11.564Z"
   },
   {
    "duration": 423,
    "start_time": "2025-04-07T19:59:11.959Z"
   },
   {
    "duration": 7,
    "start_time": "2025-04-07T19:59:12.384Z"
   },
   {
    "duration": 63,
    "start_time": "2025-04-07T19:59:12.392Z"
   },
   {
    "duration": 8,
    "start_time": "2025-04-07T19:59:12.456Z"
   },
   {
    "duration": 43,
    "start_time": "2025-04-07T19:59:12.466Z"
   },
   {
    "duration": 44,
    "start_time": "2025-04-07T19:59:12.511Z"
   },
   {
    "duration": 106,
    "start_time": "2025-04-07T19:59:12.556Z"
   },
   {
    "duration": 4,
    "start_time": "2025-04-07T19:59:12.664Z"
   },
   {
    "duration": 13,
    "start_time": "2025-04-07T19:59:12.670Z"
   },
   {
    "duration": 26,
    "start_time": "2025-04-07T19:59:12.686Z"
   },
   {
    "duration": 9,
    "start_time": "2025-04-07T19:59:12.736Z"
   },
   {
    "duration": 13,
    "start_time": "2025-04-07T19:59:12.747Z"
   },
   {
    "duration": 19,
    "start_time": "2025-04-07T19:59:12.761Z"
   },
   {
    "duration": 124,
    "start_time": "2025-04-07T19:59:12.782Z"
   },
   {
    "duration": 39,
    "start_time": "2025-04-07T19:59:12.907Z"
   },
   {
    "duration": 89,
    "start_time": "2025-04-07T19:59:12.948Z"
   },
   {
    "duration": 24,
    "start_time": "2025-04-07T19:59:13.039Z"
   },
   {
    "duration": 113,
    "start_time": "2025-04-07T19:59:13.064Z"
   },
   {
    "duration": 8,
    "start_time": "2025-04-07T19:59:13.178Z"
   },
   {
    "duration": 335,
    "start_time": "2025-04-07T19:59:13.187Z"
   },
   {
    "duration": 467,
    "start_time": "2025-04-07T19:59:57.177Z"
   },
   {
    "duration": 352,
    "start_time": "2025-04-07T20:00:14.098Z"
   },
   {
    "duration": 224,
    "start_time": "2025-04-07T20:00:23.078Z"
   },
   {
    "duration": 223,
    "start_time": "2025-04-07T20:00:39.438Z"
   },
   {
    "duration": 25,
    "start_time": "2025-04-07T20:01:44.358Z"
   },
   {
    "duration": 96,
    "start_time": "2025-04-07T20:01:53.258Z"
   },
   {
    "duration": 216,
    "start_time": "2025-04-07T20:06:58.329Z"
   },
   {
    "duration": 207,
    "start_time": "2025-04-07T20:07:04.140Z"
   },
   {
    "duration": 162,
    "start_time": "2025-04-07T20:07:08.366Z"
   },
   {
    "duration": 588,
    "start_time": "2025-04-07T20:07:20.730Z"
   },
   {
    "duration": 3,
    "start_time": "2025-04-07T20:08:29.862Z"
   },
   {
    "duration": 796,
    "start_time": "2025-04-07T20:08:29.869Z"
   },
   {
    "duration": 234,
    "start_time": "2025-04-07T20:08:30.667Z"
   },
   {
    "duration": 372,
    "start_time": "2025-04-07T20:08:30.902Z"
   },
   {
    "duration": 419,
    "start_time": "2025-04-07T20:08:31.276Z"
   },
   {
    "duration": 9,
    "start_time": "2025-04-07T20:08:31.698Z"
   },
   {
    "duration": 30,
    "start_time": "2025-04-07T20:08:31.708Z"
   },
   {
    "duration": 8,
    "start_time": "2025-04-07T20:08:31.740Z"
   },
   {
    "duration": 46,
    "start_time": "2025-04-07T20:08:31.750Z"
   },
   {
    "duration": 43,
    "start_time": "2025-04-07T20:08:31.798Z"
   },
   {
    "duration": 106,
    "start_time": "2025-04-07T20:08:31.843Z"
   },
   {
    "duration": 4,
    "start_time": "2025-04-07T20:08:31.950Z"
   },
   {
    "duration": 18,
    "start_time": "2025-04-07T20:08:31.955Z"
   },
   {
    "duration": 36,
    "start_time": "2025-04-07T20:08:31.974Z"
   },
   {
    "duration": 9,
    "start_time": "2025-04-07T20:08:32.012Z"
   },
   {
    "duration": 24,
    "start_time": "2025-04-07T20:08:32.022Z"
   },
   {
    "duration": 17,
    "start_time": "2025-04-07T20:08:32.048Z"
   },
   {
    "duration": 114,
    "start_time": "2025-04-07T20:08:32.067Z"
   },
   {
    "duration": 32,
    "start_time": "2025-04-07T20:08:32.183Z"
   },
   {
    "duration": 53,
    "start_time": "2025-04-07T20:08:32.217Z"
   },
   {
    "duration": 28,
    "start_time": "2025-04-07T20:08:32.271Z"
   },
   {
    "duration": 122,
    "start_time": "2025-04-07T20:08:32.300Z"
   },
   {
    "duration": 16,
    "start_time": "2025-04-07T20:08:32.424Z"
   },
   {
    "duration": 249,
    "start_time": "2025-04-07T20:08:32.442Z"
   },
   {
    "duration": 135,
    "start_time": "2025-04-07T20:08:32.693Z"
   },
   {
    "duration": 16,
    "start_time": "2025-04-07T20:08:32.829Z"
   },
   {
    "duration": 233,
    "start_time": "2025-04-07T20:11:25.180Z"
   },
   {
    "duration": 231,
    "start_time": "2025-04-07T20:11:32.581Z"
   },
   {
    "duration": 9,
    "start_time": "2025-04-07T20:13:29.680Z"
   },
   {
    "duration": 8,
    "start_time": "2025-04-07T20:13:48.324Z"
   },
   {
    "duration": 1320,
    "start_time": "2025-04-07T22:51:47.332Z"
   },
   {
    "duration": 892,
    "start_time": "2025-04-07T22:51:48.654Z"
   },
   {
    "duration": 264,
    "start_time": "2025-04-07T22:51:49.548Z"
   },
   {
    "duration": 483,
    "start_time": "2025-04-07T22:51:49.814Z"
   },
   {
    "duration": 493,
    "start_time": "2025-04-07T22:51:50.300Z"
   },
   {
    "duration": 9,
    "start_time": "2025-04-07T22:51:50.795Z"
   },
   {
    "duration": 34,
    "start_time": "2025-04-07T22:51:50.805Z"
   },
   {
    "duration": 12,
    "start_time": "2025-04-07T22:51:50.841Z"
   },
   {
    "duration": 47,
    "start_time": "2025-04-07T22:51:50.855Z"
   },
   {
    "duration": 59,
    "start_time": "2025-04-07T22:51:50.904Z"
   },
   {
    "duration": 106,
    "start_time": "2025-04-07T22:51:50.965Z"
   },
   {
    "duration": 3,
    "start_time": "2025-04-07T22:51:51.073Z"
   },
   {
    "duration": 17,
    "start_time": "2025-04-07T22:51:51.078Z"
   },
   {
    "duration": 49,
    "start_time": "2025-04-07T22:51:51.097Z"
   },
   {
    "duration": 9,
    "start_time": "2025-04-07T22:51:51.147Z"
   },
   {
    "duration": 18,
    "start_time": "2025-04-07T22:51:51.157Z"
   },
   {
    "duration": 17,
    "start_time": "2025-04-07T22:51:51.177Z"
   },
   {
    "duration": 125,
    "start_time": "2025-04-07T22:51:51.195Z"
   },
   {
    "duration": 38,
    "start_time": "2025-04-07T22:51:51.323Z"
   },
   {
    "duration": 43,
    "start_time": "2025-04-07T22:51:51.363Z"
   },
   {
    "duration": 45,
    "start_time": "2025-04-07T22:51:51.407Z"
   },
   {
    "duration": 60,
    "start_time": "2025-04-07T22:51:51.453Z"
   },
   {
    "duration": 10,
    "start_time": "2025-04-07T22:51:51.514Z"
   },
   {
    "duration": 252,
    "start_time": "2025-04-07T22:51:51.525Z"
   },
   {
    "duration": 136,
    "start_time": "2025-04-07T22:51:51.778Z"
   },
   {
    "duration": 21,
    "start_time": "2025-04-07T22:51:51.916Z"
   },
   {
    "duration": 29,
    "start_time": "2025-04-07T22:51:51.939Z"
   },
   {
    "duration": 8,
    "start_time": "2025-04-07T22:51:51.970Z"
   },
   {
    "duration": 12,
    "start_time": "2025-04-07T22:52:35.044Z"
   },
   {
    "duration": 98,
    "start_time": "2025-04-07T22:56:11.943Z"
   },
   {
    "duration": 18,
    "start_time": "2025-04-07T22:56:22.003Z"
   },
   {
    "duration": 32,
    "start_time": "2025-04-07T22:57:43.233Z"
   },
   {
    "duration": 41,
    "start_time": "2025-04-07T22:58:03.303Z"
   },
   {
    "duration": 80,
    "start_time": "2025-04-07T22:58:56.853Z"
   },
   {
    "duration": 73,
    "start_time": "2025-04-07T23:00:39.294Z"
   },
   {
    "duration": 2,
    "start_time": "2025-04-07T23:00:54.895Z"
   },
   {
    "duration": 820,
    "start_time": "2025-04-07T23:00:54.899Z"
   },
   {
    "duration": 238,
    "start_time": "2025-04-07T23:00:55.721Z"
   },
   {
    "duration": 410,
    "start_time": "2025-04-07T23:00:55.960Z"
   },
   {
    "duration": 451,
    "start_time": "2025-04-07T23:00:56.373Z"
   },
   {
    "duration": 11,
    "start_time": "2025-04-07T23:00:56.826Z"
   },
   {
    "duration": 20,
    "start_time": "2025-04-07T23:00:56.839Z"
   },
   {
    "duration": 10,
    "start_time": "2025-04-07T23:00:56.861Z"
   },
   {
    "duration": 72,
    "start_time": "2025-04-07T23:00:56.873Z"
   },
   {
    "duration": 29,
    "start_time": "2025-04-07T23:00:56.947Z"
   },
   {
    "duration": 117,
    "start_time": "2025-04-07T23:00:56.977Z"
   },
   {
    "duration": 5,
    "start_time": "2025-04-07T23:00:57.096Z"
   },
   {
    "duration": 41,
    "start_time": "2025-04-07T23:00:57.103Z"
   },
   {
    "duration": 23,
    "start_time": "2025-04-07T23:00:57.148Z"
   },
   {
    "duration": 10,
    "start_time": "2025-04-07T23:00:57.172Z"
   },
   {
    "duration": 14,
    "start_time": "2025-04-07T23:00:57.184Z"
   },
   {
    "duration": 46,
    "start_time": "2025-04-07T23:00:57.200Z"
   },
   {
    "duration": 113,
    "start_time": "2025-04-07T23:00:57.248Z"
   },
   {
    "duration": 33,
    "start_time": "2025-04-07T23:00:57.363Z"
   },
   {
    "duration": 65,
    "start_time": "2025-04-07T23:00:57.398Z"
   },
   {
    "duration": 28,
    "start_time": "2025-04-07T23:00:57.465Z"
   },
   {
    "duration": 41,
    "start_time": "2025-04-07T23:00:57.495Z"
   },
   {
    "duration": 9,
    "start_time": "2025-04-07T23:00:57.538Z"
   },
   {
    "duration": 256,
    "start_time": "2025-04-07T23:00:57.549Z"
   },
   {
    "duration": 138,
    "start_time": "2025-04-07T23:00:57.807Z"
   },
   {
    "duration": 13,
    "start_time": "2025-04-07T23:00:57.946Z"
   },
   {
    "duration": 24,
    "start_time": "2025-04-07T23:00:57.961Z"
   },
   {
    "duration": 7,
    "start_time": "2025-04-07T23:00:57.987Z"
   },
   {
    "duration": 70,
    "start_time": "2025-04-07T23:00:57.996Z"
   },
   {
    "duration": 132,
    "start_time": "2025-04-07T23:00:58.068Z"
   },
   {
    "duration": 111,
    "start_time": "2025-04-07T23:00:58.202Z"
   },
   {
    "duration": 15,
    "start_time": "2025-04-07T23:09:01.693Z"
   },
   {
    "duration": 12,
    "start_time": "2025-04-07T23:09:07.014Z"
   },
   {
    "duration": 83,
    "start_time": "2025-04-07T23:09:39.323Z"
   },
   {
    "duration": 109,
    "start_time": "2025-04-07T23:09:44.244Z"
   },
   {
    "duration": 109,
    "start_time": "2025-04-07T23:13:23.544Z"
   },
   {
    "duration": 46,
    "start_time": "2025-04-07T23:15:23.174Z"
   },
   {
    "duration": 2,
    "start_time": "2025-04-07T23:16:43.995Z"
   },
   {
    "duration": 923,
    "start_time": "2025-04-07T23:16:44.000Z"
   },
   {
    "duration": 253,
    "start_time": "2025-04-07T23:16:44.925Z"
   },
   {
    "duration": 425,
    "start_time": "2025-04-07T23:16:45.180Z"
   },
   {
    "duration": 500,
    "start_time": "2025-04-07T23:16:45.607Z"
   },
   {
    "duration": 7,
    "start_time": "2025-04-07T23:16:46.109Z"
   },
   {
    "duration": 96,
    "start_time": "2025-04-07T23:16:46.117Z"
   },
   {
    "duration": 27,
    "start_time": "2025-04-07T23:16:46.215Z"
   },
   {
    "duration": 100,
    "start_time": "2025-04-07T23:16:46.244Z"
   },
   {
    "duration": 30,
    "start_time": "2025-04-07T23:16:46.345Z"
   },
   {
    "duration": 187,
    "start_time": "2025-04-07T23:16:46.377Z"
   },
   {
    "duration": 4,
    "start_time": "2025-04-07T23:16:46.566Z"
   },
   {
    "duration": 21,
    "start_time": "2025-04-07T23:16:46.572Z"
   },
   {
    "duration": 40,
    "start_time": "2025-04-07T23:16:46.596Z"
   },
   {
    "duration": 9,
    "start_time": "2025-04-07T23:16:46.638Z"
   },
   {
    "duration": 23,
    "start_time": "2025-04-07T23:16:46.648Z"
   },
   {
    "duration": 19,
    "start_time": "2025-04-07T23:16:46.673Z"
   },
   {
    "duration": 120,
    "start_time": "2025-04-07T23:16:46.693Z"
   },
   {
    "duration": 39,
    "start_time": "2025-04-07T23:16:46.814Z"
   },
   {
    "duration": 44,
    "start_time": "2025-04-07T23:16:46.854Z"
   },
   {
    "duration": 49,
    "start_time": "2025-04-07T23:16:46.899Z"
   },
   {
    "duration": 36,
    "start_time": "2025-04-07T23:16:46.950Z"
   },
   {
    "duration": 9,
    "start_time": "2025-04-07T23:16:46.988Z"
   },
   {
    "duration": 277,
    "start_time": "2025-04-07T23:16:46.999Z"
   },
   {
    "duration": 139,
    "start_time": "2025-04-07T23:16:47.277Z"
   },
   {
    "duration": 21,
    "start_time": "2025-04-07T23:16:47.418Z"
   },
   {
    "duration": 33,
    "start_time": "2025-04-07T23:16:47.441Z"
   },
   {
    "duration": 9,
    "start_time": "2025-04-07T23:16:47.475Z"
   },
   {
    "duration": 85,
    "start_time": "2025-04-07T23:16:47.485Z"
   },
   {
    "duration": 141,
    "start_time": "2025-04-07T23:16:47.571Z"
   },
   {
    "duration": 47,
    "start_time": "2025-04-07T23:16:47.714Z"
   },
   {
    "duration": 114,
    "start_time": "2025-04-07T23:17:13.884Z"
   },
   {
    "duration": 134,
    "start_time": "2025-04-07T23:17:31.484Z"
   },
   {
    "duration": 321,
    "start_time": "2025-04-07T23:37:07.484Z"
   },
   {
    "duration": 16,
    "start_time": "2025-04-07T23:37:53.032Z"
   },
   {
    "duration": 136,
    "start_time": "2025-04-07T23:37:58.942Z"
   },
   {
    "duration": 3541,
    "start_time": "2025-04-07T23:41:17.429Z"
   },
   {
    "duration": 37,
    "start_time": "2025-04-07T23:41:28.962Z"
   },
   {
    "duration": 5283,
    "start_time": "2025-04-07T23:42:13.622Z"
   },
   {
    "duration": 12,
    "start_time": "2025-04-07T23:44:53.520Z"
   },
   {
    "duration": 1154,
    "start_time": "2025-04-07T23:45:00.273Z"
   },
   {
    "duration": 37,
    "start_time": "2025-04-07T23:45:09.273Z"
   },
   {
    "duration": 5117,
    "start_time": "2025-04-07T23:48:12.026Z"
   },
   {
    "duration": 4968,
    "start_time": "2025-04-07T23:49:11.792Z"
   },
   {
    "duration": 5095,
    "start_time": "2025-04-07T23:55:16.111Z"
   },
   {
    "duration": 3272,
    "start_time": "2025-04-10T19:12:16.174Z"
   },
   {
    "duration": 1650,
    "start_time": "2025-04-10T19:12:19.448Z"
   },
   {
    "duration": 897,
    "start_time": "2025-04-10T19:12:21.099Z"
   },
   {
    "duration": 262,
    "start_time": "2025-04-10T19:12:21.997Z"
   },
   {
    "duration": 488,
    "start_time": "2025-04-10T19:12:22.261Z"
   },
   {
    "duration": 577,
    "start_time": "2025-04-10T19:12:22.752Z"
   },
   {
    "duration": 9,
    "start_time": "2025-04-10T19:12:23.331Z"
   },
   {
    "duration": 36,
    "start_time": "2025-04-10T19:12:23.341Z"
   },
   {
    "duration": 11,
    "start_time": "2025-04-10T19:12:23.380Z"
   },
   {
    "duration": 56,
    "start_time": "2025-04-10T19:12:23.393Z"
   },
   {
    "duration": 53,
    "start_time": "2025-04-10T19:12:23.451Z"
   },
   {
    "duration": 111,
    "start_time": "2025-04-10T19:12:23.506Z"
   },
   {
    "duration": 8,
    "start_time": "2025-04-10T19:12:23.619Z"
   },
   {
    "duration": 15,
    "start_time": "2025-04-10T19:12:23.630Z"
   },
   {
    "duration": 46,
    "start_time": "2025-04-10T19:12:23.647Z"
   },
   {
    "duration": 9,
    "start_time": "2025-04-10T19:12:23.695Z"
   },
   {
    "duration": 23,
    "start_time": "2025-04-10T19:12:23.706Z"
   },
   {
    "duration": 42,
    "start_time": "2025-04-10T19:12:23.731Z"
   },
   {
    "duration": 119,
    "start_time": "2025-04-10T19:12:23.775Z"
   },
   {
    "duration": 38,
    "start_time": "2025-04-10T19:12:23.896Z"
   },
   {
    "duration": 145,
    "start_time": "2025-04-10T19:12:23.936Z"
   },
   {
    "duration": 29,
    "start_time": "2025-04-10T19:12:24.083Z"
   },
   {
    "duration": 29,
    "start_time": "2025-04-10T19:12:24.114Z"
   },
   {
    "duration": 37,
    "start_time": "2025-04-10T19:12:24.144Z"
   },
   {
    "duration": 268,
    "start_time": "2025-04-10T19:12:24.183Z"
   },
   {
    "duration": 139,
    "start_time": "2025-04-10T19:12:24.452Z"
   },
   {
    "duration": 13,
    "start_time": "2025-04-10T19:12:24.593Z"
   },
   {
    "duration": 25,
    "start_time": "2025-04-10T19:12:24.608Z"
   },
   {
    "duration": 7,
    "start_time": "2025-04-10T19:12:24.635Z"
   },
   {
    "duration": 96,
    "start_time": "2025-04-10T19:12:24.643Z"
   },
   {
    "duration": 119,
    "start_time": "2025-04-10T19:12:24.741Z"
   },
   {
    "duration": 130,
    "start_time": "2025-04-10T19:12:24.861Z"
   },
   {
    "duration": 116,
    "start_time": "2025-04-10T19:12:24.993Z"
   },
   {
    "duration": 37,
    "start_time": "2025-04-10T19:12:25.111Z"
   },
   {
    "duration": 5141,
    "start_time": "2025-04-10T19:12:25.150Z"
   },
   {
    "duration": 110,
    "start_time": "2025-04-10T19:24:09.117Z"
   },
   {
    "duration": 91,
    "start_time": "2025-04-10T19:24:15.257Z"
   },
   {
    "duration": 19,
    "start_time": "2025-04-10T19:58:49.319Z"
   },
   {
    "duration": 29,
    "start_time": "2025-04-10T19:59:00.019Z"
   },
   {
    "duration": 30,
    "start_time": "2025-04-10T19:59:25.770Z"
   },
   {
    "duration": 65,
    "start_time": "2025-04-10T19:59:45.439Z"
   },
   {
    "duration": 2,
    "start_time": "2025-04-10T20:06:31.885Z"
   },
   {
    "duration": 3,
    "start_time": "2025-04-10T20:09:37.862Z"
   },
   {
    "duration": 804,
    "start_time": "2025-04-10T20:09:37.867Z"
   },
   {
    "duration": 258,
    "start_time": "2025-04-10T20:09:38.672Z"
   },
   {
    "duration": 389,
    "start_time": "2025-04-10T20:09:38.931Z"
   },
   {
    "duration": 443,
    "start_time": "2025-04-10T20:09:39.322Z"
   },
   {
    "duration": 7,
    "start_time": "2025-04-10T20:09:39.770Z"
   },
   {
    "duration": 59,
    "start_time": "2025-04-10T20:09:39.779Z"
   },
   {
    "duration": 9,
    "start_time": "2025-04-10T20:09:39.840Z"
   },
   {
    "duration": 40,
    "start_time": "2025-04-10T20:09:39.851Z"
   },
   {
    "duration": 29,
    "start_time": "2025-04-10T20:09:39.893Z"
   },
   {
    "duration": 115,
    "start_time": "2025-04-10T20:09:39.923Z"
   },
   {
    "duration": 5,
    "start_time": "2025-04-10T20:09:40.039Z"
   },
   {
    "duration": 32,
    "start_time": "2025-04-10T20:09:40.045Z"
   },
   {
    "duration": 23,
    "start_time": "2025-04-10T20:09:40.081Z"
   },
   {
    "duration": 9,
    "start_time": "2025-04-10T20:09:40.105Z"
   },
   {
    "duration": 89,
    "start_time": "2025-04-10T20:09:40.115Z"
   },
   {
    "duration": 17,
    "start_time": "2025-04-10T20:09:40.206Z"
   },
   {
    "duration": 98,
    "start_time": "2025-04-10T20:09:40.225Z"
   },
   {
    "duration": 32,
    "start_time": "2025-04-10T20:09:40.325Z"
   },
   {
    "duration": 51,
    "start_time": "2025-04-10T20:09:40.370Z"
   },
   {
    "duration": 27,
    "start_time": "2025-04-10T20:09:40.422Z"
   },
   {
    "duration": 35,
    "start_time": "2025-04-10T20:09:40.451Z"
   },
   {
    "duration": 9,
    "start_time": "2025-04-10T20:09:40.487Z"
   },
   {
    "duration": 247,
    "start_time": "2025-04-10T20:09:40.497Z"
   },
   {
    "duration": 128,
    "start_time": "2025-04-10T20:09:40.746Z"
   },
   {
    "duration": 13,
    "start_time": "2025-04-10T20:09:40.875Z"
   },
   {
    "duration": 19,
    "start_time": "2025-04-10T20:09:40.890Z"
   },
   {
    "duration": 7,
    "start_time": "2025-04-10T20:09:40.910Z"
   },
   {
    "duration": 99,
    "start_time": "2025-04-10T20:09:40.919Z"
   },
   {
    "duration": 106,
    "start_time": "2025-04-10T20:09:41.019Z"
   },
   {
    "duration": 127,
    "start_time": "2025-04-10T20:09:41.127Z"
   },
   {
    "duration": 131,
    "start_time": "2025-04-10T20:09:41.256Z"
   },
   {
    "duration": 41,
    "start_time": "2025-04-10T20:09:41.388Z"
   },
   {
    "duration": 80,
    "start_time": "2025-04-10T20:09:41.430Z"
   },
   {
    "duration": 12,
    "start_time": "2025-04-10T20:09:41.511Z"
   },
   {
    "duration": 0,
    "start_time": "2025-04-10T20:09:41.525Z"
   },
   {
    "duration": 0,
    "start_time": "2025-04-10T20:09:41.526Z"
   },
   {
    "duration": 0,
    "start_time": "2025-04-10T20:09:41.527Z"
   },
   {
    "duration": 0,
    "start_time": "2025-04-10T20:09:41.528Z"
   },
   {
    "duration": 64,
    "start_time": "2025-04-10T20:10:23.256Z"
   },
   {
    "duration": 67,
    "start_time": "2025-04-10T20:10:34.357Z"
   },
   {
    "duration": 903,
    "start_time": "2025-04-10T20:10:34.427Z"
   },
   {
    "duration": 0,
    "start_time": "2025-04-10T20:10:35.332Z"
   },
   {
    "duration": 0,
    "start_time": "2025-04-10T20:10:35.333Z"
   },
   {
    "duration": 0,
    "start_time": "2025-04-10T20:10:35.334Z"
   },
   {
    "duration": 0,
    "start_time": "2025-04-10T20:10:35.336Z"
   },
   {
    "duration": 6233,
    "start_time": "2025-04-10T20:11:33.896Z"
   },
   {
    "duration": 1238,
    "start_time": "2025-04-10T20:11:58.876Z"
   },
   {
    "duration": 2973,
    "start_time": "2025-04-10T20:12:28.656Z"
   },
   {
    "duration": 883,
    "start_time": "2025-04-10T20:13:23.818Z"
   },
   {
    "duration": 832,
    "start_time": "2025-04-10T20:14:19.537Z"
   },
   {
    "duration": 0,
    "start_time": "2025-04-10T20:14:20.371Z"
   },
   {
    "duration": 0,
    "start_time": "2025-04-10T20:14:20.374Z"
   },
   {
    "duration": 0,
    "start_time": "2025-04-10T20:14:20.375Z"
   },
   {
    "duration": 0,
    "start_time": "2025-04-10T20:14:20.376Z"
   },
   {
    "duration": 71,
    "start_time": "2025-04-10T20:14:43.384Z"
   },
   {
    "duration": 924,
    "start_time": "2025-04-10T20:14:43.457Z"
   },
   {
    "duration": 0,
    "start_time": "2025-04-10T20:14:44.382Z"
   },
   {
    "duration": 0,
    "start_time": "2025-04-10T20:14:44.384Z"
   },
   {
    "duration": 0,
    "start_time": "2025-04-10T20:14:44.385Z"
   },
   {
    "duration": 0,
    "start_time": "2025-04-10T20:14:44.386Z"
   },
   {
    "duration": 4,
    "start_time": "2025-04-10T20:15:54.943Z"
   },
   {
    "duration": 14,
    "start_time": "2025-04-10T20:18:28.915Z"
   },
   {
    "duration": 878,
    "start_time": "2025-04-10T20:18:40.275Z"
   },
   {
    "duration": 953,
    "start_time": "2025-04-10T20:18:52.655Z"
   },
   {
    "duration": 5,
    "start_time": "2025-04-10T20:21:26.210Z"
   },
   {
    "duration": 876,
    "start_time": "2025-04-10T20:22:05.046Z"
   },
   {
    "duration": 3725,
    "start_time": "2025-04-10T20:22:05.924Z"
   },
   {
    "duration": 430,
    "start_time": "2025-04-10T20:22:09.651Z"
   },
   {
    "duration": 842,
    "start_time": "2025-04-10T20:22:10.082Z"
   },
   {
    "duration": 252,
    "start_time": "2025-04-10T20:22:10.926Z"
   },
   {
    "duration": 462,
    "start_time": "2025-04-10T20:22:11.180Z"
   },
   {
    "duration": 483,
    "start_time": "2025-04-10T20:22:11.643Z"
   },
   {
    "duration": 7,
    "start_time": "2025-04-10T20:22:12.128Z"
   },
   {
    "duration": 15,
    "start_time": "2025-04-10T20:22:12.136Z"
   },
   {
    "duration": 26,
    "start_time": "2025-04-10T20:22:12.153Z"
   },
   {
    "duration": 64,
    "start_time": "2025-04-10T20:22:12.181Z"
   },
   {
    "duration": 45,
    "start_time": "2025-04-10T20:22:12.247Z"
   },
   {
    "duration": 198,
    "start_time": "2025-04-10T20:22:12.294Z"
   },
   {
    "duration": 4,
    "start_time": "2025-04-10T20:22:12.495Z"
   },
   {
    "duration": 14,
    "start_time": "2025-04-10T20:22:12.500Z"
   },
   {
    "duration": 25,
    "start_time": "2025-04-10T20:22:12.571Z"
   },
   {
    "duration": 9,
    "start_time": "2025-04-10T20:22:12.598Z"
   },
   {
    "duration": 70,
    "start_time": "2025-04-10T20:22:12.608Z"
   },
   {
    "duration": 18,
    "start_time": "2025-04-10T20:22:12.679Z"
   },
   {
    "duration": 199,
    "start_time": "2025-04-10T20:22:12.699Z"
   },
   {
    "duration": 84,
    "start_time": "2025-04-10T20:22:12.899Z"
   },
   {
    "duration": 112,
    "start_time": "2025-04-10T20:22:12.985Z"
   },
   {
    "duration": 82,
    "start_time": "2025-04-10T20:22:13.099Z"
   },
   {
    "duration": 31,
    "start_time": "2025-04-10T20:22:13.182Z"
   },
   {
    "duration": 67,
    "start_time": "2025-04-10T20:22:13.215Z"
   },
   {
    "duration": 481,
    "start_time": "2025-04-10T20:22:13.284Z"
   },
   {
    "duration": 134,
    "start_time": "2025-04-10T20:22:13.769Z"
   },
   {
    "duration": 13,
    "start_time": "2025-04-10T20:22:13.904Z"
   },
   {
    "duration": 28,
    "start_time": "2025-04-10T20:22:13.919Z"
   },
   {
    "duration": 28,
    "start_time": "2025-04-10T20:22:13.949Z"
   },
   {
    "duration": 75,
    "start_time": "2025-04-10T20:22:13.979Z"
   },
   {
    "duration": 117,
    "start_time": "2025-04-10T20:22:14.071Z"
   },
   {
    "duration": 123,
    "start_time": "2025-04-10T20:22:14.190Z"
   },
   {
    "duration": 115,
    "start_time": "2025-04-10T20:22:14.315Z"
   },
   {
    "duration": 41,
    "start_time": "2025-04-10T20:22:14.432Z"
   },
   {
    "duration": 148,
    "start_time": "2025-04-10T20:22:14.475Z"
   },
   {
    "duration": 4,
    "start_time": "2025-04-10T20:22:14.624Z"
   },
   {
    "duration": 121,
    "start_time": "2025-04-10T20:22:14.629Z"
   },
   {
    "duration": 0,
    "start_time": "2025-04-10T20:22:14.752Z"
   },
   {
    "duration": 0,
    "start_time": "2025-04-10T20:22:14.753Z"
   },
   {
    "duration": 0,
    "start_time": "2025-04-10T20:22:14.754Z"
   },
   {
    "duration": 0,
    "start_time": "2025-04-10T20:22:14.755Z"
   },
   {
    "duration": 954,
    "start_time": "2025-04-10T20:22:59.515Z"
   },
   {
    "duration": 4,
    "start_time": "2025-04-10T20:23:28.574Z"
   },
   {
    "duration": 59,
    "start_time": "2025-04-10T20:27:18.552Z"
   },
   {
    "duration": 4,
    "start_time": "2025-04-10T20:27:20.908Z"
   },
   {
    "duration": 66,
    "start_time": "2025-04-10T20:27:28.012Z"
   },
   {
    "duration": 4,
    "start_time": "2025-04-10T20:27:30.073Z"
   },
   {
    "duration": 3375,
    "start_time": "2025-04-10T20:27:37.560Z"
   },
   {
    "duration": 3,
    "start_time": "2025-04-10T20:28:06.053Z"
   },
   {
    "duration": 60,
    "start_time": "2025-04-10T20:28:13.773Z"
   },
   {
    "duration": 5,
    "start_time": "2025-04-10T20:28:13.835Z"
   },
   {
    "duration": 10743,
    "start_time": "2025-04-10T20:28:13.842Z"
   },
   {
    "duration": 0,
    "start_time": "2025-04-10T20:28:24.586Z"
   },
   {
    "duration": 0,
    "start_time": "2025-04-10T20:28:24.587Z"
   },
   {
    "duration": 0,
    "start_time": "2025-04-10T20:28:24.588Z"
   },
   {
    "duration": 0,
    "start_time": "2025-04-10T20:28:24.589Z"
   },
   {
    "duration": 10234,
    "start_time": "2025-04-10T20:29:57.551Z"
   },
   {
    "duration": 52,
    "start_time": "2025-04-10T20:33:18.050Z"
   },
   {
    "duration": 3,
    "start_time": "2025-04-10T20:33:41.110Z"
   },
   {
    "duration": 2778,
    "start_time": "2025-04-10T20:34:06.818Z"
   },
   {
    "duration": 848,
    "start_time": "2025-04-10T20:34:09.598Z"
   },
   {
    "duration": 421,
    "start_time": "2025-04-10T20:34:10.448Z"
   },
   {
    "duration": 839,
    "start_time": "2025-04-10T20:34:10.870Z"
   },
   {
    "duration": 246,
    "start_time": "2025-04-10T20:34:11.711Z"
   },
   {
    "duration": 462,
    "start_time": "2025-04-10T20:34:11.958Z"
   },
   {
    "duration": 480,
    "start_time": "2025-04-10T20:34:12.422Z"
   },
   {
    "duration": 8,
    "start_time": "2025-04-10T20:34:12.903Z"
   },
   {
    "duration": 17,
    "start_time": "2025-04-10T20:34:12.913Z"
   },
   {
    "duration": 11,
    "start_time": "2025-04-10T20:34:12.932Z"
   },
   {
    "duration": 71,
    "start_time": "2025-04-10T20:34:12.944Z"
   },
   {
    "duration": 88,
    "start_time": "2025-04-10T20:34:13.017Z"
   },
   {
    "duration": 98,
    "start_time": "2025-04-10T20:34:13.107Z"
   },
   {
    "duration": 3,
    "start_time": "2025-04-10T20:34:13.210Z"
   },
   {
    "duration": 16,
    "start_time": "2025-04-10T20:34:13.215Z"
   },
   {
    "duration": 59,
    "start_time": "2025-04-10T20:34:13.232Z"
   },
   {
    "duration": 10,
    "start_time": "2025-04-10T20:34:13.292Z"
   },
   {
    "duration": 13,
    "start_time": "2025-04-10T20:34:13.304Z"
   },
   {
    "duration": 86,
    "start_time": "2025-04-10T20:34:13.319Z"
   },
   {
    "duration": 97,
    "start_time": "2025-04-10T20:34:13.407Z"
   },
   {
    "duration": 32,
    "start_time": "2025-04-10T20:34:13.506Z"
   },
   {
    "duration": 51,
    "start_time": "2025-04-10T20:34:13.540Z"
   },
   {
    "duration": 28,
    "start_time": "2025-04-10T20:34:13.594Z"
   },
   {
    "duration": 53,
    "start_time": "2025-04-10T20:34:13.624Z"
   },
   {
    "duration": 13,
    "start_time": "2025-04-10T20:34:13.679Z"
   },
   {
    "duration": 257,
    "start_time": "2025-04-10T20:34:13.693Z"
   },
   {
    "duration": 139,
    "start_time": "2025-04-10T20:34:13.952Z"
   },
   {
    "duration": 14,
    "start_time": "2025-04-10T20:34:14.093Z"
   },
   {
    "duration": 28,
    "start_time": "2025-04-10T20:34:14.108Z"
   },
   {
    "duration": 9,
    "start_time": "2025-04-10T20:34:14.137Z"
   },
   {
    "duration": 71,
    "start_time": "2025-04-10T20:34:14.170Z"
   },
   {
    "duration": 154,
    "start_time": "2025-04-10T20:34:14.243Z"
   },
   {
    "duration": 122,
    "start_time": "2025-04-10T20:34:14.399Z"
   },
   {
    "duration": 111,
    "start_time": "2025-04-10T20:34:14.522Z"
   },
   {
    "duration": 51,
    "start_time": "2025-04-10T20:34:14.635Z"
   },
   {
    "duration": 152,
    "start_time": "2025-04-10T20:34:14.688Z"
   },
   {
    "duration": 5,
    "start_time": "2025-04-10T20:34:14.842Z"
   },
   {
    "duration": 10080,
    "start_time": "2025-04-10T20:34:14.848Z"
   },
   {
    "duration": 0,
    "start_time": "2025-04-10T20:34:24.930Z"
   },
   {
    "duration": 0,
    "start_time": "2025-04-10T20:34:24.931Z"
   },
   {
    "duration": 0,
    "start_time": "2025-04-10T20:34:24.932Z"
   },
   {
    "duration": 0,
    "start_time": "2025-04-10T20:34:24.933Z"
   },
   {
    "duration": 0,
    "start_time": "2025-04-10T20:34:24.934Z"
   },
   {
    "duration": 10523,
    "start_time": "2025-04-10T20:35:35.963Z"
   },
   {
    "duration": 3,
    "start_time": "2025-04-10T20:35:59.534Z"
   },
   {
    "duration": 10513,
    "start_time": "2025-04-10T20:36:04.072Z"
   },
   {
    "duration": 5592,
    "start_time": "2025-04-10T20:36:35.694Z"
   },
   {
    "duration": 0,
    "start_time": "2025-04-10T20:36:41.287Z"
   },
   {
    "duration": 0,
    "start_time": "2025-04-10T20:36:41.288Z"
   },
   {
    "duration": 0,
    "start_time": "2025-04-10T20:36:41.289Z"
   },
   {
    "duration": 11905,
    "start_time": "2025-04-10T20:37:12.074Z"
   },
   {
    "duration": 5797,
    "start_time": "2025-04-10T20:37:23.980Z"
   },
   {
    "duration": 11,
    "start_time": "2025-04-10T20:37:29.779Z"
   },
   {
    "duration": 0,
    "start_time": "2025-04-10T20:37:29.791Z"
   },
   {
    "duration": 0,
    "start_time": "2025-04-10T20:37:29.793Z"
   },
   {
    "duration": 21,
    "start_time": "2025-04-10T20:37:57.613Z"
   },
   {
    "duration": 6231,
    "start_time": "2025-04-10T20:38:06.593Z"
   },
   {
    "duration": 20078,
    "start_time": "2025-04-10T20:38:16.993Z"
   },
   {
    "duration": 97,
    "start_time": "2025-04-10T20:38:37.074Z"
   },
   {
    "duration": 10,
    "start_time": "2025-04-10T20:40:02.953Z"
   },
   {
    "duration": 60,
    "start_time": "2025-04-10T20:43:10.553Z"
   },
   {
    "duration": 10855,
    "start_time": "2025-04-10T20:43:10.615Z"
   },
   {
    "duration": 5998,
    "start_time": "2025-04-10T20:43:21.472Z"
   },
   {
    "duration": 5497,
    "start_time": "2025-04-10T20:43:27.473Z"
   },
   {
    "duration": 20200,
    "start_time": "2025-04-10T20:43:32.972Z"
   },
   {
    "duration": 98,
    "start_time": "2025-04-10T20:43:53.178Z"
   },
   {
    "duration": 3653,
    "start_time": "2025-04-10T21:16:07.471Z"
   },
   {
    "duration": 4,
    "start_time": "2025-04-10T21:16:37.691Z"
   },
   {
    "duration": 144385,
    "start_time": "2025-04-10T21:16:50.991Z"
   },
   {
    "duration": 2838,
    "start_time": "2025-04-10T21:21:39.388Z"
   },
   {
    "duration": 921,
    "start_time": "2025-04-10T21:21:42.229Z"
   },
   {
    "duration": 997,
    "start_time": "2025-04-10T21:21:43.152Z"
   },
   {
    "duration": 863,
    "start_time": "2025-04-10T21:21:44.151Z"
   },
   {
    "duration": 259,
    "start_time": "2025-04-10T21:21:45.016Z"
   },
   {
    "duration": 449,
    "start_time": "2025-04-10T21:21:45.277Z"
   },
   {
    "duration": 491,
    "start_time": "2025-04-10T21:21:45.728Z"
   },
   {
    "duration": 11,
    "start_time": "2025-04-10T21:21:46.221Z"
   },
   {
    "duration": 41,
    "start_time": "2025-04-10T21:21:46.234Z"
   },
   {
    "duration": 10,
    "start_time": "2025-04-10T21:21:46.277Z"
   },
   {
    "duration": 45,
    "start_time": "2025-04-10T21:21:46.288Z"
   },
   {
    "duration": 60,
    "start_time": "2025-04-10T21:21:46.335Z"
   },
   {
    "duration": 108,
    "start_time": "2025-04-10T21:21:46.396Z"
   },
   {
    "duration": 4,
    "start_time": "2025-04-10T21:21:46.508Z"
   },
   {
    "duration": 15,
    "start_time": "2025-04-10T21:21:46.514Z"
   },
   {
    "duration": 48,
    "start_time": "2025-04-10T21:21:46.530Z"
   },
   {
    "duration": 9,
    "start_time": "2025-04-10T21:21:46.580Z"
   },
   {
    "duration": 14,
    "start_time": "2025-04-10T21:21:46.590Z"
   },
   {
    "duration": 18,
    "start_time": "2025-04-10T21:21:46.605Z"
   },
   {
    "duration": 125,
    "start_time": "2025-04-10T21:21:46.624Z"
   },
   {
    "duration": 36,
    "start_time": "2025-04-10T21:21:46.750Z"
   },
   {
    "duration": 43,
    "start_time": "2025-04-10T21:21:46.787Z"
   },
   {
    "duration": 48,
    "start_time": "2025-04-10T21:21:46.831Z"
   },
   {
    "duration": 48,
    "start_time": "2025-04-10T21:21:46.881Z"
   },
   {
    "duration": 10,
    "start_time": "2025-04-10T21:21:46.930Z"
   },
   {
    "duration": 236,
    "start_time": "2025-04-10T21:21:46.941Z"
   },
   {
    "duration": 139,
    "start_time": "2025-04-10T21:21:47.179Z"
   },
   {
    "duration": 13,
    "start_time": "2025-04-10T21:21:47.320Z"
   },
   {
    "duration": 20,
    "start_time": "2025-04-10T21:21:47.335Z"
   },
   {
    "duration": 7,
    "start_time": "2025-04-10T21:21:47.370Z"
   },
   {
    "duration": 76,
    "start_time": "2025-04-10T21:21:47.378Z"
   },
   {
    "duration": 116,
    "start_time": "2025-04-10T21:21:47.455Z"
   },
   {
    "duration": 127,
    "start_time": "2025-04-10T21:21:47.572Z"
   },
   {
    "duration": 131,
    "start_time": "2025-04-10T21:21:47.701Z"
   },
   {
    "duration": 49,
    "start_time": "2025-04-10T21:21:47.833Z"
   },
   {
    "duration": 156,
    "start_time": "2025-04-10T21:21:47.884Z"
   },
   {
    "duration": 548750,
    "start_time": "2025-04-10T21:21:48.043Z"
   },
   {
    "duration": 72990,
    "start_time": "2025-04-10T21:30:56.794Z"
   },
   {
    "duration": 0,
    "start_time": "2025-04-10T21:32:09.786Z"
   },
   {
    "duration": 0,
    "start_time": "2025-04-10T21:32:09.787Z"
   },
   {
    "duration": 0,
    "start_time": "2025-04-10T21:32:09.788Z"
   },
   {
    "duration": 2812,
    "start_time": "2025-04-10T21:38:51.289Z"
   },
   {
    "duration": 882,
    "start_time": "2025-04-10T21:38:54.103Z"
   },
   {
    "duration": 434,
    "start_time": "2025-04-10T21:38:54.987Z"
   },
   {
    "duration": 892,
    "start_time": "2025-04-10T21:38:55.422Z"
   },
   {
    "duration": 246,
    "start_time": "2025-04-10T21:38:56.316Z"
   },
   {
    "duration": 460,
    "start_time": "2025-04-10T21:38:56.571Z"
   },
   {
    "duration": 506,
    "start_time": "2025-04-10T21:38:57.033Z"
   },
   {
    "duration": 8,
    "start_time": "2025-04-10T21:38:57.540Z"
   },
   {
    "duration": 51,
    "start_time": "2025-04-10T21:38:57.549Z"
   },
   {
    "duration": 9,
    "start_time": "2025-04-10T21:38:57.602Z"
   },
   {
    "duration": 46,
    "start_time": "2025-04-10T21:38:57.612Z"
   },
   {
    "duration": 48,
    "start_time": "2025-04-10T21:38:57.660Z"
   },
   {
    "duration": 97,
    "start_time": "2025-04-10T21:38:57.710Z"
   },
   {
    "duration": 4,
    "start_time": "2025-04-10T21:38:57.810Z"
   },
   {
    "duration": 15,
    "start_time": "2025-04-10T21:38:57.815Z"
   },
   {
    "duration": 48,
    "start_time": "2025-04-10T21:38:57.831Z"
   },
   {
    "duration": 9,
    "start_time": "2025-04-10T21:38:57.880Z"
   },
   {
    "duration": 13,
    "start_time": "2025-04-10T21:38:57.890Z"
   },
   {
    "duration": 17,
    "start_time": "2025-04-10T21:38:57.904Z"
   },
   {
    "duration": 124,
    "start_time": "2025-04-10T21:38:57.922Z"
   },
   {
    "duration": 37,
    "start_time": "2025-04-10T21:38:58.047Z"
   },
   {
    "duration": 40,
    "start_time": "2025-04-10T21:38:58.086Z"
   },
   {
    "duration": 43,
    "start_time": "2025-04-10T21:38:58.128Z"
   },
   {
    "duration": 31,
    "start_time": "2025-04-10T21:38:58.173Z"
   },
   {
    "duration": 11,
    "start_time": "2025-04-10T21:38:58.206Z"
   },
   {
    "duration": 258,
    "start_time": "2025-04-10T21:38:58.219Z"
   },
   {
    "duration": 133,
    "start_time": "2025-04-10T21:38:58.479Z"
   },
   {
    "duration": 13,
    "start_time": "2025-04-10T21:38:58.614Z"
   },
   {
    "duration": 27,
    "start_time": "2025-04-10T21:38:58.628Z"
   },
   {
    "duration": 20,
    "start_time": "2025-04-10T21:38:58.656Z"
   },
   {
    "duration": 70,
    "start_time": "2025-04-10T21:38:58.677Z"
   },
   {
    "duration": 143,
    "start_time": "2025-04-10T21:38:58.749Z"
   },
   {
    "duration": 128,
    "start_time": "2025-04-10T21:38:58.893Z"
   },
   {
    "duration": 114,
    "start_time": "2025-04-10T21:38:59.023Z"
   },
   {
    "duration": 45,
    "start_time": "2025-04-10T21:38:59.139Z"
   },
   {
    "duration": 173,
    "start_time": "2025-04-10T21:38:59.186Z"
   },
   {
    "duration": 71020,
    "start_time": "2025-04-10T21:38:59.361Z"
   },
   {
    "duration": 29588,
    "start_time": "2025-04-10T21:40:10.383Z"
   },
   {
    "duration": 78391,
    "start_time": "2025-04-10T21:40:39.972Z"
   },
   {
    "duration": 11515,
    "start_time": "2025-04-10T21:41:58.365Z"
   },
   {
    "duration": 188,
    "start_time": "2025-04-10T21:42:09.885Z"
   },
   {
    "duration": 37216,
    "start_time": "2025-04-10T21:42:10.075Z"
   },
   {
    "duration": 36954,
    "start_time": "2025-04-10T21:43:22.266Z"
   },
   {
    "duration": 36960,
    "start_time": "2025-04-10T21:44:53.266Z"
   },
   {
    "duration": 55,
    "start_time": "2025-04-10T23:24:50.525Z"
   },
   {
    "duration": 54,
    "start_time": "2025-04-10T23:46:54.258Z"
   },
   {
    "duration": 68,
    "start_time": "2025-04-10T23:52:52.981Z"
   },
   {
    "duration": 36629,
    "start_time": "2025-04-11T00:05:35.976Z"
   },
   {
    "duration": 55,
    "start_time": "2025-04-11T00:17:49.693Z"
   },
   {
    "duration": 13307,
    "start_time": "2025-04-11T09:45:47.155Z"
   },
   {
    "duration": 963,
    "start_time": "2025-04-11T09:46:00.465Z"
   },
   {
    "duration": 495,
    "start_time": "2025-04-11T09:46:01.430Z"
   },
   {
    "duration": 959,
    "start_time": "2025-04-11T09:46:01.928Z"
   },
   {
    "duration": 323,
    "start_time": "2025-04-11T09:46:02.888Z"
   },
   {
    "duration": 530,
    "start_time": "2025-04-11T09:46:03.213Z"
   },
   {
    "duration": 544,
    "start_time": "2025-04-11T09:46:03.745Z"
   },
   {
    "duration": 7,
    "start_time": "2025-04-11T09:46:04.291Z"
   },
   {
    "duration": 63,
    "start_time": "2025-04-11T09:46:04.300Z"
   },
   {
    "duration": 17,
    "start_time": "2025-04-11T09:46:04.365Z"
   },
   {
    "duration": 68,
    "start_time": "2025-04-11T09:46:04.383Z"
   },
   {
    "duration": 150,
    "start_time": "2025-04-11T09:46:04.453Z"
   },
   {
    "duration": 250,
    "start_time": "2025-04-11T09:46:04.604Z"
   },
   {
    "duration": 5,
    "start_time": "2025-04-11T09:46:04.856Z"
   },
   {
    "duration": 46,
    "start_time": "2025-04-11T09:46:04.863Z"
   },
   {
    "duration": 43,
    "start_time": "2025-04-11T09:46:04.911Z"
   },
   {
    "duration": 11,
    "start_time": "2025-04-11T09:46:04.956Z"
   },
   {
    "duration": 37,
    "start_time": "2025-04-11T09:46:04.969Z"
   },
   {
    "duration": 20,
    "start_time": "2025-04-11T09:46:05.008Z"
   },
   {
    "duration": 107,
    "start_time": "2025-04-11T09:46:05.031Z"
   },
   {
    "duration": 44,
    "start_time": "2025-04-11T09:46:05.139Z"
   },
   {
    "duration": 67,
    "start_time": "2025-04-11T09:46:05.185Z"
   },
   {
    "duration": 30,
    "start_time": "2025-04-11T09:46:05.254Z"
   },
   {
    "duration": 228,
    "start_time": "2025-04-11T09:46:05.286Z"
   },
   {
    "duration": 64,
    "start_time": "2025-04-11T09:46:05.516Z"
   },
   {
    "duration": 274,
    "start_time": "2025-04-11T09:46:05.581Z"
   },
   {
    "duration": 172,
    "start_time": "2025-04-11T09:46:05.857Z"
   },
   {
    "duration": 14,
    "start_time": "2025-04-11T09:46:06.033Z"
   },
   {
    "duration": 69,
    "start_time": "2025-04-11T09:46:06.049Z"
   },
   {
    "duration": 12,
    "start_time": "2025-04-11T09:46:06.120Z"
   },
   {
    "duration": 74,
    "start_time": "2025-04-11T09:46:06.134Z"
   },
   {
    "duration": 131,
    "start_time": "2025-04-11T09:46:06.209Z"
   },
   {
    "duration": 139,
    "start_time": "2025-04-11T09:46:06.342Z"
   },
   {
    "duration": 99,
    "start_time": "2025-04-11T09:46:06.482Z"
   },
   {
    "duration": 56,
    "start_time": "2025-04-11T09:47:08.994Z"
   },
   {
    "duration": 50,
    "start_time": "2025-04-11T09:47:10.008Z"
   },
   {
    "duration": 52,
    "start_time": "2025-04-11T09:47:10.466Z"
   },
   {
    "duration": 55,
    "start_time": "2025-04-11T09:47:10.901Z"
   },
   {
    "duration": 52,
    "start_time": "2025-04-11T09:47:11.159Z"
   },
   {
    "duration": 50,
    "start_time": "2025-04-11T09:47:11.351Z"
   },
   {
    "duration": 54,
    "start_time": "2025-04-11T09:47:11.520Z"
   },
   {
    "duration": 53,
    "start_time": "2025-04-11T09:47:11.715Z"
   },
   {
    "duration": 56,
    "start_time": "2025-04-11T09:47:11.890Z"
   },
   {
    "duration": 61,
    "start_time": "2025-04-11T09:47:12.060Z"
   },
   {
    "duration": 52,
    "start_time": "2025-04-11T09:47:12.203Z"
   },
   {
    "duration": 6,
    "start_time": "2025-04-11T09:47:31.082Z"
   },
   {
    "duration": 31,
    "start_time": "2025-04-11T09:47:36.354Z"
   },
   {
    "duration": 75,
    "start_time": "2025-04-13T17:19:41.068Z"
   },
   {
    "duration": 7564,
    "start_time": "2025-04-13T17:21:36.421Z"
   },
   {
    "duration": 988,
    "start_time": "2025-04-13T17:21:43.987Z"
   },
   {
    "duration": 719,
    "start_time": "2025-04-13T17:21:44.977Z"
   },
   {
    "duration": 975,
    "start_time": "2025-04-13T17:21:45.698Z"
   },
   {
    "duration": 295,
    "start_time": "2025-04-13T17:21:46.676Z"
   },
   {
    "duration": 529,
    "start_time": "2025-04-13T17:21:46.973Z"
   },
   {
    "duration": 590,
    "start_time": "2025-04-13T17:21:47.504Z"
   },
   {
    "duration": 9,
    "start_time": "2025-04-13T17:21:48.095Z"
   },
   {
    "duration": 22,
    "start_time": "2025-04-13T17:21:48.105Z"
   },
   {
    "duration": 10,
    "start_time": "2025-04-13T17:21:48.129Z"
   },
   {
    "duration": 67,
    "start_time": "2025-04-13T17:21:48.141Z"
   },
   {
    "duration": 37,
    "start_time": "2025-04-13T17:21:48.210Z"
   },
   {
    "duration": 125,
    "start_time": "2025-04-13T17:21:48.248Z"
   },
   {
    "duration": 4,
    "start_time": "2025-04-13T17:21:48.376Z"
   },
   {
    "duration": 14,
    "start_time": "2025-04-13T17:21:48.382Z"
   },
   {
    "duration": 24,
    "start_time": "2025-04-13T17:21:48.398Z"
   },
   {
    "duration": 10,
    "start_time": "2025-04-13T17:21:48.423Z"
   },
   {
    "duration": 15,
    "start_time": "2025-04-13T17:21:48.470Z"
   },
   {
    "duration": 30,
    "start_time": "2025-04-13T17:21:48.487Z"
   },
   {
    "duration": 122,
    "start_time": "2025-04-13T17:21:48.518Z"
   },
   {
    "duration": 39,
    "start_time": "2025-04-13T17:21:48.641Z"
   },
   {
    "duration": 49,
    "start_time": "2025-04-13T17:21:48.682Z"
   },
   {
    "duration": 55,
    "start_time": "2025-04-13T17:21:48.733Z"
   },
   {
    "duration": 34,
    "start_time": "2025-04-13T17:21:48.790Z"
   },
   {
    "duration": 16,
    "start_time": "2025-04-13T17:21:48.826Z"
   },
   {
    "duration": 314,
    "start_time": "2025-04-13T17:21:48.843Z"
   },
   {
    "duration": 236,
    "start_time": "2025-04-13T17:21:49.159Z"
   },
   {
    "duration": 15,
    "start_time": "2025-04-13T17:21:49.397Z"
   },
   {
    "duration": 30,
    "start_time": "2025-04-13T17:21:49.414Z"
   },
   {
    "duration": 28,
    "start_time": "2025-04-13T17:21:49.446Z"
   },
   {
    "duration": 77,
    "start_time": "2025-04-13T17:21:49.476Z"
   },
   {
    "duration": 119,
    "start_time": "2025-04-13T17:21:49.569Z"
   },
   {
    "duration": 149,
    "start_time": "2025-04-13T17:21:49.690Z"
   },
   {
    "duration": 91,
    "start_time": "2025-04-13T17:21:49.841Z"
   },
   {
    "duration": 37,
    "start_time": "2025-04-13T17:21:49.934Z"
   },
   {
    "duration": 47,
    "start_time": "2025-04-13T17:30:08.301Z"
   },
   {
    "duration": 55,
    "start_time": "2025-04-13T17:30:16.541Z"
   },
   {
    "duration": 59,
    "start_time": "2025-04-13T17:33:09.140Z"
   },
   {
    "duration": 65,
    "start_time": "2025-04-13T17:39:08.922Z"
   },
   {
    "duration": 35,
    "start_time": "2025-04-13T17:49:36.521Z"
   },
   {
    "duration": 135,
    "start_time": "2025-04-13T17:49:40.261Z"
   },
   {
    "duration": 11,
    "start_time": "2025-04-13T17:50:52.641Z"
   },
   {
    "duration": 20,
    "start_time": "2025-04-13T17:50:59.741Z"
   },
   {
    "duration": 152,
    "start_time": "2025-04-13T17:51:32.743Z"
   },
   {
    "duration": 7,
    "start_time": "2025-04-13T17:52:28.981Z"
   },
   {
    "duration": 49,
    "start_time": "2025-04-13T17:52:54.601Z"
   },
   {
    "duration": 59,
    "start_time": "2025-04-13T17:53:48.303Z"
   },
   {
    "duration": 3562,
    "start_time": "2025-04-13T18:28:31.092Z"
   },
   {
    "duration": 4,
    "start_time": "2025-04-13T18:28:34.657Z"
   },
   {
    "duration": 13,
    "start_time": "2025-04-13T18:28:34.663Z"
   },
   {
    "duration": 1015,
    "start_time": "2025-04-13T18:28:34.677Z"
   },
   {
    "duration": 298,
    "start_time": "2025-04-13T18:28:35.696Z"
   },
   {
    "duration": 591,
    "start_time": "2025-04-13T18:28:35.995Z"
   },
   {
    "duration": 665,
    "start_time": "2025-04-13T18:28:36.588Z"
   },
   {
    "duration": 19,
    "start_time": "2025-04-13T18:28:37.255Z"
   },
   {
    "duration": 17,
    "start_time": "2025-04-13T18:28:37.276Z"
   },
   {
    "duration": 11,
    "start_time": "2025-04-13T18:28:37.295Z"
   },
   {
    "duration": 75,
    "start_time": "2025-04-13T18:28:37.308Z"
   },
   {
    "duration": 31,
    "start_time": "2025-04-13T18:28:37.386Z"
   },
   {
    "duration": 164,
    "start_time": "2025-04-13T18:28:37.419Z"
   },
   {
    "duration": 4,
    "start_time": "2025-04-13T18:28:37.587Z"
   },
   {
    "duration": 15,
    "start_time": "2025-04-13T18:28:37.593Z"
   },
   {
    "duration": 32,
    "start_time": "2025-04-13T18:28:37.609Z"
   },
   {
    "duration": 10,
    "start_time": "2025-04-13T18:28:37.671Z"
   },
   {
    "duration": 17,
    "start_time": "2025-04-13T18:28:37.683Z"
   },
   {
    "duration": 19,
    "start_time": "2025-04-13T18:28:37.701Z"
   },
   {
    "duration": 141,
    "start_time": "2025-04-13T18:28:37.722Z"
   },
   {
    "duration": 40,
    "start_time": "2025-04-13T18:28:37.871Z"
   },
   {
    "duration": 80,
    "start_time": "2025-04-13T18:28:37.914Z"
   },
   {
    "duration": 33,
    "start_time": "2025-04-13T18:28:37.997Z"
   },
   {
    "duration": 54,
    "start_time": "2025-04-13T18:28:38.032Z"
   },
   {
    "duration": 13,
    "start_time": "2025-04-13T18:28:38.088Z"
   },
   {
    "duration": 315,
    "start_time": "2025-04-13T18:28:38.103Z"
   },
   {
    "duration": 169,
    "start_time": "2025-04-13T18:28:38.420Z"
   },
   {
    "duration": 15,
    "start_time": "2025-04-13T18:28:38.591Z"
   },
   {
    "duration": 22,
    "start_time": "2025-04-13T18:28:38.608Z"
   },
   {
    "duration": 9,
    "start_time": "2025-04-13T18:28:38.632Z"
   },
   {
    "duration": 85,
    "start_time": "2025-04-13T18:28:38.670Z"
   },
   {
    "duration": 151,
    "start_time": "2025-04-13T18:28:38.756Z"
   },
   {
    "duration": 151,
    "start_time": "2025-04-13T18:28:38.909Z"
   },
   {
    "duration": 92,
    "start_time": "2025-04-13T18:28:39.062Z"
   },
   {
    "duration": 32,
    "start_time": "2025-04-13T18:28:39.156Z"
   },
   {
    "duration": 83,
    "start_time": "2025-04-13T18:28:39.190Z"
   },
   {
    "duration": 34,
    "start_time": "2025-04-13T18:28:39.275Z"
   },
   {
    "duration": 164,
    "start_time": "2025-04-13T18:28:39.311Z"
   },
   {
    "duration": 45,
    "start_time": "2025-04-13T18:28:39.477Z"
   },
   {
    "duration": 147,
    "start_time": "2025-04-13T18:28:39.524Z"
   },
   {
    "duration": 88709,
    "start_time": "2025-04-13T18:28:39.677Z"
   },
   {
    "duration": 53391,
    "start_time": "2025-04-13T18:30:08.388Z"
   },
   {
    "duration": 114363,
    "start_time": "2025-04-13T18:31:01.781Z"
   },
   {
    "duration": 18432,
    "start_time": "2025-04-13T18:32:56.145Z"
   },
   {
    "duration": 13,
    "start_time": "2025-04-13T18:33:14.670Z"
   },
   {
    "duration": 11507,
    "start_time": "2025-04-13T18:33:14.685Z"
   },
   {
    "duration": 10180,
    "start_time": "2025-04-13T18:37:53.682Z"
   },
   {
    "duration": 3671,
    "start_time": "2025-04-13T18:47:37.033Z"
   },
   {
    "duration": 4,
    "start_time": "2025-04-13T18:47:40.707Z"
   },
   {
    "duration": 5,
    "start_time": "2025-04-13T18:47:40.713Z"
   },
   {
    "duration": 1017,
    "start_time": "2025-04-13T18:47:40.720Z"
   },
   {
    "duration": 297,
    "start_time": "2025-04-13T18:47:41.740Z"
   },
   {
    "duration": 519,
    "start_time": "2025-04-13T18:47:42.039Z"
   },
   {
    "duration": 541,
    "start_time": "2025-04-13T18:47:42.560Z"
   },
   {
    "duration": 9,
    "start_time": "2025-04-13T18:47:43.103Z"
   },
   {
    "duration": 25,
    "start_time": "2025-04-13T18:47:43.113Z"
   },
   {
    "duration": 34,
    "start_time": "2025-04-13T18:47:43.140Z"
   },
   {
    "duration": 41,
    "start_time": "2025-04-13T18:47:43.176Z"
   },
   {
    "duration": 52,
    "start_time": "2025-04-13T18:47:43.219Z"
   },
   {
    "duration": 130,
    "start_time": "2025-04-13T18:47:43.273Z"
   },
   {
    "duration": 6,
    "start_time": "2025-04-13T18:47:43.407Z"
   },
   {
    "duration": 18,
    "start_time": "2025-04-13T18:47:43.415Z"
   },
   {
    "duration": 60,
    "start_time": "2025-04-13T18:47:43.435Z"
   },
   {
    "duration": 11,
    "start_time": "2025-04-13T18:47:43.497Z"
   },
   {
    "duration": 16,
    "start_time": "2025-04-13T18:47:43.509Z"
   },
   {
    "duration": 45,
    "start_time": "2025-04-13T18:47:43.527Z"
   },
   {
    "duration": 122,
    "start_time": "2025-04-13T18:47:43.574Z"
   },
   {
    "duration": 38,
    "start_time": "2025-04-13T18:47:43.698Z"
   },
   {
    "duration": 65,
    "start_time": "2025-04-13T18:47:43.739Z"
   },
   {
    "duration": 33,
    "start_time": "2025-04-13T18:47:43.807Z"
   },
   {
    "duration": 56,
    "start_time": "2025-04-13T18:47:43.842Z"
   },
   {
    "duration": 13,
    "start_time": "2025-04-13T18:47:43.900Z"
   },
   {
    "duration": 296,
    "start_time": "2025-04-13T18:47:43.915Z"
   },
   {
    "duration": 167,
    "start_time": "2025-04-13T18:47:44.213Z"
   },
   {
    "duration": 16,
    "start_time": "2025-04-13T18:47:44.382Z"
   },
   {
    "duration": 25,
    "start_time": "2025-04-13T18:47:44.399Z"
   },
   {
    "duration": 9,
    "start_time": "2025-04-13T18:47:44.426Z"
   },
   {
    "duration": 113,
    "start_time": "2025-04-13T18:47:44.436Z"
   },
   {
    "duration": 133,
    "start_time": "2025-04-13T18:47:44.551Z"
   },
   {
    "duration": 146,
    "start_time": "2025-04-13T18:47:44.686Z"
   },
   {
    "duration": 95,
    "start_time": "2025-04-13T18:47:44.834Z"
   },
   {
    "duration": 21,
    "start_time": "2025-04-13T18:47:44.930Z"
   },
   {
    "duration": 156,
    "start_time": "2025-04-13T18:47:44.953Z"
   },
   {
    "duration": 36,
    "start_time": "2025-04-13T18:47:45.111Z"
   },
   {
    "duration": 183,
    "start_time": "2025-04-13T18:47:45.149Z"
   },
   {
    "duration": 55,
    "start_time": "2025-04-13T18:47:45.334Z"
   },
   {
    "duration": 140,
    "start_time": "2025-04-13T18:47:45.391Z"
   },
   {
    "duration": 71643,
    "start_time": "2025-04-13T18:47:45.536Z"
   },
   {
    "duration": 49499,
    "start_time": "2025-04-13T18:48:57.181Z"
   },
   {
    "duration": 146906,
    "start_time": "2025-04-13T18:49:46.682Z"
   },
   {
    "duration": 0,
    "start_time": "2025-04-13T18:52:13.590Z"
   },
   {
    "duration": 0,
    "start_time": "2025-04-13T18:52:13.591Z"
   },
   {
    "duration": 0,
    "start_time": "2025-04-13T18:52:13.592Z"
   },
   {
    "duration": 124257,
    "start_time": "2025-04-13T18:54:11.602Z"
   },
   {
    "duration": 126127,
    "start_time": "2025-04-13T18:56:37.670Z"
   },
   {
    "duration": 23478,
    "start_time": "2025-04-13T18:58:43.799Z"
   },
   {
    "duration": 100,
    "start_time": "2025-04-13T18:59:07.280Z"
   },
   {
    "duration": 10929,
    "start_time": "2025-04-13T18:59:07.383Z"
   },
   {
    "duration": 50,
    "start_time": "2025-04-13T19:01:37.342Z"
   },
   {
    "duration": 62,
    "start_time": "2025-04-13T19:06:01.461Z"
   },
   {
    "duration": 3729,
    "start_time": "2025-04-13T19:06:20.864Z"
   },
   {
    "duration": 4,
    "start_time": "2025-04-13T19:06:24.596Z"
   },
   {
    "duration": 10,
    "start_time": "2025-04-13T19:06:24.601Z"
   },
   {
    "duration": 1112,
    "start_time": "2025-04-13T19:06:24.612Z"
   },
   {
    "duration": 305,
    "start_time": "2025-04-13T19:06:25.727Z"
   },
   {
    "duration": 584,
    "start_time": "2025-04-13T19:06:26.034Z"
   },
   {
    "duration": 579,
    "start_time": "2025-04-13T19:06:26.620Z"
   },
   {
    "duration": 8,
    "start_time": "2025-04-13T19:06:27.201Z"
   },
   {
    "duration": 17,
    "start_time": "2025-04-13T19:06:27.211Z"
   },
   {
    "duration": 11,
    "start_time": "2025-04-13T19:06:27.230Z"
   },
   {
    "duration": 74,
    "start_time": "2025-04-13T19:06:27.242Z"
   },
   {
    "duration": 30,
    "start_time": "2025-04-13T19:06:27.318Z"
   },
   {
    "duration": 133,
    "start_time": "2025-04-13T19:06:27.350Z"
   },
   {
    "duration": 4,
    "start_time": "2025-04-13T19:06:27.487Z"
   },
   {
    "duration": 64,
    "start_time": "2025-04-13T19:06:27.493Z"
   },
   {
    "duration": 26,
    "start_time": "2025-04-13T19:06:27.558Z"
   },
   {
    "duration": 11,
    "start_time": "2025-04-13T19:06:27.586Z"
   },
   {
    "duration": 65,
    "start_time": "2025-04-13T19:06:27.599Z"
   },
   {
    "duration": 20,
    "start_time": "2025-04-13T19:06:27.666Z"
   },
   {
    "duration": 118,
    "start_time": "2025-04-13T19:06:27.687Z"
   },
   {
    "duration": 36,
    "start_time": "2025-04-13T19:06:27.807Z"
   },
   {
    "duration": 64,
    "start_time": "2025-04-13T19:06:27.845Z"
   },
   {
    "duration": 32,
    "start_time": "2025-04-13T19:06:27.911Z"
   },
   {
    "duration": 48,
    "start_time": "2025-04-13T19:06:27.945Z"
   },
   {
    "duration": 11,
    "start_time": "2025-04-13T19:06:27.995Z"
   },
   {
    "duration": 301,
    "start_time": "2025-04-13T19:06:28.007Z"
   },
   {
    "duration": 283,
    "start_time": "2025-04-13T19:06:28.309Z"
   },
   {
    "duration": 15,
    "start_time": "2025-04-13T19:06:28.594Z"
   },
   {
    "duration": 22,
    "start_time": "2025-04-13T19:06:28.611Z"
   },
   {
    "duration": 36,
    "start_time": "2025-04-13T19:06:28.635Z"
   },
   {
    "duration": 80,
    "start_time": "2025-04-13T19:06:28.672Z"
   },
   {
    "duration": 151,
    "start_time": "2025-04-13T19:06:28.754Z"
   },
   {
    "duration": 147,
    "start_time": "2025-04-13T19:06:28.907Z"
   },
   {
    "duration": 102,
    "start_time": "2025-04-13T19:06:29.056Z"
   },
   {
    "duration": 28,
    "start_time": "2025-04-13T19:06:29.160Z"
   },
   {
    "duration": 83,
    "start_time": "2025-04-13T19:06:29.191Z"
   },
   {
    "duration": 34,
    "start_time": "2025-04-13T19:06:29.276Z"
   },
   {
    "duration": 166,
    "start_time": "2025-04-13T19:06:29.311Z"
   },
   {
    "duration": 43,
    "start_time": "2025-04-13T19:06:29.479Z"
   },
   {
    "duration": 146,
    "start_time": "2025-04-13T19:06:29.524Z"
   },
   {
    "duration": 75517,
    "start_time": "2025-04-13T19:06:29.675Z"
   },
   {
    "duration": 49783,
    "start_time": "2025-04-13T19:07:45.194Z"
   },
   {
    "duration": 124813,
    "start_time": "2025-04-13T19:08:34.978Z"
   },
   {
    "duration": 19881,
    "start_time": "2025-04-13T19:10:39.793Z"
   },
   {
    "duration": 99,
    "start_time": "2025-04-13T19:10:59.676Z"
   },
   {
    "duration": 10327,
    "start_time": "2025-04-13T19:10:59.777Z"
   },
   {
    "duration": 55,
    "start_time": "2025-04-13T19:13:29.459Z"
   },
   {
    "duration": 52,
    "start_time": "2025-04-20T10:16:38.283Z"
   },
   {
    "duration": 7313,
    "start_time": "2025-04-20T10:34:32.193Z"
   },
   {
    "duration": 1001,
    "start_time": "2025-04-20T10:34:39.508Z"
   },
   {
    "duration": 725,
    "start_time": "2025-04-20T10:34:40.511Z"
   },
   {
    "duration": 1002,
    "start_time": "2025-04-20T10:34:41.240Z"
   },
   {
    "duration": 299,
    "start_time": "2025-04-20T10:34:42.244Z"
   },
   {
    "duration": 564,
    "start_time": "2025-04-20T10:34:42.545Z"
   },
   {
    "duration": 594,
    "start_time": "2025-04-20T10:34:43.111Z"
   },
   {
    "duration": 8,
    "start_time": "2025-04-20T10:34:43.706Z"
   },
   {
    "duration": 31,
    "start_time": "2025-04-20T10:34:43.716Z"
   },
   {
    "duration": 10,
    "start_time": "2025-04-20T10:34:43.749Z"
   },
   {
    "duration": 101,
    "start_time": "2025-04-20T10:34:43.761Z"
   },
   {
    "duration": 46,
    "start_time": "2025-04-20T10:34:43.864Z"
   },
   {
    "duration": 107,
    "start_time": "2025-04-20T10:34:43.911Z"
   },
   {
    "duration": 18,
    "start_time": "2025-04-20T10:34:44.022Z"
   },
   {
    "duration": 15,
    "start_time": "2025-04-20T10:34:44.042Z"
   },
   {
    "duration": 26,
    "start_time": "2025-04-20T10:34:44.059Z"
   },
   {
    "duration": 10,
    "start_time": "2025-04-20T10:34:44.086Z"
   },
   {
    "duration": 44,
    "start_time": "2025-04-20T10:34:44.098Z"
   },
   {
    "duration": 20,
    "start_time": "2025-04-20T10:34:44.144Z"
   },
   {
    "duration": 132,
    "start_time": "2025-04-20T10:34:44.165Z"
   },
   {
    "duration": 35,
    "start_time": "2025-04-20T10:34:44.298Z"
   },
   {
    "duration": 58,
    "start_time": "2025-04-20T10:34:44.338Z"
   },
   {
    "duration": 30,
    "start_time": "2025-04-20T10:34:44.398Z"
   },
   {
    "duration": 39,
    "start_time": "2025-04-20T10:34:44.440Z"
   },
   {
    "duration": 13,
    "start_time": "2025-04-20T10:34:44.481Z"
   },
   {
    "duration": 291,
    "start_time": "2025-04-20T10:34:44.496Z"
   },
   {
    "duration": 244,
    "start_time": "2025-04-20T10:34:44.789Z"
   },
   {
    "duration": 14,
    "start_time": "2025-04-20T10:34:45.035Z"
   },
   {
    "duration": 53,
    "start_time": "2025-04-20T10:34:45.051Z"
   },
   {
    "duration": 8,
    "start_time": "2025-04-20T10:34:45.105Z"
   },
   {
    "duration": 131,
    "start_time": "2025-04-20T10:34:45.115Z"
   },
   {
    "duration": 189,
    "start_time": "2025-04-20T10:34:45.247Z"
   },
   {
    "duration": 135,
    "start_time": "2025-04-20T10:34:45.437Z"
   },
   {
    "duration": 90,
    "start_time": "2025-04-20T10:34:45.574Z"
   },
   {
    "duration": 31,
    "start_time": "2025-04-20T10:34:45.666Z"
   },
   {
    "duration": 68,
    "start_time": "2025-04-20T10:34:45.699Z"
   },
   {
    "duration": 33,
    "start_time": "2025-04-20T10:34:45.768Z"
   },
   {
    "duration": 158,
    "start_time": "2025-04-20T10:34:45.803Z"
   },
   {
    "duration": 44,
    "start_time": "2025-04-20T10:34:45.963Z"
   },
   {
    "duration": 134,
    "start_time": "2025-04-20T10:34:46.009Z"
   },
   {
    "duration": 0,
    "start_time": "2025-04-20T10:34:46.145Z"
   },
   {
    "duration": 0,
    "start_time": "2025-04-20T10:34:46.146Z"
   },
   {
    "duration": 0,
    "start_time": "2025-04-20T10:34:46.147Z"
   },
   {
    "duration": 0,
    "start_time": "2025-04-20T10:34:46.148Z"
   },
   {
    "duration": 0,
    "start_time": "2025-04-20T10:34:46.149Z"
   },
   {
    "duration": 0,
    "start_time": "2025-04-20T10:34:46.150Z"
   },
   {
    "duration": 113,
    "start_time": "2025-04-20T10:38:08.658Z"
   },
   {
    "duration": 64676,
    "start_time": "2025-04-20T10:38:08.773Z"
   },
   {
    "duration": 45405,
    "start_time": "2025-04-20T10:39:13.451Z"
   },
   {
    "duration": 116148,
    "start_time": "2025-04-20T10:39:58.858Z"
   },
   {
    "duration": 15832,
    "start_time": "2025-04-20T10:41:55.009Z"
   },
   {
    "duration": 99,
    "start_time": "2025-04-20T10:42:10.849Z"
   },
   {
    "duration": 9753,
    "start_time": "2025-04-20T10:42:10.950Z"
   }
  ],
  "celltoolbar": "Необработанный формат ячейки",
  "kernelspec": {
   "display_name": "Python 3 (ipykernel)",
   "language": "python",
   "name": "python3"
  },
  "language_info": {
   "codemirror_mode": {
    "name": "ipython",
    "version": 3
   },
   "file_extension": ".py",
   "mimetype": "text/x-python",
   "name": "python",
   "nbconvert_exporter": "python",
   "pygments_lexer": "ipython3",
   "version": "3.9.5"
  },
  "toc": {
   "base_numbering": 1,
   "nav_menu": {
    "height": "273.989px",
    "width": "264.159px"
   },
   "number_sections": true,
   "sideBar": true,
   "skip_h1_title": true,
   "title_cell": "Table of Contents",
   "title_sidebar": "Contents",
   "toc_cell": false,
   "toc_position": {
    "height": "calc(100% - 180px)",
    "left": "10px",
    "top": "150px",
    "width": "193.227px"
   },
   "toc_section_display": true,
   "toc_window_display": false
  }
 },
 "nbformat": 4,
 "nbformat_minor": 2
}
